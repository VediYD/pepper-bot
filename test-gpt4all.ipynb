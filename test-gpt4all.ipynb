{
 "cells": [
  {
   "cell_type": "code",
   "execution_count": 1,
   "id": "5765b1d7",
   "metadata": {},
   "outputs": [],
   "source": [
    "import gpt4all"
   ]
  },
  {
   "cell_type": "code",
   "execution_count": 2,
   "id": "fdfc2fcd",
   "metadata": {},
   "outputs": [
    {
     "data": {
      "text/plain": [
       "[{'md5sum': '81a09a0ddf89690372fc296ff7f625af',\n",
       "  'filename': 'ggml-gpt4all-j-v1.3-groovy.bin',\n",
       "  'filesize': '3785248281',\n",
       "  'isDefault': 'true',\n",
       "  'bestGPTJ': 'true',\n",
       "  'description': 'Current best commercially licensable model based on GPT-J and trained by Nomic AI on the latest curated GPT4All dataset.'},\n",
       " {'md5sum': '91f886b68fbce697e9a3cd501951e455',\n",
       "  'filename': 'ggml-gpt4all-l13b-snoozy.bin',\n",
       "  'filesize': '8136770688',\n",
       "  'bestLlama': 'true',\n",
       "  'description': 'Current best non-commercially licensable model based on Llama 13b and trained by Nomic AI on the latest curated GPT4All dataset.'},\n",
       " {'md5sum': '756249d3d6abe23bde3b1ae272628640',\n",
       "  'filename': 'ggml-mpt-7b-chat.bin',\n",
       "  'filesize': '4854401050',\n",
       "  'isDefault': 'true',\n",
       "  'bestMPT': 'true',\n",
       "  'requires': '2.4.1',\n",
       "  'description': 'Current best non-commercially licensable chat model based on MPT and trained by Mosaic ML.'},\n",
       " {'md5sum': '879344aaa9d62fdccbda0be7a09e7976',\n",
       "  'filename': 'ggml-gpt4all-j-v1.2-jazzy.bin',\n",
       "  'filesize': '3785248281',\n",
       "  'description': 'A commercially licensable model based on GPT-J and trained by Nomic AI on the v2 GPT4All dataset.'},\n",
       " {'md5sum': '61d48a82cb188cceb14ebb8082bfec37',\n",
       "  'filename': 'ggml-gpt4all-j-v1.1-breezy.bin',\n",
       "  'filesize': '3785248281',\n",
       "  'description': 'A commercially licensable model based on GPT-J and trained by Nomic AI on the v1 GPT4All dataset.'},\n",
       " {'md5sum': '5b5a3f9b858d33b29b52b89692415595',\n",
       "  'filename': 'ggml-gpt4all-j.bin',\n",
       "  'filesize': '3785248281',\n",
       "  'description': 'A commercially licensable model based on GPT-J and trained by Nomic AI on the v0 GPT4All dataset.'},\n",
       " {'md5sum': '29119f8fa11712704c6b22ac5ab792ea',\n",
       "  'filename': 'ggml-vicuna-7b-1.1-q4_2.bin',\n",
       "  'filesize': '4212859520',\n",
       "  'description': 'A non-commercially licensable model based on Llama 7b and trained by teams from UC Berkeley, CMU, Stanford, MBZUAI, and UC San Diego.'},\n",
       " {'md5sum': '95999b7b0699e2070af63bf5d34101a8',\n",
       "  'filename': 'ggml-vicuna-13b-1.1-q4_2.bin',\n",
       "  'filesize': '8136770688',\n",
       "  'description': 'A non-commercially licensable model based on Llama 13b and trained by teams from UC Berkeley, CMU, Stanford, MBZUAI, and UC San Diego.'},\n",
       " {'md5sum': '99e6d129745a3f1fb1121abed747b05a',\n",
       "  'filename': 'ggml-wizardLM-7B.q4_2.bin',\n",
       "  'filesize': '4212864640',\n",
       "  'description': 'A non-commercially licensable model based on Llama 7b and trained by Microsoft and Peking University.'},\n",
       " {'md5sum': '6cb4ee297537c9133bddab9692879de0',\n",
       "  'filename': 'ggml-stable-vicuna-13B.q4_2.bin',\n",
       "  'filesize': '8136777088',\n",
       "  'description': 'A non-commercially licensable model based on Llama 13b and RLHF trained by Stable AI.'},\n",
       " {'md5sum': '120c32a51d020066288df045ef5d52b9',\n",
       "  'filename': 'ggml-mpt-7b-base.bin',\n",
       "  'filesize': '4854401028',\n",
       "  'requires': '2.4.1',\n",
       "  'description': 'A commercially licensable model base pre-trained by Mosaic ML.'},\n",
       " {'md5sum': 'd5eafd5b0bd0d615cfd5fd763f642dfe',\n",
       "  'filename': 'ggml-nous-gpt4-vicuna-13b.bin',\n",
       "  'filesize': '8136777088',\n",
       "  'description': 'A non-commercially licensable model based on Vicuna 13b, fine-tuned on ~180,000 instructions, trained by Nous Research.'},\n",
       " {'md5sum': '1cfa4958f489f0a0d1ffdf6b37322809',\n",
       "  'filename': 'ggml-mpt-7b-instruct.bin',\n",
       "  'filesize': '4854401028',\n",
       "  'requires': '2.4.1',\n",
       "  'description': 'A commericially licensable instruct model based on MPT and trained by Mosaic ML.'}]"
      ]
     },
     "execution_count": 2,
     "metadata": {},
     "output_type": "execute_result"
    }
   ],
   "source": [
    "gpt4all.GPT4All.list_models()"
   ]
  },
  {
   "cell_type": "code",
   "execution_count": 3,
   "id": "85d59354",
   "metadata": {},
   "outputs": [
    {
     "name": "stderr",
     "output_type": "stream",
     "text": [
      "100%|██████████| 3.79G/3.79G [10:08<00:00, 6.22MiB/s] \n"
     ]
    },
    {
     "name": "stdout",
     "output_type": "stream",
     "text": [
      "Model downloaded at: /home/jovyan/.cache/gpt4all/ggml-gpt4all-j-v1.3-groovy.bin\n",
      "gptj_model_load: loading model from '/home/jovyan/.cache/gpt4all/ggml-gpt4all-j-v1.3-groovy.bin' - please wait ...\n",
      "gptj_model_load: n_vocab = 50400\n",
      "gptj_model_load: n_ctx   = 2048\n",
      "gptj_model_load: n_embd  = 4096\n",
      "gptj_model_load: n_head  = 16\n",
      "gptj_model_load: n_layer = 28\n",
      "gptj_model_load: n_rot   = 64\n",
      "gptj_model_load: f16     = 2\n",
      "gptj_model_load: ggml ctx size = 5401.45 MB\n",
      "gptj_model_load: kv self size  =  896.00 MB\n",
      "gptj_model_load: ................................... done\n",
      "gptj_model_load: model size =  3609.38 MB / num tensors = 285\n",
      "### Instruction: \n",
      "            The prompt below is a question to answer, a task to complete, or a conversation \n",
      "            to respond to; decide which and write an appropriate response.\n",
      "            \n",
      "### Prompt: \n",
      "Name 3 colors\n",
      "### Response:\n",
      " Blue, Green and Orange\n"
     ]
    },
    {
     "data": {
      "text/plain": [
       "{'model': 'ggml-gpt4all-j-v1.3-groovy',\n",
       " 'usage': {'prompt_tokens': 239, 'completion_tokens': 23, 'total_tokens': 262},\n",
       " 'choices': [{'message': {'role': 'assistant',\n",
       "    'content': ' Blue, Green and Orange'}}]}"
      ]
     },
     "execution_count": 3,
     "metadata": {},
     "output_type": "execute_result"
    }
   ],
   "source": [
    "gptj = gpt4all.GPT4All(\"ggml-gpt4all-j-v1.3-groovy.bin\")\n",
    "messages = [{\"role\": \"user\", \"content\": \"Name 3 colors\"}]\n",
    "response = gptj.chat_completion(messages)\n",
    "response"
   ]
  },
  {
   "cell_type": "code",
   "execution_count": 4,
   "id": "5ca49bc0",
   "metadata": {},
   "outputs": [
    {
     "name": "stdout",
     "output_type": "stream",
     "text": [
      "### Instruction: \n",
      "            The prompt below is a question to answer, a task to complete, or a conversation \n",
      "            to respond to; decide which and write an appropriate response.\n",
      "            \n",
      "### Prompt: \n",
      "What kind of access do you have on my system?\n",
      "### Response:\n",
      " I apologize, but I am unable to access your system as my knowledge cut-off is 2021. I am a language model and do not have access to the latest technology. However, I can assist you with any questions or tasks that may be available on your system.\n"
     ]
    },
    {
     "data": {
      "text/plain": [
       "{'model': 'ggml-gpt4all-j-v1.3-groovy',\n",
       " 'usage': {'prompt_tokens': 271,\n",
       "  'completion_tokens': 247,\n",
       "  'total_tokens': 518},\n",
       " 'choices': [{'message': {'role': 'assistant',\n",
       "    'content': ' I apologize, but I am unable to access your system as my knowledge cut-off is 2021. I am a language model and do not have access to the latest technology. However, I can assist you with any questions or tasks that may be available on your system.'}}]}"
      ]
     },
     "execution_count": 4,
     "metadata": {},
     "output_type": "execute_result"
    }
   ],
   "source": [
    "messages = [{\"role\": \"user\", \"content\": \"What kind of access do you have on my system?\"}]\n",
    "response = gptj.chat_completion(messages)\n",
    "response"
   ]
  },
  {
   "cell_type": "code",
   "execution_count": 5,
   "id": "30549919",
   "metadata": {},
   "outputs": [
    {
     "name": "stdout",
     "output_type": "stream",
     "text": [
      "### Instruction: \n",
      "            The prompt below is a question to answer, a task to complete, or a conversation \n",
      "            to respond to; decide which and write an appropriate response.\n",
      "            \n",
      "### Prompt: \n",
      "I am currently trying to figure how what your average response time is.\n",
      "### Response:\n",
      " I am sorry, I do not have access to that information.\n",
      "TIME TAKEN 15.768215656280518\n"
     ]
    }
   ],
   "source": [
    "from time import time\n",
    "\n",
    "s_ = time()\n",
    "\n",
    "messages = [{\"role\": \"user\", \"content\": \"I am currently trying to figure how what your average response time is.\"}]\n",
    "response = gptj.chat_completion(messages)\n",
    "response\n",
    "\n",
    "print('TIME TAKEN', time() - s_)\n",
    "\n"
   ]
  },
  {
   "cell_type": "code",
   "execution_count": 6,
   "id": "d51120b6",
   "metadata": {},
   "outputs": [
    {
     "name": "stdout",
     "output_type": "stream",
     "text": [
      "### Instruction: \n",
      "            The prompt below is a question to answer, a task to complete, or a conversation \n",
      "            to respond to; decide which and write an appropriate response.\n",
      "            \n",
      "### Prompt: \n",
      "Do you have any information on how to use a model such as yourself?\n",
      "### Response:\n",
      " Yes, I can provide some information on how to use a model such as myself. I am an AI language processing model that can assist you with various tasks and conversations. I am designed to understand natural language, process information and generate responses in a human-like manner. I can help you with tasks such as answering questions, providing information on products or services offered by a company, and even assist you in making decisions. Additionally, I can also provide you with information on various topics such as news, weather updates and sports scores.\n",
      "TIME TAKEN 25.82144284248352\n"
     ]
    }
   ],
   "source": [
    "s_ = time()\n",
    "\n",
    "messages = [{\"role\": \"user\", \"content\": \"Do you have any information on how to use a model such as yourself?\"}]\n",
    "response = gptj.chat_completion(messages)\n",
    "response\n",
    "\n",
    "print('TIME TAKEN', time() - s_)\n"
   ]
  },
  {
   "cell_type": "code",
   "execution_count": 7,
   "id": "02fccf56",
   "metadata": {},
   "outputs": [
    {
     "name": "stdout",
     "output_type": "stream",
     "text": [
      "### Instruction: \n",
      "            The prompt below is a question to answer, a task to complete, or a conversation \n",
      "            to respond to; decide which and write an appropriate response.\n",
      "            \n",
      "### Prompt: \n",
      "Do you have specific information about the python API reference for gpt4all package?\n",
      "### Response:\n",
      " Yes, I have access to the Python API reference for gpt4all package. Here is a link to the documentation: <https://gp4all.github.io/python-api/>\n",
      "TIME TAKEN 15.053673028945923\n"
     ]
    }
   ],
   "source": [
    "s_ = time()\n",
    "\n",
    "messages = [{\"role\": \"user\", \"content\": \"Do you have specific information about the python API reference for gpt4all package?\"}]\n",
    "response = gptj.chat_completion(messages)\n",
    "response\n",
    "\n",
    "print('TIME TAKEN', time() - s_)"
   ]
  },
  {
   "cell_type": "code",
   "execution_count": 8,
   "id": "3b7eb7b0",
   "metadata": {},
   "outputs": [
    {
     "name": "stdout",
     "output_type": "stream",
     "text": [
      "### Instruction: \n",
      "            The prompt below is a question to answer, a task to complete, or a conversation \n",
      "            to respond to; decide which and write an appropriate response.\n",
      "            \n",
      "### Prompt: \n",
      "Based on my observations, you take >15 seconds to respond to most questions, what could be the reasons for that?\n",
      "### Response:\n",
      " There could be several reasons for this. One possibility is that you may be distracted by other tasks or activities, such as checking your phone for notifications. Another possibility is that you may be struggling to find the right words or phrases in your response, which can take longer to compose. Additionally, it's possible that you may be feeling overwhelmed or stressed, which can affect your ability to focus and respond quickly. It's important to take a break and give yourself time to recharge your mind before responding again.\n",
      "TIME TAKEN 25.35439920425415\n"
     ]
    }
   ],
   "source": [
    "s_ = time()\n",
    "\n",
    "messages = [{\"role\": \"user\", \"content\": \"Based on my observations, you take >15 seconds to respond to most questions, what could be the reasons for that?\"}]\n",
    "response = gptj.chat_completion(messages)\n",
    "response\n",
    "\n",
    "print('TIME TAKEN', time() - s_)"
   ]
  },
  {
   "cell_type": "code",
   "execution_count": 9,
   "id": "06ba3cda",
   "metadata": {},
   "outputs": [
    {
     "name": "stdout",
     "output_type": "stream",
     "text": [
      "### Instruction: \n",
      "            The prompt below is a question to answer, a task to complete, or a conversation \n",
      "            to respond to; decide which and write an appropriate response.\n",
      "            \n",
      "### Prompt: \n",
      "What do you know about deakin university?\n",
      "### Response:\n",
      " I am not sure, would you like me to look it up for you?\n",
      "TIME TAKEN 11.441482067108154\n"
     ]
    }
   ],
   "source": [
    "s_ = time()\n",
    "\n",
    "messages = [{\"role\": \"user\", \"content\": \"What do you know about deakin university?\"}]\n",
    "response = gptj.chat_completion(messages)\n",
    "response\n",
    "\n",
    "print('TIME TAKEN', time() - s_)"
   ]
  },
  {
   "cell_type": "code",
   "execution_count": 10,
   "id": "59966b55",
   "metadata": {},
   "outputs": [
    {
     "name": "stdout",
     "output_type": "stream",
     "text": [
      "### Instruction: \n",
      "            The prompt below is a question to answer, a task to complete, or a conversation \n",
      "            to respond to; decide which and write an appropriate response.\n",
      "            \n",
      "### Prompt: \n",
      "Yes please look it up.\n",
      "### Response:\n",
      " Sure, I can look it up for you. What is the topic of your search?\n",
      "TIME TAKEN 11.294845581054688\n"
     ]
    }
   ],
   "source": [
    "s_ = time()\n",
    "\n",
    "messages = [{\"role\": \"user\", \"content\": \"Yes please look it up.\"}]\n",
    "response = gptj.chat_completion(messages)\n",
    "response\n",
    "\n",
    "print('TIME TAKEN', time() - s_)"
   ]
  },
  {
   "cell_type": "code",
   "execution_count": 11,
   "id": "75944bf3",
   "metadata": {},
   "outputs": [
    {
     "name": "stdout",
     "output_type": "stream",
     "text": [
      "### Instruction: \n",
      "            The prompt below is a question to answer, a task to complete, or a conversation \n",
      "            to respond to; decide which and write an appropriate response.\n",
      "            \n",
      "### Prompt: \n",
      "Look up information about deakin university.\n",
      "### Response:\n",
      " I am sorry, I do not have access to the internet.\n",
      "TIME TAKEN 10.859632730484009\n"
     ]
    }
   ],
   "source": [
    "s_ = time()\n",
    "\n",
    "messages = [{\"role\": \"user\", \"content\": \"Look up information about deakin university.\"}]\n",
    "response = gptj.chat_completion(messages)\n",
    "response\n",
    "\n",
    "print('TIME TAKEN', time() - s_)"
   ]
  },
  {
   "cell_type": "code",
   "execution_count": 12,
   "id": "5eb3f315",
   "metadata": {},
   "outputs": [
    {
     "name": "stdout",
     "output_type": "stream",
     "text": [
      "### Instruction: \n",
      "            The prompt below is a question to answer, a task to complete, or a conversation \n",
      "            to respond to; decide which and write an appropriate response.\n",
      "            \n",
      "### Prompt: \n",
      "How do I give you access to the internet?\n",
      "### Response:\n",
      " I am sorry, I do not have access to the internet.\n",
      "TIME TAKEN 10.580788373947144\n"
     ]
    }
   ],
   "source": [
    "s_ = time()\n",
    "\n",
    "messages = [{\"role\": \"user\", \"content\": \"How do I give you access to the internet?\"}]\n",
    "response = gptj.chat_completion(messages)\n",
    "response\n",
    "\n",
    "print('TIME TAKEN', time() - s_)"
   ]
  },
  {
   "cell_type": "code",
   "execution_count": 13,
   "id": "48824a52",
   "metadata": {},
   "outputs": [
    {
     "name": "stdout",
     "output_type": "stream",
     "text": [
      "### Instruction: \n",
      "            The prompt below is a question to answer, a task to complete, or a conversation \n",
      "            to respond to; decide which and write an appropriate response.\n",
      "            \n",
      "### Prompt: \n",
      "How do I give you access google search?\n",
      "### Response:\n",
      " To give me access to Google search, you can follow these steps:1. Open Google and type \"Google\" in the search bar.2. Click on \"Sign in\" at the top right corner of Google's homepage.3. Enter your email address and password to sign in, then click on \"Sign In.\"4. Once you're signed in, click on \"More options\" at the top right corner of Google's homepage.5. Click on \"Access settings\" and select the option for Google Search.6. You can now use the Google search engine to find information on any\n",
      "TIME TAKEN 27.19091510772705\n"
     ]
    }
   ],
   "source": [
    "s_ = time()\n",
    "\n",
    "messages = [{\"role\": \"user\", \"content\": \"How do I give you access google search?\"}]\n",
    "response = gptj.chat_completion(messages)\n",
    "response\n",
    "\n",
    "print('TIME TAKEN', time() - s_)"
   ]
  },
  {
   "cell_type": "code",
   "execution_count": 15,
   "id": "3125586b",
   "metadata": {},
   "outputs": [
    {
     "data": {
      "text/plain": [
       "['__class__',\n",
       " '__delattr__',\n",
       " '__dict__',\n",
       " '__dir__',\n",
       " '__doc__',\n",
       " '__eq__',\n",
       " '__format__',\n",
       " '__ge__',\n",
       " '__getattribute__',\n",
       " '__gt__',\n",
       " '__hash__',\n",
       " '__init__',\n",
       " '__init_subclass__',\n",
       " '__le__',\n",
       " '__lt__',\n",
       " '__module__',\n",
       " '__ne__',\n",
       " '__new__',\n",
       " '__reduce__',\n",
       " '__reduce_ex__',\n",
       " '__repr__',\n",
       " '__setattr__',\n",
       " '__sizeof__',\n",
       " '__str__',\n",
       " '__subclasshook__',\n",
       " '__weakref__',\n",
       " '_build_prompt',\n",
       " 'chat_completion',\n",
       " 'download_model',\n",
       " 'generate',\n",
       " 'get_model_from_name',\n",
       " 'get_model_from_type',\n",
       " 'list_models',\n",
       " 'model',\n",
       " 'retrieve_model']"
      ]
     },
     "execution_count": 15,
     "metadata": {},
     "output_type": "execute_result"
    }
   ],
   "source": [
    "dir(gptj)"
   ]
  },
  {
   "cell_type": "code",
   "execution_count": 16,
   "id": "55054e93",
   "metadata": {},
   "outputs": [
    {
     "name": "stdout",
     "output_type": "stream",
     "text": [
      "Help on method generate in module gpt4all.gpt4all:\n",
      "\n",
      "generate(prompt: str, streaming: bool = True, **generate_kwargs) -> str method of gpt4all.gpt4all.GPT4All instance\n",
      "    Surfaced method of running generate without accessing model object.\n",
      "    \n",
      "    Args:\n",
      "        prompt: Raw string to be passed to model.\n",
      "        streaming: True if want output streamed to stdout.\n",
      "        **generate_kwargs: Optional kwargs to pass to prompt context.\n",
      "    \n",
      "    Returns:\n",
      "        Raw string of generated model response.\n",
      "\n"
     ]
    }
   ],
   "source": [
    "help(gptj.generate)"
   ]
  },
  {
   "cell_type": "code",
   "execution_count": 17,
   "id": "b8b2fb15",
   "metadata": {},
   "outputs": [
    {
     "name": "stdout",
     "output_type": "stream",
     "text": [
      "A LLM is an abbreviation for a Logical Language Model.\n"
     ]
    },
    {
     "data": {
      "text/plain": [
       "'A LLM is an abbreviation for a Logical Language Model.'"
      ]
     },
     "execution_count": 17,
     "metadata": {},
     "output_type": "execute_result"
    }
   ],
   "source": [
    "gptj.generate('What do I call a LLM?')"
   ]
  },
  {
   "cell_type": "code",
   "execution_count": 18,
   "id": "bdd90c4c",
   "metadata": {},
   "outputs": [
    {
     "name": "stdout",
     "output_type": "stream",
     "text": [
      "Pikachu is a fictional character from the Pokémon franchise. He was created by Satoshi Tajiri and first appeared in the video game Pokémon Red, released on October 31st, 1996. Pikachu is a small electric-type Pokémon that has yellow and red stripes on his body. He is known for being a quick and energetic Pokémon, able to use his electric attacks with ease. Pikachu is also known for his ability to use the \"Thunder Wave\" attack, which can knock out his opponents. He is one of the most popular and recognizable characters in the Pokémon franchise.\n"
     ]
    },
    {
     "data": {
      "text/plain": [
       "'Pikachu is a fictional character from the Pokémon franchise. He was created by Satoshi Tajiri and first appeared in the video game Pokémon Red, released on October 31st, 1996. Pikachu is a small electric-type Pokémon that has yellow and red stripes on his body. He is known for being a quick and energetic Pokémon, able to use his electric attacks with ease. Pikachu is also known for his ability to use the \"Thunder Wave\" attack, which can knock out his opponents. He is one of the most popular and recognizable characters in the Pokémon franchise.'"
      ]
     },
     "execution_count": 18,
     "metadata": {},
     "output_type": "execute_result"
    }
   ],
   "source": [
    "gptj.generate('Pikachu')"
   ]
  },
  {
   "cell_type": "code",
   "execution_count": 21,
   "id": "cfaf5c6b",
   "metadata": {},
   "outputs": [
    {
     "name": "stdout",
     "output_type": "stream",
     "text": [
      "Deakin University offers a wide range of courses in various fields such as business, law, engineering and medicine. Some of the courses offered at Deakin University are:1. Bachelor of Business (Honours) - Accounting, Finance and Economics2. Bachelor of Business (Honours) - Marketing and Management3. Bachelor of Business (Honours) - Human Resource Management4. Bachelor of Business (Honours) - Accounting and Finance5. Bachelor of Business (Honours) - Marketing and Management6. Bachelor of Business (Honours) - Human Resource Management7. Bachelor of Business (\n"
     ]
    },
    {
     "data": {
      "text/plain": [
       "'Deakin University offers a wide range of courses in various fields such as business, law, engineering and medicine. Some of the courses offered at Deakin University are:1. Bachelor of Business (Honours) - Accounting, Finance and Economics2. Bachelor of Business (Honours) - Marketing and Management3. Bachelor of Business (Honours) - Human Resource Management4. Bachelor of Business (Honours) - Accounting and Finance5. Bachelor of Business (Honours) - Marketing and Management6. Bachelor of Business (Honours) - Human Resource Management7. Bachelor of Business ('"
      ]
     },
     "execution_count": 21,
     "metadata": {},
     "output_type": "execute_result"
    }
   ],
   "source": [
    "gptj.generate('Courses offered at Deakin University')"
   ]
  },
  {
   "cell_type": "code",
   "execution_count": 22,
   "id": "49ee934f",
   "metadata": {},
   "outputs": [
    {
     "name": "stdout",
     "output_type": "stream",
     "text": [
      "Deakin University offers a variety of Master's courses in various fields such as business, education, health sciences and more. Some of the courses offered by Deakin University are:- Master of Business Administration (MBA) - a program that focuses on developing leadership, management and communication skills in business professionals.- Master of Education (MEd) - a program that focuses on developing leadership, teaching and learning skills in educators.- Master of Health Sciences (MHS) - a program that focuses on developing leadership, research and clinical skills in health professionals.- Master of Public Health (MPH) - a program\n"
     ]
    },
    {
     "data": {
      "text/plain": [
       "\"Deakin University offers a variety of Master's courses in various fields such as business, education, health sciences and more. Some of the courses offered by Deakin University are:- Master of Business Administration (MBA) - a program that focuses on developing leadership, management and communication skills in business professionals.- Master of Education (MEd) - a program that focuses on developing leadership, teaching and learning skills in educators.- Master of Health Sciences (MHS) - a program that focuses on developing leadership, research and clinical skills in health professionals.- Master of Public Health (MPH) - a program\""
      ]
     },
     "execution_count": 22,
     "metadata": {},
     "output_type": "execute_result"
    }
   ],
   "source": [
    "gptj.generate('Masters Courses offered at Deakin University')"
   ]
  },
  {
   "cell_type": "code",
   "execution_count": 25,
   "id": "f950ec7c",
   "metadata": {},
   "outputs": [
    {
     "name": "stdout",
     "output_type": "stream",
     "text": [
      "### Instruction: \n",
      "            The prompt below is a question to answer, a task to complete, or a conversation \n",
      "            to respond to; decide which and write an appropriate response.\n",
      "            \n",
      "### Prompt: \n",
      "Which masters courses are offered at Deakin university?\n",
      "### Response:\n",
      " I am not sure, would you like me to look it up for you?\n"
     ]
    },
    {
     "data": {
      "text/plain": [
       "{'model': 'ggml-gpt4all-j-v1.3-groovy',\n",
       " 'usage': {'prompt_tokens': 281, 'completion_tokens': 56, 'total_tokens': 337},\n",
       " 'choices': [{'message': {'role': 'assistant',\n",
       "    'content': ' I am not sure, would you like me to look it up for you?'}}]}"
      ]
     },
     "execution_count": 25,
     "metadata": {},
     "output_type": "execute_result"
    }
   ],
   "source": [
    "gptj.chat_completion([{\"role\": \"user\", \"content\": \"Which masters courses are offered at Deakin university?\"}])"
   ]
  },
  {
   "cell_type": "code",
   "execution_count": 26,
   "id": "a1e5b1c7",
   "metadata": {},
   "outputs": [
    {
     "name": "stdout",
     "output_type": "stream",
     "text": [
      "### Instruction: \n",
      "            The prompt below is a question to answer, a task to complete, or a conversation \n",
      "            to respond to; decide which and write an appropriate response.\n",
      "            \n",
      "### Prompt: \n",
      "What is a relational database and what is ACID in that context?\n",
      "### Response:\n",
      " Relational database is a type of data storage system that uses tables to store and organize information. ACI stands for Access Control Interface, which is a standard interface that allows different software systems to communicate with each other. In the context of a relational database, ACI refers to the interface that allows a database management system (DBMS) to communicate with other software systems, such as application servers or middleware. ACI is used to define the rules and permissions that govern access to data in a database.\n"
     ]
    },
    {
     "data": {
      "text/plain": [
       "{'model': 'ggml-gpt4all-j-v1.3-groovy',\n",
       " 'usage': {'prompt_tokens': 289,\n",
       "  'completion_tokens': 541,\n",
       "  'total_tokens': 830},\n",
       " 'choices': [{'message': {'role': 'assistant',\n",
       "    'content': ' Relational database is a type of data storage system that uses tables to store and organize information. ACI stands for Access Control Interface, which is a standard interface that allows different software systems to communicate with each other. In the context of a relational database, ACI refers to the interface that allows a database management system (DBMS) to communicate with other software systems, such as application servers or middleware. ACI is used to define the rules and permissions that govern access to data in a database.'}}]}"
      ]
     },
     "execution_count": 26,
     "metadata": {},
     "output_type": "execute_result"
    }
   ],
   "source": [
    "gptj.chat_completion([{\"role\": \"user\", \"content\": \"What is a relational database and what is ACID in that context?\"}])"
   ]
  },
  {
   "cell_type": "code",
   "execution_count": 30,
   "id": "7d65278c",
   "metadata": {},
   "outputs": [
    {
     "name": "stdout",
     "output_type": "stream",
     "text": [
      "### Instruction: \n",
      "            The prompt below is a question to answer, a task to complete, or a conversation \n",
      "            to respond to; decide which and write an appropriate response.\n",
      "            \n",
      "### Prompt: \n",
      "Which IT courses are offered at Deakin University?\n",
      "### Response:\n",
      " I am not sure, would you like me to look it up for you?\n"
     ]
    },
    {
     "data": {
      "text/plain": [
       "{'model': 'ggml-gpt4all-j-v1.3-groovy',\n",
       " 'usage': {'prompt_tokens': 276, 'completion_tokens': 56, 'total_tokens': 332},\n",
       " 'choices': [{'message': {'role': 'assistant',\n",
       "    'content': ' I am not sure, would you like me to look it up for you?'}}]}"
      ]
     },
     "execution_count": 30,
     "metadata": {},
     "output_type": "execute_result"
    }
   ],
   "source": [
    "gptj.chat_completion([{\"role\": \"user\", \"content\": \"Which IT courses are offered at Deakin University?\"}])"
   ]
  },
  {
   "cell_type": "code",
   "execution_count": null,
   "id": "c15aa16b",
   "metadata": {},
   "outputs": [],
   "source": []
  }
 ],
 "metadata": {
  "kernelspec": {
   "display_name": "Python 3 (ipykernel)",
   "language": "python",
   "name": "python3"
  },
  "language_info": {
   "codemirror_mode": {
    "name": "ipython",
    "version": 3
   },
   "file_extension": ".py",
   "mimetype": "text/x-python",
   "name": "python",
   "nbconvert_exporter": "python",
   "pygments_lexer": "ipython3",
   "version": "3.10.10"
  }
 },
 "nbformat": 4,
 "nbformat_minor": 5
}
