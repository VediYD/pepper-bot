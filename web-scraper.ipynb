{
 "cells": [
  {
   "cell_type": "code",
   "execution_count": 1,
   "id": "f9192621-6aad-4c29-ad0e-6b6fbc887258",
   "metadata": {
    "tags": []
   },
   "outputs": [],
   "source": [
    "from requests import get\n",
    "from bs4 import BeautifulSoup"
   ]
  },
  {
   "cell_type": "code",
   "execution_count": 2,
   "id": "2063bde3-5ec4-4ec5-a771-ed042e9415b7",
   "metadata": {
    "tags": []
   },
   "outputs": [],
   "source": [
    "url = \"https://www.deakin.edu.au/study/find-a-course/courses-study-area\"\n",
    "soup = BeautifulSoup(get(url).content, \"html.parser\")"
   ]
  },
  {
   "cell_type": "code",
   "execution_count": 3,
   "id": "a0d4d34a",
   "metadata": {
    "tags": []
   },
   "outputs": [],
   "source": [
    "# this approach is very unstructured and skipped for now\n",
    "# soup.body.findAll(\"div\",  {\"class\": \"module__content-panel module__content-panel-rebrand\", \"data-section\": 'what area do you want to study in?'})"
   ]
  },
  {
   "cell_type": "code",
   "execution_count": 5,
   "id": "a75b530c",
   "metadata": {
    "tags": []
   },
   "outputs": [],
   "source": [
    "url  = \"https://www.deakin.edu.au/trimester-one\"\n",
    "soup = BeautifulSoup(get(url).content, \"html.parser\")"
   ]
  },
  {
   "cell_type": "code",
   "execution_count": 6,
   "id": "d7664d79-8ca0-456d-ac31-74e1c0d4ee29",
   "metadata": {
    "tags": []
   },
   "outputs": [
    {
     "ename": "NameError",
     "evalue": "name 'sou' is not defined",
     "output_type": "error",
     "traceback": [
      "\u001b[0;31m---------------------------------------------------------------------------\u001b[0m",
      "\u001b[0;31mNameError\u001b[0m                                 Traceback (most recent call last)",
      "Cell \u001b[0;32mIn[6], line 1\u001b[0m\n\u001b[0;32m----> 1\u001b[0m \u001b[43msou\u001b[49m\u001b[38;5;241m.\u001b[39mfind(\u001b[38;5;124m'\u001b[39m\u001b[38;5;124mh3\u001b[39m\u001b[38;5;124m'\u001b[39m, string\u001b[38;5;241m=\u001b[39m\u001b[38;5;124m'\u001b[39m\u001b[38;5;124mLocations\u001b[39m\u001b[38;5;124m'\u001b[39m)\u001b[38;5;241m.\u001b[39mparent\u001b[38;5;241m.\u001b[39mparent\u001b[38;5;241m.\u001b[39mfind(\u001b[38;5;124m'\u001b[39m\u001b[38;5;124mul\u001b[39m\u001b[38;5;124m'\u001b[39m)\n",
      "\u001b[0;31mNameError\u001b[0m: name 'sou' is not defined"
     ]
    }
   ],
   "source": [
    "sou.find('h3', string='Locations').parent.parent.find('ul')"
   ]
  },
  {
   "cell_type": "code",
   "execution_count": 27,
   "id": "df8d0015-0c76-46bb-822c-1c0c2aad2ce8",
   "metadata": {
    "tags": []
   },
   "outputs": [
    {
     "data": {
      "text/plain": [
       "'https://www.deakin.edu.au/__data/assets/image/0009/2508615/35282_graduate-diploma-emergency-nursing_landscape.jpg'"
      ]
     },
     "execution_count": 27,
     "metadata": {},
     "output_type": "execute_result"
    }
   ],
   "source": [
    "sou.find('picture').source.get('srcset')"
   ]
  },
  {
   "cell_type": "code",
   "execution_count": 34,
   "id": "d3e77132-22b1-4e88-8569-efc06180162d",
   "metadata": {
    "tags": []
   },
   "outputs": [],
   "source": [
    "from os.path import exists\n",
    "\n",
    "rows = soup.body.find(\"div\", {\"class\":'module__content-panel--table--data-table'}).table.findAll('tr')\n",
    "for row in rows[1:]:\n",
    "    cname = row.td.a.text.replace('/', ' ')\n",
    "    fname = f'course-bg/{cname}.jpg'\n",
    "    if exists(fname):\n",
    "        continue\n",
    "    else: \n",
    "        sou = BeautifulSoup(get('https:' + row.td.a['href']).content, \"html.parser\")\n",
    "        temp = get(sou.find('picture').source.get('srcset')).content\n",
    "        with open(fname, 'wb') as handler:\n",
    "            handler.write(temp)"
   ]
  },
  {
   "cell_type": "code",
   "execution_count": 26,
   "id": "92953e2d",
   "metadata": {
    "tags": []
   },
   "outputs": [
    {
     "name": "stdout",
     "output_type": "stream",
     "text": [
      "['Online']\n"
     ]
    }
   ],
   "source": [
    "# code taken from chatgpt : prompt\n",
    "import re\n",
    "\n",
    "\n",
    "def format_string(text):\n",
    "    # Remove HTML tags\n",
    "    clean_text = re.sub(r'<.*?>', '', text)\n",
    "    \n",
    "    # Remove extra whitespace\n",
    "    clean_text = re.sub(r'\\s+', ' ', clean_text)\n",
    "    \n",
    "    # Split the text into individual sentences\n",
    "    sentences = clean_text.strip().split('. ')\n",
    "    \n",
    "    # Remove empty sentences & Join the sentences into a formatted string\n",
    "    formatted_text = '. '.join([sentence for sentence in sentences if sentence])\n",
    "    \n",
    "    return formatted_text\n",
    "\n",
    "\n",
    "def extract_data(_sou, datakey):\n",
    "    temp = [i.text for i in _sou.body.findAll('div', {'data-section': datakey})]\n",
    "    if len(temp):\n",
    "        return format_string(temp[0].strip().replace('\\n', ' '))\n",
    "    else:\n",
    "        return ''\n",
    "\n",
    "\n",
    "rows = soup.body.find(\"div\", {\"class\":'module__content-panel--table--data-table'}).table.findAll('tr')\n",
    "data = {'course_name': [], 'url': [], 'overview': [], 'requirements': [], 'fee': [], 'careers': []}\n",
    "for row in rows[1:]:\n",
    "    data['course_name'].append(row.td.a.text)\n",
    "    data['url'].append(row.td.a['href'])\n",
    "    \n",
    "    sou = BeautifulSoup(get('https:' + row.td.a['href']).content, \"html.parser\")\n",
    "    par = sou.find('h3', string='Locations').parent.parent\n",
    "    locations = []\n",
    "    if par.find('ul'):\n",
    "        [locations.append(i.get_text()) for i in par.find_all('li')]\n",
    "    else:\n",
    "        [locations.append(i.get_text()) for i in par.find_all('a')]\n",
    "    print(locations)\n",
    "    \n",
    "    overview = extract_data(sou, 'course overview')\n",
    "    requirements = extract_data(sou, 'entry requirements')\n",
    "    fee = extract_data(sou, 'fees and scholarships')\n",
    "    careers = extract_data(sou, 'careers')\n",
    "    \n",
    "    data['overview'].append(overview)\n",
    "    data['requirements'].append(requirements)\n",
    "    data['fee'].append(fee)\n",
    "    data['careers'].append(careers)\n",
    "    \n",
    "    \n",
    "    \n",
    "    break\n",
    "\n",
    "    "
   ]
  },
  {
   "cell_type": "code",
   "execution_count": 7,
   "id": "9cc8dc42",
   "metadata": {
    "tags": []
   },
   "outputs": [
    {
     "data": {
      "text/html": [
       "<div>\n",
       "<style scoped>\n",
       "    .dataframe tbody tr th:only-of-type {\n",
       "        vertical-align: middle;\n",
       "    }\n",
       "\n",
       "    .dataframe tbody tr th {\n",
       "        vertical-align: top;\n",
       "    }\n",
       "\n",
       "    .dataframe thead th {\n",
       "        text-align: right;\n",
       "    }\n",
       "</style>\n",
       "<table border=\"1\" class=\"dataframe\">\n",
       "  <thead>\n",
       "    <tr style=\"text-align: right;\">\n",
       "      <th></th>\n",
       "      <th>course_name</th>\n",
       "      <th>url</th>\n",
       "      <th>overview</th>\n",
       "      <th>requirements</th>\n",
       "      <th>fee</th>\n",
       "      <th>careers</th>\n",
       "    </tr>\n",
       "  </thead>\n",
       "  <tbody>\n",
       "    <tr>\n",
       "      <th>0</th>\n",
       "      <td>Bachelor of Nursing (Honours)</td>\n",
       "      <td>//www.deakin.edu.au/course/bachelor-nursing-ho...</td>\n",
       "      <td>Course overview Focusing on research, the hono...</td>\n",
       "      <td>Entry requirements Higher education study If y...</td>\n",
       "      <td>Fees and scholarships Fee information Estimate...</td>\n",
       "      <td>Careers Career outcomes After successfully com...</td>\n",
       "    </tr>\n",
       "    <tr>\n",
       "      <th>1</th>\n",
       "      <td>Graduate Certificate of Intensive Care Nursing</td>\n",
       "      <td>//www.deakin.edu.au/course/graduate-certificat...</td>\n",
       "      <td>Course overview With job growth of 13.9% proje...</td>\n",
       "      <td>Entry requirements Entry information Bachelor ...</td>\n",
       "      <td>Fees and scholarships Fee information Estimate...</td>\n",
       "      <td>Careers Want a degree that’s more than just a ...</td>\n",
       "    </tr>\n",
       "    <tr>\n",
       "      <th>2</th>\n",
       "      <td>Graduate Certificate of Critical Care Nursing</td>\n",
       "      <td>//www.deakin.edu.au/course/graduate-certificat...</td>\n",
       "      <td>Course overview Critical care nurses work in s...</td>\n",
       "      <td>Entry requirements Entry information Bachelor ...</td>\n",
       "      <td>Fees and scholarships Fee information Estimate...</td>\n",
       "      <td>Careers Want a degree that’s more than just a ...</td>\n",
       "    </tr>\n",
       "    <tr>\n",
       "      <th>3</th>\n",
       "      <td>Graduate Diploma of Emergency Nursing</td>\n",
       "      <td>//www.deakin.edu.au/course/graduate-diploma-em...</td>\n",
       "      <td>Course overview Nurses working in emergency de...</td>\n",
       "      <td>Entry requirements Entry information Bachelor ...</td>\n",
       "      <td>Fees and scholarships Fee information Estimate...</td>\n",
       "      <td>Careers Want a degree that’s more than just a ...</td>\n",
       "    </tr>\n",
       "    <tr>\n",
       "      <th>4</th>\n",
       "      <td>Bachelor of Science (Honours)</td>\n",
       "      <td>//www.deakin.edu.au/course/bachelor-science-ho...</td>\n",
       "      <td>Course overview Deakin’s Bachelor of Science (...</td>\n",
       "      <td>Entry requirements Entry information Entry wil...</td>\n",
       "      <td>Fees and scholarships Fee information Estimate...</td>\n",
       "      <td>Careers Career outcomes The Bachelor of Scienc...</td>\n",
       "    </tr>\n",
       "    <tr>\n",
       "      <th>...</th>\n",
       "      <td>...</td>\n",
       "      <td>...</td>\n",
       "      <td>...</td>\n",
       "      <td>...</td>\n",
       "      <td>...</td>\n",
       "      <td>...</td>\n",
       "    </tr>\n",
       "    <tr>\n",
       "      <th>285</th>\n",
       "      <td>Graduate Certificate of Teaching English to Sp...</td>\n",
       "      <td>//www.deakin.edu.au/course/graduate-certificat...</td>\n",
       "      <td>Course overview Become qualified to teach Engl...</td>\n",
       "      <td>Entry requirements Entry information Entry wil...</td>\n",
       "      <td>Fees and scholarships Fee information Estimate...</td>\n",
       "      <td>Careers Career outcomes There is a high demand...</td>\n",
       "    </tr>\n",
       "    <tr>\n",
       "      <th>286</th>\n",
       "      <td>Master of Social Work</td>\n",
       "      <td>//www.deakin.edu.au/course/master-social-work</td>\n",
       "      <td>Course overview With a Master of Social Work, ...</td>\n",
       "      <td>Entry requirements Entry information Entry wil...</td>\n",
       "      <td>Fees and scholarships Fee information Estimate...</td>\n",
       "      <td>Careers Career outcomes The two year Master of...</td>\n",
       "    </tr>\n",
       "    <tr>\n",
       "      <th>287</th>\n",
       "      <td>Graduate Diploma of Psychology (Advanced)</td>\n",
       "      <td>//www.deakin.edu.au/course/graduate-diploma-ps...</td>\n",
       "      <td>Course overview If you are looking to build on...</td>\n",
       "      <td>Entry requirements Higher education study If y...</td>\n",
       "      <td>Fees and scholarships Fee information Estimate...</td>\n",
       "      <td>Careers Career outcomes This course is a pathw...</td>\n",
       "    </tr>\n",
       "    <tr>\n",
       "      <th>288</th>\n",
       "      <td>Bachelor of Psychological Science (Honours)</td>\n",
       "      <td>//www.deakin.edu.au/course/bachelor-psychologi...</td>\n",
       "      <td>Course overview Gain an insight into why peopl...</td>\n",
       "      <td>Entry requirements Higher education study If y...</td>\n",
       "      <td>Fees and scholarships Fee information Estimate...</td>\n",
       "      <td>Careers Want a degree that’s more than just a ...</td>\n",
       "    </tr>\n",
       "    <tr>\n",
       "      <th>289</th>\n",
       "      <td>Graduate Certificate of Education (Trauma-Resp...</td>\n",
       "      <td>//www.deakin.edu.au/course/graduate-certificat...</td>\n",
       "      <td>Course overview Childhood trauma is a prevalen...</td>\n",
       "      <td>Entry requirements Entry information Entry wil...</td>\n",
       "      <td>Fees and scholarships Fee information Estimate...</td>\n",
       "      <td>Careers Career outcomes This Graduate Certific...</td>\n",
       "    </tr>\n",
       "  </tbody>\n",
       "</table>\n",
       "<p>290 rows × 6 columns</p>\n",
       "</div>"
      ],
      "text/plain": [
       "                                           course_name  \\\n",
       "0                        Bachelor of Nursing (Honours)   \n",
       "1       Graduate Certificate of Intensive Care Nursing   \n",
       "2        Graduate Certificate of Critical Care Nursing   \n",
       "3                Graduate Diploma of Emergency Nursing   \n",
       "4                        Bachelor of Science (Honours)   \n",
       "..                                                 ...   \n",
       "285  Graduate Certificate of Teaching English to Sp...   \n",
       "286                              Master of Social Work   \n",
       "287          Graduate Diploma of Psychology (Advanced)   \n",
       "288        Bachelor of Psychological Science (Honours)   \n",
       "289  Graduate Certificate of Education (Trauma-Resp...   \n",
       "\n",
       "                                                   url  \\\n",
       "0    //www.deakin.edu.au/course/bachelor-nursing-ho...   \n",
       "1    //www.deakin.edu.au/course/graduate-certificat...   \n",
       "2    //www.deakin.edu.au/course/graduate-certificat...   \n",
       "3    //www.deakin.edu.au/course/graduate-diploma-em...   \n",
       "4    //www.deakin.edu.au/course/bachelor-science-ho...   \n",
       "..                                                 ...   \n",
       "285  //www.deakin.edu.au/course/graduate-certificat...   \n",
       "286      //www.deakin.edu.au/course/master-social-work   \n",
       "287  //www.deakin.edu.au/course/graduate-diploma-ps...   \n",
       "288  //www.deakin.edu.au/course/bachelor-psychologi...   \n",
       "289  //www.deakin.edu.au/course/graduate-certificat...   \n",
       "\n",
       "                                              overview  \\\n",
       "0    Course overview Focusing on research, the hono...   \n",
       "1    Course overview With job growth of 13.9% proje...   \n",
       "2    Course overview Critical care nurses work in s...   \n",
       "3    Course overview Nurses working in emergency de...   \n",
       "4    Course overview Deakin’s Bachelor of Science (...   \n",
       "..                                                 ...   \n",
       "285  Course overview Become qualified to teach Engl...   \n",
       "286  Course overview With a Master of Social Work, ...   \n",
       "287  Course overview If you are looking to build on...   \n",
       "288  Course overview Gain an insight into why peopl...   \n",
       "289  Course overview Childhood trauma is a prevalen...   \n",
       "\n",
       "                                          requirements  \\\n",
       "0    Entry requirements Higher education study If y...   \n",
       "1    Entry requirements Entry information Bachelor ...   \n",
       "2    Entry requirements Entry information Bachelor ...   \n",
       "3    Entry requirements Entry information Bachelor ...   \n",
       "4    Entry requirements Entry information Entry wil...   \n",
       "..                                                 ...   \n",
       "285  Entry requirements Entry information Entry wil...   \n",
       "286  Entry requirements Entry information Entry wil...   \n",
       "287  Entry requirements Higher education study If y...   \n",
       "288  Entry requirements Higher education study If y...   \n",
       "289  Entry requirements Entry information Entry wil...   \n",
       "\n",
       "                                                   fee  \\\n",
       "0    Fees and scholarships Fee information Estimate...   \n",
       "1    Fees and scholarships Fee information Estimate...   \n",
       "2    Fees and scholarships Fee information Estimate...   \n",
       "3    Fees and scholarships Fee information Estimate...   \n",
       "4    Fees and scholarships Fee information Estimate...   \n",
       "..                                                 ...   \n",
       "285  Fees and scholarships Fee information Estimate...   \n",
       "286  Fees and scholarships Fee information Estimate...   \n",
       "287  Fees and scholarships Fee information Estimate...   \n",
       "288  Fees and scholarships Fee information Estimate...   \n",
       "289  Fees and scholarships Fee information Estimate...   \n",
       "\n",
       "                                               careers  \n",
       "0    Careers Career outcomes After successfully com...  \n",
       "1    Careers Want a degree that’s more than just a ...  \n",
       "2    Careers Want a degree that’s more than just a ...  \n",
       "3    Careers Want a degree that’s more than just a ...  \n",
       "4    Careers Career outcomes The Bachelor of Scienc...  \n",
       "..                                                 ...  \n",
       "285  Careers Career outcomes There is a high demand...  \n",
       "286  Careers Career outcomes The two year Master of...  \n",
       "287  Careers Career outcomes This course is a pathw...  \n",
       "288  Careers Want a degree that’s more than just a ...  \n",
       "289  Careers Career outcomes This Graduate Certific...  \n",
       "\n",
       "[290 rows x 6 columns]"
      ]
     },
     "execution_count": 7,
     "metadata": {},
     "output_type": "execute_result"
    }
   ],
   "source": [
    "from pandas import DataFrame\n",
    "\n",
    "\n",
    "course_data = DataFrame(data)\n",
    "course_data"
   ]
  },
  {
   "cell_type": "code",
   "execution_count": 8,
   "id": "3b3c0fe6-d9c7-48be-aab4-f647702670fe",
   "metadata": {
    "tags": []
   },
   "outputs": [],
   "source": [
    "course_data.to_csv('course-data.csv', index=False)"
   ]
  },
  {
   "cell_type": "code",
   "execution_count": 1,
   "id": "fc6cbcb3-c974-49fe-b55f-a8c8af52f7f2",
   "metadata": {},
   "outputs": [],
   "source": [
    "from pandas import read_csv\n",
    "\n",
    "\n",
    "course_data = read_csv('course-data.csv')\n",
    "course_data['overview'] = course_data.overview.str.replace('Course overview ', '').str.replace(' Read More', '')\n",
    "course_data.to_csv('course-data.csv', index=False)"
   ]
  },
  {
   "cell_type": "code",
   "execution_count": null,
   "id": "b6e02f7e-78e9-455b-b20d-e3816359e213",
   "metadata": {},
   "outputs": [],
   "source": [
    "from pandas import read_csv\n",
    "\n",
    "\n",
    "course_data = read_csv('course-data.csv')\n",
    "course_data['overview']\n",
    "course_data.to_csv('course-data.csv', index=False)"
   ]
  },
  {
   "cell_type": "code",
   "execution_count": 2,
   "id": "c12d0d5c-f654-40f5-8979-0e5b473883ff",
   "metadata": {
    "tags": []
   },
   "outputs": [],
   "source": [
    "from pandas import read_csv\n",
    "\n",
    "\n",
    "course_data = read_csv('course-data.csv')\n",
    "course_data[['course_name', 'overview', 'requirements']].to_csv('course-data-small.csv', index=False)"
   ]
  },
  {
   "cell_type": "code",
   "execution_count": null,
   "id": "1adf979b-1e71-4161-b7d1-898343f95790",
   "metadata": {},
   "outputs": [],
   "source": []
  }
 ],
 "metadata": {
  "kernelspec": {
   "display_name": "Python 3 (ipykernel)",
   "language": "python",
   "name": "python3"
  },
  "language_info": {
   "codemirror_mode": {
    "name": "ipython",
    "version": 3
   },
   "file_extension": ".py",
   "mimetype": "text/x-python",
   "name": "python",
   "nbconvert_exporter": "python",
   "pygments_lexer": "ipython3",
   "version": "3.10.10"
  }
 },
 "nbformat": 4,
 "nbformat_minor": 5
}
