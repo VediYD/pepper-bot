{
 "cells": [
  {
   "cell_type": "code",
   "execution_count": 111,
   "id": "6b7c4841-d874-4c47-ba3d-07f389de6fa5",
   "metadata": {
    "tags": []
   },
   "outputs": [
    {
     "ename": "KeyboardInterrupt",
     "evalue": "",
     "output_type": "error",
     "traceback": [
      "\u001b[0;31m---------------------------------------------------------------------------\u001b[0m",
      "\u001b[0;31mKeyboardInterrupt\u001b[0m                         Traceback (most recent call last)",
      "Cell \u001b[0;32mIn[111], line 14\u001b[0m\n\u001b[1;32m     12\u001b[0m course_name \u001b[38;5;241m=\u001b[39m row\u001b[38;5;241m.\u001b[39mtd\u001b[38;5;241m.\u001b[39ma\u001b[38;5;241m.\u001b[39mtext\u001b[38;5;241m.\u001b[39mreplace(\u001b[38;5;124m'\u001b[39m\u001b[38;5;124m/\u001b[39m\u001b[38;5;124m'\u001b[39m, \u001b[38;5;124m'\u001b[39m\u001b[38;5;124m \u001b[39m\u001b[38;5;124m'\u001b[39m)\u001b[38;5;241m.\u001b[39mreplace(\u001b[38;5;124m'\u001b[39m\u001b[38;5;130;01m\\\\\u001b[39;00m\u001b[38;5;124m'\u001b[39m, \u001b[38;5;124m'\u001b[39m\u001b[38;5;124m \u001b[39m\u001b[38;5;124m'\u001b[39m)\n\u001b[1;32m     13\u001b[0m \u001b[38;5;28;01mif\u001b[39;00m \u001b[38;5;129;01mnot\u001b[39;00m course_name \u001b[38;5;129;01min\u001b[39;00m name_files:\n\u001b[0;32m---> 14\u001b[0m     sou \u001b[38;5;241m=\u001b[39m BeautifulSoup(\u001b[43mget\u001b[49m\u001b[43m(\u001b[49m\u001b[38;5;124;43m'\u001b[39;49m\u001b[38;5;124;43mhttps:\u001b[39;49m\u001b[38;5;124;43m'\u001b[39;49m\u001b[43m \u001b[49m\u001b[38;5;241;43m+\u001b[39;49m\u001b[43m \u001b[49m\u001b[43mrow\u001b[49m\u001b[38;5;241;43m.\u001b[39;49m\u001b[43mtd\u001b[49m\u001b[38;5;241;43m.\u001b[39;49m\u001b[43ma\u001b[49m\u001b[43m[\u001b[49m\u001b[38;5;124;43m'\u001b[39;49m\u001b[38;5;124;43mhref\u001b[39;49m\u001b[38;5;124;43m'\u001b[39;49m\u001b[43m]\u001b[49m\u001b[43m)\u001b[49m\u001b[38;5;241m.\u001b[39mcontent, \u001b[38;5;124m\"\u001b[39m\u001b[38;5;124mhtml.parser\u001b[39m\u001b[38;5;124m\"\u001b[39m)\n\u001b[1;32m     15\u001b[0m     temp \u001b[38;5;241m=\u001b[39m get(sou\u001b[38;5;241m.\u001b[39mfind(\u001b[38;5;124m'\u001b[39m\u001b[38;5;124mpicture\u001b[39m\u001b[38;5;124m'\u001b[39m)\u001b[38;5;241m.\u001b[39msource\u001b[38;5;241m.\u001b[39mget(\u001b[38;5;124m'\u001b[39m\u001b[38;5;124msrcset\u001b[39m\u001b[38;5;124m'\u001b[39m))\u001b[38;5;241m.\u001b[39mcontent\n\u001b[1;32m     16\u001b[0m     \u001b[38;5;28;01mwith\u001b[39;00m \u001b[38;5;28mopen\u001b[39m(\u001b[38;5;124mf\u001b[39m\u001b[38;5;124m'\u001b[39m\u001b[38;5;124mcourse-bg/\u001b[39m\u001b[38;5;132;01m{\u001b[39;00mcourse_name\u001b[38;5;132;01m}\u001b[39;00m\u001b[38;5;124m.jpg\u001b[39m\u001b[38;5;124m'\u001b[39m, \u001b[38;5;124m'\u001b[39m\u001b[38;5;124mwb\u001b[39m\u001b[38;5;124m'\u001b[39m) \u001b[38;5;28;01mas\u001b[39;00m handler:\n",
      "File \u001b[0;32m/opt/conda/lib/python3.10/site-packages/requests/api.py:73\u001b[0m, in \u001b[0;36mget\u001b[0;34m(url, params, **kwargs)\u001b[0m\n\u001b[1;32m     62\u001b[0m \u001b[38;5;28;01mdef\u001b[39;00m \u001b[38;5;21mget\u001b[39m(url, params\u001b[38;5;241m=\u001b[39m\u001b[38;5;28;01mNone\u001b[39;00m, \u001b[38;5;241m*\u001b[39m\u001b[38;5;241m*\u001b[39mkwargs):\n\u001b[1;32m     63\u001b[0m \u001b[38;5;250m    \u001b[39m\u001b[38;5;124mr\u001b[39m\u001b[38;5;124;03m\"\"\"Sends a GET request.\u001b[39;00m\n\u001b[1;32m     64\u001b[0m \n\u001b[1;32m     65\u001b[0m \u001b[38;5;124;03m    :param url: URL for the new :class:`Request` object.\u001b[39;00m\n\u001b[0;32m   (...)\u001b[0m\n\u001b[1;32m     70\u001b[0m \u001b[38;5;124;03m    :rtype: requests.Response\u001b[39;00m\n\u001b[1;32m     71\u001b[0m \u001b[38;5;124;03m    \"\"\"\u001b[39;00m\n\u001b[0;32m---> 73\u001b[0m     \u001b[38;5;28;01mreturn\u001b[39;00m \u001b[43mrequest\u001b[49m\u001b[43m(\u001b[49m\u001b[38;5;124;43m\"\u001b[39;49m\u001b[38;5;124;43mget\u001b[39;49m\u001b[38;5;124;43m\"\u001b[39;49m\u001b[43m,\u001b[49m\u001b[43m \u001b[49m\u001b[43murl\u001b[49m\u001b[43m,\u001b[49m\u001b[43m \u001b[49m\u001b[43mparams\u001b[49m\u001b[38;5;241;43m=\u001b[39;49m\u001b[43mparams\u001b[49m\u001b[43m,\u001b[49m\u001b[43m \u001b[49m\u001b[38;5;241;43m*\u001b[39;49m\u001b[38;5;241;43m*\u001b[39;49m\u001b[43mkwargs\u001b[49m\u001b[43m)\u001b[49m\n",
      "File \u001b[0;32m/opt/conda/lib/python3.10/site-packages/requests/api.py:59\u001b[0m, in \u001b[0;36mrequest\u001b[0;34m(method, url, **kwargs)\u001b[0m\n\u001b[1;32m     55\u001b[0m \u001b[38;5;66;03m# By using the 'with' statement we are sure the session is closed, thus we\u001b[39;00m\n\u001b[1;32m     56\u001b[0m \u001b[38;5;66;03m# avoid leaving sockets open which can trigger a ResourceWarning in some\u001b[39;00m\n\u001b[1;32m     57\u001b[0m \u001b[38;5;66;03m# cases, and look like a memory leak in others.\u001b[39;00m\n\u001b[1;32m     58\u001b[0m \u001b[38;5;28;01mwith\u001b[39;00m sessions\u001b[38;5;241m.\u001b[39mSession() \u001b[38;5;28;01mas\u001b[39;00m session:\n\u001b[0;32m---> 59\u001b[0m     \u001b[38;5;28;01mreturn\u001b[39;00m \u001b[43msession\u001b[49m\u001b[38;5;241;43m.\u001b[39;49m\u001b[43mrequest\u001b[49m\u001b[43m(\u001b[49m\u001b[43mmethod\u001b[49m\u001b[38;5;241;43m=\u001b[39;49m\u001b[43mmethod\u001b[49m\u001b[43m,\u001b[49m\u001b[43m \u001b[49m\u001b[43murl\u001b[49m\u001b[38;5;241;43m=\u001b[39;49m\u001b[43murl\u001b[49m\u001b[43m,\u001b[49m\u001b[43m \u001b[49m\u001b[38;5;241;43m*\u001b[39;49m\u001b[38;5;241;43m*\u001b[39;49m\u001b[43mkwargs\u001b[49m\u001b[43m)\u001b[49m\n",
      "File \u001b[0;32m/opt/conda/lib/python3.10/site-packages/requests/sessions.py:587\u001b[0m, in \u001b[0;36mSession.request\u001b[0;34m(self, method, url, params, data, headers, cookies, files, auth, timeout, allow_redirects, proxies, hooks, stream, verify, cert, json)\u001b[0m\n\u001b[1;32m    582\u001b[0m send_kwargs \u001b[38;5;241m=\u001b[39m {\n\u001b[1;32m    583\u001b[0m     \u001b[38;5;124m\"\u001b[39m\u001b[38;5;124mtimeout\u001b[39m\u001b[38;5;124m\"\u001b[39m: timeout,\n\u001b[1;32m    584\u001b[0m     \u001b[38;5;124m\"\u001b[39m\u001b[38;5;124mallow_redirects\u001b[39m\u001b[38;5;124m\"\u001b[39m: allow_redirects,\n\u001b[1;32m    585\u001b[0m }\n\u001b[1;32m    586\u001b[0m send_kwargs\u001b[38;5;241m.\u001b[39mupdate(settings)\n\u001b[0;32m--> 587\u001b[0m resp \u001b[38;5;241m=\u001b[39m \u001b[38;5;28;43mself\u001b[39;49m\u001b[38;5;241;43m.\u001b[39;49m\u001b[43msend\u001b[49m\u001b[43m(\u001b[49m\u001b[43mprep\u001b[49m\u001b[43m,\u001b[49m\u001b[43m \u001b[49m\u001b[38;5;241;43m*\u001b[39;49m\u001b[38;5;241;43m*\u001b[39;49m\u001b[43msend_kwargs\u001b[49m\u001b[43m)\u001b[49m\n\u001b[1;32m    589\u001b[0m \u001b[38;5;28;01mreturn\u001b[39;00m resp\n",
      "File \u001b[0;32m/opt/conda/lib/python3.10/site-packages/requests/sessions.py:701\u001b[0m, in \u001b[0;36mSession.send\u001b[0;34m(self, request, **kwargs)\u001b[0m\n\u001b[1;32m    698\u001b[0m start \u001b[38;5;241m=\u001b[39m preferred_clock()\n\u001b[1;32m    700\u001b[0m \u001b[38;5;66;03m# Send the request\u001b[39;00m\n\u001b[0;32m--> 701\u001b[0m r \u001b[38;5;241m=\u001b[39m \u001b[43madapter\u001b[49m\u001b[38;5;241;43m.\u001b[39;49m\u001b[43msend\u001b[49m\u001b[43m(\u001b[49m\u001b[43mrequest\u001b[49m\u001b[43m,\u001b[49m\u001b[43m \u001b[49m\u001b[38;5;241;43m*\u001b[39;49m\u001b[38;5;241;43m*\u001b[39;49m\u001b[43mkwargs\u001b[49m\u001b[43m)\u001b[49m\n\u001b[1;32m    703\u001b[0m \u001b[38;5;66;03m# Total elapsed time of the request (approximately)\u001b[39;00m\n\u001b[1;32m    704\u001b[0m elapsed \u001b[38;5;241m=\u001b[39m preferred_clock() \u001b[38;5;241m-\u001b[39m start\n",
      "File \u001b[0;32m/opt/conda/lib/python3.10/site-packages/requests/adapters.py:487\u001b[0m, in \u001b[0;36mHTTPAdapter.send\u001b[0;34m(self, request, stream, timeout, verify, cert, proxies)\u001b[0m\n\u001b[1;32m    484\u001b[0m     timeout \u001b[38;5;241m=\u001b[39m TimeoutSauce(connect\u001b[38;5;241m=\u001b[39mtimeout, read\u001b[38;5;241m=\u001b[39mtimeout)\n\u001b[1;32m    486\u001b[0m \u001b[38;5;28;01mtry\u001b[39;00m:\n\u001b[0;32m--> 487\u001b[0m     resp \u001b[38;5;241m=\u001b[39m \u001b[43mconn\u001b[49m\u001b[38;5;241;43m.\u001b[39;49m\u001b[43murlopen\u001b[49m\u001b[43m(\u001b[49m\n\u001b[1;32m    488\u001b[0m \u001b[43m        \u001b[49m\u001b[43mmethod\u001b[49m\u001b[38;5;241;43m=\u001b[39;49m\u001b[43mrequest\u001b[49m\u001b[38;5;241;43m.\u001b[39;49m\u001b[43mmethod\u001b[49m\u001b[43m,\u001b[49m\n\u001b[1;32m    489\u001b[0m \u001b[43m        \u001b[49m\u001b[43murl\u001b[49m\u001b[38;5;241;43m=\u001b[39;49m\u001b[43murl\u001b[49m\u001b[43m,\u001b[49m\n\u001b[1;32m    490\u001b[0m \u001b[43m        \u001b[49m\u001b[43mbody\u001b[49m\u001b[38;5;241;43m=\u001b[39;49m\u001b[43mrequest\u001b[49m\u001b[38;5;241;43m.\u001b[39;49m\u001b[43mbody\u001b[49m\u001b[43m,\u001b[49m\n\u001b[1;32m    491\u001b[0m \u001b[43m        \u001b[49m\u001b[43mheaders\u001b[49m\u001b[38;5;241;43m=\u001b[39;49m\u001b[43mrequest\u001b[49m\u001b[38;5;241;43m.\u001b[39;49m\u001b[43mheaders\u001b[49m\u001b[43m,\u001b[49m\n\u001b[1;32m    492\u001b[0m \u001b[43m        \u001b[49m\u001b[43mredirect\u001b[49m\u001b[38;5;241;43m=\u001b[39;49m\u001b[38;5;28;43;01mFalse\u001b[39;49;00m\u001b[43m,\u001b[49m\n\u001b[1;32m    493\u001b[0m \u001b[43m        \u001b[49m\u001b[43massert_same_host\u001b[49m\u001b[38;5;241;43m=\u001b[39;49m\u001b[38;5;28;43;01mFalse\u001b[39;49;00m\u001b[43m,\u001b[49m\n\u001b[1;32m    494\u001b[0m \u001b[43m        \u001b[49m\u001b[43mpreload_content\u001b[49m\u001b[38;5;241;43m=\u001b[39;49m\u001b[38;5;28;43;01mFalse\u001b[39;49;00m\u001b[43m,\u001b[49m\n\u001b[1;32m    495\u001b[0m \u001b[43m        \u001b[49m\u001b[43mdecode_content\u001b[49m\u001b[38;5;241;43m=\u001b[39;49m\u001b[38;5;28;43;01mFalse\u001b[39;49;00m\u001b[43m,\u001b[49m\n\u001b[1;32m    496\u001b[0m \u001b[43m        \u001b[49m\u001b[43mretries\u001b[49m\u001b[38;5;241;43m=\u001b[39;49m\u001b[38;5;28;43mself\u001b[39;49m\u001b[38;5;241;43m.\u001b[39;49m\u001b[43mmax_retries\u001b[49m\u001b[43m,\u001b[49m\n\u001b[1;32m    497\u001b[0m \u001b[43m        \u001b[49m\u001b[43mtimeout\u001b[49m\u001b[38;5;241;43m=\u001b[39;49m\u001b[43mtimeout\u001b[49m\u001b[43m,\u001b[49m\n\u001b[1;32m    498\u001b[0m \u001b[43m        \u001b[49m\u001b[43mchunked\u001b[49m\u001b[38;5;241;43m=\u001b[39;49m\u001b[43mchunked\u001b[49m\u001b[43m,\u001b[49m\n\u001b[1;32m    499\u001b[0m \u001b[43m    \u001b[49m\u001b[43m)\u001b[49m\n\u001b[1;32m    501\u001b[0m \u001b[38;5;28;01mexcept\u001b[39;00m (ProtocolError, \u001b[38;5;167;01mOSError\u001b[39;00m) \u001b[38;5;28;01mas\u001b[39;00m err:\n\u001b[1;32m    502\u001b[0m     \u001b[38;5;28;01mraise\u001b[39;00m \u001b[38;5;167;01mConnectionError\u001b[39;00m(err, request\u001b[38;5;241m=\u001b[39mrequest)\n",
      "File \u001b[0;32m/opt/conda/lib/python3.10/site-packages/urllib3/connectionpool.py:703\u001b[0m, in \u001b[0;36mHTTPConnectionPool.urlopen\u001b[0;34m(self, method, url, body, headers, retries, redirect, assert_same_host, timeout, pool_timeout, release_conn, chunked, body_pos, **response_kw)\u001b[0m\n\u001b[1;32m    700\u001b[0m     \u001b[38;5;28mself\u001b[39m\u001b[38;5;241m.\u001b[39m_prepare_proxy(conn)\n\u001b[1;32m    702\u001b[0m \u001b[38;5;66;03m# Make the request on the httplib connection object.\u001b[39;00m\n\u001b[0;32m--> 703\u001b[0m httplib_response \u001b[38;5;241m=\u001b[39m \u001b[38;5;28;43mself\u001b[39;49m\u001b[38;5;241;43m.\u001b[39;49m\u001b[43m_make_request\u001b[49m\u001b[43m(\u001b[49m\n\u001b[1;32m    704\u001b[0m \u001b[43m    \u001b[49m\u001b[43mconn\u001b[49m\u001b[43m,\u001b[49m\n\u001b[1;32m    705\u001b[0m \u001b[43m    \u001b[49m\u001b[43mmethod\u001b[49m\u001b[43m,\u001b[49m\n\u001b[1;32m    706\u001b[0m \u001b[43m    \u001b[49m\u001b[43murl\u001b[49m\u001b[43m,\u001b[49m\n\u001b[1;32m    707\u001b[0m \u001b[43m    \u001b[49m\u001b[43mtimeout\u001b[49m\u001b[38;5;241;43m=\u001b[39;49m\u001b[43mtimeout_obj\u001b[49m\u001b[43m,\u001b[49m\n\u001b[1;32m    708\u001b[0m \u001b[43m    \u001b[49m\u001b[43mbody\u001b[49m\u001b[38;5;241;43m=\u001b[39;49m\u001b[43mbody\u001b[49m\u001b[43m,\u001b[49m\n\u001b[1;32m    709\u001b[0m \u001b[43m    \u001b[49m\u001b[43mheaders\u001b[49m\u001b[38;5;241;43m=\u001b[39;49m\u001b[43mheaders\u001b[49m\u001b[43m,\u001b[49m\n\u001b[1;32m    710\u001b[0m \u001b[43m    \u001b[49m\u001b[43mchunked\u001b[49m\u001b[38;5;241;43m=\u001b[39;49m\u001b[43mchunked\u001b[49m\u001b[43m,\u001b[49m\n\u001b[1;32m    711\u001b[0m \u001b[43m\u001b[49m\u001b[43m)\u001b[49m\n\u001b[1;32m    713\u001b[0m \u001b[38;5;66;03m# If we're going to release the connection in ``finally:``, then\u001b[39;00m\n\u001b[1;32m    714\u001b[0m \u001b[38;5;66;03m# the response doesn't need to know about the connection. Otherwise\u001b[39;00m\n\u001b[1;32m    715\u001b[0m \u001b[38;5;66;03m# it will also try to release it and we'll have a double-release\u001b[39;00m\n\u001b[1;32m    716\u001b[0m \u001b[38;5;66;03m# mess.\u001b[39;00m\n\u001b[1;32m    717\u001b[0m response_conn \u001b[38;5;241m=\u001b[39m conn \u001b[38;5;28;01mif\u001b[39;00m \u001b[38;5;129;01mnot\u001b[39;00m release_conn \u001b[38;5;28;01melse\u001b[39;00m \u001b[38;5;28;01mNone\u001b[39;00m\n",
      "File \u001b[0;32m/opt/conda/lib/python3.10/site-packages/urllib3/connectionpool.py:449\u001b[0m, in \u001b[0;36mHTTPConnectionPool._make_request\u001b[0;34m(self, conn, method, url, timeout, chunked, **httplib_request_kw)\u001b[0m\n\u001b[1;32m    444\u001b[0m             httplib_response \u001b[38;5;241m=\u001b[39m conn\u001b[38;5;241m.\u001b[39mgetresponse()\n\u001b[1;32m    445\u001b[0m         \u001b[38;5;28;01mexcept\u001b[39;00m \u001b[38;5;167;01mBaseException\u001b[39;00m \u001b[38;5;28;01mas\u001b[39;00m e:\n\u001b[1;32m    446\u001b[0m             \u001b[38;5;66;03m# Remove the TypeError from the exception chain in\u001b[39;00m\n\u001b[1;32m    447\u001b[0m             \u001b[38;5;66;03m# Python 3 (including for exceptions like SystemExit).\u001b[39;00m\n\u001b[1;32m    448\u001b[0m             \u001b[38;5;66;03m# Otherwise it looks like a bug in the code.\u001b[39;00m\n\u001b[0;32m--> 449\u001b[0m             \u001b[43msix\u001b[49m\u001b[38;5;241;43m.\u001b[39;49m\u001b[43mraise_from\u001b[49m\u001b[43m(\u001b[49m\u001b[43me\u001b[49m\u001b[43m,\u001b[49m\u001b[43m \u001b[49m\u001b[38;5;28;43;01mNone\u001b[39;49;00m\u001b[43m)\u001b[49m\n\u001b[1;32m    450\u001b[0m \u001b[38;5;28;01mexcept\u001b[39;00m (SocketTimeout, BaseSSLError, SocketError) \u001b[38;5;28;01mas\u001b[39;00m e:\n\u001b[1;32m    451\u001b[0m     \u001b[38;5;28mself\u001b[39m\u001b[38;5;241m.\u001b[39m_raise_timeout(err\u001b[38;5;241m=\u001b[39me, url\u001b[38;5;241m=\u001b[39murl, timeout_value\u001b[38;5;241m=\u001b[39mread_timeout)\n",
      "File \u001b[0;32m<string>:3\u001b[0m, in \u001b[0;36mraise_from\u001b[0;34m(value, from_value)\u001b[0m\n",
      "File \u001b[0;32m/opt/conda/lib/python3.10/site-packages/urllib3/connectionpool.py:444\u001b[0m, in \u001b[0;36mHTTPConnectionPool._make_request\u001b[0;34m(self, conn, method, url, timeout, chunked, **httplib_request_kw)\u001b[0m\n\u001b[1;32m    441\u001b[0m \u001b[38;5;28;01mexcept\u001b[39;00m \u001b[38;5;167;01mTypeError\u001b[39;00m:\n\u001b[1;32m    442\u001b[0m     \u001b[38;5;66;03m# Python 3\u001b[39;00m\n\u001b[1;32m    443\u001b[0m     \u001b[38;5;28;01mtry\u001b[39;00m:\n\u001b[0;32m--> 444\u001b[0m         httplib_response \u001b[38;5;241m=\u001b[39m \u001b[43mconn\u001b[49m\u001b[38;5;241;43m.\u001b[39;49m\u001b[43mgetresponse\u001b[49m\u001b[43m(\u001b[49m\u001b[43m)\u001b[49m\n\u001b[1;32m    445\u001b[0m     \u001b[38;5;28;01mexcept\u001b[39;00m \u001b[38;5;167;01mBaseException\u001b[39;00m \u001b[38;5;28;01mas\u001b[39;00m e:\n\u001b[1;32m    446\u001b[0m         \u001b[38;5;66;03m# Remove the TypeError from the exception chain in\u001b[39;00m\n\u001b[1;32m    447\u001b[0m         \u001b[38;5;66;03m# Python 3 (including for exceptions like SystemExit).\u001b[39;00m\n\u001b[1;32m    448\u001b[0m         \u001b[38;5;66;03m# Otherwise it looks like a bug in the code.\u001b[39;00m\n\u001b[1;32m    449\u001b[0m         six\u001b[38;5;241m.\u001b[39mraise_from(e, \u001b[38;5;28;01mNone\u001b[39;00m)\n",
      "File \u001b[0;32m/opt/conda/lib/python3.10/http/client.py:1374\u001b[0m, in \u001b[0;36mHTTPConnection.getresponse\u001b[0;34m(self)\u001b[0m\n\u001b[1;32m   1372\u001b[0m \u001b[38;5;28;01mtry\u001b[39;00m:\n\u001b[1;32m   1373\u001b[0m     \u001b[38;5;28;01mtry\u001b[39;00m:\n\u001b[0;32m-> 1374\u001b[0m         \u001b[43mresponse\u001b[49m\u001b[38;5;241;43m.\u001b[39;49m\u001b[43mbegin\u001b[49m\u001b[43m(\u001b[49m\u001b[43m)\u001b[49m\n\u001b[1;32m   1375\u001b[0m     \u001b[38;5;28;01mexcept\u001b[39;00m \u001b[38;5;167;01mConnectionError\u001b[39;00m:\n\u001b[1;32m   1376\u001b[0m         \u001b[38;5;28mself\u001b[39m\u001b[38;5;241m.\u001b[39mclose()\n",
      "File \u001b[0;32m/opt/conda/lib/python3.10/http/client.py:318\u001b[0m, in \u001b[0;36mHTTPResponse.begin\u001b[0;34m(self)\u001b[0m\n\u001b[1;32m    316\u001b[0m \u001b[38;5;66;03m# read until we get a non-100 response\u001b[39;00m\n\u001b[1;32m    317\u001b[0m \u001b[38;5;28;01mwhile\u001b[39;00m \u001b[38;5;28;01mTrue\u001b[39;00m:\n\u001b[0;32m--> 318\u001b[0m     version, status, reason \u001b[38;5;241m=\u001b[39m \u001b[38;5;28;43mself\u001b[39;49m\u001b[38;5;241;43m.\u001b[39;49m\u001b[43m_read_status\u001b[49m\u001b[43m(\u001b[49m\u001b[43m)\u001b[49m\n\u001b[1;32m    319\u001b[0m     \u001b[38;5;28;01mif\u001b[39;00m status \u001b[38;5;241m!=\u001b[39m CONTINUE:\n\u001b[1;32m    320\u001b[0m         \u001b[38;5;28;01mbreak\u001b[39;00m\n",
      "File \u001b[0;32m/opt/conda/lib/python3.10/http/client.py:279\u001b[0m, in \u001b[0;36mHTTPResponse._read_status\u001b[0;34m(self)\u001b[0m\n\u001b[1;32m    278\u001b[0m \u001b[38;5;28;01mdef\u001b[39;00m \u001b[38;5;21m_read_status\u001b[39m(\u001b[38;5;28mself\u001b[39m):\n\u001b[0;32m--> 279\u001b[0m     line \u001b[38;5;241m=\u001b[39m \u001b[38;5;28mstr\u001b[39m(\u001b[38;5;28;43mself\u001b[39;49m\u001b[38;5;241;43m.\u001b[39;49m\u001b[43mfp\u001b[49m\u001b[38;5;241;43m.\u001b[39;49m\u001b[43mreadline\u001b[49m\u001b[43m(\u001b[49m\u001b[43m_MAXLINE\u001b[49m\u001b[43m \u001b[49m\u001b[38;5;241;43m+\u001b[39;49m\u001b[43m \u001b[49m\u001b[38;5;241;43m1\u001b[39;49m\u001b[43m)\u001b[49m, \u001b[38;5;124m\"\u001b[39m\u001b[38;5;124miso-8859-1\u001b[39m\u001b[38;5;124m\"\u001b[39m)\n\u001b[1;32m    280\u001b[0m     \u001b[38;5;28;01mif\u001b[39;00m \u001b[38;5;28mlen\u001b[39m(line) \u001b[38;5;241m>\u001b[39m _MAXLINE:\n\u001b[1;32m    281\u001b[0m         \u001b[38;5;28;01mraise\u001b[39;00m LineTooLong(\u001b[38;5;124m\"\u001b[39m\u001b[38;5;124mstatus line\u001b[39m\u001b[38;5;124m\"\u001b[39m)\n",
      "File \u001b[0;32m/opt/conda/lib/python3.10/socket.py:705\u001b[0m, in \u001b[0;36mSocketIO.readinto\u001b[0;34m(self, b)\u001b[0m\n\u001b[1;32m    703\u001b[0m \u001b[38;5;28;01mwhile\u001b[39;00m \u001b[38;5;28;01mTrue\u001b[39;00m:\n\u001b[1;32m    704\u001b[0m     \u001b[38;5;28;01mtry\u001b[39;00m:\n\u001b[0;32m--> 705\u001b[0m         \u001b[38;5;28;01mreturn\u001b[39;00m \u001b[38;5;28;43mself\u001b[39;49m\u001b[38;5;241;43m.\u001b[39;49m\u001b[43m_sock\u001b[49m\u001b[38;5;241;43m.\u001b[39;49m\u001b[43mrecv_into\u001b[49m\u001b[43m(\u001b[49m\u001b[43mb\u001b[49m\u001b[43m)\u001b[49m\n\u001b[1;32m    706\u001b[0m     \u001b[38;5;28;01mexcept\u001b[39;00m timeout:\n\u001b[1;32m    707\u001b[0m         \u001b[38;5;28mself\u001b[39m\u001b[38;5;241m.\u001b[39m_timeout_occurred \u001b[38;5;241m=\u001b[39m \u001b[38;5;28;01mTrue\u001b[39;00m\n",
      "File \u001b[0;32m/opt/conda/lib/python3.10/ssl.py:1274\u001b[0m, in \u001b[0;36mSSLSocket.recv_into\u001b[0;34m(self, buffer, nbytes, flags)\u001b[0m\n\u001b[1;32m   1270\u001b[0m     \u001b[38;5;28;01mif\u001b[39;00m flags \u001b[38;5;241m!=\u001b[39m \u001b[38;5;241m0\u001b[39m:\n\u001b[1;32m   1271\u001b[0m         \u001b[38;5;28;01mraise\u001b[39;00m \u001b[38;5;167;01mValueError\u001b[39;00m(\n\u001b[1;32m   1272\u001b[0m           \u001b[38;5;124m\"\u001b[39m\u001b[38;5;124mnon-zero flags not allowed in calls to recv_into() on \u001b[39m\u001b[38;5;132;01m%s\u001b[39;00m\u001b[38;5;124m\"\u001b[39m \u001b[38;5;241m%\u001b[39m\n\u001b[1;32m   1273\u001b[0m           \u001b[38;5;28mself\u001b[39m\u001b[38;5;241m.\u001b[39m\u001b[38;5;18m__class__\u001b[39m)\n\u001b[0;32m-> 1274\u001b[0m     \u001b[38;5;28;01mreturn\u001b[39;00m \u001b[38;5;28;43mself\u001b[39;49m\u001b[38;5;241;43m.\u001b[39;49m\u001b[43mread\u001b[49m\u001b[43m(\u001b[49m\u001b[43mnbytes\u001b[49m\u001b[43m,\u001b[49m\u001b[43m \u001b[49m\u001b[43mbuffer\u001b[49m\u001b[43m)\u001b[49m\n\u001b[1;32m   1275\u001b[0m \u001b[38;5;28;01melse\u001b[39;00m:\n\u001b[1;32m   1276\u001b[0m     \u001b[38;5;28;01mreturn\u001b[39;00m \u001b[38;5;28msuper\u001b[39m()\u001b[38;5;241m.\u001b[39mrecv_into(buffer, nbytes, flags)\n",
      "File \u001b[0;32m/opt/conda/lib/python3.10/ssl.py:1130\u001b[0m, in \u001b[0;36mSSLSocket.read\u001b[0;34m(self, len, buffer)\u001b[0m\n\u001b[1;32m   1128\u001b[0m \u001b[38;5;28;01mtry\u001b[39;00m:\n\u001b[1;32m   1129\u001b[0m     \u001b[38;5;28;01mif\u001b[39;00m buffer \u001b[38;5;129;01mis\u001b[39;00m \u001b[38;5;129;01mnot\u001b[39;00m \u001b[38;5;28;01mNone\u001b[39;00m:\n\u001b[0;32m-> 1130\u001b[0m         \u001b[38;5;28;01mreturn\u001b[39;00m \u001b[38;5;28;43mself\u001b[39;49m\u001b[38;5;241;43m.\u001b[39;49m\u001b[43m_sslobj\u001b[49m\u001b[38;5;241;43m.\u001b[39;49m\u001b[43mread\u001b[49m\u001b[43m(\u001b[49m\u001b[38;5;28;43mlen\u001b[39;49m\u001b[43m,\u001b[49m\u001b[43m \u001b[49m\u001b[43mbuffer\u001b[49m\u001b[43m)\u001b[49m\n\u001b[1;32m   1131\u001b[0m     \u001b[38;5;28;01melse\u001b[39;00m:\n\u001b[1;32m   1132\u001b[0m         \u001b[38;5;28;01mreturn\u001b[39;00m \u001b[38;5;28mself\u001b[39m\u001b[38;5;241m.\u001b[39m_sslobj\u001b[38;5;241m.\u001b[39mread(\u001b[38;5;28mlen\u001b[39m)\n",
      "\u001b[0;31mKeyboardInterrupt\u001b[0m: "
     ]
    }
   ],
   "source": [
    "from PIL import Image\n",
    "from pandas import read_csv\n",
    "from glob import glob\n",
    "doc = read_csv('document.csv')\n",
    "code_files = glob('png_bag/*.png')\n",
    "name_files = glob('course-bg/*.jpg')\n",
    "\n",
    "url  = \"https://www.deakin.edu.au/trimester-one\"\n",
    "soup = BeautifulSoup(get(url).content, \"html.parser\")\n",
    "rows = soup.body.find(\"div\", {\"class\":'module__content-panel--table--data-table'}).table.findAll('tr')\n",
    "for row in rows[1:]:\n",
    "    course_name = row.td.a.text.replace('/', ' ').replace('\\\\', ' ')\n",
    "    if not course_name in name_files:\n",
    "        sou = BeautifulSoup(get('https:' + row.td.a['href']).content, \"html.parser\")\n",
    "        temp = get(sou.find('picture').source.get('srcset')).content\n",
    "        with open(f'course-bg/{course_name}.jpg', 'wb') as handler:\n",
    "            handler.write(temp)\n",
    "        \n",
    "        course_code = doc[doc.course_name==row.td.a.text].course_code.values[0]\n",
    "        im = Image.open(f'course-bg/{course_name}.jpg')\n",
    "        im.save(f'png_bag/{course_code}.png')\n",
    "    "
   ]
  },
  {
   "cell_type": "code",
   "execution_count": null,
   "id": "993f4d78-2aa0-4972-90b2-95e2a0f8e1dc",
   "metadata": {},
   "outputs": [],
   "source": []
  },
  {
   "cell_type": "code",
   "execution_count": 105,
   "id": "f382dd6d-a010-434d-87ef-783d192defd5",
   "metadata": {
    "tags": []
   },
   "outputs": [
    {
     "data": {
      "text/plain": [
       "[<div class=\"module__banner-image--wrapper\">\n",
       " <picture aria-label=\"Graduate Diploma of Emergency Nursing\" title=\"Graduate Diploma of Emergency Nursing\">\n",
       " <source media=\"(min-width: 1441px)\" srcset=\"https://www.deakin.edu.au/__data/assets/image/0009/2508615/35282_graduate-diploma-emergency-nursing_landscape.jpg\"/>\n",
       " <source media=\"(min-width: 741px)\" srcset=\"https://www.deakin.edu.au/__data/assets/image/0006/2508612/35282_graduate-diploma-emergency-nursing_Hero.jpg\">\n",
       " <img alt=\"https://www.deakin.edu.au/__data/assets/image/0006/2508612/35282_graduate-diploma-emergency-nursing_Hero.jpg\" src=\"https://www.deakin.edu.au/__data/assets/image/0006/2508612/35282_graduate-diploma-emergency-nursing_Hero.jpg\">\n",
       " </img></source></picture>\n",
       " </div>]"
      ]
     },
     "execution_count": 105,
     "metadata": {},
     "output_type": "execute_result"
    }
   ],
   "source": [
    "sou.findAll('div', {'class': 'module__banner-image--wrapper'})"
   ]
  },
  {
   "cell_type": "code",
   "execution_count": null,
   "id": "16b03839-0b1a-4ec4-9264-e8d5154604e0",
   "metadata": {},
   "outputs": [],
   "source": []
  },
  {
   "cell_type": "code",
   "execution_count": null,
   "id": "e9db15ae-c526-4655-97a9-756f5b7014a5",
   "metadata": {},
   "outputs": [],
   "source": []
  },
  {
   "cell_type": "code",
   "execution_count": null,
   "id": "154ffb61-1a16-4391-9ac3-784f5670e4a0",
   "metadata": {},
   "outputs": [],
   "source": []
  },
  {
   "cell_type": "code",
   "execution_count": null,
   "id": "85013ce6-1016-4b7b-8c4c-eaec0c0bd1c5",
   "metadata": {},
   "outputs": [],
   "source": []
  },
  {
   "cell_type": "code",
   "execution_count": null,
   "id": "64c5e5b8-d882-4006-ad04-81618f3e1700",
   "metadata": {},
   "outputs": [],
   "source": [
    "from PIL import Image\n",
    "\n",
    "\n",
    "def refile(file, code):\n",
    "    file = file.replace('\\\\', ' ').replace('/', ' ')\n",
    "    im = Image.open(f'course-bg/{file}.jpg')\n",
    "    im.save(f'png_bag/{code}.png')\n",
    "    \n",
    "from pandas import read_csv\n",
    "doc = read_csv('document.csv')\n",
    "\n",
    "for idx, row in doc.iterrows():\n",
    "    try:\n",
    "        refile(row.course_name, row.course_code)\n",
    "    except:\n",
    "        continue"
   ]
  },
  {
   "cell_type": "markdown",
   "id": "3f8f875e-1b83-4004-87d8-acca5e81c2b2",
   "metadata": {},
   "source": [
    "---"
   ]
  },
  {
   "cell_type": "code",
   "execution_count": 74,
   "id": "8e5bdb37-5a99-4efb-bcb1-9b58eb755686",
   "metadata": {
    "tags": []
   },
   "outputs": [],
   "source": [
    "from requests import get\n",
    "from bs4 import BeautifulSoup\n",
    "from pandas import read_csv, merge, DataFrame\n",
    "from numpy import nan"
   ]
  },
  {
   "cell_type": "code",
   "execution_count": 51,
   "id": "f217414d-cb6e-4471-affe-9de26fa903c3",
   "metadata": {
    "tags": []
   },
   "outputs": [],
   "source": [
    "had = read_csv('textbyID.csv')\n",
    "fin = read_csv('final-course-info.csv')[['course_name', 'o_summarized', 'course_code']]"
   ]
  },
  {
   "cell_type": "code",
   "execution_count": 71,
   "id": "22bfca8b-411d-40df-8e36-a9c501f84e6c",
   "metadata": {
    "tags": []
   },
   "outputs": [],
   "source": [
    "processed = fin[fin['course_code'].apply(lambda x: len(x)>4)].to_dict('list')\n",
    "url  = \"https://www.deakin.edu.au/trimester-one\"\n",
    "soup = BeautifulSoup(get(url).content, \"html.parser\")\n",
    "rows = soup.body.find(\"div\", {\"class\":'module__content-panel--table--data-table'}).table.findAll('tr')\n",
    "for row in rows[1:]:\n",
    "    course_name = row.td.a.text\n",
    "    if course_name in processed['course_name']:\n",
    "        # needs to be corrected\n",
    "        sou = BeautifulSoup(get('https:' + row.td.a['href']).content, \"html.parser\")\n",
    "        cnameidx = processed['course_name'].index(course_name)\n",
    "        processed['course_code'][cnameidx]=sou.findAll('dd')[3].text\n",
    "    else:\n",
    "        continue"
   ]
  },
  {
   "cell_type": "code",
   "execution_count": 95,
   "id": "026b753f-9ac8-414e-98c1-05bd1f92c00d",
   "metadata": {
    "tags": []
   },
   "outputs": [],
   "source": [
    "from pandas import concat\n",
    "new_fin = concat([fin.drop(fin[fin['course_code'].apply(lambda x: len(x)>4)].index.tolist()), DataFrame(processed)]).reset_index(drop=True)\n",
    "processed = new_fin[new_fin['course_code'].apply(lambda x: len(x)>4)].to_dict('list')\n",
    "url  = \"https://www.deakin.edu.au/trimester-one\"\n",
    "soup = BeautifulSoup(get(url).content, \"html.parser\")\n",
    "rows = soup.body.find(\"div\", {\"class\":'module__content-panel--table--data-table'}).table.findAll('tr')\n",
    "for row in rows[1:]:\n",
    "    course_name = row.td.a.text\n",
    "    if course_name in processed['course_name']:\n",
    "        # needs to be corrected\n",
    "        sou = BeautifulSoup(get('https:' + row.td.a['href']).content, \"html.parser\")\n",
    "        cnameidx = processed['course_name'].index(course_name)\n",
    "        processed['course_code'][cnameidx]=sou.findAll('dd')[3].text\n",
    "    else:\n",
    "        continue"
   ]
  },
  {
   "cell_type": "code",
   "execution_count": 100,
   "id": "b2bfd271-a6fa-4fb1-9a3a-109b29d56a99",
   "metadata": {
    "tags": []
   },
   "outputs": [],
   "source": [
    "new_new_fin = concat([new_fin.drop(new_fin[new_fin['course_code'].apply(lambda x: len(x)>4)].index.tolist()), DataFrame(processed)]).reset_index(drop=True)\n",
    "new_new_fin.to_csv('document.csv', index=False)"
   ]
  },
  {
   "cell_type": "code",
   "execution_count": null,
   "id": "cd163073-93e0-4249-acae-73c3b3d4365d",
   "metadata": {},
   "outputs": [],
   "source": []
  },
  {
   "cell_type": "markdown",
   "id": "dea897b4-4f4f-4ce5-b477-5cd9b60a97c8",
   "metadata": {},
   "source": [
    "---"
   ]
  },
  {
   "cell_type": "code",
   "execution_count": 54,
   "id": "60ccc657-1a8d-4cfc-a557-d745636ea510",
   "metadata": {
    "tags": []
   },
   "outputs": [
    {
     "data": {
      "text/html": [
       "<div>\n",
       "<style scoped>\n",
       "    .dataframe tbody tr th:only-of-type {\n",
       "        vertical-align: middle;\n",
       "    }\n",
       "\n",
       "    .dataframe tbody tr th {\n",
       "        vertical-align: top;\n",
       "    }\n",
       "\n",
       "    .dataframe thead th {\n",
       "        text-align: right;\n",
       "    }\n",
       "</style>\n",
       "<table border=\"1\" class=\"dataframe\">\n",
       "  <thead>\n",
       "    <tr style=\"text-align: right;\">\n",
       "      <th></th>\n",
       "      <th>course_name</th>\n",
       "      <th>o_summarized</th>\n",
       "      <th>course_code</th>\n",
       "    </tr>\n",
       "  </thead>\n",
       "  <tbody>\n",
       "    <tr>\n",
       "      <th>12</th>\n",
       "      <td>Bachelor of Medical Imaging</td>\n",
       "      <td>The course \"Diagnostic Radiography\" is a highl...</td>\n",
       "      <td>1400310211 - Waurn Ponds (Geelong), Commonweal...</td>\n",
       "    </tr>\n",
       "    <tr>\n",
       "      <th>30</th>\n",
       "      <td>Associate Degree of Arts</td>\n",
       "      <td>Deakin's Associate Degree program offers stude...</td>\n",
       "      <td>1400310251 - Waurn Ponds (Geelong), Commonweal...</td>\n",
       "    </tr>\n",
       "    <tr>\n",
       "      <th>31</th>\n",
       "      <td>Bachelor of Psychology (Honours)</td>\n",
       "      <td>Deakin University offers a Bachelor of Psychol...</td>\n",
       "      <td>1400315151 - Waurn Ponds (Geelong), Commonweal...</td>\n",
       "    </tr>\n",
       "    <tr>\n",
       "      <th>32</th>\n",
       "      <td>Bachelor of International Studies/Bachelor of ...</td>\n",
       "      <td>The course \"Business Foundations: Global Appli...</td>\n",
       "      <td>1400414471 - Waterfront (Geelong), Commonwealt...</td>\n",
       "    </tr>\n",
       "    <tr>\n",
       "      <th>36</th>\n",
       "      <td>Bachelor of Design</td>\n",
       "      <td>The Bachelor's degree program at Deakin Univer...</td>\n",
       "      <td>1400311991 - Regional Access Scheme - Waurn Po...</td>\n",
       "    </tr>\n",
       "    <tr>\n",
       "      <th>...</th>\n",
       "      <td>...</td>\n",
       "      <td>...</td>\n",
       "      <td>...</td>\n",
       "    </tr>\n",
       "    <tr>\n",
       "      <th>258</th>\n",
       "      <td>Bachelor of Information Technology</td>\n",
       "      <td>The Bachelor of Information Technology program...</td>\n",
       "      <td>1400311311 - Regional Access Scheme - Waurn Po...</td>\n",
       "    </tr>\n",
       "    <tr>\n",
       "      <th>259</th>\n",
       "      <td>Bachelor of Marine Science</td>\n",
       "      <td>The Bachelor of Marine Science at Deakin Unive...</td>\n",
       "      <td>1400310631 - Waurn Ponds (Geelong), Commonweal...</td>\n",
       "    </tr>\n",
       "    <tr>\n",
       "      <th>265</th>\n",
       "      <td>Bachelor of Health and Physical Education</td>\n",
       "      <td>Deakin University offers Bachelor of Health &amp; ...</td>\n",
       "      <td>1400314281 - Waurn Ponds (Geelong), Commonweal...</td>\n",
       "    </tr>\n",
       "    <tr>\n",
       "      <th>266</th>\n",
       "      <td>Bachelor of Sport Development</td>\n",
       "      <td>The Bachelor's degree program is designed for ...</td>\n",
       "      <td>1400514421 - Burwood (Melbourne), Commonwealth...</td>\n",
       "    </tr>\n",
       "    <tr>\n",
       "      <th>268</th>\n",
       "      <td>Bachelor of Science/Master of Teaching (Second...</td>\n",
       "      <td>The text provides an introduction about Deakin...</td>\n",
       "      <td>1400510311 - Burwood (Melbourne), Commonwealth...</td>\n",
       "    </tr>\n",
       "  </tbody>\n",
       "</table>\n",
       "<p>83 rows × 3 columns</p>\n",
       "</div>"
      ],
      "text/plain": [
       "                                           course_name  \\\n",
       "12                         Bachelor of Medical Imaging   \n",
       "30                            Associate Degree of Arts   \n",
       "31                    Bachelor of Psychology (Honours)   \n",
       "32   Bachelor of International Studies/Bachelor of ...   \n",
       "36                                  Bachelor of Design   \n",
       "..                                                 ...   \n",
       "258                 Bachelor of Information Technology   \n",
       "259                         Bachelor of Marine Science   \n",
       "265          Bachelor of Health and Physical Education   \n",
       "266                      Bachelor of Sport Development   \n",
       "268  Bachelor of Science/Master of Teaching (Second...   \n",
       "\n",
       "                                          o_summarized  \\\n",
       "12   The course \"Diagnostic Radiography\" is a highl...   \n",
       "30   Deakin's Associate Degree program offers stude...   \n",
       "31   Deakin University offers a Bachelor of Psychol...   \n",
       "32   The course \"Business Foundations: Global Appli...   \n",
       "36   The Bachelor's degree program at Deakin Univer...   \n",
       "..                                                 ...   \n",
       "258  The Bachelor of Information Technology program...   \n",
       "259  The Bachelor of Marine Science at Deakin Unive...   \n",
       "265  Deakin University offers Bachelor of Health & ...   \n",
       "266  The Bachelor's degree program is designed for ...   \n",
       "268  The text provides an introduction about Deakin...   \n",
       "\n",
       "                                           course_code  \n",
       "12   1400310211 - Waurn Ponds (Geelong), Commonweal...  \n",
       "30   1400310251 - Waurn Ponds (Geelong), Commonweal...  \n",
       "31   1400315151 - Waurn Ponds (Geelong), Commonweal...  \n",
       "32   1400414471 - Waterfront (Geelong), Commonwealt...  \n",
       "36   1400311991 - Regional Access Scheme - Waurn Po...  \n",
       "..                                                 ...  \n",
       "258  1400311311 - Regional Access Scheme - Waurn Po...  \n",
       "259  1400310631 - Waurn Ponds (Geelong), Commonweal...  \n",
       "265  1400314281 - Waurn Ponds (Geelong), Commonweal...  \n",
       "266  1400514421 - Burwood (Melbourne), Commonwealth...  \n",
       "268  1400510311 - Burwood (Melbourne), Commonwealth...  \n",
       "\n",
       "[83 rows x 3 columns]"
      ]
     },
     "execution_count": 54,
     "metadata": {},
     "output_type": "execute_result"
    }
   ],
   "source": [
    "for row in rows[1:]:\n",
    "    course_name = row.td.a.text\n",
    "    data['course_name'].append(row.td.a.text)\n",
    "    sou = BeautifulSoup(get('https:' + row.td.a['href']).content, \"html.parser\")\n",
    "    course_code = sou.find('div', {'class': 'accordion_content'}).select('dd')[2].text\n",
    "    data['course_code'].append(course_code)\n",
    "    \n",
    "    \n",
    "DataFrame(data)"
   ]
  },
  {
   "cell_type": "code",
   "execution_count": 1,
   "id": "f9192621-6aad-4c29-ad0e-6b6fbc887258",
   "metadata": {
    "tags": []
   },
   "outputs": [],
   "source": [
    "from requests import get\n",
    "from bs4 import BeautifulSoup"
   ]
  },
  {
   "cell_type": "code",
   "execution_count": 2,
   "id": "2063bde3-5ec4-4ec5-a771-ed042e9415b7",
   "metadata": {
    "tags": []
   },
   "outputs": [],
   "source": [
    "url = \"https://www.deakin.edu.au/study/find-a-course/courses-study-area\"\n",
    "soup = BeautifulSoup(get(url).content, \"html.parser\")"
   ]
  },
  {
   "cell_type": "code",
   "execution_count": 3,
   "id": "a0d4d34a",
   "metadata": {
    "tags": []
   },
   "outputs": [],
   "source": [
    "# this approach is very unstructured and skipped for now\n",
    "# soup.body.findAll(\"div\",  {\"class\": \"module__content-panel module__content-panel-rebrand\", \"data-section\": 'what area do you want to study in?'})"
   ]
  },
  {
   "cell_type": "code",
   "execution_count": 3,
   "id": "a75b530c",
   "metadata": {
    "tags": []
   },
   "outputs": [],
   "source": [
    "url  = \"https://www.deakin.edu.au/trimester-one\"\n",
    "soup = BeautifulSoup(get(url).content, \"html.parser\")"
   ]
  },
  {
   "cell_type": "code",
   "execution_count": 37,
   "id": "8b94e179-f755-4089-a3a1-f79b319ce810",
   "metadata": {
    "tags": []
   },
   "outputs": [
    {
     "data": {
      "text/html": [
       "<div>\n",
       "<style scoped>\n",
       "    .dataframe tbody tr th:only-of-type {\n",
       "        vertical-align: middle;\n",
       "    }\n",
       "\n",
       "    .dataframe tbody tr th {\n",
       "        vertical-align: top;\n",
       "    }\n",
       "\n",
       "    .dataframe thead th {\n",
       "        text-align: right;\n",
       "    }\n",
       "</style>\n",
       "<table border=\"1\" class=\"dataframe\">\n",
       "  <thead>\n",
       "    <tr style=\"text-align: right;\">\n",
       "      <th></th>\n",
       "      <th>course_name</th>\n",
       "      <th>course_code</th>\n",
       "    </tr>\n",
       "  </thead>\n",
       "  <tbody>\n",
       "    <tr>\n",
       "      <th>0</th>\n",
       "      <td>Graduate Diploma of Emergency Nursing</td>\n",
       "      <td>H666</td>\n",
       "    </tr>\n",
       "    <tr>\n",
       "      <th>1</th>\n",
       "      <td>Bachelor of Science (Honours)</td>\n",
       "      <td>S400</td>\n",
       "    </tr>\n",
       "    <tr>\n",
       "      <th>2</th>\n",
       "      <td>Bachelor of Nursing (Honours)</td>\n",
       "      <td>H421</td>\n",
       "    </tr>\n",
       "    <tr>\n",
       "      <th>3</th>\n",
       "      <td>Graduate Certificate of Intensive Care Nursing</td>\n",
       "      <td>H545</td>\n",
       "    </tr>\n",
       "    <tr>\n",
       "      <th>4</th>\n",
       "      <td>Graduate Diploma of Cardiac Nursing</td>\n",
       "      <td>H665</td>\n",
       "    </tr>\n",
       "    <tr>\n",
       "      <th>...</th>\n",
       "      <td>...</td>\n",
       "      <td>...</td>\n",
       "    </tr>\n",
       "    <tr>\n",
       "      <th>379</th>\n",
       "      <td>Bachelor of Information Technology</td>\n",
       "      <td>1400311311 - Regional Access Scheme - Waurn Po...</td>\n",
       "    </tr>\n",
       "    <tr>\n",
       "      <th>380</th>\n",
       "      <td>Bachelor of Marine Science</td>\n",
       "      <td>1400310631 - Waurn Ponds (Geelong), Commonweal...</td>\n",
       "    </tr>\n",
       "    <tr>\n",
       "      <th>381</th>\n",
       "      <td>Bachelor of Health and Physical Education</td>\n",
       "      <td>1400314281 - Waurn Ponds (Geelong), Commonweal...</td>\n",
       "    </tr>\n",
       "    <tr>\n",
       "      <th>382</th>\n",
       "      <td>Bachelor of Sport Development</td>\n",
       "      <td>1400514421 - Burwood (Melbourne), Commonwealth...</td>\n",
       "    </tr>\n",
       "    <tr>\n",
       "      <th>383</th>\n",
       "      <td>Bachelor of Science/Master of Teaching (Second...</td>\n",
       "      <td>1400510311 - Burwood (Melbourne), Commonwealth...</td>\n",
       "    </tr>\n",
       "  </tbody>\n",
       "</table>\n",
       "<p>384 rows × 2 columns</p>\n",
       "</div>"
      ],
      "text/plain": [
       "                                           course_name  \\\n",
       "0                Graduate Diploma of Emergency Nursing   \n",
       "1                        Bachelor of Science (Honours)   \n",
       "2                        Bachelor of Nursing (Honours)   \n",
       "3       Graduate Certificate of Intensive Care Nursing   \n",
       "4                  Graduate Diploma of Cardiac Nursing   \n",
       "..                                                 ...   \n",
       "379                 Bachelor of Information Technology   \n",
       "380                         Bachelor of Marine Science   \n",
       "381          Bachelor of Health and Physical Education   \n",
       "382                      Bachelor of Sport Development   \n",
       "383  Bachelor of Science/Master of Teaching (Second...   \n",
       "\n",
       "                                           course_code  \n",
       "0                                                 H666  \n",
       "1                                                 S400  \n",
       "2                                                 H421  \n",
       "3                                                 H545  \n",
       "4                                                 H665  \n",
       "..                                                 ...  \n",
       "379  1400311311 - Regional Access Scheme - Waurn Po...  \n",
       "380  1400310631 - Waurn Ponds (Geelong), Commonweal...  \n",
       "381  1400314281 - Waurn Ponds (Geelong), Commonweal...  \n",
       "382  1400514421 - Burwood (Melbourne), Commonwealth...  \n",
       "383  1400510311 - Burwood (Melbourne), Commonwealth...  \n",
       "\n",
       "[384 rows x 2 columns]"
      ]
     },
     "execution_count": 37,
     "metadata": {},
     "output_type": "execute_result"
    }
   ],
   "source": [
    "rows = soup.body.find(\"div\", {\"class\":'module__content-panel--table--data-table'}).table.findAll('tr')\n",
    "data = {'course_name': [], 'course_code': []}\n",
    "for row in rows[1:]:\n",
    "    course_name = row.td.a.text\n",
    "    data['course_name'].append(row.td.a.text)\n",
    "    sou = BeautifulSoup(get('https:' + row.td.a['href']).content, \"html.parser\")\n",
    "    course_code = sou.find('div', {'class': 'accordion_content'}).select('dd')[2].text\n",
    "    data['course_code'].append(course_code)\n",
    "    \n",
    "    \n",
    "DataFrame(data)"
   ]
  },
  {
   "cell_type": "code",
   "execution_count": 39,
   "id": "2e800422-4dbe-4af1-a250-09659b33a1cc",
   "metadata": {
    "tags": []
   },
   "outputs": [
    {
     "data": {
      "text/html": [
       "<div>\n",
       "<style scoped>\n",
       "    .dataframe tbody tr th:only-of-type {\n",
       "        vertical-align: middle;\n",
       "    }\n",
       "\n",
       "    .dataframe tbody tr th {\n",
       "        vertical-align: top;\n",
       "    }\n",
       "\n",
       "    .dataframe thead th {\n",
       "        text-align: right;\n",
       "    }\n",
       "</style>\n",
       "<table border=\"1\" class=\"dataframe\">\n",
       "  <thead>\n",
       "    <tr style=\"text-align: right;\">\n",
       "      <th></th>\n",
       "      <th>course_name</th>\n",
       "      <th>course_code</th>\n",
       "    </tr>\n",
       "  </thead>\n",
       "  <tbody>\n",
       "    <tr>\n",
       "      <th>200</th>\n",
       "      <td>Master of Applied Artificial Intelligence (Pro...</td>\n",
       "      <td>S737</td>\n",
       "    </tr>\n",
       "  </tbody>\n",
       "</table>\n",
       "</div>"
      ],
      "text/plain": [
       "                                           course_name course_code\n",
       "200  Master of Applied Artificial Intelligence (Pro...        S737"
      ]
     },
     "execution_count": 39,
     "metadata": {},
     "output_type": "execute_result"
    }
   ],
   "source": [
    "temo = DataFrame(data)"
   ]
  },
  {
   "cell_type": "code",
   "execution_count": 40,
   "id": "0b658b1a-e7c4-4d9b-af9c-ec9ed3657074",
   "metadata": {
    "tags": []
   },
   "outputs": [
    {
     "data": {
      "text/html": [
       "<div>\n",
       "<style scoped>\n",
       "    .dataframe tbody tr th:only-of-type {\n",
       "        vertical-align: middle;\n",
       "    }\n",
       "\n",
       "    .dataframe tbody tr th {\n",
       "        vertical-align: top;\n",
       "    }\n",
       "\n",
       "    .dataframe thead th {\n",
       "        text-align: right;\n",
       "    }\n",
       "</style>\n",
       "<table border=\"1\" class=\"dataframe\">\n",
       "  <thead>\n",
       "    <tr style=\"text-align: right;\">\n",
       "      <th></th>\n",
       "      <th>course_name</th>\n",
       "      <th>course_code</th>\n",
       "    </tr>\n",
       "  </thead>\n",
       "  <tbody>\n",
       "    <tr>\n",
       "      <th>0</th>\n",
       "      <td>Graduate Diploma of Emergency Nursing</td>\n",
       "      <td>H666</td>\n",
       "    </tr>\n",
       "    <tr>\n",
       "      <th>1</th>\n",
       "      <td>Bachelor of Science (Honours)</td>\n",
       "      <td>S400</td>\n",
       "    </tr>\n",
       "    <tr>\n",
       "      <th>2</th>\n",
       "      <td>Bachelor of Nursing (Honours)</td>\n",
       "      <td>H421</td>\n",
       "    </tr>\n",
       "    <tr>\n",
       "      <th>3</th>\n",
       "      <td>Graduate Certificate of Intensive Care Nursing</td>\n",
       "      <td>H545</td>\n",
       "    </tr>\n",
       "    <tr>\n",
       "      <th>4</th>\n",
       "      <td>Graduate Diploma of Cardiac Nursing</td>\n",
       "      <td>H665</td>\n",
       "    </tr>\n",
       "    <tr>\n",
       "      <th>...</th>\n",
       "      <td>...</td>\n",
       "      <td>...</td>\n",
       "    </tr>\n",
       "    <tr>\n",
       "      <th>379</th>\n",
       "      <td>Bachelor of Information Technology</td>\n",
       "      <td>1400311311 - Regional Access Scheme - Waurn Po...</td>\n",
       "    </tr>\n",
       "    <tr>\n",
       "      <th>380</th>\n",
       "      <td>Bachelor of Marine Science</td>\n",
       "      <td>1400310631 - Waurn Ponds (Geelong), Commonweal...</td>\n",
       "    </tr>\n",
       "    <tr>\n",
       "      <th>381</th>\n",
       "      <td>Bachelor of Health and Physical Education</td>\n",
       "      <td>1400314281 - Waurn Ponds (Geelong), Commonweal...</td>\n",
       "    </tr>\n",
       "    <tr>\n",
       "      <th>382</th>\n",
       "      <td>Bachelor of Sport Development</td>\n",
       "      <td>1400514421 - Burwood (Melbourne), Commonwealth...</td>\n",
       "    </tr>\n",
       "    <tr>\n",
       "      <th>383</th>\n",
       "      <td>Bachelor of Science/Master of Teaching (Second...</td>\n",
       "      <td>1400510311 - Burwood (Melbourne), Commonwealth...</td>\n",
       "    </tr>\n",
       "  </tbody>\n",
       "</table>\n",
       "<p>384 rows × 2 columns</p>\n",
       "</div>"
      ],
      "text/plain": [
       "                                           course_name  \\\n",
       "0                Graduate Diploma of Emergency Nursing   \n",
       "1                        Bachelor of Science (Honours)   \n",
       "2                        Bachelor of Nursing (Honours)   \n",
       "3       Graduate Certificate of Intensive Care Nursing   \n",
       "4                  Graduate Diploma of Cardiac Nursing   \n",
       "..                                                 ...   \n",
       "379                 Bachelor of Information Technology   \n",
       "380                         Bachelor of Marine Science   \n",
       "381          Bachelor of Health and Physical Education   \n",
       "382                      Bachelor of Sport Development   \n",
       "383  Bachelor of Science/Master of Teaching (Second...   \n",
       "\n",
       "                                           course_code  \n",
       "0                                                 H666  \n",
       "1                                                 S400  \n",
       "2                                                 H421  \n",
       "3                                                 H545  \n",
       "4                                                 H665  \n",
       "..                                                 ...  \n",
       "379  1400311311 - Regional Access Scheme - Waurn Po...  \n",
       "380  1400310631 - Waurn Ponds (Geelong), Commonweal...  \n",
       "381  1400314281 - Waurn Ponds (Geelong), Commonweal...  \n",
       "382  1400514421 - Burwood (Melbourne), Commonwealth...  \n",
       "383  1400510311 - Burwood (Melbourne), Commonwealth...  \n",
       "\n",
       "[384 rows x 2 columns]"
      ]
     },
     "execution_count": 40,
     "metadata": {},
     "output_type": "execute_result"
    }
   ],
   "source": [
    "temo"
   ]
  },
  {
   "cell_type": "code",
   "execution_count": 41,
   "id": "79f7c749-dc75-4163-9ee5-785e8551441e",
   "metadata": {
    "tags": []
   },
   "outputs": [],
   "source": [
    "from pandas import read_csv"
   ]
  },
  {
   "cell_type": "code",
   "execution_count": 44,
   "id": "1d42f3bf-3f31-4897-a434-dd0606a886af",
   "metadata": {
    "tags": []
   },
   "outputs": [],
   "source": [
    "temp = read_csv('gpt-summarized-info.csv')"
   ]
  },
  {
   "cell_type": "code",
   "execution_count": 45,
   "id": "badfbcdd-b1a0-4a63-a363-0856a7322ea2",
   "metadata": {
    "tags": []
   },
   "outputs": [
    {
     "data": {
      "text/plain": [
       "course_name     object\n",
       "o_summarized    object\n",
       "overview        object\n",
       "dtype: object"
      ]
     },
     "execution_count": 45,
     "metadata": {},
     "output_type": "execute_result"
    }
   ],
   "source": [
    "temp.dtypes"
   ]
  },
  {
   "cell_type": "code",
   "execution_count": 46,
   "id": "90c40265-af06-4e57-a52d-aa1f3cac8feb",
   "metadata": {
    "tags": []
   },
   "outputs": [
    {
     "data": {
      "text/plain": [
       "course_name    object\n",
       "course_code    object\n",
       "dtype: object"
      ]
     },
     "execution_count": 46,
     "metadata": {},
     "output_type": "execute_result"
    }
   ],
   "source": [
    "temo.dtypes"
   ]
  },
  {
   "cell_type": "code",
   "execution_count": 47,
   "id": "e738f784-8ca2-4c2c-8a94-d79395a812b0",
   "metadata": {
    "tags": []
   },
   "outputs": [],
   "source": [
    "import pandas as pd"
   ]
  },
  {
   "cell_type": "code",
   "execution_count": 49,
   "id": "1ecd25b5-4d9d-4169-b1b7-1a1556e6a4c5",
   "metadata": {
    "tags": []
   },
   "outputs": [],
   "source": [
    "merged = pd.merge(temp, temo, on='course_name', how='left')"
   ]
  },
  {
   "cell_type": "code",
   "execution_count": 58,
   "id": "a38bef04-f138-4695-a8b6-08dd8fc8e7a9",
   "metadata": {
    "tags": []
   },
   "outputs": [
    {
     "data": {
      "text/html": [
       "<div>\n",
       "<style scoped>\n",
       "    .dataframe tbody tr th:only-of-type {\n",
       "        vertical-align: middle;\n",
       "    }\n",
       "\n",
       "    .dataframe tbody tr th {\n",
       "        vertical-align: top;\n",
       "    }\n",
       "\n",
       "    .dataframe thead th {\n",
       "        text-align: right;\n",
       "    }\n",
       "</style>\n",
       "<table border=\"1\" class=\"dataframe\">\n",
       "  <thead>\n",
       "    <tr style=\"text-align: right;\">\n",
       "      <th></th>\n",
       "      <th>course_name</th>\n",
       "      <th>course_code</th>\n",
       "    </tr>\n",
       "  </thead>\n",
       "  <tbody>\n",
       "    <tr>\n",
       "      <th>290</th>\n",
       "      <td>Associate Degree of Arts</td>\n",
       "      <td>1400310251 - Waurn Ponds (Geelong), Commonweal...</td>\n",
       "    </tr>\n",
       "    <tr>\n",
       "      <th>30</th>\n",
       "      <td>Associate Degree of Arts</td>\n",
       "      <td>1400310251 - Waurn Ponds (Geelong), Commonweal...</td>\n",
       "    </tr>\n",
       "    <tr>\n",
       "      <th>67</th>\n",
       "      <td>Associate Degree of Business</td>\n",
       "      <td>1400712061 - Warrnambool, Commonwealth Support...</td>\n",
       "    </tr>\n",
       "    <tr>\n",
       "      <th>306</th>\n",
       "      <td>Associate Degree of Business</td>\n",
       "      <td>1400712061 - Warrnambool, Commonwealth Support...</td>\n",
       "    </tr>\n",
       "    <tr>\n",
       "      <th>327</th>\n",
       "      <td>Associate Degree of Education</td>\n",
       "      <td>1400310241 - Waurn Ponds (Geelong), Commonweal...</td>\n",
       "    </tr>\n",
       "    <tr>\n",
       "      <th>...</th>\n",
       "      <td>...</td>\n",
       "      <td>...</td>\n",
       "    </tr>\n",
       "    <tr>\n",
       "      <th>214</th>\n",
       "      <td>Master of Teaching (Primary and Early Childhood)</td>\n",
       "      <td>E764</td>\n",
       "    </tr>\n",
       "    <tr>\n",
       "      <th>215</th>\n",
       "      <td>Master of Teaching (Primary and Secondary)</td>\n",
       "      <td>E765</td>\n",
       "    </tr>\n",
       "    <tr>\n",
       "      <th>217</th>\n",
       "      <td>Master of Teaching (Primary)</td>\n",
       "      <td>E762</td>\n",
       "    </tr>\n",
       "    <tr>\n",
       "      <th>69</th>\n",
       "      <td>Master of Teaching (Secondary)</td>\n",
       "      <td>E763</td>\n",
       "    </tr>\n",
       "    <tr>\n",
       "      <th>154</th>\n",
       "      <td>Master of Teaching English to Speakers of Othe...</td>\n",
       "      <td>E704</td>\n",
       "    </tr>\n",
       "  </tbody>\n",
       "</table>\n",
       "<p>384 rows × 2 columns</p>\n",
       "</div>"
      ],
      "text/plain": [
       "                                           course_name  \\\n",
       "290                           Associate Degree of Arts   \n",
       "30                            Associate Degree of Arts   \n",
       "67                        Associate Degree of Business   \n",
       "306                       Associate Degree of Business   \n",
       "327                      Associate Degree of Education   \n",
       "..                                                 ...   \n",
       "214   Master of Teaching (Primary and Early Childhood)   \n",
       "215         Master of Teaching (Primary and Secondary)   \n",
       "217                       Master of Teaching (Primary)   \n",
       "69                      Master of Teaching (Secondary)   \n",
       "154  Master of Teaching English to Speakers of Othe...   \n",
       "\n",
       "                                           course_code  \n",
       "290  1400310251 - Waurn Ponds (Geelong), Commonweal...  \n",
       "30   1400310251 - Waurn Ponds (Geelong), Commonweal...  \n",
       "67   1400712061 - Warrnambool, Commonwealth Support...  \n",
       "306  1400712061 - Warrnambool, Commonwealth Support...  \n",
       "327  1400310241 - Waurn Ponds (Geelong), Commonweal...  \n",
       "..                                                 ...  \n",
       "214                                               E764  \n",
       "215                                               E765  \n",
       "217                                               E762  \n",
       "69                                                E763  \n",
       "154                                               E704  \n",
       "\n",
       "[384 rows x 2 columns]"
      ]
     },
     "execution_count": 58,
     "metadata": {},
     "output_type": "execute_result"
    }
   ],
   "source": [
    "temo.sort_values('course_name')"
   ]
  },
  {
   "cell_type": "code",
   "execution_count": 66,
   "id": "1a87bd33-a6ac-481a-b183-dfd098396210",
   "metadata": {
    "tags": []
   },
   "outputs": [
    {
     "data": {
      "text/html": [
       "<div>\n",
       "<style scoped>\n",
       "    .dataframe tbody tr th:only-of-type {\n",
       "        vertical-align: middle;\n",
       "    }\n",
       "\n",
       "    .dataframe tbody tr th {\n",
       "        vertical-align: top;\n",
       "    }\n",
       "\n",
       "    .dataframe thead th {\n",
       "        text-align: right;\n",
       "    }\n",
       "</style>\n",
       "<table border=\"1\" class=\"dataframe\">\n",
       "  <thead>\n",
       "    <tr style=\"text-align: right;\">\n",
       "      <th></th>\n",
       "      <th>course_name</th>\n",
       "      <th>o_summarized</th>\n",
       "      <th>overview</th>\n",
       "      <th>course_code</th>\n",
       "    </tr>\n",
       "  </thead>\n",
       "  <tbody>\n",
       "    <tr>\n",
       "      <th>0</th>\n",
       "      <td>Bachelor of Nursing (Honours)</td>\n",
       "      <td>The Bachelor's Degree is an undergraduate prog...</td>\n",
       "      <td>Focusing on research, the honours year builds ...</td>\n",
       "      <td>H421</td>\n",
       "    </tr>\n",
       "    <tr>\n",
       "      <th>1</th>\n",
       "      <td>Graduate Certificate of Intensive Care Nursing</td>\n",
       "      <td>The Bachelor's Degree is an undergraduate prog...</td>\n",
       "      <td>With job growth of 13.9% projected for registe...</td>\n",
       "      <td>H545</td>\n",
       "    </tr>\n",
       "    <tr>\n",
       "      <th>3</th>\n",
       "      <td>Graduate Diploma of Emergency Nursing</td>\n",
       "      <td>The Graduate Diploma of Emergency Nursing is a...</td>\n",
       "      <td>Nurses working in emergency departments are pr...</td>\n",
       "      <td>H666</td>\n",
       "    </tr>\n",
       "    <tr>\n",
       "      <th>4</th>\n",
       "      <td>Bachelor of Science (Honours)</td>\n",
       "      <td>The Bachelor of Science Honours program at Dea...</td>\n",
       "      <td>Deakin’s Bachelor of Science (Honours) continu...</td>\n",
       "      <td>S400</td>\n",
       "    </tr>\n",
       "    <tr>\n",
       "      <th>5</th>\n",
       "      <td>Graduate Diploma of Cardiac Nursing</td>\n",
       "      <td>The Graduate Diploma Cardiac Nursing program a...</td>\n",
       "      <td>Cardiovascular diseases cause 27% of deaths in...</td>\n",
       "      <td>H665</td>\n",
       "    </tr>\n",
       "    <tr>\n",
       "      <th>...</th>\n",
       "      <td>...</td>\n",
       "      <td>...</td>\n",
       "      <td>...</td>\n",
       "      <td>...</td>\n",
       "    </tr>\n",
       "    <tr>\n",
       "      <th>285</th>\n",
       "      <td>Graduate Certificate of Teaching English to Sp...</td>\n",
       "      <td>The Graduat Certificate of Teaching English to...</td>\n",
       "      <td>Become qualified to teach English as an additi...</td>\n",
       "      <td>E504</td>\n",
       "    </tr>\n",
       "    <tr>\n",
       "      <th>286</th>\n",
       "      <td>Master of Social Work</td>\n",
       "      <td>The Master of Social Work program at Deakin Un...</td>\n",
       "      <td>With a Master of Social Work, you’ll have the ...</td>\n",
       "      <td>H703</td>\n",
       "    </tr>\n",
       "    <tr>\n",
       "      <th>287</th>\n",
       "      <td>Graduate Diploma of Psychology (Advanced)</td>\n",
       "      <td>The Graduate Diploma of Psychology (Advanced) ...</td>\n",
       "      <td>If you are looking to build on the skills you’...</td>\n",
       "      <td>H650</td>\n",
       "    </tr>\n",
       "    <tr>\n",
       "      <th>288</th>\n",
       "      <td>Bachelor of Psychological Science (Honours)</td>\n",
       "      <td>The Bachelor's degree program provides a solid...</td>\n",
       "      <td>Gain an insight into why people think, feel an...</td>\n",
       "      <td>H452</td>\n",
       "    </tr>\n",
       "    <tr>\n",
       "      <th>289</th>\n",
       "      <td>Graduate Certificate of Education (Trauma-Resp...</td>\n",
       "      <td>The Graduate Certificate of Education (Trauma ...</td>\n",
       "      <td>Childhood trauma is a prevalent problem. In Au...</td>\n",
       "      <td>E512</td>\n",
       "    </tr>\n",
       "  </tbody>\n",
       "</table>\n",
       "<p>274 rows × 4 columns</p>\n",
       "</div>"
      ],
      "text/plain": [
       "                                           course_name  \\\n",
       "0                        Bachelor of Nursing (Honours)   \n",
       "1       Graduate Certificate of Intensive Care Nursing   \n",
       "3                Graduate Diploma of Emergency Nursing   \n",
       "4                        Bachelor of Science (Honours)   \n",
       "5                  Graduate Diploma of Cardiac Nursing   \n",
       "..                                                 ...   \n",
       "285  Graduate Certificate of Teaching English to Sp...   \n",
       "286                              Master of Social Work   \n",
       "287          Graduate Diploma of Psychology (Advanced)   \n",
       "288        Bachelor of Psychological Science (Honours)   \n",
       "289  Graduate Certificate of Education (Trauma-Resp...   \n",
       "\n",
       "                                          o_summarized  \\\n",
       "0    The Bachelor's Degree is an undergraduate prog...   \n",
       "1    The Bachelor's Degree is an undergraduate prog...   \n",
       "3    The Graduate Diploma of Emergency Nursing is a...   \n",
       "4    The Bachelor of Science Honours program at Dea...   \n",
       "5    The Graduate Diploma Cardiac Nursing program a...   \n",
       "..                                                 ...   \n",
       "285  The Graduat Certificate of Teaching English to...   \n",
       "286  The Master of Social Work program at Deakin Un...   \n",
       "287  The Graduate Diploma of Psychology (Advanced) ...   \n",
       "288  The Bachelor's degree program provides a solid...   \n",
       "289  The Graduate Certificate of Education (Trauma ...   \n",
       "\n",
       "                                              overview course_code  \n",
       "0    Focusing on research, the honours year builds ...        H421  \n",
       "1    With job growth of 13.9% projected for registe...        H545  \n",
       "3    Nurses working in emergency departments are pr...        H666  \n",
       "4    Deakin’s Bachelor of Science (Honours) continu...        S400  \n",
       "5    Cardiovascular diseases cause 27% of deaths in...        H665  \n",
       "..                                                 ...         ...  \n",
       "285  Become qualified to teach English as an additi...        E504  \n",
       "286  With a Master of Social Work, you’ll have the ...        H703  \n",
       "287  If you are looking to build on the skills you’...        H650  \n",
       "288  Gain an insight into why people think, feel an...        H452  \n",
       "289  Childhood trauma is a prevalent problem. In Au...        E512  \n",
       "\n",
       "[274 rows x 4 columns]"
      ]
     },
     "execution_count": 66,
     "metadata": {},
     "output_type": "execute_result"
    }
   ],
   "source": [
    "cleaned = merged.drop_duplicates().reset_index(drop=True).dropna(subset=['course_code'])\n",
    "cleaned"
   ]
  },
  {
   "cell_type": "code",
   "execution_count": 67,
   "id": "8faa4496-791a-4c29-ac8b-f48d826043a1",
   "metadata": {
    "tags": []
   },
   "outputs": [],
   "source": [
    "cleaned.to_csv('final-course-info.csv')"
   ]
  },
  {
   "cell_type": "code",
   "execution_count": 6,
   "id": "d7664d79-8ca0-456d-ac31-74e1c0d4ee29",
   "metadata": {
    "tags": []
   },
   "outputs": [
    {
     "ename": "NameError",
     "evalue": "name 'sou' is not defined",
     "output_type": "error",
     "traceback": [
      "\u001b[0;31m---------------------------------------------------------------------------\u001b[0m",
      "\u001b[0;31mNameError\u001b[0m                                 Traceback (most recent call last)",
      "Cell \u001b[0;32mIn[6], line 1\u001b[0m\n\u001b[0;32m----> 1\u001b[0m \u001b[43msou\u001b[49m\u001b[38;5;241m.\u001b[39mfind(\u001b[38;5;124m'\u001b[39m\u001b[38;5;124mh3\u001b[39m\u001b[38;5;124m'\u001b[39m, string\u001b[38;5;241m=\u001b[39m\u001b[38;5;124m'\u001b[39m\u001b[38;5;124mLocations\u001b[39m\u001b[38;5;124m'\u001b[39m)\u001b[38;5;241m.\u001b[39mparent\u001b[38;5;241m.\u001b[39mparent\u001b[38;5;241m.\u001b[39mfind(\u001b[38;5;124m'\u001b[39m\u001b[38;5;124mul\u001b[39m\u001b[38;5;124m'\u001b[39m)\n",
      "\u001b[0;31mNameError\u001b[0m: name 'sou' is not defined"
     ]
    }
   ],
   "source": [
    "sou.find('h3', string='Locations').parent.parent.find('ul')"
   ]
  },
  {
   "cell_type": "code",
   "execution_count": 106,
   "id": "df8d0015-0c76-46bb-822c-1c0c2aad2ce8",
   "metadata": {
    "tags": []
   },
   "outputs": [
    {
     "data": {
      "text/plain": [
       "'https://www.deakin.edu.au/__data/assets/image/0009/2508615/35282_graduate-diploma-emergency-nursing_landscape.jpg'"
      ]
     },
     "execution_count": 106,
     "metadata": {},
     "output_type": "execute_result"
    }
   ],
   "source": [
    "sou.find('picture').source.get('srcset')"
   ]
  },
  {
   "cell_type": "code",
   "execution_count": 34,
   "id": "d3e77132-22b1-4e88-8569-efc06180162d",
   "metadata": {
    "tags": []
   },
   "outputs": [],
   "source": [
    "from os.path import exists\n",
    "\n",
    "rows = soup.body.find(\"div\", {\"class\":'module__content-panel--table--data-table'}).table.findAll('tr')\n",
    "for row in rows[1:]:\n",
    "    cname = row.td.a.text.replace('/', ' ')\n",
    "    fname = f'course-bg/{cname}.jpg'\n",
    "    if exists(fname):\n",
    "        continue\n",
    "    else: \n",
    "        sou = BeautifulSoup(get('https:' + row.td.a['href']).content, \"html.parser\")\n",
    "        temp = get(sou.find('picture').source.get('srcset')).content\n",
    "        with open(fname, 'wb') as handler:\n",
    "            handler.write(temp)"
   ]
  },
  {
   "cell_type": "code",
   "execution_count": 26,
   "id": "92953e2d",
   "metadata": {
    "tags": []
   },
   "outputs": [
    {
     "name": "stdout",
     "output_type": "stream",
     "text": [
      "['Online']\n"
     ]
    }
   ],
   "source": [
    "# code taken from chatgpt : prompt\n",
    "import re\n",
    "\n",
    "\n",
    "def format_string(text):\n",
    "    # Remove HTML tags\n",
    "    clean_text = re.sub(r'<.*?>', '', text)\n",
    "    \n",
    "    # Remove extra whitespace\n",
    "    clean_text = re.sub(r'\\s+', ' ', clean_text)\n",
    "    \n",
    "    # Split the text into individual sentences\n",
    "    sentences = clean_text.strip().split('. ')\n",
    "    \n",
    "    # Remove empty sentences & Join the sentences into a formatted string\n",
    "    formatted_text = '. '.join([sentence for sentence in sentences if sentence])\n",
    "    \n",
    "    return formatted_text\n",
    "\n",
    "\n",
    "def extract_data(_sou, datakey):\n",
    "    temp = [i.text for i in _sou.body.findAll('div', {'data-section': datakey})]\n",
    "    if len(temp):\n",
    "        return format_string(temp[0].strip().replace('\\n', ' '))\n",
    "    else:\n",
    "        return ''\n",
    "\n",
    "\n",
    "rows = soup.body.find(\"div\", {\"class\":'module__content-panel--table--data-table'}).table.findAll('tr')\n",
    "data = {'course_name': [], 'url': [], 'overview': [], 'requirements': [], 'fee': [], 'careers': []}\n",
    "for row in rows[1:]:\n",
    "    data['course_name'].append(row.td.a.text)\n",
    "    data['url'].append(row.td.a['href'])\n",
    "    \n",
    "    sou = BeautifulSoup(get('https:' + row.td.a['href']).content, \"html.parser\")\n",
    "    par = sou.find('h3', string='Locations').parent.parent\n",
    "    locations = []\n",
    "    if par.find('ul'):\n",
    "        [locations.append(i.get_text()) for i in par.find_all('li')]\n",
    "    else:\n",
    "        [locations.append(i.get_text()) for i in par.find_all('a')]\n",
    "    print(locations)\n",
    "    \n",
    "    overview = extract_data(sou, 'course overview')\n",
    "    requirements = extract_data(sou, 'entry requirements')\n",
    "    fee = extract_data(sou, 'fees and scholarships')\n",
    "    careers = extract_data(sou, 'careers')\n",
    "    \n",
    "    data['overview'].append(overview)\n",
    "    data['requirements'].append(requirements)\n",
    "    data['fee'].append(fee)\n",
    "    data['careers'].append(careers)\n",
    "    \n",
    "    \n",
    "    \n",
    "    break\n",
    "\n",
    "    "
   ]
  },
  {
   "cell_type": "code",
   "execution_count": 7,
   "id": "9cc8dc42",
   "metadata": {
    "tags": []
   },
   "outputs": [
    {
     "data": {
      "text/html": [
       "<div>\n",
       "<style scoped>\n",
       "    .dataframe tbody tr th:only-of-type {\n",
       "        vertical-align: middle;\n",
       "    }\n",
       "\n",
       "    .dataframe tbody tr th {\n",
       "        vertical-align: top;\n",
       "    }\n",
       "\n",
       "    .dataframe thead th {\n",
       "        text-align: right;\n",
       "    }\n",
       "</style>\n",
       "<table border=\"1\" class=\"dataframe\">\n",
       "  <thead>\n",
       "    <tr style=\"text-align: right;\">\n",
       "      <th></th>\n",
       "      <th>course_name</th>\n",
       "      <th>url</th>\n",
       "      <th>overview</th>\n",
       "      <th>requirements</th>\n",
       "      <th>fee</th>\n",
       "      <th>careers</th>\n",
       "    </tr>\n",
       "  </thead>\n",
       "  <tbody>\n",
       "    <tr>\n",
       "      <th>0</th>\n",
       "      <td>Bachelor of Nursing (Honours)</td>\n",
       "      <td>//www.deakin.edu.au/course/bachelor-nursing-ho...</td>\n",
       "      <td>Course overview Focusing on research, the hono...</td>\n",
       "      <td>Entry requirements Higher education study If y...</td>\n",
       "      <td>Fees and scholarships Fee information Estimate...</td>\n",
       "      <td>Careers Career outcomes After successfully com...</td>\n",
       "    </tr>\n",
       "    <tr>\n",
       "      <th>1</th>\n",
       "      <td>Graduate Certificate of Intensive Care Nursing</td>\n",
       "      <td>//www.deakin.edu.au/course/graduate-certificat...</td>\n",
       "      <td>Course overview With job growth of 13.9% proje...</td>\n",
       "      <td>Entry requirements Entry information Bachelor ...</td>\n",
       "      <td>Fees and scholarships Fee information Estimate...</td>\n",
       "      <td>Careers Want a degree that’s more than just a ...</td>\n",
       "    </tr>\n",
       "    <tr>\n",
       "      <th>2</th>\n",
       "      <td>Graduate Certificate of Critical Care Nursing</td>\n",
       "      <td>//www.deakin.edu.au/course/graduate-certificat...</td>\n",
       "      <td>Course overview Critical care nurses work in s...</td>\n",
       "      <td>Entry requirements Entry information Bachelor ...</td>\n",
       "      <td>Fees and scholarships Fee information Estimate...</td>\n",
       "      <td>Careers Want a degree that’s more than just a ...</td>\n",
       "    </tr>\n",
       "    <tr>\n",
       "      <th>3</th>\n",
       "      <td>Graduate Diploma of Emergency Nursing</td>\n",
       "      <td>//www.deakin.edu.au/course/graduate-diploma-em...</td>\n",
       "      <td>Course overview Nurses working in emergency de...</td>\n",
       "      <td>Entry requirements Entry information Bachelor ...</td>\n",
       "      <td>Fees and scholarships Fee information Estimate...</td>\n",
       "      <td>Careers Want a degree that’s more than just a ...</td>\n",
       "    </tr>\n",
       "    <tr>\n",
       "      <th>4</th>\n",
       "      <td>Bachelor of Science (Honours)</td>\n",
       "      <td>//www.deakin.edu.au/course/bachelor-science-ho...</td>\n",
       "      <td>Course overview Deakin’s Bachelor of Science (...</td>\n",
       "      <td>Entry requirements Entry information Entry wil...</td>\n",
       "      <td>Fees and scholarships Fee information Estimate...</td>\n",
       "      <td>Careers Career outcomes The Bachelor of Scienc...</td>\n",
       "    </tr>\n",
       "    <tr>\n",
       "      <th>...</th>\n",
       "      <td>...</td>\n",
       "      <td>...</td>\n",
       "      <td>...</td>\n",
       "      <td>...</td>\n",
       "      <td>...</td>\n",
       "      <td>...</td>\n",
       "    </tr>\n",
       "    <tr>\n",
       "      <th>285</th>\n",
       "      <td>Graduate Certificate of Teaching English to Sp...</td>\n",
       "      <td>//www.deakin.edu.au/course/graduate-certificat...</td>\n",
       "      <td>Course overview Become qualified to teach Engl...</td>\n",
       "      <td>Entry requirements Entry information Entry wil...</td>\n",
       "      <td>Fees and scholarships Fee information Estimate...</td>\n",
       "      <td>Careers Career outcomes There is a high demand...</td>\n",
       "    </tr>\n",
       "    <tr>\n",
       "      <th>286</th>\n",
       "      <td>Master of Social Work</td>\n",
       "      <td>//www.deakin.edu.au/course/master-social-work</td>\n",
       "      <td>Course overview With a Master of Social Work, ...</td>\n",
       "      <td>Entry requirements Entry information Entry wil...</td>\n",
       "      <td>Fees and scholarships Fee information Estimate...</td>\n",
       "      <td>Careers Career outcomes The two year Master of...</td>\n",
       "    </tr>\n",
       "    <tr>\n",
       "      <th>287</th>\n",
       "      <td>Graduate Diploma of Psychology (Advanced)</td>\n",
       "      <td>//www.deakin.edu.au/course/graduate-diploma-ps...</td>\n",
       "      <td>Course overview If you are looking to build on...</td>\n",
       "      <td>Entry requirements Higher education study If y...</td>\n",
       "      <td>Fees and scholarships Fee information Estimate...</td>\n",
       "      <td>Careers Career outcomes This course is a pathw...</td>\n",
       "    </tr>\n",
       "    <tr>\n",
       "      <th>288</th>\n",
       "      <td>Bachelor of Psychological Science (Honours)</td>\n",
       "      <td>//www.deakin.edu.au/course/bachelor-psychologi...</td>\n",
       "      <td>Course overview Gain an insight into why peopl...</td>\n",
       "      <td>Entry requirements Higher education study If y...</td>\n",
       "      <td>Fees and scholarships Fee information Estimate...</td>\n",
       "      <td>Careers Want a degree that’s more than just a ...</td>\n",
       "    </tr>\n",
       "    <tr>\n",
       "      <th>289</th>\n",
       "      <td>Graduate Certificate of Education (Trauma-Resp...</td>\n",
       "      <td>//www.deakin.edu.au/course/graduate-certificat...</td>\n",
       "      <td>Course overview Childhood trauma is a prevalen...</td>\n",
       "      <td>Entry requirements Entry information Entry wil...</td>\n",
       "      <td>Fees and scholarships Fee information Estimate...</td>\n",
       "      <td>Careers Career outcomes This Graduate Certific...</td>\n",
       "    </tr>\n",
       "  </tbody>\n",
       "</table>\n",
       "<p>290 rows × 6 columns</p>\n",
       "</div>"
      ],
      "text/plain": [
       "                                           course_name  \\\n",
       "0                        Bachelor of Nursing (Honours)   \n",
       "1       Graduate Certificate of Intensive Care Nursing   \n",
       "2        Graduate Certificate of Critical Care Nursing   \n",
       "3                Graduate Diploma of Emergency Nursing   \n",
       "4                        Bachelor of Science (Honours)   \n",
       "..                                                 ...   \n",
       "285  Graduate Certificate of Teaching English to Sp...   \n",
       "286                              Master of Social Work   \n",
       "287          Graduate Diploma of Psychology (Advanced)   \n",
       "288        Bachelor of Psychological Science (Honours)   \n",
       "289  Graduate Certificate of Education (Trauma-Resp...   \n",
       "\n",
       "                                                   url  \\\n",
       "0    //www.deakin.edu.au/course/bachelor-nursing-ho...   \n",
       "1    //www.deakin.edu.au/course/graduate-certificat...   \n",
       "2    //www.deakin.edu.au/course/graduate-certificat...   \n",
       "3    //www.deakin.edu.au/course/graduate-diploma-em...   \n",
       "4    //www.deakin.edu.au/course/bachelor-science-ho...   \n",
       "..                                                 ...   \n",
       "285  //www.deakin.edu.au/course/graduate-certificat...   \n",
       "286      //www.deakin.edu.au/course/master-social-work   \n",
       "287  //www.deakin.edu.au/course/graduate-diploma-ps...   \n",
       "288  //www.deakin.edu.au/course/bachelor-psychologi...   \n",
       "289  //www.deakin.edu.au/course/graduate-certificat...   \n",
       "\n",
       "                                              overview  \\\n",
       "0    Course overview Focusing on research, the hono...   \n",
       "1    Course overview With job growth of 13.9% proje...   \n",
       "2    Course overview Critical care nurses work in s...   \n",
       "3    Course overview Nurses working in emergency de...   \n",
       "4    Course overview Deakin’s Bachelor of Science (...   \n",
       "..                                                 ...   \n",
       "285  Course overview Become qualified to teach Engl...   \n",
       "286  Course overview With a Master of Social Work, ...   \n",
       "287  Course overview If you are looking to build on...   \n",
       "288  Course overview Gain an insight into why peopl...   \n",
       "289  Course overview Childhood trauma is a prevalen...   \n",
       "\n",
       "                                          requirements  \\\n",
       "0    Entry requirements Higher education study If y...   \n",
       "1    Entry requirements Entry information Bachelor ...   \n",
       "2    Entry requirements Entry information Bachelor ...   \n",
       "3    Entry requirements Entry information Bachelor ...   \n",
       "4    Entry requirements Entry information Entry wil...   \n",
       "..                                                 ...   \n",
       "285  Entry requirements Entry information Entry wil...   \n",
       "286  Entry requirements Entry information Entry wil...   \n",
       "287  Entry requirements Higher education study If y...   \n",
       "288  Entry requirements Higher education study If y...   \n",
       "289  Entry requirements Entry information Entry wil...   \n",
       "\n",
       "                                                   fee  \\\n",
       "0    Fees and scholarships Fee information Estimate...   \n",
       "1    Fees and scholarships Fee information Estimate...   \n",
       "2    Fees and scholarships Fee information Estimate...   \n",
       "3    Fees and scholarships Fee information Estimate...   \n",
       "4    Fees and scholarships Fee information Estimate...   \n",
       "..                                                 ...   \n",
       "285  Fees and scholarships Fee information Estimate...   \n",
       "286  Fees and scholarships Fee information Estimate...   \n",
       "287  Fees and scholarships Fee information Estimate...   \n",
       "288  Fees and scholarships Fee information Estimate...   \n",
       "289  Fees and scholarships Fee information Estimate...   \n",
       "\n",
       "                                               careers  \n",
       "0    Careers Career outcomes After successfully com...  \n",
       "1    Careers Want a degree that’s more than just a ...  \n",
       "2    Careers Want a degree that’s more than just a ...  \n",
       "3    Careers Want a degree that’s more than just a ...  \n",
       "4    Careers Career outcomes The Bachelor of Scienc...  \n",
       "..                                                 ...  \n",
       "285  Careers Career outcomes There is a high demand...  \n",
       "286  Careers Career outcomes The two year Master of...  \n",
       "287  Careers Career outcomes This course is a pathw...  \n",
       "288  Careers Want a degree that’s more than just a ...  \n",
       "289  Careers Career outcomes This Graduate Certific...  \n",
       "\n",
       "[290 rows x 6 columns]"
      ]
     },
     "execution_count": 7,
     "metadata": {},
     "output_type": "execute_result"
    }
   ],
   "source": [
    "from pandas import DataFrame\n",
    "\n",
    "\n",
    "course_data = DataFrame(data)\n",
    "course_data"
   ]
  },
  {
   "cell_type": "code",
   "execution_count": 8,
   "id": "3b3c0fe6-d9c7-48be-aab4-f647702670fe",
   "metadata": {
    "tags": []
   },
   "outputs": [],
   "source": [
    "course_data.to_csv('course-data.csv', index=False)"
   ]
  },
  {
   "cell_type": "code",
   "execution_count": 1,
   "id": "fc6cbcb3-c974-49fe-b55f-a8c8af52f7f2",
   "metadata": {},
   "outputs": [],
   "source": [
    "from pandas import read_csv\n",
    "\n",
    "\n",
    "course_data = read_csv('course-data.csv')\n",
    "course_data['overview'] = course_data.overview.str.replace('Course overview ', '').str.replace(' Read More', '')\n",
    "course_data.to_csv('course-data.csv', index=False)"
   ]
  },
  {
   "cell_type": "code",
   "execution_count": null,
   "id": "b6e02f7e-78e9-455b-b20d-e3816359e213",
   "metadata": {},
   "outputs": [],
   "source": [
    "from pandas import read_csv\n",
    "\n",
    "\n",
    "course_data = read_csv('course-data.csv')\n",
    "course_data['overview']\n",
    "course_data.to_csv('course-data.csv', index=False)"
   ]
  },
  {
   "cell_type": "code",
   "execution_count": 2,
   "id": "c12d0d5c-f654-40f5-8979-0e5b473883ff",
   "metadata": {
    "tags": []
   },
   "outputs": [],
   "source": [
    "from pandas import read_csv\n",
    "\n",
    "\n",
    "course_data = read_csv('course-data.csv')\n",
    "course_data[['course_name', 'overview', 'requirements']].to_csv('course-data-small.csv', index=False)"
   ]
  },
  {
   "cell_type": "code",
   "execution_count": null,
   "id": "1adf979b-1e71-4161-b7d1-898343f95790",
   "metadata": {},
   "outputs": [],
   "source": []
  }
 ],
 "metadata": {
  "kernelspec": {
   "display_name": "Python 3 (ipykernel)",
   "language": "python",
   "name": "python3"
  },
  "language_info": {
   "codemirror_mode": {
    "name": "ipython",
    "version": 3
   },
   "file_extension": ".py",
   "mimetype": "text/x-python",
   "name": "python",
   "nbconvert_exporter": "python",
   "pygments_lexer": "ipython3",
   "version": "3.10.10"
  }
 },
 "nbformat": 4,
 "nbformat_minor": 5
}
