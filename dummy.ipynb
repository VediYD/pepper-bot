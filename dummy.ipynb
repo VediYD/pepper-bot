{
 "cells": [
  {
   "cell_type": "code",
   "execution_count": 1,
   "id": "14c342ed-e8b0-4e21-b7d5-383c74ed80ba",
   "metadata": {
    "tags": []
   },
   "outputs": [],
   "source": [
    "from flask import jsonify"
   ]
  },
  {
   "cell_type": "code",
   "execution_count": 13,
   "id": "2fe08035-8bc1-4bfb-a235-3e32fa45ce07",
   "metadata": {
    "tags": []
   },
   "outputs": [],
   "source": [
    "from langchain.vectorstores     import Chroma\n",
    "from langchain.document_loaders import DataFrameLoader\n",
    "from pandas                     import read_csv\n",
    "from langchain.embeddings       import HuggingFaceEmbeddings\n"
   ]
  },
  {
   "cell_type": "code",
   "execution_count": 9,
   "id": "0179e34d-6903-4b01-a02d-30e4300b4704",
   "metadata": {
    "tags": []
   },
   "outputs": [
    {
     "data": {
      "text/html": [
       "<div>\n",
       "<style scoped>\n",
       "    .dataframe tbody tr th:only-of-type {\n",
       "        vertical-align: middle;\n",
       "    }\n",
       "\n",
       "    .dataframe tbody tr th {\n",
       "        vertical-align: top;\n",
       "    }\n",
       "\n",
       "    .dataframe thead th {\n",
       "        text-align: right;\n",
       "    }\n",
       "</style>\n",
       "<table border=\"1\" class=\"dataframe\">\n",
       "  <thead>\n",
       "    <tr style=\"text-align: right;\">\n",
       "      <th></th>\n",
       "      <th>course_name</th>\n",
       "      <th>o_summarized</th>\n",
       "      <th>course_code</th>\n",
       "    </tr>\n",
       "  </thead>\n",
       "  <tbody>\n",
       "    <tr>\n",
       "      <th>0</th>\n",
       "      <td>Bachelor of Nursing (Honours)</td>\n",
       "      <td>The Bachelor's Degree is an undergraduate prog...</td>\n",
       "      <td>H421</td>\n",
       "    </tr>\n",
       "    <tr>\n",
       "      <th>1</th>\n",
       "      <td>Graduate Certificate of Intensive Care Nursing</td>\n",
       "      <td>The Bachelor's Degree is an undergraduate prog...</td>\n",
       "      <td>H545</td>\n",
       "    </tr>\n",
       "    <tr>\n",
       "      <th>2</th>\n",
       "      <td>Graduate Diploma of Emergency Nursing</td>\n",
       "      <td>The Graduate Diploma of Emergency Nursing is a...</td>\n",
       "      <td>H666</td>\n",
       "    </tr>\n",
       "    <tr>\n",
       "      <th>3</th>\n",
       "      <td>Bachelor of Science (Honours)</td>\n",
       "      <td>The Bachelor of Science Honours program at Dea...</td>\n",
       "      <td>S400</td>\n",
       "    </tr>\n",
       "    <tr>\n",
       "      <th>4</th>\n",
       "      <td>Graduate Diploma of Cardiac Nursing</td>\n",
       "      <td>The Graduate Diploma Cardiac Nursing program a...</td>\n",
       "      <td>H665</td>\n",
       "    </tr>\n",
       "  </tbody>\n",
       "</table>\n",
       "</div>"
      ],
      "text/plain": [
       "                                      course_name  \\\n",
       "0                   Bachelor of Nursing (Honours)   \n",
       "1  Graduate Certificate of Intensive Care Nursing   \n",
       "2           Graduate Diploma of Emergency Nursing   \n",
       "3                   Bachelor of Science (Honours)   \n",
       "4             Graduate Diploma of Cardiac Nursing   \n",
       "\n",
       "                                        o_summarized course_code  \n",
       "0  The Bachelor's Degree is an undergraduate prog...        H421  \n",
       "1  The Bachelor's Degree is an undergraduate prog...        H545  \n",
       "2  The Graduate Diploma of Emergency Nursing is a...        H666  \n",
       "3  The Bachelor of Science Honours program at Dea...        S400  \n",
       "4  The Graduate Diploma Cardiac Nursing program a...        H665  "
      ]
     },
     "execution_count": 9,
     "metadata": {},
     "output_type": "execute_result"
    }
   ],
   "source": [
    "temp = read_csv('document.csv')\n",
    "temp.head()"
   ]
  },
  {
   "cell_type": "code",
   "execution_count": 11,
   "id": "d82d6b39-85d7-471e-adbe-764b6ed4aac6",
   "metadata": {
    "tags": []
   },
   "outputs": [],
   "source": [
    "loader = DataFrameLoader(temp, page_content_column='course_name') \n",
    "document = loader.load_and_split()"
   ]
  },
  {
   "cell_type": "code",
   "execution_count": 14,
   "id": "533a020b-3eb8-49ce-ad50-bb6bcdd3cd25",
   "metadata": {
    "tags": []
   },
   "outputs": [
    {
     "name": "stderr",
     "output_type": "stream",
     "text": [
      "/opt/conda/lib/python3.10/site-packages/tqdm/auto.py:21: TqdmWarning: IProgress not found. Please update jupyter and ipywidgets. See https://ipywidgets.readthedocs.io/en/stable/user_install.html\n",
      "  from .autonotebook import tqdm as notebook_tqdm\n"
     ]
    }
   ],
   "source": [
    "embeddings = HuggingFaceEmbeddings(model_name='sentence-transformers/all-MiniLM-L6-v2')\n",
    "db = Chroma.from_documents(document, embeddings,)"
   ]
  },
  {
   "cell_type": "code",
   "execution_count": 91,
   "id": "384f3425-a8cd-46ae-b9b1-8eef1dbefea6",
   "metadata": {
    "tags": []
   },
   "outputs": [],
   "source": [
    "def getSimilarCouses(query):\n",
    "    results = db.similarity_search_with_score(query, 10)\n",
    "    selected = []\n",
    "    \n",
    "    for doc, score in results:\n",
    "        if score <= 0.95:\n",
    "            selected.append(doc.metadata['course_code'])\n",
    "    \n",
    "    return selected"
   ]
  },
  {
   "cell_type": "code",
   "execution_count": 92,
   "id": "92419039-2119-4113-91c1-ad9dd9e300ab",
   "metadata": {
    "tags": []
   },
   "outputs": [
    {
     "data": {
      "text/plain": [
       "['S308', 'S536', 'S770', 'S379', 'S777']"
      ]
     },
     "execution_count": 92,
     "metadata": {},
     "output_type": "execute_result"
    }
   ],
   "source": [
    "getSimilarCouses('Could you tell me about courses related to AI and Data Science?')"
   ]
  },
  {
   "cell_type": "code",
   "execution_count": 93,
   "id": "1304e743-db6b-4be1-bbb2-2142a63ba8aa",
   "metadata": {
    "tags": []
   },
   "outputs": [
    {
     "data": {
      "text/plain": [
       "[(Document(page_content='Graduate Diploma of Museum Studies', metadata={'o_summarized': \"The Graduate Diploma of Museum Studies is designed for individuals who want to enter the museum sector and gain hands-on skills required such as interpretation, collections management, cataloguing/documentation, exhibition planning, budgets & policy development, audience involvement in exhibitions. The program also offers elective units including World Heritage Intangible Cultural Heritage Digital Interpreting Applied Heritage Project Internship Curating digital objects from a collection of the world's most valuable cultural heritage items such as ancient manuscripts and rare books or artworks that are now housed at museums around Australia\", 'course_code': 'A668'}),\n",
       "  1.7396718263626099),\n",
       " (Document(page_content='Master of Cultural Heritage and Museum Studies', metadata={'o_summarized': \"The Master's program at Deakin University is a comprehensive training that offers students the opportunity to specialize their career paths through various disciplines such as exhibitions and collections management or heritage practice with an emphasis on Indigenous cultural heritage preservation. The core units cover traditions of culture while exploring current social issues in Heritage Management, Human Rights in Museums, Research Design for Collections & Curatorship/Heritage Practice, Intangible Cultural Heritage Preservation, Sustainable Development Goals (SDGs), Social Responsibility and Ethics at Workplace or Internship Unit with a professional work placement. The program also offers the opportunity to expand networks through internships abroad while completing an internship unit in Australia that helps students gain industry knowledge as well as extend their career opportunities by applying for dual awards such as Cultural Heritage & Museum Studies, World Heritage Scholarships and Dual Awards at Brande-nburg University of Technology (BTU) Germany.\", 'course_code': 'A768'}),\n",
       "  1.767459750175476),\n",
       " (Document(page_content='Graduate Certificate of Agricultural Health and Medicine', metadata={'o_summarized': \"The Graduate Certificate of Agricultural Health and Medicine is designed for individuals who want an insight into the physical health issues faced by rural Australians due to their work on farms or other agricultural industries. The course aims at understanding factors that contribute towards higher rates of morbidity in these areas as well as developing successful healthcare policies aimed at improving safety intervention programs within agriculture communities across Australia, ultimately leading to a significant impact for Australian farmers and the nation's food security goals.\", 'course_code': 'H522'}),\n",
       "  1.7835395336151123),\n",
       " (Document(page_content='Graduate Certificate of Cultural Heritage and Museum Studies', metadata={'o_summarized': 'The Graduate Certificate of Cultural Heritage and Museum Studies is a course designed to provide students with the skills needed for careers working within cultural heritage institutions such as galleries or museums.', 'course_code': 'A568'}),\n",
       "  1.7974681854248047),\n",
       " (Document(page_content='Graduate Certificate of Perianaesthesia Nursing', metadata={'o_summarized': \"The Deakin University Graduate Certificate Program for PeriAnesthesia Nursing is a comprehensive program that focuses on the assessment and practical skills needed to become an expert perianesthetic nurse with advanced knowledge of pharmacological therapies including anaesthetics agents, adjunct therapy use, pain management techniques. The course also emphasizes patient care in complex populations such as neurological disorders or cardiovascular disease states while managing respiratory issues for patients undergoing surgery involving specialty procedures like orthopedic surgeries and neurosurgeries. Graduates will be equipped to handle the contemporary challenges perianesthesia nurses may face through roles including practice education leadership research, making a difference by contributing their skills towards improving patient outcomes in healthcare settings across Australia's hospitals at large with an emphasis on ShanghaiRanking of Academic Subjects#Excellence in Research (ERA) 2018 and Australian Government 2022.\", 'course_code': 'H569'}),\n",
       "  1.8332654237747192),\n",
       " (Document(page_content='Graduate Diploma of Literary Studies', metadata={'o_summarized': 'The Graduate Diploma of Literary Studies offered by Deakin University is designed for students who are passionate about literature and writing but lack practical experience or industry-specific skills to pursue a career within the field.', 'course_code': 'A635'}),\n",
       "  1.8610286712646484),\n",
       " (Document(page_content='Diploma of Arabic', metadata={'o_summarized': 'The Deakin Diploma of Arabic is an award-winning language program designed for students who want to deepen their cultural understanding and develop communication skills while learning a new language like Arabic or Farsi/Persian. The eight-week study period in Oman offers practical experience with native speakers as well as insights into the culture, way of life, religion, history, politics, society, economy, art forms, music, sports etc., making it an excellent opportunity for students to build a global career while developing their language skills and adaptability.', 'course_code': 'A221'}),\n",
       "  1.8662892580032349),\n",
       " (Document(page_content='Diploma of Indonesian', metadata={'o_summarized': \"The Deakin Diploma of Indonesian is a language course designed for students who want to develop their skills or deepen knowledge about the country's culture and ways of life through learning communication techniques like speaking, writing, reading comprehension, vocabulary building, grammar rules, sentence structure in Indonesia. The program also offers an opportunity to study at-least one foreign language as well as gain a global perspective that can be beneficial for career development outside Australia or when working with international clients/clients from other countries where the Indonesian is spoken natively like Malaysia and Singapore etc..\", 'course_code': 'A223'}),\n",
       "  1.875279188156128),\n",
       " (Document(page_content='Graduate Diploma of Perianaesthesia Nursing', metadata={'o_summarized': 'The Graduate Diploma of Perianaesthesia is a comprehensive program that prepares students with advanced skills and knowledge for the role of perianesthetic nurse specialist through live-streaming seminars, class discussions, online learning modules, clinical placements in metropolitan hospitals across Australia. The course offers opportunities to pursue specific areas of interest aligned towards career goals while selecting from complementary fields or pursuing further studies such as education, leadership roles, management positions and more with job growth projections for registered nurses (13.9%) and nurse managers by 2026-2027 according to the Australian Institute of Health and Welfare data analysis report published in 2022.', 'course_code': 'H669'}),\n",
       "  1.8762303590774536),\n",
       " (Document(page_content='Graduate Diploma of Midwifery', metadata={'o_summarized': \"The Deakin's Graduate Diploma course for midwives is an 18-month program that provides hands on experience and theoretical knowledge to prepare graduates who want a career change into the maternity health care sector with confidence. The Clinical Simulation Centres provide safe environments where students can practice essential skills while working alongside qualified clinicians at partner organizations, such as paid employment models or clinical only practices in Australia's healthcare system. Graduates have access to an intensive program that builds foundational knowledge and explores specialized areas of midwifery including pregnancy care, birth management, neonatal special care, emergency medical situations for newborns with complex needs (neonatal), postnatal care after childbirth, as well as maternal health issues such as hypertension or diabetes.\", 'course_code': 'H676'}),\n",
       "  1.888812780380249)]"
      ]
     },
     "execution_count": 93,
     "metadata": {},
     "output_type": "execute_result"
    }
   ],
   "source": [
    "db.similarity_search_with_score('give me information about horses related to the eye and their designs', 10)"
   ]
  },
  {
   "cell_type": "code",
   "execution_count": 76,
   "id": "7e6c7953-f6ea-45d4-a00c-99977affea8a",
   "metadata": {
    "tags": []
   },
   "outputs": [
    {
     "name": "stdout",
     "output_type": "stream",
     "text": [
      "Help on method similarity_search_with_score in module langchain.vectorstores.chroma:\n",
      "\n",
      "similarity_search_with_score(query: 'str', k: 'int' = 4, filter: 'Optional[Dict[str, str]]' = None, **kwargs: 'Any') -> 'List[Tuple[Document, float]]' method of langchain.vectorstores.chroma.Chroma instance\n",
      "    Run similarity search with Chroma with distance.\n",
      "    \n",
      "    Args:\n",
      "        query (str): Query text to search for.\n",
      "        k (int): Number of results to return. Defaults to 4.\n",
      "        filter (Optional[Dict[str, str]]): Filter by metadata. Defaults to None.\n",
      "    \n",
      "    Returns:\n",
      "        List[Tuple[Document, float]]: List of documents most similar to the query\n",
      "            text with distance in float.\n",
      "\n"
     ]
    }
   ],
   "source": [
    "help(db.similarity_search_with_score)"
   ]
  },
  {
   "cell_type": "code",
   "execution_count": 104,
   "id": "5dacd4f2-9c81-49d1-b33f-63bc2040203e",
   "metadata": {
    "tags": []
   },
   "outputs": [
    {
     "data": {
      "text/plain": [
       "(Document(page_content='Master of Applied Artificial Intelligence (Professional)', metadata={'o_summarized': 'The Master\\'s degree program \"Master of Applied Artificial Intelligence (Professional)\" is designed for individuals with a strong interest or background in artificial intelligence and its applications to software development.', 'course_code': 'S737'}),\n",
       " 0.13220003247261047)"
      ]
     },
     "execution_count": 104,
     "metadata": {},
     "output_type": "execute_result"
    }
   ],
   "source": [
    "db.similarity_search_with_score('Please tell me about Master of Applied Artificial Intelligence (Professional)', 10)[0]"
   ]
  },
  {
   "cell_type": "code",
   "execution_count": 31,
   "id": "eb7bfcab-235b-4862-a2de-30bb5b2fae9a",
   "metadata": {
    "tags": []
   },
   "outputs": [
    {
     "data": {
      "text/plain": [
       "['S308',\n",
       " 'S536',\n",
       " 'S770',\n",
       " 'S379',\n",
       " 'S777',\n",
       " 'S737',\n",
       " 'S677',\n",
       " 'S479',\n",
       " 'M553',\n",
       " 'S306']"
      ]
     },
     "execution_count": 31,
     "metadata": {},
     "output_type": "execute_result"
    }
   ],
   "source": [
    "temp_ = []\n",
    "for i in db.similarity_search('Could you tell me about courses related to AI and Data Science?', 10):\n",
    "    temp_.append(i.metadata['course_code'])\n",
    "\n",
    "temp_"
   ]
  },
  {
   "cell_type": "code",
   "execution_count": 33,
   "id": "94e5702d-105a-4b89-ace4-cdba03bcfb96",
   "metadata": {
    "tags": []
   },
   "outputs": [],
   "source": [
    "from requests import post"
   ]
  },
  {
   "cell_type": "code",
   "execution_count": 49,
   "id": "a166461b-ad7a-427e-a51d-b8c59a02192c",
   "metadata": {},
   "outputs": [
    {
     "name": "stdout",
     "output_type": "stream",
     "text": [
      "Help on method get in module langchain.vectorstores.chroma:\n",
      "\n",
      "get(include: 'Optional[List[str]]' = None) -> 'Dict[str, Any]' method of langchain.vectorstores.chroma.Chroma instance\n",
      "    Gets the collection.\n",
      "    \n",
      "    Args:\n",
      "        include (Optional[List[str]]): List of fields to include from db.\n",
      "            Defaults to None.\n",
      "\n"
     ]
    }
   ],
   "source": [
    "help(db.get)"
   ]
  },
  {
   "cell_type": "code",
   "execution_count": 61,
   "id": "7264dfbf-2030-4e7e-86d0-f821e483b084",
   "metadata": {
    "tags": []
   },
   "outputs": [
    {
     "data": {
      "text/plain": [
       "'The Master\\'s degree program \"Master of Applied Artificial Intelligence (Professional)\" is designed for individuals with a strong interest or background in artificial intelligence and its applications to software development.'"
      ]
     },
     "execution_count": 61,
     "metadata": {},
     "output_type": "execute_result"
    }
   ],
   "source": [
    "temp[temp['course_code']=='S737'].o_summarized.values[0]"
   ]
  },
  {
   "cell_type": "code",
   "execution_count": 102,
   "id": "8cb84781-b299-44b6-8934-e74e7fe37750",
   "metadata": {
    "tags": []
   },
   "outputs": [
    {
     "data": {
      "text/plain": [
       "['S737',\n",
       " 'S736',\n",
       " 'S308',\n",
       " 'S536',\n",
       " 'S779',\n",
       " 'S770',\n",
       " 'S776',\n",
       " 'S751',\n",
       " 'S739',\n",
       " 'E737']"
      ]
     },
     "execution_count": 102,
     "metadata": {},
     "output_type": "execute_result"
    }
   ],
   "source": [
    "res = post('http://172.17.0.2:8891/getCourses', json={'question':'Please tell me about Master of Applied Artificial Intelligence (Professional'})\n",
    "res.json()['course_codes']"
   ]
  },
  {
   "cell_type": "code",
   "execution_count": 64,
   "id": "f352f454-95fa-4fa1-b0a7-9f6f91244a65",
   "metadata": {
    "tags": []
   },
   "outputs": [
    {
     "data": {
      "text/plain": [
       "['S308',\n",
       " 'S536',\n",
       " 'S737',\n",
       " 'S770',\n",
       " 'S736',\n",
       " 'S777',\n",
       " 'S700',\n",
       " 'S751',\n",
       " 'S735',\n",
       " 'M553']"
      ]
     },
     "execution_count": 64,
     "metadata": {},
     "output_type": "execute_result"
    }
   ],
   "source": [
    "res = post('http://172.17.0.2:8891/getCourses', json={'question':'Could you tell me about courses related to Neural Networks?'})\n",
    "res.json()['course_codes']"
   ]
  },
  {
   "cell_type": "code",
   "execution_count": 101,
   "id": "5cfddfd2-9e08-49d0-a510-64fa08e217d4",
   "metadata": {
    "tags": []
   },
   "outputs": [
    {
     "data": {
      "text/plain": [
       "\"The Bachelor's program at Deakin University offers students hands-on experience developing intelligent systems through their exposure to cutting edge research and technology advancements such as AI. The course is designed for individuals with a minimum of 100 hours industry work experience who are looking forward in the field that will enable them develop new skills required by businesses, create innovative solutions using artificial intelligence (AI), design software applications powered by machine learning algorithms or other advanced technologies to solve real-world problems and make significant contributions towards shaping our future.\""
      ]
     },
     "execution_count": 101,
     "metadata": {},
     "output_type": "execute_result"
    }
   ],
   "source": [
    "res = post('http://172.17.0.2:8891/courseInfo', json={'course_code':'S308'})\n",
    "res.json()['course_summary']"
   ]
  },
  {
   "cell_type": "code",
   "execution_count": null,
   "id": "c06c8531-e119-40f2-9f97-a99ac5ac6ecd",
   "metadata": {},
   "outputs": [],
   "source": []
  }
 ],
 "metadata": {
  "kernelspec": {
   "display_name": "Python 3 (ipykernel)",
   "language": "python",
   "name": "python3"
  },
  "language_info": {
   "codemirror_mode": {
    "name": "ipython",
    "version": 3
   },
   "file_extension": ".py",
   "mimetype": "text/x-python",
   "name": "python",
   "nbconvert_exporter": "python",
   "pygments_lexer": "ipython3",
   "version": "3.10.10"
  }
 },
 "nbformat": 4,
 "nbformat_minor": 5
}
