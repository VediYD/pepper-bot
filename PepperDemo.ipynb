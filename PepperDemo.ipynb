{
 "cells": [
  {
   "cell_type": "markdown",
   "metadata": {},
   "source": [
    "# PepperOpenDayDemo"
   ]
  },
  {
   "cell_type": "markdown",
   "metadata": {},
   "source": [
    "## Environment Setup"
   ]
  },
  {
   "cell_type": "code",
   "execution_count": 1,
   "metadata": {},
   "outputs": [],
   "source": [
    "# built-in imports\n",
    "# !pip install requests\n",
    "# !pip install speechrecognition==3.8.1\n",
    "# !pip install paramiko\n",
    "# !pip install pandas\n",
    "# !pip install beautifulsoup4\n",
    "# !pip install pocketsphinx\n",
    "# !pip install scipy"
   ]
  },
  {
   "cell_type": "code",
   "execution_count": 1,
   "metadata": {},
   "outputs": [
    {
     "name": "stderr",
     "output_type": "stream",
     "text": [
      "/usr/local/lib/python2.7/site-packages/paramiko/transport.py:33: CryptographyDeprecationWarning: Python 2 is no longer supported by the Python core team. Support for it is now deprecated in cryptography, and will be removed in the next release.\n",
      "  from cryptography.hazmat.backends import default_backend\n"
     ]
    }
   ],
   "source": [
    "from traceback import format_exc\n",
    "from time      import sleep\n",
    "\n",
    "from idle import idling\n",
    "\n",
    "from interactiveControls import EyesController\n",
    "from interactiveControls import track_head\n",
    "from interactiveControls import return_to_default_pos\n",
    "\n",
    "from humanInteraction import detect\n",
    "from humanInteraction import listen\n",
    "from humanInteraction import speak\n",
    "from humanInteraction import faceTracker\n",
    "from humanInteraction import classifyQuery\n",
    "from humanInteraction import stopListening\n",
    "\n",
    "from chatflow import convFlow\n",
    "\n",
    "from behaviorManager import launchAndStopBehavior, service"
   ]
  },
  {
   "cell_type": "markdown",
   "metadata": {},
   "source": [
    "## Constants"
   ]
  },
  {
   "cell_type": "code",
   "execution_count": 2,
   "metadata": {},
   "outputs": [],
   "source": [
    "### Networking Constants ###\n",
    "GPT_HOST = \"10.104.23.208\"\n",
    "PEPPER_HOST = \"10.104.23.185\"\n",
    "GPT_PORT = 8891\n",
    "PEPPER_PORT = 9559\n",
    "\n",
    "### Audio Processing Constants ###\n",
    "PEPPER_RECORDINGS_PATH = \"/home/nao/microphones/recording.wav\"\n",
    "SERVER_RECORDINGS_PATH = \"recordings/recording.wav\"\n",
    "\n",
    "### Display Generation Constants ###\n",
    "FILE_NAME_TEMP = \"display.html\"\n",
    "PEPPER_HTML_PATH = \"/home/nao/.local/share/PackageManager/apps/robot-page/html/\"  # page.html\"\n",
    "PEPPER_PAGE_LANDING = PEPPER_HTML_PATH + \"page.html\" # '/home/nao/.local/share/PackageManager/apps/robot-page/html/page.html'\n",
    "PEPPER_QR_LANDING = PEPPER_HTML_PATH + \"webfiles/qr.png\"  # switched slash direction\n",
    "PEPPER_IMG_LANDING = PEPPER_HTML_PATH + \"webfiles/img.png\"  # switched slash direction\n",
    "TEXT_BY_ID_PATH = \"textbyID.csv\""
   ]
  },
  {
   "cell_type": "markdown",
   "metadata": {},
   "source": [
    "# Choregraph Behavior"
   ]
  },
  {
   "cell_type": "code",
   "execution_count": 3,
   "metadata": {},
   "outputs": [
    {
     "name": "stdout",
     "output_type": "stream",
     "text": [
      "Behavior is already running.\n"
     ]
    }
   ],
   "source": [
    "launchAndStopBehavior(service, '.lastUploadedChoregrapheBehavior/behavior_1')"
   ]
  },
  {
   "cell_type": "markdown",
   "metadata": {},
   "source": [
    "## MAIN"
   ]
  },
  {
   "cell_type": "code",
   "execution_count": null,
   "metadata": {},
   "outputs": [
    {
     "name": "stdout",
     "output_type": "stream",
     "text": [
      "copyfile successful\n",
      "Sent to Pepper\n",
      "0.920133411884\n",
      "Detect complete\n",
      "copyfile successful\n",
      "Sent to Pepper\n",
      "Recording is starting...\n",
      "copyfile successful\n",
      "Sent to Pepper\n",
      "Timer is reached\n",
      "Recording is stopping...\n",
      "Sent from Pepper\n",
      "[    0     0    -5 ... -1350 -1710 -1555]\n",
      "<type 'numpy.ndarray'>\n",
      "Saved noise reduced audio file to recordings/rn_recording.wav\n",
      "('Listen complete, This is what I heard: ', u'could you tell me about horses related to artificial intelligence and data science')\n",
      "copyfile successful\n",
      "Sent to Pepper\n",
      "copyfile successful\n",
      "Sent to Pepper\n",
      "Recording is starting...\n",
      "copyfile successful\n",
      "Sent to Pepper\n",
      "Timer is reached\n",
      "Recording is stopping...\n",
      "Sent from Pepper\n",
      "[    0     0    -5 ... -1260  -990  -795]\n",
      "<type 'numpy.ndarray'>\n",
      "Saved noise reduced audio file to recordings/rn_recording.wav\n",
      "('Listen complete, This is what I heard: ', u'could you tell me about courses related to artificial intelligence and data science')\n",
      "('', '')\n",
      "copyfile successful\n",
      "Sent to Pepper\n",
      "Recording is starting...\n",
      "copyfile successful\n",
      "Sent to Pepper\n",
      "Timer is reached\n",
      "Recording is stopping...\n",
      "Sent from Pepper\n",
      "[    0     0     0 ... -3150  5370 -1325]\n",
      "<type 'numpy.ndarray'>\n",
      "Saved noise reduced audio file to recordings/rn_recording.wav\n",
      "('Listen complete, This is what I heard: ', u'could you tell me about courses related to artificial intelligence and')\n",
      "copyfile successful\n",
      "Sent to Pepper\n",
      "copyfile successful\n",
      " <li> Bachelor of Artificial Intelligence </li>\n",
      " <li> Graduate Certificate of Artificial Intelligence </li>\n",
      " <li> Master of Applied Artificial Intelligence (Professional) </li>\n",
      "\n",
      "text match found\n"
     ]
    },
    {
     "name": "stderr",
     "output_type": "stream",
     "text": [
      "displayGeneration.py:123: GuessedAtParserWarning: No parser was explicitly specified, so I'm using the best available HTML parser for this system (\"html.parser\"). This usually isn't a problem, but if you run this code on another system, or in a different virtual environment, it may use a different parser and behave differently.\n",
      "\n",
      "The code that caused this warning is on line 123 of the file displayGeneration.py. To get rid of this warning, pass the additional argument 'features=\"html.parser\"' to the BeautifulSoup constructor.\n",
      "\n",
      "  target.replace_with(BeautifulSoup(subText))\n"
     ]
    },
    {
     "name": "stdout",
     "output_type": "stream",
     "text": [
      "Sent to Pepper\n",
      "Sent to Pepper\n",
      "copyfile successful\n",
      "Sent to Pepper\n",
      "1.16202628613\n",
      "Detect complete\n",
      "copyfile successful\n",
      "Sent to Pepper\n",
      "Recording is starting...\n",
      "copyfile successful\n",
      "Sent to Pepper\n",
      "Timer is reached\n",
      "Recording is stopping...\n",
      "Sent from Pepper\n",
      "[   45    45    45 ... -3490 -3125 -1875]\n",
      "<type 'numpy.ndarray'>\n",
      "Saved noise reduced audio file to recordings/rn_recording.wav\n",
      "('Listen complete, This is what I heard: ', u'dummy')\n",
      "copyfile successful\n",
      "Sent to Pepper\n",
      "copyfile successful\n",
      "Sent to Pepper\n",
      "Recording is starting...\n",
      "copyfile successful\n",
      "Sent to Pepper\n",
      "Timer is reached\n",
      "Recording is stopping...\n",
      "Sent from Pepper\n",
      "[  10    5    0 ... 1225  930  805]\n",
      "<type 'numpy.ndarray'>\n",
      "Saved noise reduced audio file to recordings/rn_recording.wav\n",
      "('Listen complete, This is what I heard: ', u'yeah this is a dummy')\n",
      "copyfile successful\n",
      "text match found\n",
      "text match found\n",
      "Sent to Pepper\n",
      "Sent to Pepper\n",
      "Sent to Pepper\n",
      "copyfile successful\n",
      "Sent to Pepper\n",
      "Recording is starting...\n",
      "copyfile successful\n",
      "Sent to Pepper\n",
      "Timer is reached\n",
      "Recording is stopping...\n",
      "Sent from Pepper\n",
      "[ -100  -165  -145 ... -3690 -1130  6370]\n",
      "<type 'numpy.ndarray'>\n",
      "Saved noise reduced audio file to recordings/rn_recording.wav\n",
      "('Listen complete, This is what I heard: ', u'/ Sam')\n",
      "copyfile successful\n",
      "text match found\n",
      "text match found\n",
      "Sent to Pepper\n",
      "Sent to Pepper\n",
      "Sent to Pepper\n",
      "copyfile successful\n",
      "Sent to Pepper\n",
      "Recording is starting...\n",
      "copyfile successful\n",
      "Sent to Pepper\n",
      "Timer is reached\n",
      "Recording is stopping...\n",
      "Sent from Pepper\n",
      "[   5   10   10 ... 2995 2790 1615]\n",
      "<type 'numpy.ndarray'>\n",
      "Saved noise reduced audio file to recordings/rn_recording.wav\n",
      "('Listen complete, This is what I heard: ', u'anymore')\n",
      "copyfile successful\n",
      "Sent to Pepper\n",
      "copyfile successful\n",
      "Sent to Pepper\n",
      "Recording is starting...\n",
      "copyfile successful\n",
      "Sent to Pepper\n",
      "Timer is reached\n",
      "Recording is stopping...\n",
      "Sent from Pepper\n",
      "[  10    5    5 ... 1475 1440 1880]\n",
      "<type 'numpy.ndarray'>\n",
      "Saved noise reduced audio file to recordings/rn_recording.wav\n",
      "\n",
      "('Listen complete, This is what I heard: ', '%low_volume_error%')\n",
      "copyfile successful\n",
      "Sent to Pepper\n",
      "Recording is starting...\n",
      "copyfile successful\n",
      "Sent to Pepper\n",
      "Timer is reached\n",
      "Recording is stopping...\n",
      "Sent from Pepper\n",
      "[  -10    -5     0 ... -7795 -7020 -4925]\n",
      "<type 'numpy.ndarray'>\n",
      "Saved noise reduced audio file to recordings/rn_recording.wav\n",
      "\n",
      "('Listen complete, This is what I heard: ', '%low_volume_error%')\n",
      "copyfile successful\n",
      "Sent to Pepper\n",
      "1.30302810669\n"
     ]
    }
   ],
   "source": [
    "global idle\n",
    "global responsesPipeline\n",
    "global eyes\n",
    "\n",
    "idle = idling()\n",
    "eyes = EyesController()\n",
    "eyes.startEyes(\"neutral\")\n",
    "\n",
    "try:\n",
    "    track_head()\n",
    "\n",
    "    while True:\n",
    "        # Empty sentences list\n",
    "        responsesPipeline = []\n",
    "        \n",
    "        # Idle behaviors to keep peppers temperature low\n",
    "        idle.start_idle_behavior()\n",
    "\n",
    "        # trigger smart listen\n",
    "        detect(idle)\n",
    "        faceTracker()\n",
    "        \n",
    "        rCount = 0\n",
    "        cCounter = 0\n",
    "        while rCount < 2:\n",
    "            query = listen()\n",
    "            if query == '%low_volume_error%':\n",
    "                speak(\"Sorry, I didn't quite catch that. Could you please repeat that?\")\n",
    "                rCount += 1\n",
    "            else:\n",
    "                pred_class, thresh = classifyQuery(query)\n",
    "\n",
    "                if not thresh:\n",
    "                    rCount += 1\n",
    "                if pred_class == 'Courses':\n",
    "                    cCounter += 1\n",
    "                if cCounter == 2:\n",
    "                    pred_class = 'SpecificCourse'\n",
    "\n",
    "                repeat = convFlow(query, pred_class, thresh, responsesPipeline, eyes, rCount)\n",
    "\n",
    "                if repeat:\n",
    "                    rCount += 1\n",
    "        \n",
    "        # When the user has tried 3 times, return to default position\n",
    "        return_to_default_pos()\n",
    "        sleep(10)\n",
    "        continue\n",
    "except Exception as e:\n",
    "    print(e)\n",
    "    print(format_exc())\n",
    "finally:\n",
    "    stopListening()\n",
    "    return_to_default_pos()\n",
    "    idle.start_idle_behavior()\n",
    "    print('Goodbye')"
   ]
  },
  {
   "cell_type": "code",
   "execution_count": null,
   "metadata": {},
   "outputs": [],
   "source": []
  }
 ],
 "metadata": {
  "kernelspec": {
   "display_name": "Python 2",
   "language": "python",
   "name": "python2"
  },
  "language_info": {
   "codemirror_mode": {
    "name": "ipython",
    "version": 2
   },
   "file_extension": ".py",
   "mimetype": "text/x-python",
   "name": "python",
   "nbconvert_exporter": "python",
   "pygments_lexer": "ipython2",
   "version": "2.7.18"
  }
 },
 "nbformat": 4,
 "nbformat_minor": 2
}
