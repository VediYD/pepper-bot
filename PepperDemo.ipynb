{
 "cells": [
  {
   "cell_type": "markdown",
   "metadata": {},
   "source": [
    "# PepperOpenDayDemo"
   ]
  },
  {
   "cell_type": "markdown",
   "metadata": {},
   "source": [
    "## Environment Setup"
   ]
  },
  {
   "cell_type": "code",
   "execution_count": 1,
   "metadata": {},
   "outputs": [],
   "source": [
    "# built-in imports\n",
    "# !pip install requests\n",
    "# !pip install speechrecognition==3.8.1\n",
    "# !pip install paramiko\n",
    "# !pip install pandas\n",
    "# !pip install beautifulsoup4\n",
    "# !pip install pocketsphinx\n",
    "# !pip install scipy"
   ]
  },
  {
   "cell_type": "markdown",
   "metadata": {},
   "source": [
    "bumperDetector = ALProxy(\"ALTouch\", constants.PEPPER_HOST, constants.PEPPER_PORT)\n",
    "\n",
    "memory = ALProxy(\"ALMemory\", constants.PEPPER_HOST, constants.PEPPER_PORT)\n",
    "\n",
    "# bumperDetector.subscribe(\"Device/SubDeviceList/Platform/Back/Bumper/Sensor/Value\")\n",
    "\n",
    "\n",
    "\n",
    "touch = bumperDetector.subscriber(\"TouchChanged\")\n",
    "\n",
    "status = memory.getData(\"SoundDetected\")\n",
    "\n",
    "print(touch)\n",
    "\n",
    "print(status)\n",
    "\n",
    "\n",
    "\n",
    "self.touch.signal.connect(functools.partial(self.onTouched, \"TouchChanged\"))\n",
    "\n",
    "\n",
    "\n",
    "def onTouched():\n",
    "\n",
    "    print(\"touched\")"
   ]
  },
  {
   "cell_type": "markdown",
   "metadata": {},
   "source": [
    "bumperDetector = ALProxy(\"ALTouch\", PEPPER_HOST, PEPPER_PORT)"
   ]
  },
  {
   "cell_type": "markdown",
   "metadata": {},
   "source": [
    "touch = bumperDetector.session.subscribe(\"TouchChanged\")"
   ]
  },
  {
   "cell_type": "markdown",
   "metadata": {},
   "source": [
    "memory = ALProxy(\"ALMemory\", PEPPER_HOST, PEPPER_PORT)"
   ]
  },
  {
   "cell_type": "markdown",
   "metadata": {},
   "source": [
    "bumperDetector.session().service"
   ]
  },
  {
   "cell_type": "markdown",
   "metadata": {},
   "source": [
    "dir(bumperDetector.session())"
   ]
  },
  {
   "cell_type": "markdown",
   "metadata": {},
   "source": [
    "touch = memory.subscribeToEvent()"
   ]
  },
  {
   "cell_type": "markdown",
   "metadata": {},
   "source": [
    "dir(bumperDetector.session)"
   ]
  },
  {
   "cell_type": "code",
   "execution_count": 1,
   "metadata": {},
   "outputs": [
    {
     "name": "stderr",
     "output_type": "stream",
     "text": [
      "/usr/local/lib/python2.7/site-packages/paramiko/transport.py:33: CryptographyDeprecationWarning: Python 2 is no longer supported by the Python core team. Support for it is now deprecated in cryptography, and will be removed in the next release.\n",
      "  from cryptography.hazmat.backends import default_backend\n"
     ]
    }
   ],
   "source": [
    "### Naoqi Related Imports ###\n",
    "import naoqi\n",
    "from naoqi import qi\n",
    "from naoqi import ALProxy\n",
    "\n",
    "### System Related Imports ###\n",
    "import fileinput, os, shutil, sys, random, threading, time\n",
    "\n",
    "### Flask Related Imports ###\n",
    "import json, requests, time\n",
    "\n",
    "### Speech Recognition Imports ###\n",
    "import pandas as pd\n",
    "import paramiko\n",
    "import speech_recognition as sr"
   ]
  },
  {
   "cell_type": "code",
   "execution_count": 2,
   "metadata": {},
   "outputs": [],
   "source": [
    "from prompts import *\n",
    "import prompts\n",
    "from fileTransfer import *\n",
    "import fileTransfer as ft\n",
    "from displayGeneration import *\n",
    "import displayGeneration as dg\n",
    "from interactiveControls import *\n",
    "import interactiveControls as ic\n",
    "from idle import *\n",
    "import idle as idl\n",
    "from humanInteraction import *\n",
    "import humanInteraction as hi\n",
    "\n",
    "\n",
    "# ### Custom File Handing Imports ###\n",
    "# from fileTransfer import *\n",
    "\n",
    "# ### Custom Idle Behaviour Imports ###\n",
    "# from idle import *\n",
    "\n",
    "# ### Custom Page Display Imports ###\n",
    "# from displayGeneration import *\n",
    "\n",
    "# ### Custom Interaction, Behaviour and Display Imports ###\n",
    "# from interactiveControls import *\n",
    "\n",
    "# ### Custom Hard-Coded Prompt Imports ###\n",
    "# from prompts import *\n",
    "\n",
    "# ### Main Interaction Imports ###\n",
    "# from humanInteraction import *"
   ]
  },
  {
   "cell_type": "markdown",
   "metadata": {},
   "source": [
    "## Constants"
   ]
  },
  {
   "cell_type": "code",
   "execution_count": 3,
   "metadata": {},
   "outputs": [],
   "source": [
    "### Networking Constants ###\n",
    "GPT_HOST = \"10.104.23.208\"\n",
    "PEPPER_HOST = \"10.104.23.185\"\n",
    "GPT_PORT = 8891\n",
    "PEPPER_PORT = 9559\n",
    "\n",
    "### Audio Processing Constants ###\n",
    "PEPPER_RECORDINGS_PATH = \"/home/nao/microphones/recording.wav\"\n",
    "SERVER_RECORDINGS_PATH = \"recordings/recording.wav\"\n",
    "\n",
    "### Display Generation Constants ###\n",
    "FILE_NAME_TEMP = \"display.html\"\n",
    "PEPPER_HTML_PATH = \"/home/nao/.local/share/PackageManager/apps/robot-page/html/\"  # page.html\"\n",
    "PEPPER_PAGE_LANDING = PEPPER_HTML_PATH + \"page.html\" # '/home/nao/.local/share/PackageManager/apps/robot-page/html/page.html'\n",
    "PEPPER_QR_LANDING = PEPPER_HTML_PATH + \"webfiles/qr.png\"  # switched slash direction\n",
    "PEPPER_IMG_LANDING = PEPPER_HTML_PATH + \"webfiles/img.png\"  # switched slash direction\n",
    "TEXT_BY_ID_PATH = \"textbyID.csv\""
   ]
  },
  {
   "cell_type": "code",
   "execution_count": 4,
   "metadata": {},
   "outputs": [
    {
     "name": "stdout",
     "output_type": "stream",
     "text": [
      "copyfile successful\n",
      " <li> Bachelor of Artificial Intelligence </li>\n",
      " <li> Graduate Certificate of Artificial Intelligence </li>\n",
      " <li> Master of Data Science (Professional) </li>\n",
      " <li> Bachelor of Data Science </li>\n",
      " <li> Master of Data Science </li>\n",
      "\n",
      "text match found\n"
     ]
    },
    {
     "name": "stderr",
     "output_type": "stream",
     "text": [
      "displayGeneration.py:182: GuessedAtParserWarning: No parser was explicitly specified, so I'm using the best available HTML parser for this system (\"html.parser\"). This usually isn't a problem, but if you run this code on another system, or in a different virtual environment, it may use a different parser and behave differently.\n",
      "\n",
      "The code that caused this warning is on line 182 of the file displayGeneration.py. To get rid of this warning, pass the additional argument 'features=\"html.parser\"' to the BeautifulSoup constructor.\n",
      "\n",
      "  target.replace_with(BeautifulSoup(subText))\n"
     ]
    },
    {
     "name": "stdout",
     "output_type": "stream",
     "text": [
      "Sent to Pepper\n",
      "Sent to Pepper\n"
     ]
    },
    {
     "data": {
      "text/plain": [
       "False"
      ]
     },
     "execution_count": 4,
     "metadata": {},
     "output_type": "execute_result"
    }
   ],
   "source": [
    "postQueryCourseCodes('Can you tell me about courses related to AI and data science', [])"
   ]
  },
  {
   "cell_type": "code",
   "execution_count": 4,
   "metadata": {},
   "outputs": [
    {
     "name": "stdout",
     "output_type": "stream",
     "text": [
      "('The Master\\'s degree program \"Master of Applied Artificial Intelligence (Professional)\" is designed for individuals with a strong interest or background in artificial intelligence and its applications to software development.', 'S737')\n",
      "copyfile successful\n",
      "text match found\n",
      "text match found\n"
     ]
    },
    {
     "name": "stderr",
     "output_type": "stream",
     "text": [
      "displayGeneration.py:182: GuessedAtParserWarning: No parser was explicitly specified, so I'm using the best available HTML parser for this system (\"html.parser\"). This usually isn't a problem, but if you run this code on another system, or in a different virtual environment, it may use a different parser and behave differently.\n",
      "\n",
      "The code that caused this warning is on line 182 of the file displayGeneration.py. To get rid of this warning, pass the additional argument 'features=\"html.parser\"' to the BeautifulSoup constructor.\n",
      "\n",
      "  target.replace_with(BeautifulSoup(subText))\n"
     ]
    },
    {
     "name": "stdout",
     "output_type": "stream",
     "text": [
      "Sent to Pepper\n",
      "Sent to Pepper\n",
      "Sent to Pepper\n"
     ]
    },
    {
     "data": {
      "text/plain": [
       "False"
      ]
     },
     "execution_count": 4,
     "metadata": {},
     "output_type": "execute_result"
    }
   ],
   "source": [
    "postQuerySpecificCourse('Master of Applied Artificial Intelligence (Professional)', [], 0)"
   ]
  },
  {
   "cell_type": "markdown",
   "metadata": {},
   "source": [
    "## MAIN"
   ]
  },
  {
   "cell_type": "code",
   "execution_count": 16,
   "metadata": {},
   "outputs": [
    {
     "name": "stderr",
     "output_type": "stream",
     "text": [
      "Exception in thread Thread-66:\n",
      "Traceback (most recent call last):\n",
      "  File \"/usr/local/lib/python2.7/threading.py\", line 801, in __bootstrap_inner\n",
      "    self.run()\n",
      "  File \"/usr/local/lib/python2.7/threading.py\", line 754, in run\n",
      "    self.__target(*self.__args, **self.__kwargs)\n",
      "  File \"idle.py\", line 57, in idle_behavior_thread\n",
      "    self.behavior.runBehavior(behaviorName)\n",
      "  File \"/pynaoqi-python2.7-2.5.7.1-linux64/lib/python2.7/site-packages/naoqi.py\", line 194, in __call__\n",
      "    return self.__wrapped__.method_missing(self.__method__, *args, **kwargs)\n",
      "  File \"/pynaoqi-python2.7-2.5.7.1-linux64/lib/python2.7/site-packages/naoqi.py\", line 264, in method_missing\n",
      "    raise e\n",
      "RuntimeError: \tALBehaviorManager::runBehavior\n",
      "\t\tALBehaviorManager::startBehavior\n",
      "\tbehavior animations/Stand/Waiting/ScratchBottom_1 is already running.\n",
      "\n"
     ]
    },
    {
     "name": "stdout",
     "output_type": "stream",
     "text": [
      "copyfile successful\n",
      "Sent to Pepper\n",
      "0.370578885078\n",
      "Detect complete\n",
      "Recording is starting...\n",
      "copyfile successful\n",
      "Sent to Pepper\n",
      "Timer is reached\n",
      "Recording is stopping...\n",
      "Sent from Pepper\n",
      "('Listen complete, This is what I heard: ', u'tell me about architecture and Sciences')\n",
      "copyfile successful\n",
      "Sent to Pepper\n",
      "[u'S700', u'S342', u'D306']\n",
      "copyfile successful\n",
      " <li> Master of Architecture </li>\n",
      " <li> Bachelor of Design (Architecture) </li>\n",
      " <li> Bachelor of Design (Architecture)/ Master of Architecture </li>\n",
      "\n",
      "text match found\n",
      "Sent to Pepper\n",
      "Sent to Pepper\n",
      "Recording is starting...\n",
      "copyfile successful\n",
      "Sent to Pepper\n",
      "Timer is reached\n",
      "Recording is stopping...\n",
      "Sent from Pepper\n",
      "('Listen complete, This is what I heard: ', u'tell me about Bachelor of design architecture')\n",
      "('The Bachelor of Design (Architecture) program at Deakin University is designed to help students develop their creative skills while gaining practical knowledge about the built environment and its impact on society through sustainable design projects such as houses or high-rise buildings in a studio setting. The curriculum includes courses like Computer Aided Drafting, Drawing & Digital Fabrication for work-ready skill development with 3D printers, laser cutters, CNC routers, traditional tools/machinery to fabricate models and experiment technology materials processes while producing design concepts that explore architectural history philosophy building science the environment construction technologies computer aided modelling drawing process model making digital fabrication. The program also offers an integrated learning approach where students collaborate with other courses such as Construction Management during their coursework in a purpose-built workshop equipped for 3D printers, laser cutters and CNC routers to fabricate models while experimenting technology materials processes ensuring practical experience that employers value upon graduation.', 'S342')\n",
      "copyfile successful\n",
      "text match found\n",
      "text match found\n",
      "Sent to Pepper\n",
      "Sent to Pepper\n",
      "Sent to Pepper\n",
      "threads can only be started once\n",
      "Goodbye\n"
     ]
    }
   ],
   "source": [
    "global idle\n",
    "global responsesPipeline\n",
    "global eyes\n",
    "\n",
    "idle = idling()\n",
    "eyes = EyesController()\n",
    "eyes.startEyes(\"neutral\")\n",
    "\n",
    "try:\n",
    "    track_head()\n",
    "    repeat = True\n",
    "\n",
    "    while True:\n",
    "        # Empty sentences list\n",
    "        responsesPipeline = []\n",
    "        \n",
    "        # Idle behaviors to keep peppers temperature low\n",
    "        idle.start_idle_behavior()\n",
    "\n",
    "        # trigger smart listen\n",
    "        detect()\n",
    "        idle.stop()\n",
    "        \n",
    "        # get course codes relevant to this\n",
    "        # if query search is not successful, try the query search again until it is successful\n",
    "        while repeat:\n",
    "            query = listen()\n",
    "            repeat = queryCourseCodes(query, responsesPipeline, eyes)\n",
    "        \n",
    "        #take a pause here for users to read the tablet\n",
    "        time.sleep(5)\n",
    "        \n",
    "        #ask if they need specific details about a course\n",
    "        repeat = True\n",
    "        rcount = 0\n",
    "        while repeat:\n",
    "            query = listen()\n",
    "            repeat = querySpecificCourse(query, responsesPipeline, eyes, rcount)\n",
    "            rcount += 1\n",
    "        \n",
    "except Exception as e:\n",
    "    print(e)\n",
    "finally:\n",
    "    stopListening()\n",
    "    return_to_default_pos()\n",
    "    idle = idling() \n",
    "    idle.start_idle_behavior()\n",
    "    print('Goodbye')"
   ]
  },
  {
   "cell_type": "code",
   "execution_count": null,
   "metadata": {},
   "outputs": [],
   "source": []
  }
 ],
 "metadata": {
  "kernelspec": {
   "display_name": "Python 2",
   "language": "python",
   "name": "python2"
  },
  "language_info": {
   "codemirror_mode": {
    "name": "ipython",
    "version": 2
   },
   "file_extension": ".py",
   "mimetype": "text/x-python",
   "name": "python",
   "nbconvert_exporter": "python",
   "pygments_lexer": "ipython2",
   "version": "2.7.18"
  }
 },
 "nbformat": 4,
 "nbformat_minor": 2
}
