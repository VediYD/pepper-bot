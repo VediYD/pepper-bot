{
 "cells": [
  {
   "cell_type": "markdown",
   "metadata": {},
   "source": [
    "# PepperOpenDayDemo"
   ]
  },
  {
   "cell_type": "markdown",
   "metadata": {},
   "source": [
    "## Environment Setup"
   ]
  },
  {
   "cell_type": "code",
   "execution_count": 1,
   "metadata": {},
   "outputs": [],
   "source": [
    "# built-in imports\n",
    "# !pip install requests\n",
    "# !pip install speechrecognition==3.8.1\n",
    "# !pip install paramiko\n",
    "# !pip install pandas\n",
    "# !pip install beautifulsoup4\n",
    "# !pip install pocketsphinx\n",
    "# !pip install scipy"
   ]
  },
  {
   "cell_type": "code",
   "execution_count": 3,
   "metadata": {},
   "outputs": [
    {
     "ename": "RuntimeError",
     "evalue": "System error: Connection refused",
     "output_type": "error",
     "traceback": [
      "\u001b[0;31m\u001b[0m",
      "\u001b[0;31mRuntimeError\u001b[0mTraceback (most recent call last)",
      "\u001b[0;32m<ipython-input-3-4b7d6f37002b>\u001b[0m in \u001b[0;36m<module>\u001b[0;34m()\u001b[0m\n\u001b[1;32m     17\u001b[0m \u001b[0;32mfrom\u001b[0m \u001b[0mchatflow\u001b[0m \u001b[0;32mimport\u001b[0m \u001b[0mconvFlow\u001b[0m\u001b[0;34m\u001b[0m\u001b[0m\n\u001b[1;32m     18\u001b[0m \u001b[0;34m\u001b[0m\u001b[0m\n\u001b[0;32m---> 19\u001b[0;31m \u001b[0;32mfrom\u001b[0m \u001b[0mbehaviorManager\u001b[0m \u001b[0;32mimport\u001b[0m \u001b[0mlaunchAndStopBehavior\u001b[0m\u001b[0;34m,\u001b[0m \u001b[0mservice\u001b[0m\u001b[0;34m\u001b[0m\u001b[0m\n\u001b[0m",
      "\u001b[0;32m/app/behaviorManager.py\u001b[0m in \u001b[0;36m<module>\u001b[0;34m()\u001b[0m\n\u001b[1;32m     25\u001b[0m \u001b[0;34m\u001b[0m\u001b[0m\n\u001b[1;32m     26\u001b[0m \u001b[0msession\u001b[0m \u001b[0;34m=\u001b[0m \u001b[0mqi\u001b[0m\u001b[0;34m.\u001b[0m\u001b[0mSession\u001b[0m\u001b[0;34m(\u001b[0m\u001b[0;34m)\u001b[0m\u001b[0;34m\u001b[0m\u001b[0m\n\u001b[0;32m---> 27\u001b[0;31m \u001b[0msession\u001b[0m\u001b[0;34m.\u001b[0m\u001b[0mconnect\u001b[0m\u001b[0;34m(\u001b[0m\u001b[0;34m\"tcp://\"\u001b[0m \u001b[0;34m+\u001b[0m \u001b[0mip\u001b[0m \u001b[0;34m+\u001b[0m \u001b[0;34m\":\"\u001b[0m \u001b[0;34m+\u001b[0m \u001b[0mport\u001b[0m\u001b[0;34m)\u001b[0m\u001b[0;34m\u001b[0m\u001b[0m\n\u001b[0m\u001b[1;32m     28\u001b[0m \u001b[0mservice\u001b[0m \u001b[0;34m=\u001b[0m \u001b[0msession\u001b[0m\u001b[0;34m.\u001b[0m\u001b[0mservice\u001b[0m\u001b[0;34m(\u001b[0m\u001b[0;34m\"ALBehaviorManager\"\u001b[0m\u001b[0;34m)\u001b[0m\u001b[0;34m\u001b[0m\u001b[0m\n\u001b[1;32m     29\u001b[0m \u001b[0;31m# getBehaviors(service)\u001b[0m\u001b[0;34m\u001b[0m\u001b[0;34m\u001b[0m\u001b[0m\n",
      "\u001b[0;31mRuntimeError\u001b[0m: System error: Connection refused"
     ]
    }
   ],
   "source": [
    "from traceback import format_exc\n",
    "from time      import sleep\n",
    "\n",
    "from idle import idling\n",
    "\n",
    "from interactiveControls import EyesController\n",
    "from interactiveControls import track_head\n",
    "from interactiveControls import return_to_default_pos\n",
    "\n",
    "from humanInteraction import detect\n",
    "from humanInteraction import listen\n",
    "from humanInteraction import speak\n",
    "from humanInteraction import faceTracker\n",
    "from humanInteraction import processQuery\n",
    "from humanInteraction import stopListening\n",
    "from humanInteraction import promptForNextQuery\n",
    "from humanInteraction import sayGoodbye\n",
    "\n",
    "# from chatflow import convInit, convFlow\n",
    "\n",
    "from behaviorManager import launchAndStopBehavior, service"
   ]
  },
  {
   "cell_type": "markdown",
   "metadata": {},
   "source": [
    "## Constants"
   ]
  },
  {
   "cell_type": "code",
   "execution_count": null,
   "metadata": {},
   "outputs": [],
   "source": [
    "### Networking Constants ###\n",
    "GPT_HOST = \"10.104.23.208\"\n",
    "PEPPER_HOST = \"10.104.23.185\"\n",
    "GPT_PORT = 8891\n",
    "PEPPER_PORT = 9559\n",
    "\n",
    "### Audio Processing Constants ###\n",
    "PEPPER_RECORDINGS_PATH = \"/home/nao/microphones/recording.wav\"\n",
    "SERVER_RECORDINGS_PATH = \"recordings/recording.wav\"\n",
    "\n",
    "### Display Generation Constants ###\n",
    "FILE_NAME_TEMP = \"display.html\"\n",
    "PEPPER_HTML_PATH = \"/home/nao/.local/share/PackageManager/apps/robot-page/html/\"  # page.html\"\n",
    "PEPPER_PAGE_LANDING = PEPPER_HTML_PATH + \"page.html\" # '/home/nao/.local/share/PackageManager/apps/robot-page/html/page.html'\n",
    "PEPPER_QR_LANDING = PEPPER_HTML_PATH + \"webfiles/qr.png\"  # switched slash direction\n",
    "PEPPER_IMG_LANDING = PEPPER_HTML_PATH + \"webfiles/img.png\"  # switched slash direction\n",
    "TEXT_BY_ID_PATH = \"textbyID.csv\""
   ]
  },
  {
   "cell_type": "markdown",
   "metadata": {},
   "source": [
    "# Choregraph Behavior"
   ]
  },
  {
   "cell_type": "code",
   "execution_count": null,
   "metadata": {},
   "outputs": [],
   "source": [
    "### Guitar Behaviour ###\n",
    "launchAndStopBehavior(service, '.lastUploadedChoregrapheBehavior/behavior_1')"
   ]
  },
  {
   "cell_type": "markdown",
   "metadata": {},
   "source": [
    "## MAIN"
   ]
  },
  {
   "cell_type": "code",
   "execution_count": null,
   "metadata": {},
   "outputs": [],
   "source": [
    "global idle\n",
    "global responsesPipeline\n",
    "global eyes\n",
    "\n",
    "idle = idling()\n",
    "eyes = EyesController()\n",
    "eyes.startEyes(\"neutral\")\n",
    "\n",
    "try:\n",
    "    track_head()\n",
    "\n",
    "    while True:\n",
    "        # Empty sentences list\n",
    "        responsesPipeline = []\n",
    "        \n",
    "        # Idle behaviors to keep peppers temperature low\n",
    "        idle.start_idle_behavior()\n",
    "\n",
    "        # trigger smart listen\n",
    "        detect(idle)\n",
    "        faceTracker()\n",
    "        # confusionCount = 0 # confusion level: number of times Pepper repeats herself and requests clarification\n",
    "        state = {\"topic\": \"fresh\", \"confusion\": 0, \"repeat\": True, \"confident\": False}\n",
    "        inConversation = True\n",
    "        queryCount = 0\n",
    "\n",
    "        while inConversation:\n",
    "\n",
    "            while state[\"repeat\"]:\n",
    "                idle.stop()\n",
    "                query = listen(eyes)\n",
    "            \n",
    "                state = processQuery(query, responsesPipeline, eyes, state)\n",
    "                if state[\"confusion\"] > 3:\n",
    "                    state[\"repeat\"] = False\n",
    "                    inConversation = False\n",
    "                    raise Exception(\"tooHot\")\n",
    "            \n",
    "            # if not repeat, pause to read the tablet?\n",
    "            sleep(5)\n",
    "\n",
    "            queryCount += 1 \n",
    "            if queryCount > 3:\n",
    "                inConversation = False\n",
    "                sayGoodbye()\n",
    "                break\n",
    "            elif state[\"topic\"] != \"Cour\":\n",
    "                promptForNextQuery() # Pepper asks if there are any other questions\n",
    "                # prompt is not needed for \"Cour\", is embedded in the text         \n",
    "                \n",
    "            # then set repeat to True to enter the next While loop\n",
    "            state[\"repeat\"] = True\n",
    "            # conversation reloops\n",
    "\n",
    "        # after conversation ends, wait for a bit to reset \n",
    "        sleep(2)\n",
    "        return_to_default_pos()\n",
    "        sleep(10)\n",
    "        \n",
    "        continue\n",
    "except Exception as e:\n",
    "    print(e)\n",
    "    print(format_exc())\n",
    "finally:\n",
    "    stopListening()\n",
    "    return_to_default_pos()\n",
    "    idle.start_idle_behavior()\n",
    "    print('Goodbye')"
   ]
  },
  {
   "cell_type": "code",
   "execution_count": null,
   "metadata": {},
   "outputs": [],
   "source": []
  }
 ],
 "metadata": {
  "kernelspec": {
   "display_name": "Python 2",
   "language": "python",
   "name": "python2"
  },
  "language_info": {
   "codemirror_mode": {
    "name": "ipython",
    "version": 2
   },
   "file_extension": ".py",
   "mimetype": "text/x-python",
   "name": "python",
   "nbconvert_exporter": "python",
   "pygments_lexer": "ipython2",
   "version": "2.7.18"
  }
 },
 "nbformat": 4,
 "nbformat_minor": 2
}
