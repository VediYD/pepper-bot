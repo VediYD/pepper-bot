{
 "cells": [
  {
   "cell_type": "markdown",
   "metadata": {},
   "source": [
    "# PepperOpenDayDemo"
   ]
  },
  {
   "cell_type": "markdown",
   "metadata": {},
   "source": [
    "## Environment Setup"
   ]
  },
  {
   "cell_type": "code",
   "execution_count": 1,
   "metadata": {},
   "outputs": [],
   "source": [
    "# built-in imports\n",
    "# !pip install requests\n",
    "# !pip install speechrecognition==3.8.1\n",
    "# !pip install paramiko\n",
    "# !pip install pandas\n",
    "# !pip install beautifulsoup4\n",
    "# !pip install pocketsphinx\n",
    "# !pip install scipy"
   ]
  },
  {
   "cell_type": "markdown",
   "metadata": {},
   "source": [
    "bumperDetector = ALProxy(\"ALTouch\", constants.PEPPER_HOST, constants.PEPPER_PORT)\n",
    "\n",
    "memory = ALProxy(\"ALMemory\", constants.PEPPER_HOST, constants.PEPPER_PORT)\n",
    "\n",
    "# bumperDetector.subscribe(\"Device/SubDeviceList/Platform/Back/Bumper/Sensor/Value\")\n",
    "\n",
    "\n",
    "\n",
    "touch = bumperDetector.subscriber(\"TouchChanged\")\n",
    "\n",
    "status = memory.getData(\"SoundDetected\")\n",
    "\n",
    "print(touch)\n",
    "\n",
    "print(status)\n",
    "\n",
    "\n",
    "\n",
    "self.touch.signal.connect(functools.partial(self.onTouched, \"TouchChanged\"))\n",
    "\n",
    "\n",
    "\n",
    "def onTouched():\n",
    "\n",
    "    print(\"touched\")"
   ]
  },
  {
   "cell_type": "markdown",
   "metadata": {},
   "source": [
    "bumperDetector = ALProxy(\"ALTouch\", PEPPER_HOST, PEPPER_PORT)"
   ]
  },
  {
   "cell_type": "markdown",
   "metadata": {},
   "source": [
    "touch = bumperDetector.session.subscribe(\"TouchChanged\")"
   ]
  },
  {
   "cell_type": "markdown",
   "metadata": {},
   "source": [
    "memory = ALProxy(\"ALMemory\", PEPPER_HOST, PEPPER_PORT)"
   ]
  },
  {
   "cell_type": "markdown",
   "metadata": {},
   "source": [
    "bumperDetector.session().service"
   ]
  },
  {
   "cell_type": "markdown",
   "metadata": {},
   "source": [
    "dir(bumperDetector.session())"
   ]
  },
  {
   "cell_type": "markdown",
   "metadata": {},
   "source": [
    "touch = memory.subscribeToEvent()"
   ]
  },
  {
   "cell_type": "markdown",
   "metadata": {},
   "source": [
    "dir(bumperDetector.session)"
   ]
  },
  {
   "cell_type": "code",
   "execution_count": 1,
   "metadata": {},
   "outputs": [
    {
     "name": "stderr",
     "output_type": "stream",
     "text": [
      "/usr/local/lib/python2.7/site-packages/paramiko/transport.py:33: CryptographyDeprecationWarning: Python 2 is no longer supported by the Python core team. Support for it is now deprecated in cryptography, and will be removed in the next release.\n",
      "  from cryptography.hazmat.backends import default_backend\n"
     ]
    }
   ],
   "source": [
    "### Naoqi Related Imports ###\n",
    "import naoqi\n",
    "from naoqi import qi\n",
    "from naoqi import ALProxy\n",
    "\n",
    "### System Related Imports ###\n",
    "import fileinput, os, shutil, sys, random, threading, time\n",
    "\n",
    "### Flask Related Imports ###\n",
    "import json, requests, time\n",
    "\n",
    "### Speech Recognition Imports ###\n",
    "import pandas as pd\n",
    "import paramiko\n",
    "import speech_recognition as sr"
   ]
  },
  {
   "cell_type": "code",
   "execution_count": 2,
   "metadata": {},
   "outputs": [],
   "source": [
    "from prompts import *\n",
    "import prompts\n",
    "from fileTransfer import *\n",
    "import fileTransfer as ft\n",
    "from displayGeneration import *\n",
    "import displayGeneration as dg\n",
    "from interactiveControls import *\n",
    "import interactiveControls as ic\n",
    "from idle import *\n",
    "import idle as idl\n",
    "from humanInteraction import *\n",
    "import humanInteraction as hi\n",
    "\n",
    "\n",
    "# ### Custom File Handing Imports ###\n",
    "# from fileTransfer import *\n",
    "\n",
    "# ### Custom Idle Behaviour Imports ###\n",
    "# from idle import *\n",
    "\n",
    "# ### Custom Page Display Imports ###\n",
    "# from displayGeneration import *\n",
    "\n",
    "# ### Custom Interaction, Behaviour and Display Imports ###\n",
    "# from interactiveControls import *\n",
    "\n",
    "# ### Custom Hard-Coded Prompt Imports ###\n",
    "# from prompts import *\n",
    "\n",
    "# ### Main Interaction Imports ###\n",
    "# from humanInteraction import *"
   ]
  },
  {
   "cell_type": "markdown",
   "metadata": {},
   "source": [
    "## Constants"
   ]
  },
  {
   "cell_type": "code",
   "execution_count": 3,
   "metadata": {},
   "outputs": [],
   "source": [
    "### Networking Constants ###\n",
    "GPT_HOST = \"10.104.23.208\"\n",
    "PEPPER_HOST = \"10.104.23.185\"\n",
    "GPT_PORT = 8891\n",
    "PEPPER_PORT = 9559\n",
    "\n",
    "### Audio Processing Constants ###\n",
    "PEPPER_RECORDINGS_PATH = \"/home/nao/microphones/recording.wav\"\n",
    "SERVER_RECORDINGS_PATH = \"recordings/recording.wav\"\n",
    "\n",
    "### Display Generation Constants ###\n",
    "FILE_NAME_TEMP = \"display.html\"\n",
    "PEPPER_HTML_PATH = \"/home/nao/.local/share/PackageManager/apps/robot-page/html/\"  # page.html\"\n",
    "PEPPER_PAGE_LANDING = PEPPER_HTML_PATH + \"page.html\" # '/home/nao/.local/share/PackageManager/apps/robot-page/html/page.html'\n",
    "PEPPER_QR_LANDING = PEPPER_HTML_PATH + \"webfiles/qr.png\"  # switched slash direction\n",
    "PEPPER_IMG_LANDING = PEPPER_HTML_PATH + \"webfiles/img.png\"  # switched slash direction\n",
    "TEXT_BY_ID_PATH = \"textbyID.csv\""
   ]
  },
  {
   "cell_type": "markdown",
   "metadata": {},
   "source": [
    "## MAIN"
   ]
  },
  {
   "cell_type": "code",
   "execution_count": null,
   "metadata": {},
   "outputs": [
    {
     "name": "stdout",
     "output_type": "stream",
     "text": [
      "copyfile successful\n",
      "Sent to Pepper\n",
      "0.782339334488\n",
      "Detect complete\n",
      "Recording is starting...\n",
      "copyfile successful\n",
      "Sent to Pepper\n",
      "Timer is reached\n",
      "Recording is stopping...\n",
      "Sent from Pepper\n",
      "[   40    20     0 ... -1250 -1465 -1740]\n",
      "<type 'numpy.ndarray'>\n",
      "Saved noise reduced audio file to recordings/rn_recording.wav\n",
      "\n",
      "('Listen complete, This is what I heard: ', '%low_volume_error%')\n",
      "copyfile successful\n",
      "Sent to Pepper\n",
      "Low volume error reached\n",
      "Recording is starting...\n",
      "copyfile successful\n",
      "Sent to Pepper\n",
      "Timer is reached\n",
      "Recording is stopping...\n",
      "Sent from Pepper\n",
      "[   -60    -95   -125 ... -12265  -4005   3385]\n",
      "<type 'numpy.ndarray'>\n",
      "Saved noise reduced audio file to recordings/rn_recording.wav\n",
      "('Listen complete, This is what I heard: ', u'hey can you tell me about artificial intelligence')\n",
      "copyfile successful\n",
      "Sent to Pepper\n",
      "copyfile successful\n",
      " <li> Bachelor of Artificial Intelligence </li>\n",
      " <li> Master of Applied Artificial Intelligence (Professional) </li>\n",
      " <li> Master of Applied Artificial Intelligence </li>\n",
      "\n",
      "text match found\n"
     ]
    },
    {
     "name": "stderr",
     "output_type": "stream",
     "text": [
      "displayGeneration.py:182: GuessedAtParserWarning: No parser was explicitly specified, so I'm using the best available HTML parser for this system (\"html.parser\"). This usually isn't a problem, but if you run this code on another system, or in a different virtual environment, it may use a different parser and behave differently.\n",
      "\n",
      "The code that caused this warning is on line 182 of the file displayGeneration.py. To get rid of this warning, pass the additional argument 'features=\"html.parser\"' to the BeautifulSoup constructor.\n",
      "\n",
      "  target.replace_with(BeautifulSoup(subText))\n"
     ]
    },
    {
     "name": "stdout",
     "output_type": "stream",
     "text": [
      "Sent to Pepper\n",
      "Sent to Pepper\n",
      "Recording is starting...\n",
      "copyfile successful\n",
      "Sent to Pepper\n",
      "Timer is reached\n",
      "Recording is stopping...\n",
      "Sent from Pepper\n",
      "[ -500  -750 -1010 ...  1920  2415  2150]\n",
      "<type 'numpy.ndarray'>\n",
      "Saved noise reduced audio file to recordings/rn_recording.wav\n",
      "('Listen complete, This is what I heard: ', u'smallest tomorrow')\n",
      "('', '')\n",
      "Recording is starting...\n",
      "copyfile successful\n",
      "Sent to Pepper\n",
      "Timer is reached\n",
      "Recording is stopping...\n",
      "Sent from Pepper\n",
      "[-105 -105 -100 ... -130  580  845]\n",
      "<type 'numpy.ndarray'>\n",
      "Saved noise reduced audio file to recordings/rn_recording.wav\n",
      "\n",
      "('Listen complete, This is what I heard: ', '%low_volume_error%')\n",
      "Low volume error reached\n",
      "Recording is starting...\n",
      "copyfile successful\n",
      "Sent to Pepper\n",
      "Timer is reached\n",
      "Recording is stopping...\n",
      "Sent from Pepper\n",
      "[ -15  -15  -10 ... 1840 2145 2245]\n",
      "<type 'numpy.ndarray'>\n",
      "Saved noise reduced audio file to recordings/rn_recording.wav\n",
      "\n",
      "('Listen complete, This is what I heard: ', '%low_volume_error%')\n",
      "Low volume error reached\n",
      "Recording is starting...\n",
      "copyfile successful\n",
      "Sent to Pepper\n",
      "Timer is reached\n",
      "Recording is stopping...\n",
      "Sent from Pepper\n",
      "[   0    0    0 ... 1245  695 1045]\n",
      "<type 'numpy.ndarray'>\n",
      "Saved noise reduced audio file to recordings/rn_recording.wav\n",
      "\n",
      "('Listen complete, This is what I heard: ', '%low_volume_error%')\n",
      "Low volume error reached\n",
      "Recording is starting...\n",
      "copyfile successful\n",
      "Sent to Pepper\n"
     ]
    }
   ],
   "source": [
    "global idle\n",
    "global responsesPipeline\n",
    "global eyes\n",
    "\n",
    "idle = idling()\n",
    "eyes = EyesController()\n",
    "eyes.startEyes(\"neutral\")\n",
    "\n",
    "try:\n",
    "    track_head()\n",
    "\n",
    "    while True:\n",
    "        # Empty sentences list\n",
    "        responsesPipeline = []\n",
    "        \n",
    "        # Idle behaviors to keep peppers temperature low\n",
    "        idle.start_idle_behavior()\n",
    "\n",
    "        # trigger smart listen\n",
    "        detect()\n",
    "        idle.stop()\n",
    "        faceTracker()\n",
    "        \n",
    "        repeat = True\n",
    "        rcount = 0\n",
    "        # get course codes relevant to this\n",
    "        # if query search is not successful, try the query search again until it is successful\n",
    "        while (repeat and (rcount<4)):\n",
    "            query = listen()\n",
    "            repeat = queryCourseCodes(query, responsesPipeline, eyes)\n",
    "            rcount += 1\n",
    "            \n",
    "        if (rcount>=4):\n",
    "            continue\n",
    "        \n",
    "        #take a pause here for users to read the tablet\n",
    "        time.sleep(5)\n",
    "        \n",
    "        #ask if they need specific details about a course\n",
    "        repeat = True\n",
    "        rcount = 0\n",
    "        while repeat:\n",
    "            query = listen()\n",
    "            repeat = querySpecificCourse(query, responsesPipeline, eyes, rcount)\n",
    "            rcount += 1\n",
    "        \n",
    "except Exception as e:\n",
    "    print(e)\n",
    "finally:\n",
    "    stopListening()\n",
    "    return_to_default_pos()\n",
    "    idle = idling() \n",
    "    idle.start_idle_behavior()\n",
    "    print('Goodbye')"
   ]
  },
  {
   "cell_type": "code",
   "execution_count": null,
   "metadata": {},
   "outputs": [],
   "source": []
  },
  {
   "cell_type": "code",
   "execution_count": null,
   "metadata": {},
   "outputs": [],
   "source": []
  }
 ],
 "metadata": {
  "kernelspec": {
   "display_name": "Python 2",
   "language": "python",
   "name": "python2"
  },
  "language_info": {
   "codemirror_mode": {
    "name": "ipython",
    "version": 2
   },
   "file_extension": ".py",
   "mimetype": "text/x-python",
   "name": "python",
   "nbconvert_exporter": "python",
   "pygments_lexer": "ipython2",
   "version": "2.7.18"
  }
 },
 "nbformat": 4,
 "nbformat_minor": 2
}
