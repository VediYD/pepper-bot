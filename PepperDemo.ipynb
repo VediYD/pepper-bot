{
 "cells": [
  {
   "cell_type": "markdown",
   "metadata": {},
   "source": [
    "# PepperOpenDayDemo"
   ]
  },
  {
   "cell_type": "markdown",
   "metadata": {},
   "source": [
    "## Environment Setup"
   ]
  },
  {
   "cell_type": "code",
   "execution_count": 1,
   "metadata": {},
   "outputs": [],
   "source": [
    "# built-in imports\n",
    "# !pip install requests\n",
    "# !pip install speechrecognition==3.8.1\n",
    "# !pip install paramiko\n",
    "# !pip install pandas\n",
    "# !pip install beautifulsoup4\n",
    "# !pip install pocketsphinx"
   ]
  },
  {
   "cell_type": "code",
   "execution_count": 1,
   "metadata": {},
   "outputs": [
    {
     "name": "stderr",
     "output_type": "stream",
     "text": [
      "/usr/local/lib/python2.7/site-packages/paramiko/transport.py:33: CryptographyDeprecationWarning: Python 2 is no longer supported by the Python core team. Support for it is now deprecated in cryptography, and will be removed in the next release.\n",
      "  from cryptography.hazmat.backends import default_backend\n"
     ]
    }
   ],
   "source": [
    "### Naoqi Related Imports ###\n",
    "import naoqi\n",
    "from naoqi import qi\n",
    "from naoqi import ALProxy\n",
    "\n",
    "### System Related Imports ###\n",
    "import fileinput, os, shutil, sys, random, threading, time\n",
    "\n",
    "### Flask Related Imports ###\n",
    "import json, requests\n",
    "\n",
    "### Speech Recognition Imports ###\n",
    "import pandas as pd\n",
    "import paramiko\n",
    "import speech_recognition as sr"
   ]
  },
  {
   "cell_type": "code",
   "execution_count": 2,
   "metadata": {},
   "outputs": [],
   "source": [
    "from prompts import *\n",
    "import prompts\n",
    "from fileTransfer import *\n",
    "import fileTransfer as ft\n",
    "from displayGeneration import *\n",
    "import displayGeneration as dg\n",
    "from interactiveControls import *\n",
    "import interactiveControls as ic\n",
    "from idle import *\n",
    "import idle as idl\n",
    "from humanInteraction import *\n",
    "import humanInteraction as hi\n",
    "\n",
    "\n",
    "# ### Custom File Handing Imports ###\n",
    "# from fileTransfer import *\n",
    "\n",
    "# ### Custom Idle Behaviour Imports ###\n",
    "# from idle import *\n",
    "\n",
    "# ### Custom Page Display Imports ###\n",
    "# from displayGeneration import *\n",
    "\n",
    "# ### Custom Interaction, Behaviour and Display Imports ###\n",
    "# from interactiveControls import *\n",
    "\n",
    "# ### Custom Hard-Coded Prompt Imports ###\n",
    "# from prompts import *\n",
    "\n",
    "# ### Main Interaction Imports ###\n",
    "# from humanInteraction import *"
   ]
  },
  {
   "cell_type": "markdown",
   "metadata": {},
   "source": [
    "## Constants"
   ]
  },
  {
   "cell_type": "code",
   "execution_count": 3,
   "metadata": {},
   "outputs": [],
   "source": [
    "### Networking Constants ###\n",
    "GPT_HOST = \"10.104.23.208\"\n",
    "PEPPER_HOST = \"10.104.23.185\"\n",
    "GPT_PORT = 8891\n",
    "PEPPER_PORT = 9559\n",
    "\n",
    "### Audio Processing Constants ###\n",
    "PEPPER_RECORDINGS_PATH = \"/home/nao/microphones/recording.wav\"\n",
    "SERVER_RECORDINGS_PATH = \"recordings/recording.wav\"\n",
    "\n",
    "### Display Generation Constants ###\n",
    "FILE_NAME_TEMP = \"display.html\"\n",
    "PEPPER_HTML_PATH = \"/home/nao/.local/share/PackageManager/apps/robot-page/html/\"  # page.html\"\n",
    "PEPPER_PAGE_LANDING = PEPPER_HTML_PATH + \"page.html\" # '/home/nao/.local/share/PackageManager/apps/robot-page/html/page.html'\n",
    "PEPPER_QR_LANDING = PEPPER_HTML_PATH + \"webfiles/qr.png\"  # switched slash direction\n",
    "PEPPER_IMG_LANDING = PEPPER_HTML_PATH + \"webfiles/img.png\"  # switched slash direction\n",
    "TEXT_BY_ID_PATH = \"textbyID.csv\""
   ]
  },
  {
   "cell_type": "markdown",
   "metadata": {},
   "source": [
    "## MAIN"
   ]
  },
  {
   "cell_type": "code",
   "execution_count": 5,
   "metadata": {},
   "outputs": [
    {
     "name": "stdout",
     "output_type": "stream",
     "text": [
      "copyfile successful\n",
      "Sent to Pepper\n",
      "0.466121554375\n",
      "Detect complete\n",
      "Recording is starting...\n",
      "Timer is reached\n",
      "Recording is stopping...\n",
      "Sent from Pepper\n",
      "('Listen complete, This is what I heard: ', u'courses related to artificial intelligence and designs')\n",
      "copyfile successful\n",
      "Sent to Pepper\n",
      "Recording is starting...\n",
      "Timer is reached\n",
      "Recording is stopping...\n",
      "Sent from Pepper\n",
      "('Listen complete, This is what I heard: ', u'master of applied artificial intelligence professional')\n",
      "copyfile successful\n",
      "Sent to Pepper\n",
      "threads can only be started once\n",
      "Goodbye\n"
     ]
    }
   ],
   "source": [
    "global idle\n",
    "global responsesPipeline\n",
    "global eyes\n",
    "\n",
    "idle = idling()\n",
    "eyes = eyesController()\n",
    "\n",
    "try:\n",
    "    track_head()\n",
    "    repeat = True\n",
    "\n",
    "    while True:\n",
    "        # Empty sentences list\n",
    "        responsesPipeline = []\n",
    "        \n",
    "        # Idle behaviors to keep peppers temperature low\n",
    "        idle.start_idle_behavior()\n",
    "\n",
    "        # trigger smart listen\n",
    "        detect()\n",
    "        idle.stop()\n",
    "        \n",
    "        ## If speech detected record up to 15 seconds of audio\n",
    "        query = listen()\n",
    "        repeat = queryCourseCodes(query, responsesPipeline, eyes)\n",
    "        \n",
    "        # get course codes relevant to this\n",
    "        while repeat:\n",
    "            query = listen()\n",
    "            repeat = queryCourseCodes(query, responsesPipeline, eyes)\n",
    "            \n",
    "        #ask if they need specific details about a course\n",
    "        repeat = True\n",
    "        rcount = 0\n",
    "        while repeat:\n",
    "            query = listen()\n",
    "            repeat = querySpecificCourse(query, responsesPipeline, eyes, rcount)\n",
    "            rcount += 1\n",
    "\n",
    "        # get gpt response\n",
    "        # think(query, responsesPipeline, eyes)\n",
    "        \n",
    "except Exception as e:\n",
    "    print(e)\n",
    "finally:\n",
    "    stopListening()\n",
    "    return_to_default_pos()\n",
    "    idle = idling()\n",
    "    idle.start_idle_behavior()\n",
    "    print('Goodbye')"
   ]
  },
  {
   "cell_type": "code",
   "execution_count": null,
   "metadata": {},
   "outputs": [],
   "source": [
    "\n",
    "# ic.showWhichPage(\"loading\")\n",
    "# ic.showWhichPage(\"Cacc\")\n",
    "# ic.showWhichPage(\"Cour\")\n",
    "# ic.showWhichPage(\"Cstu\")\n",
    "# ic.showWhichPage(\"Cwel\")\n",
    "# ic.showWhichPage(\"Club\")\n",
    "\n",
    "dg.generateBasicQRPage(\"D310\")\n",
    "showPage()"
   ]
  },
  {
   "cell_type": "code",
   "execution_count": null,
   "metadata": {},
   "outputs": [
    {
     "name": "stdout",
     "output_type": "stream",
     "text": [
      "copyfile successful\n",
      "Sent to Pepper\n"
     ]
    }
   ],
   "source": [
    "\n",
    "ic.showWhichPage(\"loading\")\n"
   ]
  }
 ],
 "metadata": {
  "kernelspec": {
   "display_name": "Python 2",
   "language": "python",
   "name": "python2"
  },
  "language_info": {
   "codemirror_mode": {
    "name": "ipython",
    "version": 2
   },
   "file_extension": ".py",
   "mimetype": "text/x-python",
   "name": "python",
   "nbconvert_exporter": "python",
   "pygments_lexer": "ipython2",
   "version": "2.7.18"
  }
 },
 "nbformat": 4,
 "nbformat_minor": 2
}
