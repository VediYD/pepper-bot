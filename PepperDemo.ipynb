{
 "cells": [
  {
   "cell_type": "markdown",
   "metadata": {},
   "source": [
    "# PepperOpenDayDemo"
   ]
  },
  {
   "cell_type": "markdown",
   "metadata": {},
   "source": [
    "## Environment Setup"
   ]
  },
  {
   "cell_type": "code",
   "execution_count": 1,
   "metadata": {},
   "outputs": [
    {
     "name": "stdout",
     "output_type": "stream",
     "text": [
      "\u001b[33mDEPRECATION: Python 2.7 reached the end of its life on January 1st, 2020. Please upgrade your Python as Python 2.7 is no longer maintained. A future version of pip will drop support for Python 2.7. More details about Python 2 support in pip, can be found at https://pip.pypa.io/en/latest/development/release-process/#python-2-support\u001b[0m\n",
      "Requirement already satisfied: requests in /usr/local/lib/python2.7/site-packages (2.27.1)\n",
      "Requirement already satisfied: certifi>=2017.4.17 in /usr/local/lib/python2.7/site-packages (from requests) (2021.10.8)\n",
      "Requirement already satisfied: urllib3<1.27,>=1.21.1 in /usr/local/lib/python2.7/site-packages (from requests) (1.26.16)\n",
      "Requirement already satisfied: idna<3,>=2.5; python_version < \"3\" in /usr/local/lib/python2.7/site-packages (from requests) (2.10)\n",
      "Requirement already satisfied: chardet<5,>=3.0.2; python_version < \"3\" in /usr/local/lib/python2.7/site-packages (from requests) (4.0.0)\n",
      "\u001b[33mWARNING: You are using pip version 20.0.2; however, version 20.3.4 is available.\n",
      "You should consider upgrading via the '/usr/local/bin/python -m pip install --upgrade pip' command.\u001b[0m\n",
      "\u001b[33mDEPRECATION: Python 2.7 reached the end of its life on January 1st, 2020. Please upgrade your Python as Python 2.7 is no longer maintained. A future version of pip will drop support for Python 2.7. More details about Python 2 support in pip, can be found at https://pip.pypa.io/en/latest/development/release-process/#python-2-support\u001b[0m\n",
      "Requirement already satisfied: speechrecognition==3.8.1 in /usr/local/lib/python2.7/site-packages (3.8.1)\n",
      "\u001b[33mWARNING: You are using pip version 20.0.2; however, version 20.3.4 is available.\n",
      "You should consider upgrading via the '/usr/local/bin/python -m pip install --upgrade pip' command.\u001b[0m\n",
      "\u001b[33mDEPRECATION: Python 2.7 reached the end of its life on January 1st, 2020. Please upgrade your Python as Python 2.7 is no longer maintained. A future version of pip will drop support for Python 2.7. More details about Python 2 support in pip, can be found at https://pip.pypa.io/en/latest/development/release-process/#python-2-support\u001b[0m\n",
      "Requirement already satisfied: paramiko in /usr/local/lib/python2.7/site-packages (2.12.0)\n",
      "Requirement already satisfied: cryptography>=2.5 in /usr/local/lib/python2.7/site-packages (from paramiko) (3.3.2)\n",
      "Requirement already satisfied: six in /usr/local/lib/python2.7/site-packages (from paramiko) (1.14.0)\n",
      "Requirement already satisfied: pynacl>=1.0.1 in /usr/local/lib/python2.7/site-packages (from paramiko) (1.4.0)\n",
      "Requirement already satisfied: bcrypt>=3.1.3 in /usr/local/lib/python2.7/site-packages (from paramiko) (3.1.7)\n",
      "Requirement already satisfied: cffi>=1.12 in /usr/local/lib/python2.7/site-packages (from cryptography>=2.5->paramiko) (1.15.1)\n",
      "Requirement already satisfied: ipaddress; python_version < \"3\" in /usr/local/lib/python2.7/site-packages (from cryptography>=2.5->paramiko) (1.0.23)\n",
      "Requirement already satisfied: enum34; python_version < \"3\" in /usr/local/lib/python2.7/site-packages (from cryptography>=2.5->paramiko) (1.1.10)\n",
      "Requirement already satisfied: pycparser in /usr/local/lib/python2.7/site-packages (from cffi>=1.12->cryptography>=2.5->paramiko) (2.21)\n",
      "\u001b[33mWARNING: You are using pip version 20.0.2; however, version 20.3.4 is available.\n",
      "You should consider upgrading via the '/usr/local/bin/python -m pip install --upgrade pip' command.\u001b[0m\n",
      "\u001b[33mDEPRECATION: Python 2.7 reached the end of its life on January 1st, 2020. Please upgrade your Python as Python 2.7 is no longer maintained. A future version of pip will drop support for Python 2.7. More details about Python 2 support in pip, can be found at https://pip.pypa.io/en/latest/development/release-process/#python-2-support\u001b[0m\n",
      "Requirement already satisfied: pandas in /usr/local/lib/python2.7/site-packages (0.24.2)\n",
      "Requirement already satisfied: numpy>=1.12.0 in /usr/local/lib/python2.7/site-packages (from pandas) (1.16.6)\n",
      "Requirement already satisfied: python-dateutil>=2.5.0 in /usr/local/lib/python2.7/site-packages (from pandas) (2.8.2)\n",
      "Requirement already satisfied: pytz>=2011k in /usr/local/lib/python2.7/site-packages (from pandas) (2023.3)\n",
      "Requirement already satisfied: six>=1.5 in /usr/local/lib/python2.7/site-packages (from python-dateutil>=2.5.0->pandas) (1.14.0)\n",
      "\u001b[33mWARNING: You are using pip version 20.0.2; however, version 20.3.4 is available.\n",
      "You should consider upgrading via the '/usr/local/bin/python -m pip install --upgrade pip' command.\u001b[0m\n"
     ]
    }
   ],
   "source": [
    "# built-in imports\n",
    "!pip install requests\n",
    "!pip install speechrecognition==3.8.1\n",
    "!pip install paramiko\n",
    "!pip install pandas\n",
    "!pip install beautifulsoup4"
   ]
  },
  {
   "cell_type": "code",
   "execution_count": 1,
   "metadata": {},
   "outputs": [
    {
     "name": "stderr",
     "output_type": "stream",
     "text": [
      "/usr/local/lib/python2.7/site-packages/paramiko/transport.py:33: CryptographyDeprecationWarning: Python 2 is no longer supported by the Python core team. Support for it is now deprecated in cryptography, and will be removed in the next release.\n",
      "  from cryptography.hazmat.backends import default_backend\n"
     ]
    }
   ],
   "source": [
    "### Naoqi Related Imports ###\n",
    "import naoqi\n",
    "from naoqi import qi\n",
    "from naoqi import ALProxy\n",
    "\n",
    "### System Related Imports ###\n",
    "import fileinput, os, shutil, sys, random, threading, time\n",
    "\n",
    "### Flask Related Imports ###\n",
    "import json, requests\n",
    "\n",
    "### Speech Recognition Imports ###\n",
    "import pandas as pd\n",
    "import paramiko\n",
    "import speech_recognition as sr"
   ]
  },
  {
   "cell_type": "code",
   "execution_count": 2,
   "metadata": {},
   "outputs": [],
   "source": [
    "from prompts import *\n",
    "import prompts\n",
    "from fileTransfer import *\n",
    "import fileTransfer as ft\n",
    "from displayGeneration import *\n",
    "import displayGeneration as dg\n",
    "from interactiveControls import *\n",
    "import interactiveControls as ic\n",
    "from idle import *\n",
    "import idle as idl\n",
    "from humanInteraction import *\n",
    "import humanInteraction as hi\n",
    "\n",
    "\n",
    "# ### Custom File Handing Imports ###\n",
    "# from fileTransfer import *\n",
    "\n",
    "# ### Custom Idle Behaviour Imports ###\n",
    "# from idle import *\n",
    "\n",
    "# ### Custom Page Display Imports ###\n",
    "# from displayGeneration import *\n",
    "\n",
    "# ### Custom Interaction, Behaviour and Display Imports ###\n",
    "# from interactiveControls import *\n",
    "\n",
    "# ### Custom Hard-Coded Prompt Imports ###\n",
    "# from prompts import *\n",
    "\n",
    "# ### Main Interaction Imports ###\n",
    "# from humanInteraction import *"
   ]
  },
  {
   "cell_type": "markdown",
   "metadata": {},
   "source": [
    "## Constants"
   ]
  },
  {
   "cell_type": "code",
   "execution_count": 3,
   "metadata": {},
   "outputs": [],
   "source": [
    "### Networking Constants ###\n",
    "GPT_HOST = \"10.104.23.208\"\n",
    "PEPPER_HOST = \"10.104.23.185\"\n",
    "GPT_PORT = 8891\n",
    "PEPPER_PORT = 9559\n",
    "\n",
    "### Audio Processing Constants ###\n",
    "PEPPER_RECORDINGS_PATH = \"/home/nao/microphones/recording.wav\"\n",
    "SERVER_RECORDINGS_PATH = \"recordings/recording.wav\"\n",
    "\n",
    "### Display Generation Constants ###\n",
    "FILE_NAME_TEMP = \"display.html\"\n",
    "PEPPER_HTML_PATH = \"/home/nao/.local/share/PackageManager/apps/robot-page/html/\"  # page.html\"\n",
    "PEPPER_PAGE_LANDING = PEPPER_HTML_PATH + \"page.html\" # '/home/nao/.local/share/PackageManager/apps/robot-page/html/page.html'\n",
    "PEPPER_QR_LANDING = PEPPER_HTML_PATH + \"webfiles/qr.png\"  # switched slash direction\n",
    "PEPPER_IMG_LANDING = PEPPER_HTML_PATH + \"webfiles/img.png\"  # switched slash direction\n",
    "TEXT_BY_ID_PATH = \"textbyID.csv\""
   ]
  },
  {
   "cell_type": "markdown",
   "metadata": {},
   "source": [
    "## MAIN"
   ]
  },
  {
   "cell_type": "code",
   "execution_count": 5,
   "metadata": {},
   "outputs": [
    {
     "name": "stdout",
     "output_type": "stream",
     "text": [
      "copyfile successful\n",
      "Sent to Pepper\n",
      "1.06562447548\n",
      "Detect complete\n",
      "Recording is starting...\n",
      "Timer is reached\n",
      "Recording is stopping...\n",
      "Sent from Pepper\n",
      "('Listen complete, This is what I heard: ', 'Could not request results from Google Speech Recognition service: missing PocketSphinx module: ensure that PocketSphinx is set up correctly.')\n",
      "copyfile successful\n",
      "Sent to Pepper\n",
      "Goodbye\n"
     ]
    },
    {
     "ename": "ConnectionError",
     "evalue": "HTTPConnectionPool(host='10.104.22.24', port=8891): Max retries exceeded with url: /courseInfo (Caused by NewConnectionError('<urllib3.connection.HTTPConnection object at 0x7f5228781e90>: Failed to establish a new connection: [Errno 111] Connection refused',))",
     "output_type": "error",
     "traceback": [
      "\u001b[0;31m\u001b[0m",
      "\u001b[0;31mConnectionError\u001b[0mTraceback (most recent call last)",
      "\u001b[0;32m<ipython-input-5-8f7f289f8a00>\u001b[0m in \u001b[0;36m<module>\u001b[0;34m()\u001b[0m\n\u001b[1;32m     24\u001b[0m \u001b[0;34m\u001b[0m\u001b[0m\n\u001b[1;32m     25\u001b[0m         \u001b[0;31m# get gpt response\u001b[0m\u001b[0;34m\u001b[0m\u001b[0;34m\u001b[0m\u001b[0m\n\u001b[0;32m---> 26\u001b[0;31m         \u001b[0mthink\u001b[0m\u001b[0;34m(\u001b[0m\u001b[0mquery\u001b[0m\u001b[0;34m,\u001b[0m \u001b[0mresponsesPipeline\u001b[0m\u001b[0;34m,\u001b[0m \u001b[0meyes\u001b[0m\u001b[0;34m)\u001b[0m\u001b[0;34m\u001b[0m\u001b[0m\n\u001b[0m\u001b[1;32m     27\u001b[0m \u001b[0;34m\u001b[0m\u001b[0m\n\u001b[1;32m     28\u001b[0m \u001b[0;32mexcept\u001b[0m \u001b[0mKeyboardInterrupt\u001b[0m\u001b[0;34m:\u001b[0m\u001b[0;34m\u001b[0m\u001b[0m\n",
      "\u001b[0;32m/app/humanInteraction.pyc\u001b[0m in \u001b[0;36mthink\u001b[0;34m(query, responsesPipeline, eyes)\u001b[0m\n\u001b[1;32m     57\u001b[0m     \u001b[0;31m# show_on_tablet('Demo/pageTemplates/dashLoader.html')\u001b[0m\u001b[0;34m\u001b[0m\u001b[0;34m\u001b[0m\u001b[0m\n\u001b[1;32m     58\u001b[0m     \u001b[0mic\u001b[0m\u001b[0;34m.\u001b[0m\u001b[0mshowWhichPage\u001b[0m\u001b[0;34m(\u001b[0m\u001b[0;34m\"loading\"\u001b[0m\u001b[0;34m)\u001b[0m\u001b[0;34m\u001b[0m\u001b[0m\n\u001b[0;32m---> 59\u001b[0;31m     \u001b[0mpostQuery\u001b[0m\u001b[0;34m(\u001b[0m\u001b[0mquery\u001b[0m\u001b[0;34m,\u001b[0m \u001b[0mresponsesPipeline\u001b[0m\u001b[0;34m)\u001b[0m \u001b[0;31m#postQuery(_question, sentences):\u001b[0m\u001b[0;34m\u001b[0m\u001b[0m\n\u001b[0m\u001b[1;32m     60\u001b[0m     \u001b[0meyes\u001b[0m\u001b[0;34m.\u001b[0m\u001b[0mstop_thinking\u001b[0m\u001b[0;34m(\u001b[0m\u001b[0;34m)\u001b[0m\u001b[0;34m\u001b[0m\u001b[0m\n\u001b[1;32m     61\u001b[0m     \u001b[0mic\u001b[0m\u001b[0;34m.\u001b[0m\u001b[0mresetEyesAndTablet\u001b[0m\u001b[0;34m(\u001b[0m\u001b[0;34m)\u001b[0m\u001b[0;34m\u001b[0m\u001b[0m\n",
      "\u001b[0;32m/app/humanInteraction.pyc\u001b[0m in \u001b[0;36mpostQuery\u001b[0;34m(_question, sentences)\u001b[0m\n\u001b[1;32m    265\u001b[0m     \u001b[0;31m# url = \"http://{}:{}/courseInfo\".format(GPT_HOST, GPT_PORT)\u001b[0m\u001b[0;34m\u001b[0m\u001b[0;34m\u001b[0m\u001b[0m\n\u001b[1;32m    266\u001b[0m     \u001b[0mdata\u001b[0m \u001b[0;34m=\u001b[0m \u001b[0;34m{\u001b[0m\u001b[0;34m\"question\"\u001b[0m\u001b[0;34m:\u001b[0m \u001b[0m_question\u001b[0m\u001b[0;34m}\u001b[0m\u001b[0;34m\u001b[0m\u001b[0m\n\u001b[0;32m--> 267\u001b[0;31m     \u001b[0mr\u001b[0m \u001b[0;34m=\u001b[0m \u001b[0mrequests\u001b[0m\u001b[0;34m.\u001b[0m\u001b[0mpost\u001b[0m\u001b[0;34m(\u001b[0m\u001b[0murl\u001b[0m\u001b[0;34m,\u001b[0m \u001b[0mjson\u001b[0m\u001b[0;34m=\u001b[0m\u001b[0mdata\u001b[0m\u001b[0;34m,\u001b[0m \u001b[0mstream\u001b[0m\u001b[0;34m=\u001b[0m\u001b[0mTrue\u001b[0m\u001b[0;34m)\u001b[0m\u001b[0;34m\u001b[0m\u001b[0m\n\u001b[0m\u001b[1;32m    268\u001b[0m     \u001b[0mreceive_responses\u001b[0m\u001b[0;34m(\u001b[0m\u001b[0mr\u001b[0m\u001b[0;34m,\u001b[0m \u001b[0msentences\u001b[0m\u001b[0;34m)\u001b[0m\u001b[0;34m\u001b[0m\u001b[0m\n\u001b[1;32m    269\u001b[0m \u001b[0;34m\u001b[0m\u001b[0m\n",
      "\u001b[0;32m/usr/local/lib/python2.7/site-packages/requests/api.pyc\u001b[0m in \u001b[0;36mpost\u001b[0;34m(url, data, json, **kwargs)\u001b[0m\n\u001b[1;32m    115\u001b[0m     \"\"\"\n\u001b[1;32m    116\u001b[0m \u001b[0;34m\u001b[0m\u001b[0m\n\u001b[0;32m--> 117\u001b[0;31m     \u001b[0;32mreturn\u001b[0m \u001b[0mrequest\u001b[0m\u001b[0;34m(\u001b[0m\u001b[0;34m'post'\u001b[0m\u001b[0;34m,\u001b[0m \u001b[0murl\u001b[0m\u001b[0;34m,\u001b[0m \u001b[0mdata\u001b[0m\u001b[0;34m=\u001b[0m\u001b[0mdata\u001b[0m\u001b[0;34m,\u001b[0m \u001b[0mjson\u001b[0m\u001b[0;34m=\u001b[0m\u001b[0mjson\u001b[0m\u001b[0;34m,\u001b[0m \u001b[0;34m**\u001b[0m\u001b[0mkwargs\u001b[0m\u001b[0;34m)\u001b[0m\u001b[0;34m\u001b[0m\u001b[0m\n\u001b[0m\u001b[1;32m    118\u001b[0m \u001b[0;34m\u001b[0m\u001b[0m\n\u001b[1;32m    119\u001b[0m \u001b[0;34m\u001b[0m\u001b[0m\n",
      "\u001b[0;32m/usr/local/lib/python2.7/site-packages/requests/api.pyc\u001b[0m in \u001b[0;36mrequest\u001b[0;34m(method, url, **kwargs)\u001b[0m\n\u001b[1;32m     59\u001b[0m     \u001b[0;31m# cases, and look like a memory leak in others.\u001b[0m\u001b[0;34m\u001b[0m\u001b[0;34m\u001b[0m\u001b[0m\n\u001b[1;32m     60\u001b[0m     \u001b[0;32mwith\u001b[0m \u001b[0msessions\u001b[0m\u001b[0;34m.\u001b[0m\u001b[0mSession\u001b[0m\u001b[0;34m(\u001b[0m\u001b[0;34m)\u001b[0m \u001b[0;32mas\u001b[0m \u001b[0msession\u001b[0m\u001b[0;34m:\u001b[0m\u001b[0;34m\u001b[0m\u001b[0m\n\u001b[0;32m---> 61\u001b[0;31m         \u001b[0;32mreturn\u001b[0m \u001b[0msession\u001b[0m\u001b[0;34m.\u001b[0m\u001b[0mrequest\u001b[0m\u001b[0;34m(\u001b[0m\u001b[0mmethod\u001b[0m\u001b[0;34m=\u001b[0m\u001b[0mmethod\u001b[0m\u001b[0;34m,\u001b[0m \u001b[0murl\u001b[0m\u001b[0;34m=\u001b[0m\u001b[0murl\u001b[0m\u001b[0;34m,\u001b[0m \u001b[0;34m**\u001b[0m\u001b[0mkwargs\u001b[0m\u001b[0;34m)\u001b[0m\u001b[0;34m\u001b[0m\u001b[0m\n\u001b[0m\u001b[1;32m     62\u001b[0m \u001b[0;34m\u001b[0m\u001b[0m\n\u001b[1;32m     63\u001b[0m \u001b[0;34m\u001b[0m\u001b[0m\n",
      "\u001b[0;32m/usr/local/lib/python2.7/site-packages/requests/sessions.pyc\u001b[0m in \u001b[0;36mrequest\u001b[0;34m(self, method, url, params, data, headers, cookies, files, auth, timeout, allow_redirects, proxies, hooks, stream, verify, cert, json)\u001b[0m\n\u001b[1;32m    527\u001b[0m         }\n\u001b[1;32m    528\u001b[0m         \u001b[0msend_kwargs\u001b[0m\u001b[0;34m.\u001b[0m\u001b[0mupdate\u001b[0m\u001b[0;34m(\u001b[0m\u001b[0msettings\u001b[0m\u001b[0;34m)\u001b[0m\u001b[0;34m\u001b[0m\u001b[0m\n\u001b[0;32m--> 529\u001b[0;31m         \u001b[0mresp\u001b[0m \u001b[0;34m=\u001b[0m \u001b[0mself\u001b[0m\u001b[0;34m.\u001b[0m\u001b[0msend\u001b[0m\u001b[0;34m(\u001b[0m\u001b[0mprep\u001b[0m\u001b[0;34m,\u001b[0m \u001b[0;34m**\u001b[0m\u001b[0msend_kwargs\u001b[0m\u001b[0;34m)\u001b[0m\u001b[0;34m\u001b[0m\u001b[0m\n\u001b[0m\u001b[1;32m    530\u001b[0m \u001b[0;34m\u001b[0m\u001b[0m\n\u001b[1;32m    531\u001b[0m         \u001b[0;32mreturn\u001b[0m \u001b[0mresp\u001b[0m\u001b[0;34m\u001b[0m\u001b[0m\n",
      "\u001b[0;32m/usr/local/lib/python2.7/site-packages/requests/sessions.pyc\u001b[0m in \u001b[0;36msend\u001b[0;34m(self, request, **kwargs)\u001b[0m\n\u001b[1;32m    643\u001b[0m \u001b[0;34m\u001b[0m\u001b[0m\n\u001b[1;32m    644\u001b[0m         \u001b[0;31m# Send the request\u001b[0m\u001b[0;34m\u001b[0m\u001b[0;34m\u001b[0m\u001b[0m\n\u001b[0;32m--> 645\u001b[0;31m         \u001b[0mr\u001b[0m \u001b[0;34m=\u001b[0m \u001b[0madapter\u001b[0m\u001b[0;34m.\u001b[0m\u001b[0msend\u001b[0m\u001b[0;34m(\u001b[0m\u001b[0mrequest\u001b[0m\u001b[0;34m,\u001b[0m \u001b[0;34m**\u001b[0m\u001b[0mkwargs\u001b[0m\u001b[0;34m)\u001b[0m\u001b[0;34m\u001b[0m\u001b[0m\n\u001b[0m\u001b[1;32m    646\u001b[0m \u001b[0;34m\u001b[0m\u001b[0m\n\u001b[1;32m    647\u001b[0m         \u001b[0;31m# Total elapsed time of the request (approximately)\u001b[0m\u001b[0;34m\u001b[0m\u001b[0;34m\u001b[0m\u001b[0m\n",
      "\u001b[0;32m/usr/local/lib/python2.7/site-packages/requests/adapters.pyc\u001b[0m in \u001b[0;36msend\u001b[0;34m(self, request, stream, timeout, verify, cert, proxies)\u001b[0m\n\u001b[1;32m    517\u001b[0m                 \u001b[0;32mraise\u001b[0m \u001b[0mSSLError\u001b[0m\u001b[0;34m(\u001b[0m\u001b[0me\u001b[0m\u001b[0;34m,\u001b[0m \u001b[0mrequest\u001b[0m\u001b[0;34m=\u001b[0m\u001b[0mrequest\u001b[0m\u001b[0;34m)\u001b[0m\u001b[0;34m\u001b[0m\u001b[0m\n\u001b[1;32m    518\u001b[0m \u001b[0;34m\u001b[0m\u001b[0m\n\u001b[0;32m--> 519\u001b[0;31m             \u001b[0;32mraise\u001b[0m \u001b[0mConnectionError\u001b[0m\u001b[0;34m(\u001b[0m\u001b[0me\u001b[0m\u001b[0;34m,\u001b[0m \u001b[0mrequest\u001b[0m\u001b[0;34m=\u001b[0m\u001b[0mrequest\u001b[0m\u001b[0;34m)\u001b[0m\u001b[0;34m\u001b[0m\u001b[0m\n\u001b[0m\u001b[1;32m    520\u001b[0m \u001b[0;34m\u001b[0m\u001b[0m\n\u001b[1;32m    521\u001b[0m         \u001b[0;32mexcept\u001b[0m \u001b[0mClosedPoolError\u001b[0m \u001b[0;32mas\u001b[0m \u001b[0me\u001b[0m\u001b[0;34m:\u001b[0m\u001b[0;34m\u001b[0m\u001b[0m\n",
      "\u001b[0;31mConnectionError\u001b[0m: HTTPConnectionPool(host='10.104.22.24', port=8891): Max retries exceeded with url: /courseInfo (Caused by NewConnectionError('<urllib3.connection.HTTPConnection object at 0x7f5228781e90>: Failed to establish a new connection: [Errno 111] Connection refused',))"
     ]
    }
   ],
   "source": [
    "global idle\n",
    "global responsesPipeline\n",
    "global eyes\n",
    "\n",
    "idle = idling()\n",
    "eyes = eyesController()\n",
    "\n",
    "try:\n",
    "    track_head()\n",
    "\n",
    "    while True:\n",
    "        # Empty sentences list\n",
    "        responsesPipeline = []\n",
    "        \n",
    "        # Idle behaviors to keep peppers temperature low\n",
    "        idle.start_idle_behavior()\n",
    "\n",
    "        # trigger smart listen\n",
    "        detect()\n",
    "        idle.stop()\n",
    "        \n",
    "        ## If speech detected record up to 15 seconds of audio\n",
    "        query = listen()\n",
    "\n",
    "        # get gpt response\n",
    "        think(query, responsesPipeline, eyes)\n",
    "    \n",
    "except KeyboardInterrupt:\n",
    "    stopListening()\n",
    "\n",
    "finally:\n",
    "    stopListening()\n",
    "    return_to_default_pos()\n",
    "    idle.stop()\n",
    "    print('Goodbye')"
   ]
  },
  {
   "cell_type": "code",
   "execution_count": 10,
   "metadata": {},
   "outputs": [
    {
     "name": "stdout",
     "output_type": "stream",
     "text": [
      "copyfile successful\n",
      "text match found\n",
      "text match found\n",
      "Sent to Pepper\n",
      "Sent to Pepper\n",
      "Sent to Pepper\n"
     ]
    }
   ],
   "source": [
    "\n",
    "# ic.showWhichPage(\"loading\")\n",
    "# ic.showWhichPage(\"Cacc\")\n",
    "# ic.showWhichPage(\"Cour\")\n",
    "# ic.showWhichPage(\"Cstu\")\n",
    "# ic.showWhichPage(\"Cwel\")\n",
    "# ic.showWhichPage(\"Club\")\n",
    "\n",
    "dg.generateBasicQRPage(\"D310\")\n",
    "showPage()"
   ]
  },
  {
   "cell_type": "code",
   "execution_count": null,
   "metadata": {},
   "outputs": [
    {
     "name": "stdout",
     "output_type": "stream",
     "text": [
      "copyfile successful\n",
      "Sent to Pepper\n"
     ]
    }
   ],
   "source": [
    "\n",
    "ic.showWhichPage(\"loading\")\n"
   ]
  },
  {
   "cell_type": "code",
   "execution_count": 5,
   "metadata": {},
   "outputs": [
    {
     "name": "stdout",
     "output_type": "stream",
     "text": [
      "\u001b[33mDEPRECATION: Python 2.7 reached the end of its life on January 1st, 2020. Please upgrade your Python as Python 2.7 is no longer maintained. A future version of pip will drop support for Python 2.7. More details about Python 2 support in pip, can be found at https://pip.pypa.io/en/latest/development/release-process/#python-2-support\u001b[0m\n",
      "Collecting beautifulsoup4\n",
      "  Downloading beautifulsoup4-4.9.3-py2-none-any.whl (115 kB)\n",
      "\u001b[K     |████████████████████████████████| 115 kB 7.1 MB/s eta 0:00:01\n",
      "\u001b[?25hCollecting soupsieve<2.0,>1.2; python_version < \"3.0\"\n",
      "  Downloading soupsieve-1.9.6-py2.py3-none-any.whl (33 kB)\n",
      "Requirement already satisfied: backports.functools-lru-cache; python_version < \"3\" in /usr/local/lib/python2.7/site-packages (from soupsieve<2.0,>1.2; python_version < \"3.0\"->beautifulsoup4) (1.6.4)\n",
      "Installing collected packages: soupsieve, beautifulsoup4\n",
      "Successfully installed beautifulsoup4-4.9.3 soupsieve-1.9.6\n",
      "\u001b[33mWARNING: You are using pip version 20.0.2; however, version 20.3.4 is available.\n",
      "You should consider upgrading via the '/usr/local/bin/python -m pip install --upgrade pip' command.\u001b[0m\n"
     ]
    }
   ],
   "source": []
  }
 ],
 "metadata": {
  "kernelspec": {
   "display_name": "Python 2",
   "language": "python",
   "name": "python2"
  },
  "orig_nbformat": 4
 },
 "nbformat": 4,
 "nbformat_minor": 2
}
