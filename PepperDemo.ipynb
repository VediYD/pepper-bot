{
 "cells": [
  {
   "cell_type": "markdown",
   "metadata": {},
   "source": [
    "# PepperOpenDayDemo"
   ]
  },
  {
   "cell_type": "markdown",
   "metadata": {},
   "source": [
    "## Environment Setup"
   ]
  },
  {
   "cell_type": "code",
   "execution_count": 1,
   "metadata": {},
   "outputs": [
    {
     "name": "stdout",
     "output_type": "stream",
     "text": [
      "\u001b[33mDEPRECATION: Python 2.7 reached the end of its life on January 1st, 2020. Please upgrade your Python as Python 2.7 is no longer maintained. A future version of pip will drop support for Python 2.7. More details about Python 2 support in pip, can be found at https://pip.pypa.io/en/latest/development/release-process/#python-2-support\u001b[0m\n",
      "Requirement already satisfied: requests in /usr/local/lib/python2.7/site-packages (2.27.1)\n",
      "Requirement already satisfied: certifi>=2017.4.17 in /usr/local/lib/python2.7/site-packages (from requests) (2021.10.8)\n",
      "Requirement already satisfied: urllib3<1.27,>=1.21.1 in /usr/local/lib/python2.7/site-packages (from requests) (1.26.16)\n",
      "Requirement already satisfied: idna<3,>=2.5; python_version < \"3\" in /usr/local/lib/python2.7/site-packages (from requests) (2.10)\n",
      "Requirement already satisfied: chardet<5,>=3.0.2; python_version < \"3\" in /usr/local/lib/python2.7/site-packages (from requests) (4.0.0)\n",
      "\u001b[33mWARNING: You are using pip version 20.0.2; however, version 20.3.4 is available.\n",
      "You should consider upgrading via the '/usr/local/bin/python -m pip install --upgrade pip' command.\u001b[0m\n",
      "\u001b[33mDEPRECATION: Python 2.7 reached the end of its life on January 1st, 2020. Please upgrade your Python as Python 2.7 is no longer maintained. A future version of pip will drop support for Python 2.7. More details about Python 2 support in pip, can be found at https://pip.pypa.io/en/latest/development/release-process/#python-2-support\u001b[0m\n",
      "Requirement already satisfied: speechrecognition==3.8.1 in /usr/local/lib/python2.7/site-packages (3.8.1)\n",
      "\u001b[33mWARNING: You are using pip version 20.0.2; however, version 20.3.4 is available.\n",
      "You should consider upgrading via the '/usr/local/bin/python -m pip install --upgrade pip' command.\u001b[0m\n",
      "\u001b[33mDEPRECATION: Python 2.7 reached the end of its life on January 1st, 2020. Please upgrade your Python as Python 2.7 is no longer maintained. A future version of pip will drop support for Python 2.7. More details about Python 2 support in pip, can be found at https://pip.pypa.io/en/latest/development/release-process/#python-2-support\u001b[0m\n",
      "Requirement already satisfied: paramiko in /usr/local/lib/python2.7/site-packages (2.12.0)\n",
      "Requirement already satisfied: cryptography>=2.5 in /usr/local/lib/python2.7/site-packages (from paramiko) (3.3.2)\n",
      "Requirement already satisfied: six in /usr/local/lib/python2.7/site-packages (from paramiko) (1.14.0)\n",
      "Requirement already satisfied: pynacl>=1.0.1 in /usr/local/lib/python2.7/site-packages (from paramiko) (1.4.0)\n",
      "Requirement already satisfied: bcrypt>=3.1.3 in /usr/local/lib/python2.7/site-packages (from paramiko) (3.1.7)\n",
      "Requirement already satisfied: cffi>=1.12 in /usr/local/lib/python2.7/site-packages (from cryptography>=2.5->paramiko) (1.15.1)\n",
      "Requirement already satisfied: ipaddress; python_version < \"3\" in /usr/local/lib/python2.7/site-packages (from cryptography>=2.5->paramiko) (1.0.23)\n",
      "Requirement already satisfied: enum34; python_version < \"3\" in /usr/local/lib/python2.7/site-packages (from cryptography>=2.5->paramiko) (1.1.10)\n",
      "Requirement already satisfied: pycparser in /usr/local/lib/python2.7/site-packages (from cffi>=1.12->cryptography>=2.5->paramiko) (2.21)\n",
      "\u001b[33mWARNING: You are using pip version 20.0.2; however, version 20.3.4 is available.\n",
      "You should consider upgrading via the '/usr/local/bin/python -m pip install --upgrade pip' command.\u001b[0m\n",
      "\u001b[33mDEPRECATION: Python 2.7 reached the end of its life on January 1st, 2020. Please upgrade your Python as Python 2.7 is no longer maintained. A future version of pip will drop support for Python 2.7. More details about Python 2 support in pip, can be found at https://pip.pypa.io/en/latest/development/release-process/#python-2-support\u001b[0m\n",
      "Requirement already satisfied: pandas in /usr/local/lib/python2.7/site-packages (0.24.2)\n",
      "Requirement already satisfied: numpy>=1.12.0 in /usr/local/lib/python2.7/site-packages (from pandas) (1.16.6)\n",
      "Requirement already satisfied: python-dateutil>=2.5.0 in /usr/local/lib/python2.7/site-packages (from pandas) (2.8.2)\n",
      "Requirement already satisfied: pytz>=2011k in /usr/local/lib/python2.7/site-packages (from pandas) (2023.3)\n",
      "Requirement already satisfied: six>=1.5 in /usr/local/lib/python2.7/site-packages (from python-dateutil>=2.5.0->pandas) (1.14.0)\n",
      "\u001b[33mWARNING: You are using pip version 20.0.2; however, version 20.3.4 is available.\n",
      "You should consider upgrading via the '/usr/local/bin/python -m pip install --upgrade pip' command.\u001b[0m\n",
      "\u001b[33mDEPRECATION: Python 2.7 reached the end of its life on January 1st, 2020. Please upgrade your Python as Python 2.7 is no longer maintained. A future version of pip will drop support for Python 2.7. More details about Python 2 support in pip, can be found at https://pip.pypa.io/en/latest/development/release-process/#python-2-support\u001b[0m\n",
      "Requirement already satisfied: beautifulsoup4 in /usr/local/lib/python2.7/site-packages (4.9.3)\n",
      "Requirement already satisfied: soupsieve<2.0,>1.2; python_version < \"3.0\" in /usr/local/lib/python2.7/site-packages (from beautifulsoup4) (1.9.6)\n",
      "Requirement already satisfied: backports.functools-lru-cache; python_version < \"3\" in /usr/local/lib/python2.7/site-packages (from soupsieve<2.0,>1.2; python_version < \"3.0\"->beautifulsoup4) (1.6.4)\n",
      "\u001b[33mWARNING: You are using pip version 20.0.2; however, version 20.3.4 is available.\n",
      "You should consider upgrading via the '/usr/local/bin/python -m pip install --upgrade pip' command.\u001b[0m\n",
      "\u001b[33mDEPRECATION: Python 2.7 reached the end of its life on January 1st, 2020. Please upgrade your Python as Python 2.7 is no longer maintained. A future version of pip will drop support for Python 2.7. More details about Python 2 support in pip, can be found at https://pip.pypa.io/en/latest/development/release-process/#python-2-support\u001b[0m\n",
      "Requirement already satisfied: scipy in /usr/local/lib/python2.7/site-packages (1.2.3)\n",
      "Requirement already satisfied: numpy>=1.8.2 in /usr/local/lib/python2.7/site-packages (from scipy) (1.16.6)\n",
      "\u001b[33mWARNING: You are using pip version 20.0.2; however, version 20.3.4 is available.\n",
      "You should consider upgrading via the '/usr/local/bin/python -m pip install --upgrade pip' command.\u001b[0m\n"
     ]
    }
   ],
   "source": [
    "# built-in imports\n",
    "!pip install requests\n",
    "!pip install speechrecognition==3.8.1\n",
    "!pip install paramiko\n",
    "!pip install pandas\n",
    "!pip install beautifulsoup4\n",
    "!pip install scipy"
   ]
  },
  {
   "cell_type": "code",
   "execution_count": 1,
   "metadata": {},
   "outputs": [
    {
     "name": "stderr",
     "output_type": "stream",
     "text": [
      "/usr/local/lib/python2.7/site-packages/paramiko/transport.py:33: CryptographyDeprecationWarning: Python 2 is no longer supported by the Python core team. Support for it is now deprecated in cryptography, and will be removed in the next release.\n",
      "  from cryptography.hazmat.backends import default_backend\n"
     ]
    }
   ],
   "source": [
    "### Naoqi Related Imports ###\n",
    "import naoqi\n",
    "from naoqi import qi\n",
    "from naoqi import ALProxy\n",
    "\n",
    "### System Related Imports ###\n",
    "import fileinput, os, shutil, sys, random, threading, time\n",
    "\n",
    "### Flask Related Imports ###\n",
    "import json, requests\n",
    "\n",
    "### Speech Recognition Imports ###\n",
    "import pandas as pd\n",
    "import paramiko\n",
    "import speech_recognition as sr"
   ]
  },
  {
   "cell_type": "code",
   "execution_count": 2,
   "metadata": {},
   "outputs": [],
   "source": [
    "from prompts import *\n",
    "import prompts\n",
    "from fileTransfer import *\n",
    "import fileTransfer as ft\n",
    "from displayGeneration import *\n",
    "import displayGeneration as dg\n",
    "from interactiveControls import *\n",
    "import interactiveControls as ic\n",
    "from idle import *\n",
    "import idle as idle\n",
    "from humanInteraction import *\n",
    "import humanInteraction as hi\n",
    "\n",
    "\n",
    "# ### Custom File Handing Imports ###\n",
    "# from fileTransfer import *\n",
    "\n",
    "# ### Custom Idle Behaviour Imports ###\n",
    "# from idle import *\n",
    "\n",
    "# ### Custom Page Display Imports ###\n",
    "# from displayGeneration import *\n",
    "\n",
    "# ### Custom Interaction, Behaviour and Display Imports ###\n",
    "# from interactiveControls import *\n",
    "\n",
    "# ### Custom Hard-Coded Prompt Imports ###\n",
    "# from prompts import *\n",
    "\n",
    "# ### Main Interaction Imports ###\n",
    "# from humanInteraction import *"
   ]
  },
  {
   "cell_type": "markdown",
   "metadata": {},
   "source": [
    "## Constants"
   ]
  },
  {
   "cell_type": "code",
   "execution_count": 3,
   "metadata": {},
   "outputs": [],
   "source": [
    "### Networking Constants ###\n",
    "GPT_HOST = \"10.104.23.208\"\n",
    "PEPPER_HOST = \"10.104.23.185\"\n",
    "GPT_PORT = 8891\n",
    "PEPPER_PORT = 9559\n",
    "\n",
    "### Audio Processing Constants ###\n",
    "PEPPER_RECORDINGS_PATH = \"/home/nao/microphones/recording.wav\"\n",
    "SERVER_RECORDINGS_PATH = \"recordings/recording.wav\"\n",
    "\n",
    "### Display Generation Constants ###\n",
    "FILE_NAME_TEMP = \"display.html\"\n",
    "PEPPER_HTML_PATH = \"/home/nao/.local/share/PackageManager/apps/robot-page/html/\"  # page.html\"\n",
    "PEPPER_PAGE_LANDING = PEPPER_HTML_PATH + \"page.html\" # '/home/nao/.local/share/PackageManager/apps/robot-page/html/page.html'\n",
    "PEPPER_QR_LANDING = PEPPER_HTML_PATH + \"webfiles/qr.png\"  # switched slash direction\n",
    "PEPPER_IMG_LANDING = PEPPER_HTML_PATH + \"webfiles/img.png\"  # switched slash direction\n",
    "TEXT_BY_ID_PATH = \"textbyID.csv\""
   ]
  },
  {
   "cell_type": "markdown",
   "metadata": {},
   "source": [
    "## MAIN"
   ]
  },
  {
   "cell_type": "code",
   "execution_count": 4,
   "metadata": {},
   "outputs": [
    {
     "name": "stdout",
     "output_type": "stream",
     "text": [
      "copyfile successful\n",
      "Sent to Pepper\n",
      "0.335101246834\n",
      "Detect complete\n",
      "Recording is starting...\n",
      "copyfile successful\n",
      "Sent to Pepper\n",
      "Timer is reached\n",
      "Recording is stopping...\n",
      "Sent from Pepper\n",
      "array([   0,    0,   -2, ..., -459, -398, -193], dtype=int16) is not JSON serializable\n",
      "Goodbye\n"
     ]
    }
   ],
   "source": [
    "global idle\n",
    "global responsesPipeline\n",
    "global eyes\n",
    "\n",
    "idle = idling()\n",
    "eyes = EyesController()\n",
    "eyes.startEyes(\"neutral\")\n",
    "\n",
    "try:\n",
    "    track_head()\n",
    "    repeat = True\n",
    "\n",
    "    while True:\n",
    "        # Empty sentences list\n",
    "        responsesPipeline = []\n",
    "        \n",
    "        # Idle behaviors to keep peppers temperature low\n",
    "        idle.start_idle_behavior()\n",
    "\n",
    "        # trigger smart listen\n",
    "        detect()\n",
    "        idle.stop()\n",
    "        \n",
    "        ## If speech detected record up to 15 seconds of audio\n",
    "        query = listen()\n",
    "        # queryCourseCodes returns \"repeat\" = true if the query search is not successful\n",
    "        repeat = queryCourseCodes(query, responsesPipeline, eyes)\n",
    "        \n",
    "        # get course codes relevant to this\n",
    "        # if query search is not successful, try the query search again until it is successful\n",
    "        while repeat:\n",
    "            query = listen()\n",
    "            repeat = queryCourseCodes(query, responsesPipeline, eyes)\n",
    "            \n",
    "        #ask if they need specific details about a course\n",
    "        repeat = True\n",
    "        rcount = 0\n",
    "        while repeat:\n",
    "            query = listen()\n",
    "            repeat = querySpecificCourse(query, responsesPipeline, eyes, rcount)\n",
    "            rcount += 1\n",
    "        \n",
    "except Exception as e:\n",
    "    print(e)\n",
    "finally:\n",
    "    stopListening()\n",
    "    return_to_default_pos()\n",
    "    idle = idling() \n",
    "    idle.start_idle_behavior()\n",
    "    print('Goodbye')"
   ]
  },
  {
   "cell_type": "markdown",
   "metadata": {},
   "source": [
    "# Yash ka shit"
   ]
  },
  {
   "cell_type": "code",
   "execution_count": null,
   "metadata": {},
   "outputs": [
    {
     "ename": "NameError",
     "evalue": "name 'ALProxy' is not defined",
     "output_type": "error",
     "traceback": [
      "\u001b[0;31m\u001b[0m\n",
      "\u001b[0;31mNameError\u001b[0mTraceback (most recent call last)\n",
      "\u001b[0;32m<ipython-input-2-072982a1c5bf>\u001b[0m in \u001b[0;36m<module>\u001b[0;34m()\u001b[0m\n",
      "\u001b[0;32m----> 1\u001b[0;31m \u001b[0mbumperDetector\u001b[0m \u001b[0;34m=\u001b[0m \u001b[0mALProxy\u001b[0m\u001b[0;34m(\u001b[0m\u001b[0;34m\"ALTouch\"\u001b[0m\u001b[0;34m,\u001b[0m \u001b[0mconstants\u001b[0m\u001b[0;34m.\u001b[0m\u001b[0mPEPPER_HOST\u001b[0m\u001b[0;34m,\u001b[0m \u001b[0mconstants\u001b[0m\u001b[0;34m.\u001b[0m\u001b[0mPEPPER_PORT\u001b[0m\u001b[0;34m)\u001b[0m\u001b[0;34m\u001b[0m\u001b[0m\n",
      "\u001b[0m\u001b[1;32m      2\u001b[0m \u001b[0;34m\u001b[0m\u001b[0m\n",
      "\u001b[1;32m      3\u001b[0m \u001b[0mmemory\u001b[0m \u001b[0;34m=\u001b[0m \u001b[0mALProxy\u001b[0m\u001b[0;34m(\u001b[0m\u001b[0;34m\"ALMemory\"\u001b[0m\u001b[0;34m,\u001b[0m \u001b[0mconstants\u001b[0m\u001b[0;34m.\u001b[0m\u001b[0mPEPPER_HOST\u001b[0m\u001b[0;34m,\u001b[0m \u001b[0mconstants\u001b[0m\u001b[0;34m.\u001b[0m\u001b[0mPEPPER_PORT\u001b[0m\u001b[0;34m)\u001b[0m\u001b[0;34m\u001b[0m\u001b[0m\n",
      "\u001b[1;32m      4\u001b[0m \u001b[0;34m\u001b[0m\u001b[0m\n",
      "\u001b[1;32m      5\u001b[0m \u001b[0;31m# bumperDetector.subscribe(\"Device/SubDeviceList/Platform/Back/Bumper/Sensor/Value\")\u001b[0m\u001b[0;34m\u001b[0m\u001b[0;34m\u001b[0m\u001b[0m\n",
      "\n",
      "\u001b[0;31mNameError\u001b[0m: name 'ALProxy' is not defined"
     ]
    }
   ],
   "source": [
    "bumperDetector = ALProxy(\"ALTouch\", constants.PEPPER_HOST, constants.PEPPER_PORT)\n",
    "\n",
    "memory = ALProxy(\"ALMemory\", constants.PEPPER_HOST, constants.PEPPER_PORT)\n",
    "\n",
    "# bumperDetector.subscribe(\"Device/SubDeviceList/Platform/Back/Bumper/Sensor/Value\")\n",
    "\n",
    "\n",
    "\n",
    "touch = bumperDetector.subscriber(\"TouchChanged\")\n",
    "\n",
    "status = memory.getData(\"SoundDetected\")\n",
    "\n",
    "print(touch)\n",
    "\n",
    "print(status)\n",
    "\n",
    "\n",
    "\n",
    "self.touch.signal.connect(functools.partial(self.onTouched, \"TouchChanged\"))\n",
    "\n",
    "\n",
    "\n",
    "def onTouched():\n",
    "\n",
    "    print(\"touched\")"
   ]
  },
  {
   "cell_type": "code",
   "execution_count": null,
   "metadata": {},
   "outputs": [],
   "source": [
    "bumperDetector = ALProxy(\"ALTouch\", PEPPER_HOST, PEPPER_PORT)"
   ]
  },
  {
   "cell_type": "code",
   "execution_count": null,
   "metadata": {},
   "outputs": [
    {
     "ename": "AttributeError",
     "evalue": "'function' object has no attribute 'subscribe'",
     "output_type": "error",
     "traceback": [
      "\u001b[0;31m\u001b[0m\n",
      "\u001b[0;31mAttributeError\u001b[0mTraceback (most recent call last)\n",
      "\u001b[0;32m<ipython-input-13-ec3b56333955>\u001b[0m in \u001b[0;36m<module>\u001b[0;34m()\u001b[0m\n",
      "\u001b[0;32m----> 1\u001b[0;31m \u001b[0mtouch\u001b[0m \u001b[0;34m=\u001b[0m \u001b[0mbumperDetector\u001b[0m\u001b[0;34m.\u001b[0m\u001b[0msession\u001b[0m\u001b[0;34m.\u001b[0m\u001b[0msubscribe\u001b[0m\u001b[0;34m(\u001b[0m\u001b[0;34m\"TouchChanged\"\u001b[0m\u001b[0;34m)\u001b[0m\u001b[0;34m\u001b[0m\u001b[0m\n",
      "\u001b[0m\n",
      "\u001b[0;31mAttributeError\u001b[0m: 'function' object has no attribute 'subscribe'"
     ]
    }
   ],
   "source": [
    "touch = bumperDetector.session.subscribe(\"TouchChanged\")"
   ]
  },
  {
   "cell_type": "code",
   "execution_count": null,
   "metadata": {},
   "outputs": [],
   "source": [
    "memory = ALProxy(\"ALMemory\", PEPPER_HOST, PEPPER_PORT)"
   ]
  },
  {
   "cell_type": "code",
   "execution_count": null,
   "metadata": {},
   "outputs": [
    {
     "ename": "AttributeError",
     "evalue": "Boost.Python function __module__ unknown.",
     "output_type": "error",
     "traceback": [
      "\u001b[0;31m\u001b[0m\n",
      "\u001b[0;31mAttributeError\u001b[0mTraceback (most recent call last)\n",
      "\u001b[0;32m/usr/local/lib/python2.7/site-packages/IPython/core/formatters.pyc\u001b[0m in \u001b[0;36m__call__\u001b[0;34m(self, obj)\u001b[0m\n",
      "\u001b[1;32m    697\u001b[0m                 \u001b[0mtype_pprinters\u001b[0m\u001b[0;34m=\u001b[0m\u001b[0mself\u001b[0m\u001b[0;34m.\u001b[0m\u001b[0mtype_printers\u001b[0m\u001b[0;34m,\u001b[0m\u001b[0;34m\u001b[0m\u001b[0m\n",
      "\u001b[1;32m    698\u001b[0m                 deferred_pprinters=self.deferred_printers)\n",
      "\u001b[0;32m--> 699\u001b[0;31m             \u001b[0mprinter\u001b[0m\u001b[0;34m.\u001b[0m\u001b[0mpretty\u001b[0m\u001b[0;34m(\u001b[0m\u001b[0mobj\u001b[0m\u001b[0;34m)\u001b[0m\u001b[0;34m\u001b[0m\u001b[0m\n",
      "\u001b[0m\u001b[1;32m    700\u001b[0m             \u001b[0mprinter\u001b[0m\u001b[0;34m.\u001b[0m\u001b[0mflush\u001b[0m\u001b[0;34m(\u001b[0m\u001b[0;34m)\u001b[0m\u001b[0;34m\u001b[0m\u001b[0m\n",
      "\u001b[1;32m    701\u001b[0m             \u001b[0;32mreturn\u001b[0m \u001b[0mstream\u001b[0m\u001b[0;34m.\u001b[0m\u001b[0mgetvalue\u001b[0m\u001b[0;34m(\u001b[0m\u001b[0;34m)\u001b[0m\u001b[0;34m\u001b[0m\u001b[0m\n",
      "\n",
      "\u001b[0;32m/usr/local/lib/python2.7/site-packages/IPython/lib/pretty.pyc\u001b[0m in \u001b[0;36mpretty\u001b[0;34m(self, obj)\u001b[0m\n",
      "\u001b[1;32m    384\u001b[0m                 \u001b[0;32mif\u001b[0m \u001b[0mcls\u001b[0m \u001b[0;32min\u001b[0m \u001b[0mself\u001b[0m\u001b[0;34m.\u001b[0m\u001b[0mtype_pprinters\u001b[0m\u001b[0;34m:\u001b[0m\u001b[0;34m\u001b[0m\u001b[0m\n",
      "\u001b[1;32m    385\u001b[0m                     \u001b[0;31m# printer registered in self.type_pprinters\u001b[0m\u001b[0;34m\u001b[0m\u001b[0;34m\u001b[0m\u001b[0m\n",
      "\u001b[0;32m--> 386\u001b[0;31m                     \u001b[0;32mreturn\u001b[0m \u001b[0mself\u001b[0m\u001b[0;34m.\u001b[0m\u001b[0mtype_pprinters\u001b[0m\u001b[0;34m[\u001b[0m\u001b[0mcls\u001b[0m\u001b[0;34m]\u001b[0m\u001b[0;34m(\u001b[0m\u001b[0mobj\u001b[0m\u001b[0;34m,\u001b[0m \u001b[0mself\u001b[0m\u001b[0;34m,\u001b[0m \u001b[0mcycle\u001b[0m\u001b[0;34m)\u001b[0m\u001b[0;34m\u001b[0m\u001b[0m\n",
      "\u001b[0m\u001b[1;32m    387\u001b[0m                 \u001b[0;32melse\u001b[0m\u001b[0;34m:\u001b[0m\u001b[0;34m\u001b[0m\u001b[0m\n",
      "\u001b[1;32m    388\u001b[0m                     \u001b[0;31m# deferred printer\u001b[0m\u001b[0;34m\u001b[0m\u001b[0;34m\u001b[0m\u001b[0m\n",
      "\n",
      "\u001b[0;32m/usr/local/lib/python2.7/site-packages/IPython/lib/pretty.pyc\u001b[0m in \u001b[0;36m_function_pprint\u001b[0;34m(obj, p, cycle)\u001b[0m\n",
      "\u001b[1;32m    711\u001b[0m     \u001b[0;34m\"\"\"Base pprint for all functions and builtin functions.\"\"\"\u001b[0m\u001b[0;34m\u001b[0m\u001b[0m\n",
      "\u001b[1;32m    712\u001b[0m     \u001b[0mname\u001b[0m \u001b[0;34m=\u001b[0m \u001b[0m_safe_getattr\u001b[0m\u001b[0;34m(\u001b[0m\u001b[0mobj\u001b[0m\u001b[0;34m,\u001b[0m \u001b[0;34m'__qualname__'\u001b[0m\u001b[0;34m,\u001b[0m \u001b[0mobj\u001b[0m\u001b[0;34m.\u001b[0m\u001b[0m__name__\u001b[0m\u001b[0;34m)\u001b[0m\u001b[0;34m\u001b[0m\u001b[0m\n",
      "\u001b[0;32m--> 713\u001b[0;31m     \u001b[0mmod\u001b[0m \u001b[0;34m=\u001b[0m \u001b[0mobj\u001b[0m\u001b[0;34m.\u001b[0m\u001b[0m__module__\u001b[0m\u001b[0;34m\u001b[0m\u001b[0m\n",
      "\u001b[0m\u001b[1;32m    714\u001b[0m     \u001b[0;32mif\u001b[0m \u001b[0mmod\u001b[0m \u001b[0;32mand\u001b[0m \u001b[0mmod\u001b[0m \u001b[0;32mnot\u001b[0m \u001b[0;32min\u001b[0m \u001b[0;34m(\u001b[0m\u001b[0;34m'__builtin__'\u001b[0m\u001b[0;34m,\u001b[0m \u001b[0;34m'builtins'\u001b[0m\u001b[0;34m,\u001b[0m \u001b[0;34m'exceptions'\u001b[0m\u001b[0;34m)\u001b[0m\u001b[0;34m:\u001b[0m\u001b[0;34m\u001b[0m\u001b[0m\n",
      "\u001b[1;32m    715\u001b[0m         \u001b[0mname\u001b[0m \u001b[0;34m=\u001b[0m \u001b[0mmod\u001b[0m \u001b[0;34m+\u001b[0m \u001b[0;34m'.'\u001b[0m \u001b[0;34m+\u001b[0m \u001b[0mname\u001b[0m\u001b[0;34m\u001b[0m\u001b[0m\n",
      "\n",
      "\u001b[0;31mAttributeError\u001b[0m: Boost.Python function __module__ unknown."
     ]
    },
    {
     "name": "stderr",
     "output_type": "stream",
     "text": [
      "Exception in thread Thread-4:\n",
      "Traceback (most recent call last):\n",
      "  File \"/usr/local/lib/python2.7/threading.py\", line 801, in __bootstrap_inner\n",
      "    self.run()\n",
      "  File \"/usr/local/lib/python2.7/threading.py\", line 754, in run\n",
      "    self.__target(*self.__args, **self.__kwargs)\n",
      "  File \"interactiveControls.py\", line 66, in colourEyes\n",
      "    self.leds.fadeRGB(\"FaceLeds\", 'white', 1)\n",
      "  File \"/pynaoqi-python2.7-2.5.7.1-linux64/lib/python2.7/site-packages/naoqi.py\", line 194, in __call__\n",
      "    return self.__wrapped__.method_missing(self.__method__, *args, **kwargs)\n",
      "  File \"/pynaoqi-python2.7-2.5.7.1-linux64/lib/python2.7/site-packages/naoqi.py\", line 264, in method_missing\n",
      "    raise e\n",
      "RuntimeError: \tALLeds::fadeRGB\n",
      "\tSession closed\n",
      "\n"
     ]
    }
   ],
   "source": [
    "bumperDetector.session().service"
   ]
  },
  {
   "cell_type": "code",
   "execution_count": null,
   "metadata": {},
   "outputs": [
    {
     "data": {
      "text/plain": [
       "['__class__',\n",
       " '__delattr__',\n",
       " '__dict__',\n",
       " '__doc__',\n",
       " '__format__',\n",
       " '__getattribute__',\n",
       " '__hash__',\n",
       " '__init__',\n",
       " '__module__',\n",
       " '__new__',\n",
       " '__reduce__',\n",
       " '__reduce_ex__',\n",
       " '__repr__',\n",
       " '__setattr__',\n",
       " '__sizeof__',\n",
       " '__str__',\n",
       " '__subclasshook__',\n",
       " '__weakref__',\n",
       " 'async',\n",
       " 'call',\n",
       " 'callModule',\n",
       " 'close',\n",
       " 'connect',\n",
       " 'connected',\n",
       " 'disconnected',\n",
       " 'endpoints',\n",
       " 'isConnected',\n",
       " 'listen',\n",
       " 'listenStandalone',\n",
       " 'loadServiceRename',\n",
       " 'metaObject',\n",
       " 'registerService',\n",
       " 'service',\n",
       " 'serviceRegistered',\n",
       " 'serviceUnregistered',\n",
       " 'services',\n",
       " 'unregisterService',\n",
       " 'url',\n",
       " 'waitForService']"
      ]
     },
     "metadata": {},
     "output_type": "display_data"
    }
   ],
   "source": [
    "dir(bumperDetector.session())"
   ]
  },
  {
   "cell_type": "code",
   "execution_count": null,
   "metadata": {},
   "outputs": [
    {
     "ename": "RuntimeError",
     "evalue": "\tALMemory::subscribeToEvent\n\tArguments types did not match for subscribeToEvent (resolved to '()'):\n  Candidates:\n  subscribeToEvent::(sss) (1)\n  subscribeToEvent::(ssss) (1)\n",
     "output_type": "error",
     "traceback": [
      "\u001b[0;31m\u001b[0m\n",
      "\u001b[0;31mRuntimeError\u001b[0mTraceback (most recent call last)\n",
      "\u001b[0;32m<ipython-input-17-6a3fb9ab962c>\u001b[0m in \u001b[0;36m<module>\u001b[0;34m()\u001b[0m\n",
      "\u001b[0;32m----> 1\u001b[0;31m \u001b[0mtouch\u001b[0m \u001b[0;34m=\u001b[0m \u001b[0mmemory\u001b[0m\u001b[0;34m.\u001b[0m\u001b[0msubscribeToEvent\u001b[0m\u001b[0;34m(\u001b[0m\u001b[0;34m)\u001b[0m\u001b[0;34m\u001b[0m\u001b[0m\n",
      "\u001b[0m\n",
      "\u001b[0;32m/pynaoqi-python2.7-2.5.7.1-linux64/lib/python2.7/site-packages/naoqi.pyc\u001b[0m in \u001b[0;36m__call__\u001b[0;34m(self, *args, **kwargs)\u001b[0m\n",
      "\u001b[1;32m    192\u001b[0m                     \u001b[0mself\u001b[0m\u001b[0;34m.\u001b[0m\u001b[0m__method__\u001b[0m \u001b[0;34m=\u001b[0m \u001b[0mmethod\u001b[0m\u001b[0;34m\u001b[0m\u001b[0m\n",
      "\u001b[1;32m    193\u001b[0m                 \u001b[0;32mdef\u001b[0m \u001b[0m__call__\u001b[0m\u001b[0;34m(\u001b[0m\u001b[0mself\u001b[0m\u001b[0;34m,\u001b[0m \u001b[0;34m*\u001b[0m\u001b[0margs\u001b[0m\u001b[0;34m,\u001b[0m \u001b[0;34m**\u001b[0m\u001b[0mkwargs\u001b[0m\u001b[0;34m)\u001b[0m\u001b[0;34m:\u001b[0m\u001b[0;34m\u001b[0m\u001b[0m\n",
      "\u001b[0;32m--> 194\u001b[0;31m                     \u001b[0;32mreturn\u001b[0m \u001b[0mself\u001b[0m\u001b[0;34m.\u001b[0m\u001b[0m__wrapped__\u001b[0m\u001b[0;34m.\u001b[0m\u001b[0mmethod_missing\u001b[0m\u001b[0;34m(\u001b[0m\u001b[0mself\u001b[0m\u001b[0;34m.\u001b[0m\u001b[0m__method__\u001b[0m\u001b[0;34m,\u001b[0m \u001b[0;34m*\u001b[0m\u001b[0margs\u001b[0m\u001b[0;34m,\u001b[0m \u001b[0;34m**\u001b[0m\u001b[0mkwargs\u001b[0m\u001b[0;34m)\u001b[0m\u001b[0;34m\u001b[0m\u001b[0m\n",
      "\u001b[0m\u001b[1;32m    195\u001b[0m \u001b[0;34m\u001b[0m\u001b[0m\n",
      "\u001b[1;32m    196\u001b[0m             \u001b[0;32mreturn\u001b[0m \u001b[0mMethodMissing\u001b[0m\u001b[0;34m(\u001b[0m\u001b[0mself\u001b[0m\u001b[0;34m,\u001b[0m \u001b[0mattr\u001b[0m\u001b[0;34m)\u001b[0m\u001b[0;34m\u001b[0m\u001b[0m\n",
      "\n",
      "\u001b[0;32m/pynaoqi-python2.7-2.5.7.1-linux64/lib/python2.7/site-packages/naoqi.pyc\u001b[0m in \u001b[0;36mmethod_missing\u001b[0;34m(self, method, *args, **kwargs)\u001b[0m\n",
      "\u001b[1;32m    262\u001b[0m                 \u001b[0mresult\u001b[0m \u001b[0;34m=\u001b[0m \u001b[0mself\u001b[0m\u001b[0;34m.\u001b[0m\u001b[0mpythonCall\u001b[0m\u001b[0;34m(\u001b[0m\u001b[0mlist\u001b[0m\u001b[0;34m)\u001b[0m\u001b[0;34m\u001b[0m\u001b[0m\n",
      "\u001b[1;32m    263\u001b[0m           \u001b[0;32mexcept\u001b[0m \u001b[0mRuntimeError\u001b[0m\u001b[0;34m,\u001b[0m\u001b[0me\u001b[0m\u001b[0;34m:\u001b[0m\u001b[0;34m\u001b[0m\u001b[0m\n",
      "\u001b[0;32m--> 264\u001b[0;31m                 \u001b[0;32mraise\u001b[0m \u001b[0me\u001b[0m\u001b[0;34m\u001b[0m\u001b[0m\n",
      "\u001b[0m\u001b[1;32m    265\u001b[0m                 \u001b[0;31m#print e.args[0]\u001b[0m\u001b[0;34m\u001b[0m\u001b[0;34m\u001b[0m\u001b[0m\n",
      "\u001b[1;32m    266\u001b[0m \u001b[0;34m\u001b[0m\u001b[0m\n",
      "\n",
      "\u001b[0;31mRuntimeError\u001b[0m: \tALMemory::subscribeToEvent\n",
      "\tArguments types did not match for subscribeToEvent (resolved to '()'):\n",
      "  Candidates:\n",
      "  subscribeToEvent::(sss) (1)\n",
      "  subscribeToEvent::(ssss) (1)\n"
     ]
    }
   ],
   "source": [
    "touch = memory.subscribeToEvent()"
   ]
  },
  {
   "cell_type": "code",
   "execution_count": null,
   "metadata": {},
   "outputs": [
    {
     "data": {
      "text/plain": [
       "['__call__',\n",
       " '__class__',\n",
       " '__cmp__',\n",
       " '__delattr__',\n",
       " '__doc__',\n",
       " '__format__',\n",
       " '__func__',\n",
       " '__get__',\n",
       " '__getattribute__',\n",
       " '__hash__',\n",
       " '__init__',\n",
       " '__new__',\n",
       " '__reduce__',\n",
       " '__reduce_ex__',\n",
       " '__repr__',\n",
       " '__self__',\n",
       " '__setattr__',\n",
       " '__sizeof__',\n",
       " '__str__',\n",
       " '__subclasshook__',\n",
       " 'im_class',\n",
       " 'im_func',\n",
       " 'im_self']"
      ]
     },
     "metadata": {},
     "output_type": "display_data"
    }
   ],
   "source": [
    "dir(bumperDetector.session)"
   ]
  }
 ],
 "metadata": {
  "kernelspec": {
   "display_name": "Python 2",
   "language": "python",
   "name": "python2"
  },
  "language_info": {
   "codemirror_mode": {
    "name": "ipython",
    "version": 2
   },
   "file_extension": ".py",
   "mimetype": "text/x-python",
   "name": "python",
   "nbconvert_exporter": "python",
   "pygments_lexer": "ipython2",
   "version": "2.7.18"
  }
 },
 "nbformat": 4,
 "nbformat_minor": 2
}
