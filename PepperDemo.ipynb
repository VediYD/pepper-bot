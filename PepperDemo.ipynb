{
 "cells": [
  {
   "cell_type": "markdown",
   "metadata": {},
   "source": [
    "# PepperOpenDayDemo"
   ]
  },
  {
   "cell_type": "markdown",
   "metadata": {},
   "source": [
    "## Environment Setup"
   ]
  },
  {
   "cell_type": "code",
   "execution_count": 1,
   "metadata": {},
   "outputs": [
    {
     "name": "stdout",
     "output_type": "stream",
     "text": [
      "\u001b[33mDEPRECATION: Python 2.7 reached the end of its life on January 1st, 2020. Please upgrade your Python as Python 2.7 is no longer maintained. A future version of pip will drop support for Python 2.7. More details about Python 2 support in pip, can be found at https://pip.pypa.io/en/latest/development/release-process/#python-2-support\u001b[0m\n",
      "Requirement already satisfied: requests in /usr/local/lib/python2.7/site-packages (2.27.1)\n",
      "Requirement already satisfied: certifi>=2017.4.17 in /usr/local/lib/python2.7/site-packages (from requests) (2021.10.8)\n",
      "Requirement already satisfied: urllib3<1.27,>=1.21.1 in /usr/local/lib/python2.7/site-packages (from requests) (1.26.16)\n",
      "Requirement already satisfied: idna<3,>=2.5; python_version < \"3\" in /usr/local/lib/python2.7/site-packages (from requests) (2.10)\n",
      "Requirement already satisfied: chardet<5,>=3.0.2; python_version < \"3\" in /usr/local/lib/python2.7/site-packages (from requests) (4.0.0)\n",
      "\u001b[33mWARNING: You are using pip version 20.0.2; however, version 20.3.4 is available.\n",
      "You should consider upgrading via the '/usr/local/bin/python -m pip install --upgrade pip' command.\u001b[0m\n",
      "\u001b[33mDEPRECATION: Python 2.7 reached the end of its life on January 1st, 2020. Please upgrade your Python as Python 2.7 is no longer maintained. A future version of pip will drop support for Python 2.7. More details about Python 2 support in pip, can be found at https://pip.pypa.io/en/latest/development/release-process/#python-2-support\u001b[0m\n",
      "Requirement already satisfied: speechrecognition==3.8.1 in /usr/local/lib/python2.7/site-packages (3.8.1)\n",
      "\u001b[33mWARNING: You are using pip version 20.0.2; however, version 20.3.4 is available.\n",
      "You should consider upgrading via the '/usr/local/bin/python -m pip install --upgrade pip' command.\u001b[0m\n",
      "\u001b[33mDEPRECATION: Python 2.7 reached the end of its life on January 1st, 2020. Please upgrade your Python as Python 2.7 is no longer maintained. A future version of pip will drop support for Python 2.7. More details about Python 2 support in pip, can be found at https://pip.pypa.io/en/latest/development/release-process/#python-2-support\u001b[0m\n",
      "Requirement already satisfied: paramiko in /usr/local/lib/python2.7/site-packages (2.12.0)\n",
      "Requirement already satisfied: cryptography>=2.5 in /usr/local/lib/python2.7/site-packages (from paramiko) (3.3.2)\n",
      "Requirement already satisfied: six in /usr/local/lib/python2.7/site-packages (from paramiko) (1.14.0)\n",
      "Requirement already satisfied: pynacl>=1.0.1 in /usr/local/lib/python2.7/site-packages (from paramiko) (1.4.0)\n",
      "Requirement already satisfied: bcrypt>=3.1.3 in /usr/local/lib/python2.7/site-packages (from paramiko) (3.1.7)\n",
      "Requirement already satisfied: cffi>=1.12 in /usr/local/lib/python2.7/site-packages (from cryptography>=2.5->paramiko) (1.15.1)\n",
      "Requirement already satisfied: ipaddress; python_version < \"3\" in /usr/local/lib/python2.7/site-packages (from cryptography>=2.5->paramiko) (1.0.23)\n",
      "Requirement already satisfied: enum34; python_version < \"3\" in /usr/local/lib/python2.7/site-packages (from cryptography>=2.5->paramiko) (1.1.10)\n",
      "Requirement already satisfied: pycparser in /usr/local/lib/python2.7/site-packages (from cffi>=1.12->cryptography>=2.5->paramiko) (2.21)\n",
      "\u001b[33mWARNING: You are using pip version 20.0.2; however, version 20.3.4 is available.\n",
      "You should consider upgrading via the '/usr/local/bin/python -m pip install --upgrade pip' command.\u001b[0m\n",
      "\u001b[33mDEPRECATION: Python 2.7 reached the end of its life on January 1st, 2020. Please upgrade your Python as Python 2.7 is no longer maintained. A future version of pip will drop support for Python 2.7. More details about Python 2 support in pip, can be found at https://pip.pypa.io/en/latest/development/release-process/#python-2-support\u001b[0m\n",
      "Requirement already satisfied: pandas in /usr/local/lib/python2.7/site-packages (0.24.2)\n",
      "Requirement already satisfied: numpy>=1.12.0 in /usr/local/lib/python2.7/site-packages (from pandas) (1.16.6)\n",
      "Requirement already satisfied: python-dateutil>=2.5.0 in /usr/local/lib/python2.7/site-packages (from pandas) (2.8.2)\n",
      "Requirement already satisfied: pytz>=2011k in /usr/local/lib/python2.7/site-packages (from pandas) (2023.3)\n",
      "Requirement already satisfied: six>=1.5 in /usr/local/lib/python2.7/site-packages (from python-dateutil>=2.5.0->pandas) (1.14.0)\n",
      "\u001b[33mWARNING: You are using pip version 20.0.2; however, version 20.3.4 is available.\n",
      "You should consider upgrading via the '/usr/local/bin/python -m pip install --upgrade pip' command.\u001b[0m\n"
     ]
    }
   ],
   "source": [
    "# built-in imports\n",
    "!pip install requests\n",
    "!pip install speechrecognition==3.8.1\n",
    "!pip install paramiko\n",
    "!pip install pandas"
   ]
  },
  {
   "cell_type": "code",
   "execution_count": 2,
   "metadata": {},
   "outputs": [
    {
     "name": "stderr",
     "output_type": "stream",
     "text": [
      "/usr/local/lib/python2.7/site-packages/paramiko/transport.py:33: CryptographyDeprecationWarning: Python 2 is no longer supported by the Python core team. Support for it is now deprecated in cryptography, and will be removed in the next release.\n",
      "  from cryptography.hazmat.backends import default_backend\n"
     ]
    }
   ],
   "source": [
    "### Naoqi Related Imports ###\n",
    "import naoqi\n",
    "from naoqi import qi\n",
    "from naoqi import ALProxy\n",
    "\n",
    "### System Related Imports ###\n",
    "import fileinput, os, shutil, sys, random, threading, time\n",
    "\n",
    "### Flask Related Imports ###\n",
    "import json, requests\n",
    "\n",
    "### Speech Recognition Imports ###\n",
    "import pandas as pd\n",
    "import paramiko\n",
    "import speech_recognition as sr"
   ]
  },
  {
   "cell_type": "code",
   "execution_count": 3,
   "metadata": {},
   "outputs": [],
   "source": [
    "### Custom File Handing Imports ###\n",
    "from fileTransfer import *\n",
    "\n",
    "### Custom Idle Behaviour Imports ###\n",
    "from idle import *\n",
    "\n",
    "### Custom Page Display Imports ###\n",
    "from displayGeneration import *\n",
    "\n",
    "### Custom Interaction, Behaviour and Display Imports ###\n",
    "from interactiveControls import *\n",
    "\n",
    "### Custom Hard-Coded Prompt Imports ###\n",
    "from prompts import *\n",
    "\n",
    "### Main Interaction Imports ###\n",
    "from humanInteraction import *"
   ]
  },
  {
   "cell_type": "markdown",
   "metadata": {},
   "source": [
    "## Constants"
   ]
  },
  {
   "cell_type": "code",
   "execution_count": 4,
   "metadata": {},
   "outputs": [],
   "source": [
    "### Networking Constants ###\n",
    "GPT_HOST = \"10.104.23.208\"\n",
    "PEPPER_HOST = \"10.104.23.185\"\n",
    "GPT_PORT = 8891\n",
    "PEPPER_PORT = 9559\n",
    "\n",
    "### Audio Processing Constants ###\n",
    "PEPPER_RECORDINGS_PATH = \"/home/nao/microphones/recording.wav\"\n",
    "SERVER_RECORDINGS_PATH = \"recordings/recording.wav\"\n",
    "\n",
    "### Display Generation Constants ###\n",
    "FILE_NAME_TEMP = \"display.html\"\n",
    "PEPPER_HTML_PATH = \"/home/nao/.local/share/PackageManager/apps/robot-page/html/\"  # page.html\"\n",
    "PEPPER_PAGE_LANDING = PEPPER_HTML_PATH + \"page.html\" # '/home/nao/.local/share/PackageManager/apps/robot-page/html/page.html'\n",
    "PEPPER_QR_LANDING = PEPPER_HTML_PATH + \"webfiles/qr.png\"  # switched slash direction\n",
    "PEPPER_IMG_LANDING = PEPPER_HTML_PATH + \"webfiles/img.png\"  # switched slash direction\n",
    "TEXT_BY_ID_PATH = \"textbyID.csv\""
   ]
  },
  {
   "cell_type": "markdown",
   "metadata": {},
   "source": [
    "## MAIN"
   ]
  },
  {
   "cell_type": "code",
   "execution_count": 5,
   "metadata": {},
   "outputs": [
    {
     "ename": "AttributeError",
     "evalue": "'NoneType' object has no attribute 'join'",
     "output_type": "error",
     "traceback": [
      "\u001b[0;31m\u001b[0m",
      "\u001b[0;31mAttributeError\u001b[0mTraceback (most recent call last)",
      "\u001b[0;32m<ipython-input-5-40c80faaec75>\u001b[0m in \u001b[0;36m<module>\u001b[0;34m()\u001b[0m\n\u001b[1;32m     32\u001b[0m     \u001b[0mstopListening\u001b[0m\u001b[0;34m(\u001b[0m\u001b[0;34m)\u001b[0m\u001b[0;34m\u001b[0m\u001b[0m\n\u001b[1;32m     33\u001b[0m     \u001b[0mreturn_to_default_pos\u001b[0m\u001b[0;34m(\u001b[0m\u001b[0;34m)\u001b[0m\u001b[0;34m\u001b[0m\u001b[0m\n\u001b[0;32m---> 34\u001b[0;31m     \u001b[0midle\u001b[0m\u001b[0;34m.\u001b[0m\u001b[0mstop\u001b[0m\u001b[0;34m(\u001b[0m\u001b[0;34m)\u001b[0m\u001b[0;34m\u001b[0m\u001b[0m\n\u001b[0m\u001b[1;32m     35\u001b[0m     \u001b[0;32mprint\u001b[0m\u001b[0;34m(\u001b[0m\u001b[0;34m'Goodbye'\u001b[0m\u001b[0;34m)\u001b[0m\u001b[0;34m\u001b[0m\u001b[0m\n",
      "\u001b[0;32m/app/idle.py\u001b[0m in \u001b[0;36mstop\u001b[0;34m(self)\u001b[0m\n\u001b[1;32m     70\u001b[0m         \u001b[0mself\u001b[0m\u001b[0;34m.\u001b[0m\u001b[0mbehavior\u001b[0m\u001b[0;34m.\u001b[0m\u001b[0mstopAllBehaviors\u001b[0m\u001b[0;34m(\u001b[0m\u001b[0;34m)\u001b[0m\u001b[0;34m\u001b[0m\u001b[0m\n\u001b[1;32m     71\u001b[0m         \u001b[0mself\u001b[0m\u001b[0;34m.\u001b[0m\u001b[0mleds\u001b[0m\u001b[0;34m.\u001b[0m\u001b[0mfadeRGB\u001b[0m\u001b[0;34m(\u001b[0m\u001b[0;34m'FaceLeds'\u001b[0m\u001b[0;34m,\u001b[0m \u001b[0;34m'white'\u001b[0m\u001b[0;34m,\u001b[0m \u001b[0;36m1\u001b[0m\u001b[0;34m)\u001b[0m\u001b[0;34m\u001b[0m\u001b[0m\n\u001b[0;32m---> 72\u001b[0;31m         \u001b[0mself\u001b[0m\u001b[0;34m.\u001b[0m\u001b[0midle_thread\u001b[0m\u001b[0;34m.\u001b[0m\u001b[0mjoin\u001b[0m\u001b[0;34m(\u001b[0m\u001b[0;36m0\u001b[0m\u001b[0;34m)\u001b[0m\u001b[0;34m\u001b[0m\u001b[0m\n\u001b[0m",
      "\u001b[0;31mAttributeError\u001b[0m: 'NoneType' object has no attribute 'join'"
     ]
    }
   ],
   "source": [
    "global idle\n",
    "global responsesPipeline\n",
    "global eyes\n",
    "\n",
    "idle = idling()\n",
    "eyes = eyesController()\n",
    "\n",
    "try:\n",
    "    track_head()\n",
    "\n",
    "    while True:\n",
    "        # Empty sentences list\n",
    "        responsesPipeline = []\n",
    "        \n",
    "        # Idle behaviors to keep peppers temperature low\n",
    "        idle.start_idle_behavior()\n",
    "\n",
    "        # trigger smart listen\n",
    "        detect()\n",
    "        idle.stop()\n",
    "        \n",
    "        ## If speech detected record up to 15 seconds of audio\n",
    "        query = listen()\n",
    "\n",
    "        # get gpt response\n",
    "        think(query, responsesPipeline)\n",
    "    \n",
    "except KeyboardInterrupt:\n",
    "    stopListening()\n",
    "\n",
    "finally:\n",
    "    stopListening()\n",
    "    return_to_default_pos()\n",
    "    idle.stop()\n",
    "    print('Goodbye')"
   ]
  },
  {
   "cell_type": "code",
   "execution_count": null,
   "metadata": {},
   "outputs": [],
   "source": []
  }
 ],
 "metadata": {
  "kernelspec": {
   "display_name": "Python 2",
   "language": "python",
   "name": "python2"
  },
  "language_info": {
   "codemirror_mode": {
    "name": "ipython",
    "version": 2
   },
   "file_extension": ".py",
   "mimetype": "text/x-python",
   "name": "python",
   "nbconvert_exporter": "python",
   "pygments_lexer": "ipython2",
   "version": "2.7.18"
  },
  "orig_nbformat": 4
 },
 "nbformat": 4,
 "nbformat_minor": 2
}
