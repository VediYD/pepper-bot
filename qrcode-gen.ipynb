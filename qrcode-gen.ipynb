{
 "cells": [
  {
   "cell_type": "code",
   "execution_count": 33,
   "id": "4a104fa6-1a2e-4463-a05e-f82125fe15ef",
   "metadata": {
    "tags": []
   },
   "outputs": [
    {
     "name": "stdout",
     "output_type": "stream",
     "text": [
      "\u001b[33mWARNING: The directory '/home/jovyan/.cache/pip' or its parent directory is not owned or is not writable by the current user. The cache has been disabled. Check the permissions and owner of that directory. If executing pip with sudo, you should use sudo's -H flag.\u001b[0m\u001b[33m\n",
      "\u001b[0mCollecting pyqrcode\n",
      "  Downloading PyQRCode-1.2.1.zip (41 kB)\n",
      "\u001b[2K     \u001b[90m━━━━━━━━━━━━━━━━━━━━━━━━━━━━━━━━━━━━━━━━\u001b[0m \u001b[32m41.9/41.9 kB\u001b[0m \u001b[31m3.9 MB/s\u001b[0m eta \u001b[36m0:00:00\u001b[0m\n",
      "\u001b[?25h  Preparing metadata (setup.py) ... \u001b[?25ldone\n",
      "\u001b[?25hBuilding wheels for collected packages: pyqrcode\n",
      "  Building wheel for pyqrcode (setup.py) ... \u001b[?25ldone\n",
      "\u001b[?25h  Created wheel for pyqrcode: filename=PyQRCode-1.2.1-py3-none-any.whl size=36228 sha256=a326268f0d45a358fea9752132436fcc37bc5a6aad953f6f278221c4a8e1f6b4\n",
      "  Stored in directory: /tmp/pip-ephem-wheel-cache-silz29ns/wheels/34/2d/20/082874e49a32cdcc87ebaf99dd0099fb7774ef30f010dfb6f2\n",
      "Successfully built pyqrcode\n",
      "Installing collected packages: pyqrcode\n",
      "Successfully installed pyqrcode-1.2.1\n",
      "\u001b[33mWARNING: Running pip as the 'root' user can result in broken permissions and conflicting behaviour with the system package manager. It is recommended to use a virtual environment instead: https://pip.pypa.io/warnings/venv\u001b[0m\u001b[33m\n",
      "\u001b[0m\u001b[33mWARNING: The directory '/home/jovyan/.cache/pip' or its parent directory is not owned or is not writable by the current user. The cache has been disabled. Check the permissions and owner of that directory. If executing pip with sudo, you should use sudo's -H flag.\u001b[0m\u001b[33m\n",
      "\u001b[0mRequirement already satisfied: qrcode in /opt/conda/lib/python3.10/site-packages (7.4.2)\n",
      "Requirement already satisfied: typing-extensions in /opt/conda/lib/python3.10/site-packages (from qrcode) (4.5.0)\n",
      "Requirement already satisfied: pypng in /opt/conda/lib/python3.10/site-packages (from qrcode) (0.20220715.0)\n",
      "\u001b[33mWARNING: Running pip as the 'root' user can result in broken permissions and conflicting behaviour with the system package manager. It is recommended to use a virtual environment instead: https://pip.pypa.io/warnings/venv\u001b[0m\u001b[33m\n",
      "\u001b[0m"
     ]
    }
   ],
   "source": [
    "!pip install pyqrcode\n",
    "!pip install qrcode"
   ]
  },
  {
   "cell_type": "code",
   "execution_count": 35,
   "id": "184599b6-3657-43b4-9630-5471fa8a9f98",
   "metadata": {
    "tags": []
   },
   "outputs": [
    {
     "data": {
      "image/png": "[encoded data removed]",
      "text/plain": [
       "<PIL.Image.Image image mode=RGBA size=370x370>"
      ]
     },
     "execution_count": 35,
     "metadata": {},
     "output_type": "execute_result"
    }
   ],
   "source": [
    "from PIL      import Image\n",
    "from pyqrcode import QRCode \n",
    "\n",
    "\n",
    "def generate_qr(data, _logo, logo_size=10):\n",
    "    qr = QRCode(\n",
    "        data,\n",
    "        error='H'\n",
    "    ).png('temp.png', scale=10)\n",
    "    \n",
    "    img = Image.open('temp.png').convert('RGBA')\n",
    "    imgsize = img.size\n",
    "    \n",
    "    xmin = ymin = int((imgsize[0] / 2) - (logo_size / 2))\n",
    "    xmax = ymax = int((imgsize[0] / 2) + (logo_size / 2))\n",
    "    \n",
    "    _logo = _logo.resize((xmax - xmin, ymax - ymin))\n",
    "    img.paste(_logo, (xmin, ymin, xmax, ymax))\n",
    "    return img\n",
    "\n",
    "\n",
    "logo = Image.open('logo.png')\n",
    "generate_qr('https://www.google.com/', logo, logo_size=100)"
   ]
  },
  {
   "cell_type": "code",
   "execution_count": 37,
   "id": "28b01126-5224-4ade-9b40-2aa15cbbdcf0",
   "metadata": {
    "tags": []
   },
   "outputs": [],
   "source": [
    "from pandas import read_csv\n",
    "from os.path import exists\n",
    "from os import mkdir\n",
    "\n",
    "\n",
    "if not exists('./qrcodes/'):\n",
    "    mkdir('qrcodes')\n",
    "\n",
    "course_data = read_csv('course-data.csv')\n",
    "urls = 'https:' + course_data.url\n",
    "for course, url in zip(course_data.course_name.str.replace('/', ' '), urls):\n",
    "    generate_qr(url, logo, logo_size=100).save(f'qrcodes/{course}.png')"
   ]
  },
  {
   "cell_type": "code",
   "execution_count": null,
   "id": "1a5acfc8-03b8-4e90-b948-158a659c7287",
   "metadata": {},
   "outputs": [],
   "source": []
  }
 ],
 "metadata": {
  "kernelspec": {
   "display_name": "Python 3 (ipykernel)",
   "language": "python",
   "name": "python3"
  },
  "language_info": {
   "codemirror_mode": {
    "name": "ipython",
    "version": 3
   },
   "file_extension": ".py",
   "mimetype": "text/x-python",
   "name": "python",
   "nbconvert_exporter": "python",
   "pygments_lexer": "ipython3",
   "version": "3.10.10"
  }
 },
 "nbformat": 4,
 "nbformat_minor": 5
}
