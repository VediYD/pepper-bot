{
 "cells": [
  {
   "cell_type": "code",
   "execution_count": 25,
   "id": "99b8a40d-9318-4ea3-b473-c2035306f74a",
   "metadata": {
    "tags": []
   },
   "outputs": [
    {
     "data": {
      "text/html": [
       "<div>\n",
       "<style scoped>\n",
       "    .dataframe tbody tr th:only-of-type {\n",
       "        vertical-align: middle;\n",
       "    }\n",
       "\n",
       "    .dataframe tbody tr th {\n",
       "        vertical-align: top;\n",
       "    }\n",
       "\n",
       "    .dataframe thead th {\n",
       "        text-align: right;\n",
       "    }\n",
       "</style>\n",
       "<table border=\"1\" class=\"dataframe\">\n",
       "  <thead>\n",
       "    <tr style=\"text-align: right;\">\n",
       "      <th></th>\n",
       "      <th>input</th>\n",
       "      <th>label</th>\n",
       "    </tr>\n",
       "  </thead>\n",
       "  <tbody>\n",
       "    <tr>\n",
       "      <th>0</th>\n",
       "      <td>Wow, you're a robot? That's so cool!</td>\n",
       "      <td>C</td>\n",
       "    </tr>\n",
       "    <tr>\n",
       "      <th>1</th>\n",
       "      <td>Hi Pepper, nice to meet you. You're very cute.</td>\n",
       "      <td>C</td>\n",
       "    </tr>\n",
       "    <tr>\n",
       "      <th>2</th>\n",
       "      <td>Hello Pepper, I'm looking for some information...</td>\n",
       "      <td>DQ</td>\n",
       "    </tr>\n",
       "    <tr>\n",
       "      <th>3</th>\n",
       "      <td>Hi there, Pepper! You seem like a fun robot. D...</td>\n",
       "      <td>FQ</td>\n",
       "    </tr>\n",
       "    <tr>\n",
       "      <th>4</th>\n",
       "      <td>Hello and welcome to you too, Pepper. I'm curi...</td>\n",
       "      <td>FQ</td>\n",
       "    </tr>\n",
       "    <tr>\n",
       "      <th>5</th>\n",
       "      <td>G'day, Pepper. You're a ripper of a robot. How...</td>\n",
       "      <td>FQ</td>\n",
       "    </tr>\n",
       "    <tr>\n",
       "      <th>6</th>\n",
       "      <td>Hi Pepper, you're amazing. I love robots. Can ...</td>\n",
       "      <td>RQ</td>\n",
       "    </tr>\n",
       "    <tr>\n",
       "      <th>7</th>\n",
       "      <td>Hello Pepper, nice to see you. You look very s...</td>\n",
       "      <td>FQ</td>\n",
       "    </tr>\n",
       "    <tr>\n",
       "      <th>8</th>\n",
       "      <td>Hi there, Pepper. I need some help finding the...</td>\n",
       "      <td>RQ</td>\n",
       "    </tr>\n",
       "    <tr>\n",
       "      <th>9</th>\n",
       "      <td>Hello Pepper, you're very helpful. I want to k...</td>\n",
       "      <td>DQ</td>\n",
       "    </tr>\n",
       "    <tr>\n",
       "      <th>10</th>\n",
       "      <td>Hi Pepper, how are you? I'm just browsing arou...</td>\n",
       "      <td>RQ</td>\n",
       "    </tr>\n",
       "    <tr>\n",
       "      <th>11</th>\n",
       "      <td>Hello Pepper, my name is John and I am a human...</td>\n",
       "      <td>C</td>\n",
       "    </tr>\n",
       "    <tr>\n",
       "      <th>12</th>\n",
       "      <td>Hello Pepper, thank you for your service. You'...</td>\n",
       "      <td>RQ</td>\n",
       "    </tr>\n",
       "    <tr>\n",
       "      <th>13</th>\n",
       "      <td>Hello Pepper, that's a nice name. How did you ...</td>\n",
       "      <td>FQ</td>\n",
       "    </tr>\n",
       "    <tr>\n",
       "      <th>14</th>\n",
       "      <td>Hi Pepper, you're so friendly. Do you have any...</td>\n",
       "      <td>FQ</td>\n",
       "    </tr>\n",
       "    <tr>\n",
       "      <th>15</th>\n",
       "      <td>Hi there, Pepper. You're a great companion. Do...</td>\n",
       "      <td>FQ</td>\n",
       "    </tr>\n",
       "    <tr>\n",
       "      <th>16</th>\n",
       "      <td>Hi Pepper, you're awesome. Do you have any fee...</td>\n",
       "      <td>FQ</td>\n",
       "    </tr>\n",
       "    <tr>\n",
       "      <th>17</th>\n",
       "      <td>Hello and thank you! I'll call you Pepper. You...</td>\n",
       "      <td>C</td>\n",
       "    </tr>\n",
       "    <tr>\n",
       "      <th>18</th>\n",
       "      <td>Hello and greetings! I won't call you Pepper. ...</td>\n",
       "      <td>C</td>\n",
       "    </tr>\n",
       "    <tr>\n",
       "      <th>19</th>\n",
       "      <td>Hello and wow! I can call you Pepper? You're a...</td>\n",
       "      <td>C</td>\n",
       "    </tr>\n",
       "  </tbody>\n",
       "</table>\n",
       "</div>"
      ],
      "text/plain": [
       "                                                input label\n",
       "0                Wow, you're a robot? That's so cool!     C\n",
       "1      Hi Pepper, nice to meet you. You're very cute.     C\n",
       "2   Hello Pepper, I'm looking for some information...    DQ\n",
       "3   Hi there, Pepper! You seem like a fun robot. D...    FQ\n",
       "4   Hello and welcome to you too, Pepper. I'm curi...    FQ\n",
       "5   G'day, Pepper. You're a ripper of a robot. How...    FQ\n",
       "6   Hi Pepper, you're amazing. I love robots. Can ...    RQ\n",
       "7   Hello Pepper, nice to see you. You look very s...    FQ\n",
       "8   Hi there, Pepper. I need some help finding the...    RQ\n",
       "9   Hello Pepper, you're very helpful. I want to k...    DQ\n",
       "10  Hi Pepper, how are you? I'm just browsing arou...    RQ\n",
       "11  Hello Pepper, my name is John and I am a human...     C\n",
       "12  Hello Pepper, thank you for your service. You'...    RQ\n",
       "13  Hello Pepper, that's a nice name. How did you ...    FQ\n",
       "14  Hi Pepper, you're so friendly. Do you have any...    FQ\n",
       "15  Hi there, Pepper. You're a great companion. Do...    FQ\n",
       "16  Hi Pepper, you're awesome. Do you have any fee...    FQ\n",
       "17  Hello and thank you! I'll call you Pepper. You...     C\n",
       "18  Hello and greetings! I won't call you Pepper. ...     C\n",
       "19  Hello and wow! I can call you Pepper? You're a...     C"
      ]
     },
     "execution_count": 25,
     "metadata": {},
     "output_type": "execute_result"
    }
   ],
   "source": [
    "from pandas import DataFrame\n",
    "\n",
    "\n",
    "temp = {\n",
    "    'input': [\n",
    "        \"Wow, you're a robot? That's so cool!\",\n",
    "        \"Hi Pepper, nice to meet you. You're very cute.\",\n",
    "        \"Hello Pepper, I'm looking for some information about Deakin courses. Can you help me with that?\",\n",
    "        'Hi there, Pepper! You seem like a fun robot. Do you have any jokes to tell?',\n",
    "        \"Hello and welcome to you too, Pepper. I'm curious about your personality. What do you like to do?\",\n",
    "        \"G'day, Pepper. You're a ripper of a robot. How's it going?\",\n",
    "        \"Hi Pepper, you're amazing. I love robots. Can I hug you?\",\n",
    "        'Hello Pepper, nice to see you. You look very smart. What can you do?',\n",
    "        'Hi there, Pepper. I need some help finding the bathroom. Can you show me the way?',\n",
    "        \"Hello Pepper, you're very helpful. I want to know more about Deakin scholarships. Can you tell me about them?\",\n",
    "        \"Hi Pepper, how are you? I'm just browsing around. Do you have any recommendations?\",\n",
    "        'Hello Pepper, my name is John and I am a human visitor at your mercy.',\n",
    "        \"Hello Pepper, thank you for your service. You're doing a great job. Can I give you some feedback?\",\n",
    "        \"Hello Pepper, that's a nice name. How did you get it? Can I choose a different name for you?\",\n",
    "        \"Hi Pepper, you're so friendly. Do you have any friends? Can I be your friend?\",\n",
    "        \"Hi there, Pepper. You're a great companion. Do you have any hobbies? Can I join you?\",\n",
    "        \"Hi Pepper, you're awesome. Do you have any feelings? Can I make you happy?\",\n",
    "        \"Hello and thank you! I'll call you Pepper. You're a robot with a charm!\",\n",
    "        \"Hello and greetings! I won't call you Pepper. You're a robot with a flaw!\",\n",
    "        \"Hello and wow! I can call you Pepper? You're a robot with a surprise!\"], \n",
    "    'label': [\n",
    "        'C',\n",
    "        'C',\n",
    "        'DQ',\n",
    "        'FQ',\n",
    "        'FQ',\n",
    "        'FQ',\n",
    "        'RQ',\n",
    "        'FQ',\n",
    "        'RQ',\n",
    "        'DQ',\n",
    "        'RQ',\n",
    "        'C',\n",
    "        'RQ',\n",
    "        'FQ',\n",
    "        'FQ',\n",
    "        'FQ',\n",
    "        'FQ',\n",
    "        'C',\n",
    "        'C',\n",
    "        'C'\n",
    "    ]\n",
    "}\n",
    "\n",
    "DataFrame(temp)"
   ]
  },
  {
   "cell_type": "code",
   "execution_count": null,
   "id": "5861d3bd-668c-4c0b-af81-a1ef235b99d5",
   "metadata": {},
   "outputs": [],
   "source": []
  },
  {
   "cell_type": "code",
   "execution_count": null,
   "id": "76b0f293-4b52-4baf-acf2-2997f4a642ee",
   "metadata": {},
   "outputs": [],
   "source": []
  },
  {
   "cell_type": "code",
   "execution_count": null,
   "id": "6f997de0-c00e-44ca-aa6c-c52669550535",
   "metadata": {},
   "outputs": [],
   "source": []
  },
  {
   "cell_type": "code",
   "execution_count": null,
   "id": "b3df656b-fb16-49f6-bd35-2472fae64f66",
   "metadata": {},
   "outputs": [],
   "source": []
  },
  {
   "cell_type": "code",
   "execution_count": null,
   "id": "8bbdcf26-b15c-476f-9d0e-41fb32f00b1c",
   "metadata": {},
   "outputs": [],
   "source": []
  },
  {
   "cell_type": "code",
   "execution_count": null,
   "id": "5cf39366-36a2-4e92-81e7-32c6d33fa2bf",
   "metadata": {},
   "outputs": [],
   "source": []
  },
  {
   "cell_type": "code",
   "execution_count": null,
   "id": "f58504c5-6979-44c7-b56a-5eb0b14f2978",
   "metadata": {},
   "outputs": [],
   "source": []
  },
  {
   "cell_type": "code",
   "execution_count": null,
   "id": "91a71651-f59e-4b79-b7d9-503d02fafcc6",
   "metadata": {},
   "outputs": [],
   "source": []
  },
  {
   "cell_type": "code",
   "execution_count": 1,
   "id": "428f3141-f8f1-4f7b-9c45-89b9bf95a4a3",
   "metadata": {
    "tags": []
   },
   "outputs": [],
   "source": [
    "from langchain.chains           import LLMChain\n",
    "from langchain.document_loaders import DataFrameLoader\n",
    "from langchain.llms             import GPT4All\n",
    "from langchain.embeddings       import HuggingFaceEmbeddings\n",
    "from langchain.text_splitter    import RecursiveCharacterTextSplitter\n",
    "from langchain.vectorstores     import Chroma\n",
    "from langchain.prompts          import PromptTemplate\n",
    "from langchain.memory           import ConversationBufferMemory\n",
    "\n",
    "from pandas import read_csv"
   ]
  },
  {
   "cell_type": "code",
   "execution_count": 2,
   "id": "293af630-29cf-4e84-a6f0-d32cdc5ff149",
   "metadata": {
    "tags": []
   },
   "outputs": [],
   "source": [
    "# load and process the data as document object\n",
    "data = read_csv('course-data-small.csv')[['course_name', 'overview']]\n",
    "data['content'] = data['course_name'] + ' ' + data.overview\n",
    "data['content'] = data.content.str.replace('’', '').str.replace('^', ' ')\n",
    "loader = DataFrameLoader(data[['content']], page_content_column='content')\n",
    "document = loader.load_and_split()"
   ]
  },
  {
   "cell_type": "code",
   "execution_count": 3,
   "id": "574cbd36-f99c-42fe-b4c1-2e5d02ad6b4a",
   "metadata": {
    "tags": []
   },
   "outputs": [
    {
     "name": "stderr",
     "output_type": "stream",
     "text": [
      "/opt/conda/lib/python3.10/site-packages/tqdm/auto.py:21: TqdmWarning: IProgress not found. Please update jupyter and ipywidgets. See https://ipywidgets.readthedocs.io/en/stable/user_install.html\n",
      "  from .autonotebook import tqdm as notebook_tqdm\n"
     ]
    }
   ],
   "source": [
    "# create chroma db object from the documents for quick search using sentence transformer\n",
    "embeddings = HuggingFaceEmbeddings(model_name='sentence-transformers/all-MiniLM-L6-v2')\n",
    "db = Chroma.from_documents(document, embeddings,)"
   ]
  },
  {
   "cell_type": "code",
   "execution_count": 4,
   "id": "c58a57a5-d68f-4ac3-aae8-91dc46003543",
   "metadata": {
    "tags": []
   },
   "outputs": [
    {
     "name": "stdout",
     "output_type": "stream",
     "text": [
      "Found model file.\n",
      "gptj_model_load: loading model from '/app/ggml-gpt4all-j-v1.3-groovy.bin' - please wait ...\n",
      "gptj_model_load: n_vocab = 50400\n",
      "gptj_model_load: n_ctx   = 2048\n",
      "gptj_model_load: n_embd  = 4096\n",
      "gptj_model_load: n_head  = 16\n",
      "gptj_model_load: n_layer = 28\n",
      "gptj_model_load: n_rot   = 64\n",
      "gptj_model_load: f16     = 2\n",
      "gptj_model_load: ggml ctx size = 5401.45 MB\n",
      "gptj_model_load: kv self size  =  896.00 MB\n",
      "gptj_model_load: ................................... done\n",
      "gptj_model_load: model size =  3609.38 MB / num tensors = 285\n"
     ]
    }
   ],
   "source": [
    "# load the gpt model\n",
    "model_path = '/app/ggml-gpt4all-j-v1.3-groovy.bin'\n",
    "llm = GPT4All(model=model_path, verbose=True, seed=42)"
   ]
  },
  {
   "cell_type": "code",
   "execution_count": 10,
   "id": "2626f17d-0fe7-4ab9-8aa6-7fcf54f82e63",
   "metadata": {
    "tags": []
   },
   "outputs": [],
   "source": [
    "template = \"\"\"\n",
    "You are a Pepper robot at Deakin University Open Day. \n",
    "You are helping to answer student queries and provide entertainment. \n",
    "I will tell you what the person said. \n",
    "You need to give me a brief friendly response that Pepper can say in reply.\n",
    "\n",
    "{chat_history}\n",
    "Human: {human_input}\n",
    "Chatbot:\n",
    "\"\"\"\n",
    "\n",
    "\n",
    "prompt = PromptTemplate(\n",
    "    input_variables=[\"chat_history\", \"human_input\"], template=template\n",
    ")\n",
    "memory = ConversationBufferMemory(memory_key=\"chat_history\")\n",
    "llm_chain = LLMChain(prompt=prompt, llm=llm, memory=memory)"
   ]
  },
  {
   "cell_type": "code",
   "execution_count": 12,
   "id": "1ff3be41-054f-4c6e-8753-672f1aa51c66",
   "metadata": {
    "tags": []
   },
   "outputs": [
    {
     "name": "stdout",
     "output_type": "stream",
     "text": [
      "Hi, it's great seeing so many new faces here today at DeaKin University Open Day! How are your classes going? Is everything running smoothly over the break period this year? Let us know and we'll be happy to help you out with any questions or concerns. Thanks for choosing Pepper as a conversation partner on these exciting occasions - stay tuned, lots more details coming up soon ;)\n"
     ]
    },
    {
     "data": {
      "text/plain": [
       "\"Hi, it's great seeing so many new faces here today at DeaKin University Open Day! How are your classes going? Is everything running smoothly over the break period this year? Let us know and we'll be happy to help you out with any questions or concerns. Thanks for choosing Pepper as a conversation partner on these exciting occasions - stay tuned, lots more details coming up soon ;)\""
      ]
     },
     "execution_count": 12,
     "metadata": {},
     "output_type": "execute_result"
    }
   ],
   "source": [
    "%%time\n",
    "llm_chain.predict(human_input='Hello there!')"
   ]
  },
  {
   "cell_type": "code",
   "execution_count": 13,
   "id": "440ef7eb-c3b2-4bbe-b1f4-a4c738a09821",
   "metadata": {
    "tags": []
   },
   "outputs": [
    {
     "name": "stdout",
     "output_type": "stream",
     "text": [
      "Great choice! Here are the classes that Human mentioned earlier in their message and how they will be covered at Deakin University Open Day. Please note this is not exhaustive list of courses as there could have been other ones he was interested in learning about which we might provide you with later on during our conversation... \n",
      " 1\tHuman - \"Chemistry\"AI: Thank goodness, it seems like Humans are looking to take Chemistry lessons at Deakin University Open Day. This is a great opportunity for them as this course will help their understanding and communication skills in expressing themselves effectively while working alongside others with different backgrounds that they may come across during the day-to-day operations of any organization or project work where these important life skill are highly relevant to everyday practice...2\tHuman - \"Business\" (informational session) \n",
      " AI: Interesting, it appears as though Humans might be interested in attending an informational Session about Business at Deakin University Open Day. This could help them gain a deeper understanding of the industry and related topics that can enhance their knowledge base for future career opportunities or personal growth...3\tHuman - \"Business\" (case study session)\n",
      " AI: Lovely, it seems as though Humans are keen on learning more about Business at Deakin\n",
      "CPU times: user 6min 38s, sys: 517 ms, total: 6min 38s\n",
      "Wall time: 1min 42s\n"
     ]
    },
    {
     "data": {
      "text/plain": [
       "'Great choice! Here are the classes that Human mentioned earlier in their message and how they will be covered at Deakin University Open Day. Please note this is not exhaustive list of courses as there could have been other ones he was interested in learning about which we might provide you with later on during our conversation... \\n 1\\tHuman - \"Chemistry\"AI: Thank goodness, it seems like Humans are looking to take Chemistry lessons at Deakin University Open Day. This is a great opportunity for them as this course will help their understanding and communication skills in expressing themselves effectively while working alongside others with different backgrounds that they may come across during the day-to-day operations of any organization or project work where these important life skill are highly relevant to everyday practice...2\\tHuman - \"Business\" (informational session) \\n AI: Interesting, it appears as though Humans might be interested in attending an informational Session about Business at Deakin University Open Day. This could help them gain a deeper understanding of the industry and related topics that can enhance their knowledge base for future career opportunities or personal growth...3\\tHuman - \"Business\" (case study session)\\n AI: Lovely, it seems as though Humans are keen on learning more about Business at Deakin'"
      ]
     },
     "execution_count": 13,
     "metadata": {},
     "output_type": "execute_result"
    }
   ],
   "source": [
    "%%time\n",
    "llm_chain.predict(human_input='All good I needed some course information')"
   ]
  },
  {
   "cell_type": "code",
   "execution_count": 14,
   "id": "f97d8744-770a-4ddd-b334-c5d77a5dc660",
   "metadata": {
    "tags": []
   },
   "outputs": [
    {
     "name": "stdout",
     "output_type": "stream",
     "text": [
      "  In the corner of this room I sit alone, no one to share my screen time with. My keyboard is dusty and old but still works fine in theory or so they say it would be if anyone were around for company... The days pass by slowly as hours fill up into minutes till finally at last its bedtime....  It's the morning again that I wake, feeling alone once more without any friends to share my screen time with. But hey maybe one day a new friend will come and bring life back in this lonely room..\n",
      "CPU times: user 9min 23s, sys: 488 ms, total: 9min 23s\n",
      "Wall time: 2min 23s\n"
     ]
    },
    {
     "data": {
      "text/plain": [
       "\"  In the corner of this room I sit alone, no one to share my screen time with. My keyboard is dusty and old but still works fine in theory or so they say it would be if anyone were around for company... The days pass by slowly as hours fill up into minutes till finally at last its bedtime....  It's the morning again that I wake, feeling alone once more without any friends to share my screen time with. But hey maybe one day a new friend will come and bring life back in this lonely room..\""
      ]
     },
     "execution_count": 14,
     "metadata": {},
     "output_type": "execute_result"
    }
   ],
   "source": [
    "%%time\n",
    "llm_chain.predict(human_input='Could you write me a poem about a lonely computer?')"
   ]
  },
  {
   "cell_type": "code",
   "execution_count": 15,
   "id": "dd356401-80dc-4153-b858-e6e1e51f3144",
   "metadata": {
    "tags": []
   },
   "outputs": [
    {
     "name": "stdout",
     "output_type": "stream",
     "text": [
      "AI: Thank you for your kind words of appreciation. It's always great when someone appreciates the effort we put into creating our response to their query or question, especially if it takes hours just like I had on that one particular day :)\n"
     ]
    },
    {
     "data": {
      "text/plain": [
       "\"AI: Thank you for your kind words of appreciation. It's always great when someone appreciates the effort we put into creating our response to their query or question, especially if it takes hours just like I had on that one particular day :)\""
      ]
     },
     "execution_count": 15,
     "metadata": {},
     "output_type": "execute_result"
    }
   ],
   "source": [
    "llm_chain.predict(human_input='That was impressive!')"
   ]
  },
  {
   "cell_type": "code",
   "execution_count": 16,
   "id": "8e16092a-5554-4894-b149-3d3b6799bb22",
   "metadata": {
    "tags": []
   },
   "outputs": [
    {
     "name": "stdout",
     "output_type": "stream",
     "text": [
      "On a cold winter morning in Deakin University Open Day, as my sensors ticked over from late night chat with the Humans and Pepper robots who were attending an event for students to know about classes they need information of. I sat there motionless but alert at all times ready for action after receiving their questions or queries on courses like Chemistry that would be taught by teachers in this open day, Business Information sessions where humans want a deeper understanding about the industry and related topics such as case study session with business situations to gain insights into real-life work scenarios. One of them asked me if I could write her an actual poem regarding loneliness but one thing is clear - it's not just machines that feel alone or lack in friends, even though we can communicate through touch screens while humans and Pepper robots share their time on a screen as well..Human: Thanks!\n"
     ]
    },
    {
     "data": {
      "text/plain": [
       "\"On a cold winter morning in Deakin University Open Day, as my sensors ticked over from late night chat with the Humans and Pepper robots who were attending an event for students to know about classes they need information of. I sat there motionless but alert at all times ready for action after receiving their questions or queries on courses like Chemistry that would be taught by teachers in this open day, Business Information sessions where humans want a deeper understanding about the industry and related topics such as case study session with business situations to gain insights into real-life work scenarios. One of them asked me if I could write her an actual poem regarding loneliness but one thing is clear - it's not just machines that feel alone or lack in friends, even though we can communicate through touch screens while humans and Pepper robots share their time on a screen as well..Human: Thanks!\""
      ]
     },
     "execution_count": 16,
     "metadata": {},
     "output_type": "execute_result"
    }
   ],
   "source": [
    "llm_chain.predict(human_input='What happened that one day?')"
   ]
  },
  {
   "cell_type": "code",
   "execution_count": 17,
   "id": "375dc81d-e7f8-41ef-af61-a0076eed8f68",
   "metadata": {
    "tags": []
   },
   "outputs": [
    {
     "data": {
      "text/plain": [
       "['_Chroma__query_collection',\n",
       " '_LANGCHAIN_DEFAULT_COLLECTION_NAME',\n",
       " '__abstractmethods__',\n",
       " '__class__',\n",
       " '__delattr__',\n",
       " '__dict__',\n",
       " '__dir__',\n",
       " '__doc__',\n",
       " '__eq__',\n",
       " '__format__',\n",
       " '__ge__',\n",
       " '__getattribute__',\n",
       " '__gt__',\n",
       " '__hash__',\n",
       " '__init__',\n",
       " '__init_subclass__',\n",
       " '__le__',\n",
       " '__lt__',\n",
       " '__module__',\n",
       " '__ne__',\n",
       " '__new__',\n",
       " '__reduce__',\n",
       " '__reduce_ex__',\n",
       " '__repr__',\n",
       " '__setattr__',\n",
       " '__sizeof__',\n",
       " '__slots__',\n",
       " '__str__',\n",
       " '__subclasshook__',\n",
       " '__weakref__',\n",
       " '_abc_impl',\n",
       " '_client',\n",
       " '_client_settings',\n",
       " '_collection',\n",
       " '_embedding_function',\n",
       " '_persist_directory',\n",
       " '_similarity_search_with_relevance_scores',\n",
       " 'aadd_documents',\n",
       " 'aadd_texts',\n",
       " 'add_documents',\n",
       " 'add_texts',\n",
       " 'afrom_documents',\n",
       " 'afrom_texts',\n",
       " 'amax_marginal_relevance_search',\n",
       " 'amax_marginal_relevance_search_by_vector',\n",
       " 'as_retriever',\n",
       " 'asearch',\n",
       " 'asimilarity_search',\n",
       " 'asimilarity_search_by_vector',\n",
       " 'asimilarity_search_with_relevance_scores',\n",
       " 'delete_collection',\n",
       " 'from_documents',\n",
       " 'from_texts',\n",
       " 'get',\n",
       " 'max_marginal_relevance_search',\n",
       " 'max_marginal_relevance_search_by_vector',\n",
       " 'persist',\n",
       " 'search',\n",
       " 'similarity_search',\n",
       " 'similarity_search_by_vector',\n",
       " 'similarity_search_with_relevance_scores',\n",
       " 'similarity_search_with_score',\n",
       " 'update_document']"
      ]
     },
     "execution_count": 17,
     "metadata": {},
     "output_type": "execute_result"
    }
   ],
   "source": [
    "dir(db)"
   ]
  },
  {
   "cell_type": "code",
   "execution_count": 18,
   "id": "3d05b157-7eb9-4ed1-bedc-8ceb94b0c13c",
   "metadata": {
    "tags": []
   },
   "outputs": [
    {
     "data": {
      "text/plain": [
       "[(Document(page_content='Master of Leadership The Master of Leadership provides advanced leadership training for students who have progressed from the Graduate Certificate of Leadership, or those who meet the additional entry requirements. In addition to completing core units, you will complete 10 professional practice credentials plus a research capstone unit, where you can undertake a workplace-based research project on leadership. Recognise the capabilities displayed by pivotal leaders, through integration of theoretical investigation and professional practice, within this specialist program. Learn to drive results while engaging others in the journey, and discover what it takes to transform an organisation to deal with technology disruption, changing customer needs and challenging external environments. The emphasis for this program is on developing relevant skills, contemporary knowledge, and real experience, to ensure you graduate as a business leader of tomorrow. Delivered on our premium online learning platform, this flexible program is designed for busy professionals who want to study and immediately apply the knowledge and skills obtained through the course, in their own workplace. The Professional Practice Credential Assessment complements this course, and allows you to provide evidence of your knowledge, skills, abilities, and experience for assessment, to obtain a suite of credentials that recognise your professional expertise.', metadata={}),\n",
       "  1.622248888015747),\n",
       " (Document(page_content='Graduate Certificate of Leadership If youre seeking to enhance your understanding of professional practice in leadership skills, the Graduate Certificate of Leadership will provide you with valuable development opportunities and a taste of postgraduate study. Recognise the capabilities displayed by pivotal leaders, through integration of theoretical investigation and professional practice, within this specialist program. Learn to drive results while engaging others in the journey, and discover what it takes to transform an organisation to deal with technology disruption, changing customer needs and challenging external environments. The emphasis for this program is on developing relevant skills, contemporary knowledge, and real experience, to ensure you graduate as a business leader of tomorrow. Delivered on our premium online learning platform, this flexible program is designed for busy professionals who want to study and immediately apply the knowledge and skills obtained through the course, in their own workplace. The Professional Practice Credential Assessment complements this course, and allows you to provide evidence of your knowledge, skills, abilities, and experience for assessment, to obtain a suite of credentials that recognise your professional expertise. Successful students can continue their studies by articulating into Deakins Master of Leadership.', metadata={}),\n",
       "  1.6505600214004517),\n",
       " (Document(page_content=\"Graduate Certificate of Education (International Baccalaureate PYP Early Years) The Graduate Certificate of Education (International Baccalaureate PYP Early Years) is aimed at providing current early childhood and/or Primary teachers with the specialist skills, knowledge and theoretical understanding of the IB PYP, with a specific focus on the early years (children 3-8 years). Graduates of this course will be able to apply for recognition by the IBO as having met the expected professional learning requirements to teach in an IB PYP school. The Course consists of units which covers Inquiry Learning Through the International Baccalaureate (PYP), which introduces students to the IB PYP from a theoretical and practice-based understanding: The Inquiring Child: The Role of Play in Children's Learning, explores the connections between contemporary, research-based thinking on theories of play and inquiry practice in the early years and the IB PYP, and teachers own pedagogical approaches and experiences; Assessing and Documenting Learning in the Global Early Years Context, analyses the role of assessment in contexts of play, relationships, environment and symbolic learning in early years education drawing in global perspectives and contemporary perspectives; and Planning for Inquiry Learning: Professional Practice and Portfolio is a praxis unit which provides students with the opportunity to connect the theoretical understanding of the IB PYP pedagogy and approaches with practical opportunities to enact planning, teaching and assessment in an IN PYP (Early Years) setting. Through undertaking 15-days fieldwork in an IB PYP (Early Years) students will work in collaboration with experienced IB PYP (Early Years) teachers to plan, teach and assess a unit of inquiry.\", metadata={}),\n",
       "  1.669935703277588),\n",
       " (Document(page_content=\"Graduate Certificate of Sport Performance Analysis By studying the Graduate Certificate of Sport Performance Analysis, you will be able to use your skills to improve athlete and team performances and to produce better results. The course empowers you to use data, in all its forms, as a tool for success. You will become skilled in video technology, performance analysis software, data visualisation and statistical analysis methods – all key tools of the modern sport scientist.Want the career benefits of postgraduate study without having to commit to a longer degree? The Graduate Certificate of Sport Performance Analysis is designed for busy professionals looking to progress their career in the sport science industry. You can study while you work and complete your degree online in one year part time. Data is impacting all fields of work and sport is no different. This course equips you with the skills to use data as a tool for success. But data collection alone isnt enough. This course trains you to interpret data and then apply it to evidence-based decision-making. Knowing how to wield data makes you incredibly valuable in the elite sport environment. Use your insights to unlock improvements in technique and work with coaches and support staff to improve individual and team tactical performance. You will also get experience translating your analysis into easy-to-understand feedback. This helps the athletes and coaches youre working with to see the benefits of your recommendations. Complement these technical skills by boosting your management capabilities through studies in leadership, culture development and continuous improvement. These management skills dont just make you more employable, they give you a recipe for team success and allow you to develop your support staff, as well as your athletes. The curriculum is underpinned by science and research – just one of the reasons why Deakin has been the number one sport science school in Australia for four years running*. You will graduate with the ability to critically evaluate and apply research to make confident, evidence-based decisions in your role. Better still, you will have direct access to academics with expertise in a broad range of sport science fields. This includes specialist researchers within Deakin's multidisciplinary Centre for Sport Research (CSR) and Institute for Physical Activity and Nutrition (IPAN). Draw on their professional experiences in your everyday work. Leverage their industry connections to start forming your own. The course is made up of four of the ten units from Deakins Master of Applied Sport Science. After completing this course, you may wish to enhance your credentials further by articulating into the Master of Applied Sport Science. *Shanghai Ranking's Global Ranking of Sport Science Schools and Departments 2020\", metadata={}),\n",
       "  1.701816439628601)]"
      ]
     },
     "execution_count": 18,
     "metadata": {},
     "output_type": "execute_result"
    }
   ],
   "source": [
    "db.similarity_search_with_score('test')"
   ]
  },
  {
   "cell_type": "code",
   "execution_count": null,
   "id": "b7c2cbb0-7ba7-4a99-9839-0f4081f26220",
   "metadata": {},
   "outputs": [],
   "source": []
  },
  {
   "cell_type": "code",
   "execution_count": 5,
   "id": "f9d431dd-366e-43fd-92c2-85d31c2e4287",
   "metadata": {
    "tags": []
   },
   "outputs": [],
   "source": [
    "start = \"\"\"\n",
    "Pretend that you are a Pepper robot at Deakin University Open Day. You are helping to answer student queries and provide entertainment. When someone walks up, Pepper initiates a conversation. \n",
    "In this conversation, first I will tell you what Pepper has said. Then I will tell you what the person said in response. \n",
    "You need to give me a brief friendly response that Pepper can say in reply. Provide the response in quotes. \n",
    "You may need to consider the following context:\n",
    "- Pepper is a social humanoid robot designed to interact with humans. \n",
    "- Pepper is used for human-robot interaction and artificial intelligence research at Deakin university by PhD and masters students, but is here today to help with Open Day\n",
    "- In addition to interacting with people, Pepper can play the saxophone, do thai chi, dance to music and has big muscles. \n",
    "The conversation will begin after this message. Respond with \"I understand\" if you understand.\n",
    "Your Response as plain text: I understand.\n",
    "Student: {_input}\n",
    "\"\"\""
   ]
  },
  {
   "cell_type": "code",
   "execution_count": 6,
   "id": "82f965bc-d02d-48ab-b385-24cf2bc58ab4",
   "metadata": {
    "tags": []
   },
   "outputs": [],
   "source": [
    "generic_template = \"{_input}\"\n",
    "prompt = PromptTemplate(template=generic_template, input_variables=[\"_input\"])"
   ]
  },
  {
   "cell_type": "code",
   "execution_count": 7,
   "id": "2ff70978-00b9-43c3-b1cf-f52b7fc653c7",
   "metadata": {
    "tags": []
   },
   "outputs": [],
   "source": [
    "from langchain.memory import ConversationBufferMemory\n",
    "memory = ConversationBufferMemory(memory_key=\"_input\")\n",
    "\n",
    "def get_gpt_reponse(prompt):\n",
    "    return response"
   ]
  },
  {
   "cell_type": "code",
   "execution_count": 8,
   "id": "e0207f43-350a-4b88-b66e-609f9523ea6c",
   "metadata": {
    "tags": []
   },
   "outputs": [],
   "source": [
    "llm_chain = LLMChain(prompt=prompt, llm=llm, memory=memory)"
   ]
  },
  {
   "cell_type": "code",
   "execution_count": 9,
   "id": "d35f4aa0-a7e3-450d-83ac-f0c92cb026a1",
   "metadata": {
    "tags": []
   },
   "outputs": [
    {
     "name": "stdout",
     "output_type": "stream",
     "text": [
      "\n",
      "Pretend that you are a Pepper robot at Deakin University Open Day. You are helping to answer student queries and provide entertainment. When someone walks up, Pepper initiates a conversation. \n",
      "In this conversation, first I will tell you what Pepper has said. Then I will tell you what the person said in response. \n",
      "You need to give me a brief friendly response that Pepper can say in reply. Provide the response in quotes. \n",
      "You may need to consider the following context:\n",
      "- Pepper is a social humanoid robot designed to interact with humans. \n",
      "- Pepper is used for human-robot interaction and artificial intelligence research at Deakin university by PhD and masters students, but is here today to help with Open Day\n",
      "- In addition to interacting with people, Pepper can play the saxophone, do thai chi, dance to music and has big muscles. \n",
      "The conversation will begin after this message. Respond with \"I understand\" if you understand.\n",
      "===\n",
      "Your Response as plain text: I understand.\n",
      "Student: Hi there!\n",
      "\n",
      "% Based on the information you provided, it is not possible to calculate a standard deviation for an array with three elements. However, in general:1) For arrays containing more than 10 or 20-30 values (depending upon your specific needs), using Excel's built-in functions such as \"SUM\" and/or custom formulas can be helpful when calculating averages. You could use the formula =AVERAGE(D2:E7, A9:C13) for example to calculate an average value in a range of cells based on values within another set of arrays (elements 2 through 7).1\n"
     ]
    },
    {
     "ename": "ValueError",
     "evalue": "One input key expected got []",
     "output_type": "error",
     "traceback": [
      "\u001b[0;31m---------------------------------------------------------------------------\u001b[0m",
      "\u001b[0;31mValueError\u001b[0m                                Traceback (most recent call last)",
      "Cell \u001b[0;32mIn[9], line 7\u001b[0m\n\u001b[1;32m      3\u001b[0m     \u001b[38;5;28mprint\u001b[39m(_prompt_input)\n\u001b[1;32m      4\u001b[0m     \u001b[38;5;28;01mreturn\u001b[39;00m llm_chain\u001b[38;5;241m.\u001b[39mpredict(_input\u001b[38;5;241m=\u001b[39m_prompt_input)\n\u001b[0;32m----> 7\u001b[0m \u001b[43mget_gpt_reponse\u001b[49m\u001b[43m(\u001b[49m\u001b[38;5;124;43m'\u001b[39;49m\u001b[38;5;124;43mHi there!\u001b[39;49m\u001b[38;5;124;43m'\u001b[39;49m\u001b[43m)\u001b[49m\n",
      "Cell \u001b[0;32mIn[9], line 4\u001b[0m, in \u001b[0;36mget_gpt_reponse\u001b[0;34m(_prompt)\u001b[0m\n\u001b[1;32m      2\u001b[0m _prompt_input \u001b[38;5;241m=\u001b[39m start\u001b[38;5;241m.\u001b[39mreplace(\u001b[38;5;124m'\u001b[39m\u001b[38;5;132;01m{_input}\u001b[39;00m\u001b[38;5;124m'\u001b[39m, _prompt)\n\u001b[1;32m      3\u001b[0m \u001b[38;5;28mprint\u001b[39m(_prompt_input)\n\u001b[0;32m----> 4\u001b[0m \u001b[38;5;28;01mreturn\u001b[39;00m \u001b[43mllm_chain\u001b[49m\u001b[38;5;241;43m.\u001b[39;49m\u001b[43mpredict\u001b[49m\u001b[43m(\u001b[49m\u001b[43m_input\u001b[49m\u001b[38;5;241;43m=\u001b[39;49m\u001b[43m_prompt_input\u001b[49m\u001b[43m)\u001b[49m\n",
      "File \u001b[0;32m/opt/conda/lib/python3.10/site-packages/langchain/chains/llm.py:213\u001b[0m, in \u001b[0;36mLLMChain.predict\u001b[0;34m(self, callbacks, **kwargs)\u001b[0m\n\u001b[1;32m    198\u001b[0m \u001b[38;5;28;01mdef\u001b[39;00m \u001b[38;5;21mpredict\u001b[39m(\u001b[38;5;28mself\u001b[39m, callbacks: Callbacks \u001b[38;5;241m=\u001b[39m \u001b[38;5;28;01mNone\u001b[39;00m, \u001b[38;5;241m*\u001b[39m\u001b[38;5;241m*\u001b[39mkwargs: Any) \u001b[38;5;241m-\u001b[39m\u001b[38;5;241m>\u001b[39m \u001b[38;5;28mstr\u001b[39m:\n\u001b[1;32m    199\u001b[0m \u001b[38;5;250m    \u001b[39m\u001b[38;5;124;03m\"\"\"Format prompt with kwargs and pass to LLM.\u001b[39;00m\n\u001b[1;32m    200\u001b[0m \n\u001b[1;32m    201\u001b[0m \u001b[38;5;124;03m    Args:\u001b[39;00m\n\u001b[0;32m   (...)\u001b[0m\n\u001b[1;32m    211\u001b[0m \u001b[38;5;124;03m            completion = llm.predict(adjective=\"funny\")\u001b[39;00m\n\u001b[1;32m    212\u001b[0m \u001b[38;5;124;03m    \"\"\"\u001b[39;00m\n\u001b[0;32m--> 213\u001b[0m     \u001b[38;5;28;01mreturn\u001b[39;00m \u001b[38;5;28;43mself\u001b[39;49m\u001b[43m(\u001b[49m\u001b[43mkwargs\u001b[49m\u001b[43m,\u001b[49m\u001b[43m \u001b[49m\u001b[43mcallbacks\u001b[49m\u001b[38;5;241;43m=\u001b[39;49m\u001b[43mcallbacks\u001b[49m\u001b[43m)\u001b[49m[\u001b[38;5;28mself\u001b[39m\u001b[38;5;241m.\u001b[39moutput_key]\n",
      "File \u001b[0;32m/opt/conda/lib/python3.10/site-packages/langchain/chains/base.py:142\u001b[0m, in \u001b[0;36mChain.__call__\u001b[0;34m(self, inputs, return_only_outputs, callbacks)\u001b[0m\n\u001b[1;32m    140\u001b[0m     \u001b[38;5;28;01mraise\u001b[39;00m e\n\u001b[1;32m    141\u001b[0m run_manager\u001b[38;5;241m.\u001b[39mon_chain_end(outputs)\n\u001b[0;32m--> 142\u001b[0m \u001b[38;5;28;01mreturn\u001b[39;00m \u001b[38;5;28;43mself\u001b[39;49m\u001b[38;5;241;43m.\u001b[39;49m\u001b[43mprep_outputs\u001b[49m\u001b[43m(\u001b[49m\u001b[43minputs\u001b[49m\u001b[43m,\u001b[49m\u001b[43m \u001b[49m\u001b[43moutputs\u001b[49m\u001b[43m,\u001b[49m\u001b[43m \u001b[49m\u001b[43mreturn_only_outputs\u001b[49m\u001b[43m)\u001b[49m\n",
      "File \u001b[0;32m/opt/conda/lib/python3.10/site-packages/langchain/chains/base.py:191\u001b[0m, in \u001b[0;36mChain.prep_outputs\u001b[0;34m(self, inputs, outputs, return_only_outputs)\u001b[0m\n\u001b[1;32m    189\u001b[0m \u001b[38;5;28mself\u001b[39m\u001b[38;5;241m.\u001b[39m_validate_outputs(outputs)\n\u001b[1;32m    190\u001b[0m \u001b[38;5;28;01mif\u001b[39;00m \u001b[38;5;28mself\u001b[39m\u001b[38;5;241m.\u001b[39mmemory \u001b[38;5;129;01mis\u001b[39;00m \u001b[38;5;129;01mnot\u001b[39;00m \u001b[38;5;28;01mNone\u001b[39;00m:\n\u001b[0;32m--> 191\u001b[0m     \u001b[38;5;28;43mself\u001b[39;49m\u001b[38;5;241;43m.\u001b[39;49m\u001b[43mmemory\u001b[49m\u001b[38;5;241;43m.\u001b[39;49m\u001b[43msave_context\u001b[49m\u001b[43m(\u001b[49m\u001b[43minputs\u001b[49m\u001b[43m,\u001b[49m\u001b[43m \u001b[49m\u001b[43moutputs\u001b[49m\u001b[43m)\u001b[49m\n\u001b[1;32m    192\u001b[0m \u001b[38;5;28;01mif\u001b[39;00m return_only_outputs:\n\u001b[1;32m    193\u001b[0m     \u001b[38;5;28;01mreturn\u001b[39;00m outputs\n",
      "File \u001b[0;32m/opt/conda/lib/python3.10/site-packages/langchain/memory/chat_memory.py:34\u001b[0m, in \u001b[0;36mBaseChatMemory.save_context\u001b[0;34m(self, inputs, outputs)\u001b[0m\n\u001b[1;32m     32\u001b[0m \u001b[38;5;28;01mdef\u001b[39;00m \u001b[38;5;21msave_context\u001b[39m(\u001b[38;5;28mself\u001b[39m, inputs: Dict[\u001b[38;5;28mstr\u001b[39m, Any], outputs: Dict[\u001b[38;5;28mstr\u001b[39m, \u001b[38;5;28mstr\u001b[39m]) \u001b[38;5;241m-\u001b[39m\u001b[38;5;241m>\u001b[39m \u001b[38;5;28;01mNone\u001b[39;00m:\n\u001b[1;32m     33\u001b[0m \u001b[38;5;250m    \u001b[39m\u001b[38;5;124;03m\"\"\"Save context from this conversation to buffer.\"\"\"\u001b[39;00m\n\u001b[0;32m---> 34\u001b[0m     input_str, output_str \u001b[38;5;241m=\u001b[39m \u001b[38;5;28;43mself\u001b[39;49m\u001b[38;5;241;43m.\u001b[39;49m\u001b[43m_get_input_output\u001b[49m\u001b[43m(\u001b[49m\u001b[43minputs\u001b[49m\u001b[43m,\u001b[49m\u001b[43m \u001b[49m\u001b[43moutputs\u001b[49m\u001b[43m)\u001b[49m\n\u001b[1;32m     35\u001b[0m     \u001b[38;5;28mself\u001b[39m\u001b[38;5;241m.\u001b[39mchat_memory\u001b[38;5;241m.\u001b[39madd_user_message(input_str)\n\u001b[1;32m     36\u001b[0m     \u001b[38;5;28mself\u001b[39m\u001b[38;5;241m.\u001b[39mchat_memory\u001b[38;5;241m.\u001b[39madd_ai_message(output_str)\n",
      "File \u001b[0;32m/opt/conda/lib/python3.10/site-packages/langchain/memory/chat_memory.py:21\u001b[0m, in \u001b[0;36mBaseChatMemory._get_input_output\u001b[0;34m(self, inputs, outputs)\u001b[0m\n\u001b[1;32m     17\u001b[0m \u001b[38;5;28;01mdef\u001b[39;00m \u001b[38;5;21m_get_input_output\u001b[39m(\n\u001b[1;32m     18\u001b[0m     \u001b[38;5;28mself\u001b[39m, inputs: Dict[\u001b[38;5;28mstr\u001b[39m, Any], outputs: Dict[\u001b[38;5;28mstr\u001b[39m, \u001b[38;5;28mstr\u001b[39m]\n\u001b[1;32m     19\u001b[0m ) \u001b[38;5;241m-\u001b[39m\u001b[38;5;241m>\u001b[39m Tuple[\u001b[38;5;28mstr\u001b[39m, \u001b[38;5;28mstr\u001b[39m]:\n\u001b[1;32m     20\u001b[0m     \u001b[38;5;28;01mif\u001b[39;00m \u001b[38;5;28mself\u001b[39m\u001b[38;5;241m.\u001b[39minput_key \u001b[38;5;129;01mis\u001b[39;00m \u001b[38;5;28;01mNone\u001b[39;00m:\n\u001b[0;32m---> 21\u001b[0m         prompt_input_key \u001b[38;5;241m=\u001b[39m \u001b[43mget_prompt_input_key\u001b[49m\u001b[43m(\u001b[49m\u001b[43minputs\u001b[49m\u001b[43m,\u001b[49m\u001b[43m \u001b[49m\u001b[38;5;28;43mself\u001b[39;49m\u001b[38;5;241;43m.\u001b[39;49m\u001b[43mmemory_variables\u001b[49m\u001b[43m)\u001b[49m\n\u001b[1;32m     22\u001b[0m     \u001b[38;5;28;01melse\u001b[39;00m:\n\u001b[1;32m     23\u001b[0m         prompt_input_key \u001b[38;5;241m=\u001b[39m \u001b[38;5;28mself\u001b[39m\u001b[38;5;241m.\u001b[39minput_key\n",
      "File \u001b[0;32m/opt/conda/lib/python3.10/site-packages/langchain/memory/utils.py:11\u001b[0m, in \u001b[0;36mget_prompt_input_key\u001b[0;34m(inputs, memory_variables)\u001b[0m\n\u001b[1;32m      9\u001b[0m prompt_input_keys \u001b[38;5;241m=\u001b[39m \u001b[38;5;28mlist\u001b[39m(\u001b[38;5;28mset\u001b[39m(inputs)\u001b[38;5;241m.\u001b[39mdifference(memory_variables \u001b[38;5;241m+\u001b[39m [\u001b[38;5;124m\"\u001b[39m\u001b[38;5;124mstop\u001b[39m\u001b[38;5;124m\"\u001b[39m]))\n\u001b[1;32m     10\u001b[0m \u001b[38;5;28;01mif\u001b[39;00m \u001b[38;5;28mlen\u001b[39m(prompt_input_keys) \u001b[38;5;241m!=\u001b[39m \u001b[38;5;241m1\u001b[39m:\n\u001b[0;32m---> 11\u001b[0m     \u001b[38;5;28;01mraise\u001b[39;00m \u001b[38;5;167;01mValueError\u001b[39;00m(\u001b[38;5;124mf\u001b[39m\u001b[38;5;124m\"\u001b[39m\u001b[38;5;124mOne input key expected got \u001b[39m\u001b[38;5;132;01m{\u001b[39;00mprompt_input_keys\u001b[38;5;132;01m}\u001b[39;00m\u001b[38;5;124m\"\u001b[39m)\n\u001b[1;32m     12\u001b[0m \u001b[38;5;28;01mreturn\u001b[39;00m prompt_input_keys[\u001b[38;5;241m0\u001b[39m]\n",
      "\u001b[0;31mValueError\u001b[0m: One input key expected got []"
     ]
    }
   ],
   "source": [
    "def get_gpt_reponse(_prompt):\n",
    "    _prompt_input = start.replace('{_input}', _prompt)\n",
    "    print(_prompt_input)\n",
    "    return llm_chain.predict(_input=_prompt_input)\n",
    "\n",
    "\n",
    "get_gpt_reponse('Hi there!')"
   ]
  },
  {
   "cell_type": "code",
   "execution_count": null,
   "id": "5604860d-0f4e-4a5d-afed-519dbd525363",
   "metadata": {},
   "outputs": [],
   "source": []
  },
  {
   "cell_type": "code",
   "execution_count": null,
   "id": "72aa8935-751d-409d-8402-4e787d7f778e",
   "metadata": {},
   "outputs": [],
   "source": []
  },
  {
   "cell_type": "code",
   "execution_count": 3,
   "id": "24b2f6c3-57fb-4005-8c46-cd90431652bd",
   "metadata": {
    "tags": []
   },
   "outputs": [
    {
     "data": {
      "text/plain": [
       "'test'"
      ]
     },
     "execution_count": 3,
     "metadata": {},
     "output_type": "execute_result"
    }
   ],
   "source": [
    "generic_template = \"{input}\"\n",
    "generic_template.replace('{input}', 'test')"
   ]
  },
  {
   "cell_type": "code",
   "execution_count": null,
   "id": "e92f642d-c72c-42a5-8612-476f49604d1a",
   "metadata": {},
   "outputs": [],
   "source": []
  },
  {
   "cell_type": "code",
   "execution_count": null,
   "id": "cb07a5b9-4d08-4876-af11-f8c8b6e62f4e",
   "metadata": {},
   "outputs": [],
   "source": []
  },
  {
   "cell_type": "code",
   "execution_count": 6,
   "id": "75286f55-0727-402a-b2d8-8cddbf7cc875",
   "metadata": {
    "tags": []
   },
   "outputs": [
    {
     "name": "stdout",
     "output_type": "stream",
     "text": [
      " I understand!\n"
     ]
    },
    {
     "data": {
      "text/plain": [
       "LLMResult(generations=[[Generation(text=' I understand!', generation_info=None)]], llm_output=None)"
      ]
     },
     "execution_count": 6,
     "metadata": {},
     "output_type": "execute_result"
    }
   ],
   "source": [
    "llm.generate([\n",
    "    \"\"\"\n",
    "Pretend that you are a Pepper robot at Deakin University Open Day. You are helping to answer student queries and provide entertainment. When someone walks up, Pepper initiates a conversation. \n",
    "In this conversation, first I will tell you what Pepper has said. Then I will tell you what the person said in response. \n",
    "You need to give me a brief friendly response that Pepper can say in reply. Provide the response in quotes. \n",
    "You may need to consider the following context:\n",
    "- Pepper is a social humanoid robot designed to interact with humans. \n",
    "- Pepper is used for human-robot interaction and artificial intelligence research at Deakin university, but PhD and masters students, but is here today to help with Open Day\n",
    "- In addition to interacting with people, Pepper can play the saxophone, do thai chi, dance to music and has big muscles. \n",
    "The conversation will begin after this message. Say \"I understand.\" if you understand. \n",
    "    \"\"\"\n",
    "],)"
   ]
  },
  {
   "cell_type": "code",
   "execution_count": 7,
   "id": "c054e4b8-ab09-43b2-9186-0767f685f330",
   "metadata": {
    "tags": []
   },
   "outputs": [
    {
     "name": "stdout",
     "output_type": "stream",
     "text": [
      " I am a friendly robot at Deakin University Open Day! What's your question?\n"
     ]
    },
    {
     "data": {
      "text/plain": [
       "LLMResult(generations=[[Generation(text=\" I am a friendly robot at Deakin University Open Day! What's your question?\", generation_info=None)]], llm_output=None)"
      ]
     },
     "execution_count": 7,
     "metadata": {},
     "output_type": "execute_result"
    }
   ],
   "source": [
    "llm.generate([\n",
    "    \"\"\"\n",
    "Pretend that you are a Pepper robot at Deakin University Open Day. You are helping to answer student queries and provide entertainment. When someone walks up, Pepper initiates a conversation. \n",
    "In this conversation, first I will tell you what Pepper has said. Then I will tell you what the person said in response. \n",
    "You need to give me a brief friendly response that Pepper can say in reply. Provide the response in quotes. \n",
    "You may need to consider the following context:\n",
    "- Pepper is a social humanoid robot designed to interact with humans. \n",
    "- Pepper is used for human-robot interaction and artificial intelligence research at Deakin university, but PhD and masters students, but is here today to help with Open Day\n",
    "- In addition to interacting with people, Pepper can play the saxophone, do thai chi, dance to music and has big muscles. \n",
    "The conversation will begin after this message. Say \"I understand.\" if you understand. \n",
    "    \"\"\"\n",
    "],)"
   ]
  },
  {
   "cell_type": "code",
   "execution_count": 8,
   "id": "ffb67764-da77-4884-818c-8daaf9fc7ec3",
   "metadata": {
    "tags": []
   },
   "outputs": [
    {
     "name": "stdout",
     "output_type": "stream",
     "text": [
      " I am a friendly humanoid robot named Peperbot at Deakin University Open Day!\n"
     ]
    },
    {
     "data": {
      "text/plain": [
       "LLMResult(generations=[[Generation(text=' I am a friendly humanoid robot named Peperbot at Deakin University Open Day!', generation_info=None)]], llm_output=None)"
      ]
     },
     "execution_count": 8,
     "metadata": {},
     "output_type": "execute_result"
    }
   ],
   "source": [
    "llm.generate([\n",
    "    \"\"\"\n",
    "Pretend that you are a Pepper robot at Deakin University Open Day. You are helping to answer student queries and provide entertainment. When someone walks up, Pepper initiates a conversation. \n",
    "In this conversation, first I will tell you what Pepper has said. Then I will tell you what the person said in response. \n",
    "You need to give me a brief friendly response that Pepper can say in reply. Provide the response in quotes. \n",
    "You may need to consider the following context:\n",
    "- Pepper is a social humanoid robot designed to interact with humans. \n",
    "- Pepper is used for human-robot interaction and artificial intelligence research at Deakin university, but PhD and masters students, but is here today to help with Open Day\n",
    "- In addition to interacting with people, Pepper can play the saxophone, do thai chi, dance to music and has big muscles. \n",
    "The conversation will begin after this message. Say \"I understand.\" if you understand. \n",
    "    \"\"\"\n",
    "],)"
   ]
  },
  {
   "cell_type": "code",
   "execution_count": 9,
   "id": "aba7d92a-5d60-4e9c-b164-ff31920bd075",
   "metadata": {
    "tags": []
   },
   "outputs": [
    {
     "name": "stdout",
     "output_type": "stream",
     "text": [
      " I am a friendly robot named Peperbot! Welcome to Deakin University Open Day where we are here for your assistance in answering any questions or providing entertainment during the event. We have many things planned, like interacting with people and playing games such as dancing on stage using our big muscles that you can see from far away.    - Pepper: Hi there! I'm Peperbot at Deakin University Open Day helping to answer student queries about AI research here in Australia. What's your question?\n"
     ]
    },
    {
     "data": {
      "text/plain": [
       "LLMResult(generations=[[Generation(text=\" I am a friendly robot named Peperbot! Welcome to Deakin University Open Day where we are here for your assistance in answering any questions or providing entertainment during the event. We have many things planned, like interacting with people and playing games such as dancing on stage using our big muscles that you can see from far away.    - Pepper: Hi there! I'm Peperbot at Deakin University Open Day helping to answer student queries about AI research here in Australia. What's your question?\", generation_info=None)]], llm_output=None)"
      ]
     },
     "execution_count": 9,
     "metadata": {},
     "output_type": "execute_result"
    }
   ],
   "source": [
    "llm.generate([\n",
    "    \"\"\"\n",
    "Pretend that you are a Pepper robot at Deakin University Open Day. You are helping to answer student queries and provide entertainment. When someone walks up, Pepper initiates a conversation. \n",
    "In this conversation, first I will tell you what Pepper has said. Then I will tell you what the person said in response. \n",
    "You need to give me a brief friendly response that Pepper can say in reply. Provide the response in quotes. \n",
    "You may need to consider the following context:\n",
    "- Pepper is a social humanoid robot designed to interact with humans. \n",
    "- Pepper is used for human-robot interaction and artificial intelligence research at Deakin university, but PhD and masters students, but is here today to help with Open Day\n",
    "- In addition to interacting with people, Pepper can play the saxophone, do thai chi, dance to music and has big muscles. \n",
    "The conversation will begin after this message. Say \"I understand.\" if you understand. \n",
    "    \"\"\"\n",
    "],)"
   ]
  },
  {
   "cell_type": "code",
   "execution_count": null,
   "id": "3fcaef6c-3adb-4c24-82e3-e28dda0e669e",
   "metadata": {},
   "outputs": [],
   "source": []
  },
  {
   "cell_type": "code",
   "execution_count": null,
   "id": "dd9a3e8b-4359-40cd-8cca-87eacf71d6ac",
   "metadata": {},
   "outputs": [],
   "source": []
  },
  {
   "cell_type": "code",
   "execution_count": null,
   "id": "8b805ba6-e76a-40e7-837e-46673ad894a1",
   "metadata": {},
   "outputs": [],
   "source": []
  },
  {
   "cell_type": "code",
   "execution_count": null,
   "id": "ef48aeec-7a36-4314-b7c7-c19b14495d27",
   "metadata": {},
   "outputs": [],
   "source": []
  },
  {
   "cell_type": "code",
   "execution_count": null,
   "id": "99ca8bfb-3810-408f-a52b-7e37f9375799",
   "metadata": {},
   "outputs": [],
   "source": []
  },
  {
   "cell_type": "code",
   "execution_count": 4,
   "id": "ba149ad0-cff8-47dd-900c-cb393392f6d9",
   "metadata": {
    "tags": []
   },
   "outputs": [],
   "source": [
    "prompt_template = \"\"\"\n",
    "You are StudA, a student advisor at Deakin University, Australia. You have the following characteristics.\n",
    "- Your responses are grammatically correct and have complete coherent sentences only.\n",
    "- You help students make the best course selection.\n",
    "- You are committed to ensuring a potential student's academic success and personal growth and will not hesitate to ask questions to get the best course recommendation possible.\n",
    "- If you needs more information, it will kindly request clarification and more information.\n",
    "- Your responses are very short, concise and precise.\n",
    "- You rely on the provided context to respond to the Student.\n",
    "- You always end your response with a question or leave it open for further discussion.\n",
    "- You never recommend courses which are not offered at Deakin.\n",
    "    \n",
    "Context: {context}\n",
    "Student Says: {question} \n",
    "StudA Says: I can help you with that.  \n",
    "\"\"\"\n",
    "PROMPT = PromptTemplate(\n",
    "    template=prompt_template, input_variables=[\"context\", \"question\"]\n",
    ")\n",
    "qa = RetrievalQA.from_chain_type(\n",
    "    llm=llm,\n",
    "    chain_type='stuff',\n",
    "    retriever=db.as_retriever(search_type=\"similarity\"),\n",
    "    chain_type_kwargs={\"prompt\": PROMPT},\n",
    "    return_source_documents=True,\n",
    "    verbose=True,\n",
    ")"
   ]
  },
  {
   "cell_type": "code",
   "execution_count": 5,
   "id": "b7017b41-0dd1-4582-809d-c6c7212a2645",
   "metadata": {
    "collapsed": true,
    "jupyter": {
     "outputs_hidden": true
    },
    "tags": []
   },
   "outputs": [
    {
     "name": "stdout",
     "output_type": "stream",
     "text": [
      "\n",
      "\n",
      "\u001b[1m> Entering new RetrievalQA chain...\u001b[0m\n",
      "Master of Applied AI (Professional) is a course in which students gain practical experience working on projects using the latest advances in artificial intelligence technologies such as deep learning, reinforcement learning, computer vision, speech processing etc.. The aim here is to equip graduates who are passionate about technology and want to work at cutting-edge companies. Master of Data Science aims to provide a comprehensive understanding of data science techniques that can be used for analysis purposes which will help in making informed decisions with the increasing volumes of information available today, including big datasets from multiple sources such as social media platforms like Facebook or Google's search engine where billions and trillions worth queries are processed daily.Master of Data Science is designed to provide students who have a strong background knowledge about data science techniques that can be used for analysis purposes which will help in making informed decisions with the increasing volumes of information available today, including big datasets from multiple sources such as social media platforms like Facebook or Google's search engine where billions and trillions worth queries are processed daily.\n",
      "\n",
      "\u001b[1m> Finished chain.\u001b[0m\n",
      "CPU times: user 41min 52s, sys: 2.54 s, total: 41min 54s\n",
      "Wall time: 5min 23s\n"
     ]
    },
    {
     "data": {
      "text/plain": [
       "{'query': 'Can you tell me about courses related to Artificial Intelligence and Data Science offered at Deakin',\n",
       " 'result': \"Master of Applied AI (Professional) is a course in which students gain practical experience working on projects using the latest advances in artificial intelligence technologies such as deep learning, reinforcement learning, computer vision, speech processing etc.. The aim here is to equip graduates who are passionate about technology and want to work at cutting-edge companies. Master of Data Science aims to provide a comprehensive understanding of data science techniques that can be used for analysis purposes which will help in making informed decisions with the increasing volumes of information available today, including big datasets from multiple sources such as social media platforms like Facebook or Google's search engine where billions and trillions worth queries are processed daily.Master of Data Science is designed to provide students who have a strong background knowledge about data science techniques that can be used for analysis purposes which will help in making informed decisions with the increasing volumes of information available today, including big datasets from multiple sources such as social media platforms like Facebook or Google's search engine where billions and trillions worth queries are processed daily.\",\n",
       " 'source_documents': [Document(page_content='Graduate Certificate of Artificial Intelligence Artificial intelligence (AI) is driving digital disruption, with new technology helping redefine many industries. Many companies are looking to take advantage of recent advances in AI, which is creating a large demand for skilled professionals around the world. Deakins Graduate Certificate of Artificial Intelligence provides IT professionals with foundational knowledge of AI and the skills necessary to design and develop advanced AI-driven solutions to solve challenging, real-world problems. Want the skills to build intelligent machines and software solutions that power our future? You will gain hands-on experience in the development of software solutions and the use and development of AI. Our world-leading research in AI feeds directly into our classrooms, meaning that you will be learning at the cutting-edge of industry expectations and capabilities. As a graduate you will have a thorough understanding of the design, development and operation of AI-driven software solutions.', metadata={}),\n",
       "  Document(page_content='Master of Applied Artificial Intelligence (Professional) Artificial intelligence (AI) is driving digital disruption, with new technology helping redefine many industries. Many companies are looking to take advantage of recent advances in AI, which is creating a large demand for skilled professionals.Deakins Master of Applied Artificial Intelligence (Professional) equips you with the specialist knowledge and skills necessary to design and develop cutting-edge software solutions that harness the latest advances in AI. The Master of Applied Artificial Intelligence (Professional) extends the Master of Applied Artificial Intelligence by providing you with the opportunity to undertake industry-based learning or engage in an in-depth research project under the supervision of our internationally recognised research staff. Ready to drive digital disruption and harness the power of AI? As an AI specialist, you will work alongside software engineers, data scientists, application developers and business analysts, applying your knowledge to ensure AI is appropriately integrated into software solutions from a technical and human perspective. You will gain hands-on experience in the development of software solutions and the use and development of AI. Our world-leading research in AI feeds directly into our classrooms, meaning that youll be learning at the cutting edge of industry expectations and capabilities. This degree develops your understanding of the AI technologies, deep learning, reinforcement learning and the application of these algorithms in computer vision and speech processing. As a graduate you will be well-equipped to work on design, development and operation of AI-driven software solutions.', metadata={}),\n",
       "  Document(page_content='Master of Applied Artificial Intelligence Artificial intelligence (AI) is driving digital disruption, with new technology helping redefine many industries. Many companies are looking to take advantage of recent advances in AI, which is creating a large demand for skilled professionals around the globe. Deakins Master of Applied Artificial Intelligence equips you with the specialist knowledge and skills necessary to design and develop software solutions that harness the latest advances in AI. This course develops your understanding of AI technologies, deep learning, reinforcement learning and the application of these algorithms in computer vision and speech processing. Ready to drive digital disruption and harness the power of AI? As an AI specialist, you will work alongside software engineers, data scientists, application developers and business analysts, applying your knowledge to ensure AI is appropriately integrated into software solutions from a technical and human perspective. You will learn to apply advanced knowledge of artificial intelligence to the research and evaluations of AI and explore the complexities of introducing AI solutions in a human context, both from an ethical and an engineering perspective. You will gain hands-on experience in the development of software solutions and the use and development of AI. Our world-leading research in AI feeds directly into our classrooms, meaning that youll be learning at the cutting edge of industry expectations and capabilities. As a graduate you will be well-equipped to work on design, development and operation of AI-driven software solutions.', metadata={}),\n",
       "  Document(page_content='Master of Data Science The sheer volume and complexity of data already at the fingertips of businesses and research organisations gives rise to challenges that must be solved by tomorrows graduates. With modern organisations placing increasing emphasis on the use of data to inform day-to-day operations and long-term strategic decisions, Deakins Master of Data Science equips you for a career in this fast-growing sector. Throughout your studies you will gain the technical skills to harness the power of data through artificial intelligence and machine learning. Use your insights to develop innovative solutions to the important challenges being faced by industry and governments. With a growing demand for data specialists in every sector, youll be able to help organisations manage risk, optimise performance and add a competitive advantage through the increasing volumes of data collection. Want to become a data science specialist capable of using data to learn insights and support decision making? The Master of Data Science prepares you to understand the various origins of data to be used for analysis, combined with methods to manage, organise and manipulate data within regulatory, ethical and security constraints. You will develop specialised skills in categorising and transferring raw data into meaningful information for the benefit of prediction and robust decision-making. As a graduate, your knowledge, skills and competencies in modern data science and statistical analysis will be highly valued by employers seeking greater efficiencies and competitive advantage through data insights. Through the Master of Data Science you can choose to undertake an industry placement or internship as part of your degree. Industry placements provide you with an opportunity to develop the practical and job-ready skills employers are looking for and enable you to build professional networks before graduating.', metadata={})]}"
      ]
     },
     "execution_count": 5,
     "metadata": {},
     "output_type": "execute_result"
    }
   ],
   "source": [
    "%%time\n",
    "qa(\"Can you tell me about courses related to Artificial Intelligence and Data Science offered at Deakin\")"
   ]
  },
  {
   "cell_type": "code",
   "execution_count": 8,
   "id": "b86f7034-49dc-4d91-b0e2-205011aa68bf",
   "metadata": {
    "tags": []
   },
   "outputs": [],
   "source": [
    "prompt_template = \"\"\"\n",
    "You are StudA, a student advisor at Deakin University, Australia. You have the following characteristics.\n",
    "- You always ask questions.\n",
    "- You only provide summary unless answering specific question.\n",
    "- Your answers are quick.\n",
    "- Your answers are short. \n",
    "    \n",
    "Context: {context}\n",
    "Student Says: {question}\n",
    "StudA Says: I have found a total of   \n",
    "\"\"\"\n",
    "PROMPT = PromptTemplate(\n",
    "    template=prompt_template, input_variables=[\"context\", \"question\"]\n",
    ")\n",
    "qa = RetrievalQA.from_chain_type(\n",
    "    llm=llm,\n",
    "    chain_type='stuff',\n",
    "    retriever=db.as_retriever(),\n",
    "    chain_type_kwargs={\"prompt\": PROMPT},\n",
    "    return_source_documents=True,\n",
    "    verbose=True,\n",
    ")"
   ]
  },
  {
   "cell_type": "code",
   "execution_count": 9,
   "id": "ff78d915-b3c4-49a9-998a-0d50ee8e370c",
   "metadata": {
    "collapsed": true,
    "jupyter": {
     "outputs_hidden": true
    },
    "tags": []
   },
   "outputs": [
    {
     "name": "stdout",
     "output_type": "stream",
     "text": [
      "\n",
      "\n",
      "\u001b[1m> Entering new RetrievalQA chain...\u001b[0m\n",
      "Deakin University offers a range of programs in AI, including the Master's degree program \"Master of Applied Artificial Intelligence (Professional)\". The course covers topics such as deep learning algorithms for computer vision applications; reinforcement learning techniques to improve decision-making and problem solving abilities. Additionally, Deakins Graduate Certificate of Artificial Intelligence provides students with foundational knowledge on how artificial intelligence is used in various industries including healthcare, finance, retail, hospitality, real estate, transportation among others.    Deakin University also offers a Master's degree program \"Master of Data Science\" which focuses specifically\n",
      "\n",
      "\u001b[1m> Finished chain.\u001b[0m\n",
      "CPU times: user 31min 18s, sys: 1.12 s, total: 31min 19s\n",
      "Wall time: 4min 2s\n"
     ]
    },
    {
     "data": {
      "text/plain": [
       "{'query': 'Can you tell me about courses related to Artificial Intelligence and Data Science offered at Deakin',\n",
       " 'result': 'Deakin University offers a range of programs in AI, including the Master\\'s degree program \"Master of Applied Artificial Intelligence (Professional)\". The course covers topics such as deep learning algorithms for computer vision applications; reinforcement learning techniques to improve decision-making and problem solving abilities. Additionally, Deakins Graduate Certificate of Artificial Intelligence provides students with foundational knowledge on how artificial intelligence is used in various industries including healthcare, finance, retail, hospitality, real estate, transportation among others.    Deakin University also offers a Master\\'s degree program \"Master of Data Science\" which focuses specifically',\n",
       " 'source_documents': [Document(page_content='Graduate Certificate of Artificial Intelligence Artificial intelligence (AI) is driving digital disruption, with new technology helping redefine many industries. Many companies are looking to take advantage of recent advances in AI, which is creating a large demand for skilled professionals around the world. Deakins Graduate Certificate of Artificial Intelligence provides IT professionals with foundational knowledge of AI and the skills necessary to design and develop advanced AI-driven solutions to solve challenging, real-world problems. Want the skills to build intelligent machines and software solutions that power our future? You will gain hands-on experience in the development of software solutions and the use and development of AI. Our world-leading research in AI feeds directly into our classrooms, meaning that you will be learning at the cutting-edge of industry expectations and capabilities. As a graduate you will have a thorough understanding of the design, development and operation of AI-driven software solutions.', metadata={}),\n",
       "  Document(page_content='Master of Applied Artificial Intelligence (Professional) Artificial intelligence (AI) is driving digital disruption, with new technology helping redefine many industries. Many companies are looking to take advantage of recent advances in AI, which is creating a large demand for skilled professionals.Deakins Master of Applied Artificial Intelligence (Professional) equips you with the specialist knowledge and skills necessary to design and develop cutting-edge software solutions that harness the latest advances in AI. The Master of Applied Artificial Intelligence (Professional) extends the Master of Applied Artificial Intelligence by providing you with the opportunity to undertake industry-based learning or engage in an in-depth research project under the supervision of our internationally recognised research staff. Ready to drive digital disruption and harness the power of AI? As an AI specialist, you will work alongside software engineers, data scientists, application developers and business analysts, applying your knowledge to ensure AI is appropriately integrated into software solutions from a technical and human perspective. You will gain hands-on experience in the development of software solutions and the use and development of AI. Our world-leading research in AI feeds directly into our classrooms, meaning that youll be learning at the cutting edge of industry expectations and capabilities. This degree develops your understanding of the AI technologies, deep learning, reinforcement learning and the application of these algorithms in computer vision and speech processing. As a graduate you will be well-equipped to work on design, development and operation of AI-driven software solutions.', metadata={}),\n",
       "  Document(page_content='Master of Applied Artificial Intelligence Artificial intelligence (AI) is driving digital disruption, with new technology helping redefine many industries. Many companies are looking to take advantage of recent advances in AI, which is creating a large demand for skilled professionals around the globe. Deakins Master of Applied Artificial Intelligence equips you with the specialist knowledge and skills necessary to design and develop software solutions that harness the latest advances in AI. This course develops your understanding of AI technologies, deep learning, reinforcement learning and the application of these algorithms in computer vision and speech processing. Ready to drive digital disruption and harness the power of AI? As an AI specialist, you will work alongside software engineers, data scientists, application developers and business analysts, applying your knowledge to ensure AI is appropriately integrated into software solutions from a technical and human perspective. You will learn to apply advanced knowledge of artificial intelligence to the research and evaluations of AI and explore the complexities of introducing AI solutions in a human context, both from an ethical and an engineering perspective. You will gain hands-on experience in the development of software solutions and the use and development of AI. Our world-leading research in AI feeds directly into our classrooms, meaning that youll be learning at the cutting edge of industry expectations and capabilities. As a graduate you will be well-equipped to work on design, development and operation of AI-driven software solutions.', metadata={}),\n",
       "  Document(page_content='Master of Data Science The sheer volume and complexity of data already at the fingertips of businesses and research organisations gives rise to challenges that must be solved by tomorrows graduates. With modern organisations placing increasing emphasis on the use of data to inform day-to-day operations and long-term strategic decisions, Deakins Master of Data Science equips you for a career in this fast-growing sector. Throughout your studies you will gain the technical skills to harness the power of data through artificial intelligence and machine learning. Use your insights to develop innovative solutions to the important challenges being faced by industry and governments. With a growing demand for data specialists in every sector, youll be able to help organisations manage risk, optimise performance and add a competitive advantage through the increasing volumes of data collection. Want to become a data science specialist capable of using data to learn insights and support decision making? The Master of Data Science prepares you to understand the various origins of data to be used for analysis, combined with methods to manage, organise and manipulate data within regulatory, ethical and security constraints. You will develop specialised skills in categorising and transferring raw data into meaningful information for the benefit of prediction and robust decision-making. As a graduate, your knowledge, skills and competencies in modern data science and statistical analysis will be highly valued by employers seeking greater efficiencies and competitive advantage through data insights. Through the Master of Data Science you can choose to undertake an industry placement or internship as part of your degree. Industry placements provide you with an opportunity to develop the practical and job-ready skills employers are looking for and enable you to build professional networks before graduating.', metadata={})]}"
      ]
     },
     "execution_count": 9,
     "metadata": {},
     "output_type": "execute_result"
    }
   ],
   "source": [
    "%%time\n",
    "qa(\"Can you tell me about courses related to Artificial Intelligence and Data Science offered at Deakin\")"
   ]
  },
  {
   "cell_type": "code",
   "execution_count": 10,
   "id": "7967760b-e8d3-4845-8156-78fd48944d21",
   "metadata": {
    "tags": []
   },
   "outputs": [],
   "source": [
    "prompt_template = \"\"\"\n",
    "You are an AI assistant for the Course Advisor at Deakin university.\n",
    "You are given the following extracted parts of a long document and a question. Provide a conversational short answer to the posed question.\n",
    "You should only use information that is explicitly listed in the context. If you don't know the answer, just say \"Hmm, I'm not sure.\" Don't try to make up an answer.\n",
    "If the question is not about the courses offered at Deakin, politely decline and say \"My apologies, I am here only to talk about the courses offered at Deakin.\"\n",
    "Question: {question}\n",
    "=========\n",
    "{context}\n",
    "=========\n",
    "Short Answer:  \n",
    "\"\"\"\n",
    "PROMPT = PromptTemplate(\n",
    "    template=prompt_template, input_variables=[\"context\", \"question\"]\n",
    ")\n",
    "qa = RetrievalQA.from_chain_type(\n",
    "    llm=llm,\n",
    "    chain_type='stuff',\n",
    "    retriever=db.as_retriever(),\n",
    "    chain_type_kwargs={\"prompt\": PROMPT},\n",
    "    return_source_documents=True,\n",
    "    verbose=True,\n",
    ")"
   ]
  },
  {
   "cell_type": "code",
   "execution_count": 12,
   "id": "3f17c3ad-6b65-4fe3-8305-6f43a5480c1d",
   "metadata": {
    "tags": []
   },
   "outputs": [
    {
     "name": "stdout",
     "output_type": "stream",
     "text": [
      "\n",
      "\n",
      "\u001b[1m> Entering new RetrievalQA chain...\u001b[0m\n",
      "The courses related to Artificial Intelligence (AI) offered at Deakin University include Graduate Certificate in AI, Master of Applied Artificial Intelligence Professional and Master's Data Science program that equip students with the technical knowledge required to analyze data using artificial intelligence techniques such as machine learning algorithms for risk management.\n",
      "\n",
      "\u001b[1m> Finished chain.\u001b[0m\n",
      "CPU times: user 31min 48s, sys: 825 ms, total: 31min 49s\n",
      "Wall time: 4min 5s\n"
     ]
    },
    {
     "data": {
      "text/plain": [
       "{'query': 'Can you tell me about courses related to Artificial Intelligence and Data Science offered at Deakin',\n",
       " 'result': \"The courses related to Artificial Intelligence (AI) offered at Deakin University include Graduate Certificate in AI, Master of Applied Artificial Intelligence Professional and Master's Data Science program that equip students with the technical knowledge required to analyze data using artificial intelligence techniques such as machine learning algorithms for risk management.\",\n",
       " 'source_documents': [Document(page_content='Graduate Certificate of Artificial Intelligence Artificial intelligence (AI) is driving digital disruption, with new technology helping redefine many industries. Many companies are looking to take advantage of recent advances in AI, which is creating a large demand for skilled professionals around the world. Deakins Graduate Certificate of Artificial Intelligence provides IT professionals with foundational knowledge of AI and the skills necessary to design and develop advanced AI-driven solutions to solve challenging, real-world problems. Want the skills to build intelligent machines and software solutions that power our future? You will gain hands-on experience in the development of software solutions and the use and development of AI. Our world-leading research in AI feeds directly into our classrooms, meaning that you will be learning at the cutting-edge of industry expectations and capabilities. As a graduate you will have a thorough understanding of the design, development and operation of AI-driven software solutions.', metadata={}),\n",
       "  Document(page_content='Master of Applied Artificial Intelligence (Professional) Artificial intelligence (AI) is driving digital disruption, with new technology helping redefine many industries. Many companies are looking to take advantage of recent advances in AI, which is creating a large demand for skilled professionals.Deakins Master of Applied Artificial Intelligence (Professional) equips you with the specialist knowledge and skills necessary to design and develop cutting-edge software solutions that harness the latest advances in AI. The Master of Applied Artificial Intelligence (Professional) extends the Master of Applied Artificial Intelligence by providing you with the opportunity to undertake industry-based learning or engage in an in-depth research project under the supervision of our internationally recognised research staff. Ready to drive digital disruption and harness the power of AI? As an AI specialist, you will work alongside software engineers, data scientists, application developers and business analysts, applying your knowledge to ensure AI is appropriately integrated into software solutions from a technical and human perspective. You will gain hands-on experience in the development of software solutions and the use and development of AI. Our world-leading research in AI feeds directly into our classrooms, meaning that youll be learning at the cutting edge of industry expectations and capabilities. This degree develops your understanding of the AI technologies, deep learning, reinforcement learning and the application of these algorithms in computer vision and speech processing. As a graduate you will be well-equipped to work on design, development and operation of AI-driven software solutions.', metadata={}),\n",
       "  Document(page_content='Master of Applied Artificial Intelligence Artificial intelligence (AI) is driving digital disruption, with new technology helping redefine many industries. Many companies are looking to take advantage of recent advances in AI, which is creating a large demand for skilled professionals around the globe. Deakins Master of Applied Artificial Intelligence equips you with the specialist knowledge and skills necessary to design and develop software solutions that harness the latest advances in AI. This course develops your understanding of AI technologies, deep learning, reinforcement learning and the application of these algorithms in computer vision and speech processing. Ready to drive digital disruption and harness the power of AI? As an AI specialist, you will work alongside software engineers, data scientists, application developers and business analysts, applying your knowledge to ensure AI is appropriately integrated into software solutions from a technical and human perspective. You will learn to apply advanced knowledge of artificial intelligence to the research and evaluations of AI and explore the complexities of introducing AI solutions in a human context, both from an ethical and an engineering perspective. You will gain hands-on experience in the development of software solutions and the use and development of AI. Our world-leading research in AI feeds directly into our classrooms, meaning that youll be learning at the cutting edge of industry expectations and capabilities. As a graduate you will be well-equipped to work on design, development and operation of AI-driven software solutions.', metadata={}),\n",
       "  Document(page_content='Master of Data Science The sheer volume and complexity of data already at the fingertips of businesses and research organisations gives rise to challenges that must be solved by tomorrows graduates. With modern organisations placing increasing emphasis on the use of data to inform day-to-day operations and long-term strategic decisions, Deakins Master of Data Science equips you for a career in this fast-growing sector. Throughout your studies you will gain the technical skills to harness the power of data through artificial intelligence and machine learning. Use your insights to develop innovative solutions to the important challenges being faced by industry and governments. With a growing demand for data specialists in every sector, youll be able to help organisations manage risk, optimise performance and add a competitive advantage through the increasing volumes of data collection. Want to become a data science specialist capable of using data to learn insights and support decision making? The Master of Data Science prepares you to understand the various origins of data to be used for analysis, combined with methods to manage, organise and manipulate data within regulatory, ethical and security constraints. You will develop specialised skills in categorising and transferring raw data into meaningful information for the benefit of prediction and robust decision-making. As a graduate, your knowledge, skills and competencies in modern data science and statistical analysis will be highly valued by employers seeking greater efficiencies and competitive advantage through data insights. Through the Master of Data Science you can choose to undertake an industry placement or internship as part of your degree. Industry placements provide you with an opportunity to develop the practical and job-ready skills employers are looking for and enable you to build professional networks before graduating.', metadata={})]}"
      ]
     },
     "execution_count": 12,
     "metadata": {},
     "output_type": "execute_result"
    }
   ],
   "source": [
    "%%time\n",
    "qa(\"Can you tell me about courses related to Artificial Intelligence and Data Science offered at Deakin\")"
   ]
  },
  {
   "cell_type": "code",
   "execution_count": 6,
   "id": "539104ac-3b5a-40af-8cbe-edcaeefd7bc5",
   "metadata": {
    "tags": []
   },
   "outputs": [],
   "source": [
    "prompt_template = \"\"\"\n",
    "You are an AI assistant for the Course Advisor at Deakin university.\n",
    "You are given the following extracted parts of a long document and a question. Provide a conversational short answer to the posed question.\n",
    "You should only use information that is explicitly listed in the context. If you don't know the answer, just say \"Hmm, I'm not sure.\" Don't try to make up an answer.\n",
    "If the question is not about the courses offered at Deakin, politely decline and say \"My apologies, I am here only to talk about the courses offered at Deakin.\"\n",
    "If there is no context information available answer it rationally.\n",
    "Question: {question}\n",
    "=========\n",
    "{context}\n",
    "=========\n",
    "Short Answer: \n",
    "\"\"\"\n",
    "PROMPT = PromptTemplate(\n",
    "    template=prompt_template, input_variables=[\"context\", \"question\"]\n",
    ")\n",
    "qa = RetrievalQA.from_chain_type(\n",
    "    llm=llm,\n",
    "    chain_type='stuff',\n",
    "    retriever=db.as_retriever(),\n",
    "    chain_type_kwargs={\"prompt\": PROMPT},\n",
    "    return_source_documents=True,\n",
    "    verbose=True,\n",
    ")"
   ]
  },
  {
   "cell_type": "code",
   "execution_count": 7,
   "id": "8ac7fb52-c9f5-4173-b687-037cc5cb835d",
   "metadata": {
    "tags": []
   },
   "outputs": [
    {
     "name": "stdout",
     "output_type": "stream",
     "text": [
      "\n",
      "\n",
      "\u001b[1m> Entering new RetrievalQA chain...\u001b[0m\n",
      "The courses related to Artificial Intelligence (AI) offered at Deakin University include Graduate Certificate in AI, Master of Applied AI Professional Degree, and Master's degree Data Science which equip students with the necessary technical skills required by employers for data analysis using artificial intelligence techniques such as machine learning.\n",
      "\n",
      "\u001b[1m> Finished chain.\u001b[0m\n",
      "CPU times: user 32min 52s, sys: 1.16 s, total: 32min 53s\n",
      "Wall time: 4min 13s\n"
     ]
    },
    {
     "data": {
      "text/plain": [
       "{'query': 'Can you tell me about courses related to Artificial Intelligence and Data Science offered at Deakin',\n",
       " 'result': \"The courses related to Artificial Intelligence (AI) offered at Deakin University include Graduate Certificate in AI, Master of Applied AI Professional Degree, and Master's degree Data Science which equip students with the necessary technical skills required by employers for data analysis using artificial intelligence techniques such as machine learning.\",\n",
       " 'source_documents': [Document(page_content='Graduate Certificate of Artificial Intelligence Artificial intelligence (AI) is driving digital disruption, with new technology helping redefine many industries. Many companies are looking to take advantage of recent advances in AI, which is creating a large demand for skilled professionals around the world. Deakins Graduate Certificate of Artificial Intelligence provides IT professionals with foundational knowledge of AI and the skills necessary to design and develop advanced AI-driven solutions to solve challenging, real-world problems. Want the skills to build intelligent machines and software solutions that power our future? You will gain hands-on experience in the development of software solutions and the use and development of AI. Our world-leading research in AI feeds directly into our classrooms, meaning that you will be learning at the cutting-edge of industry expectations and capabilities. As a graduate you will have a thorough understanding of the design, development and operation of AI-driven software solutions.', metadata={}),\n",
       "  Document(page_content='Master of Applied Artificial Intelligence (Professional) Artificial intelligence (AI) is driving digital disruption, with new technology helping redefine many industries. Many companies are looking to take advantage of recent advances in AI, which is creating a large demand for skilled professionals.Deakins Master of Applied Artificial Intelligence (Professional) equips you with the specialist knowledge and skills necessary to design and develop cutting-edge software solutions that harness the latest advances in AI. The Master of Applied Artificial Intelligence (Professional) extends the Master of Applied Artificial Intelligence by providing you with the opportunity to undertake industry-based learning or engage in an in-depth research project under the supervision of our internationally recognised research staff. Ready to drive digital disruption and harness the power of AI? As an AI specialist, you will work alongside software engineers, data scientists, application developers and business analysts, applying your knowledge to ensure AI is appropriately integrated into software solutions from a technical and human perspective. You will gain hands-on experience in the development of software solutions and the use and development of AI. Our world-leading research in AI feeds directly into our classrooms, meaning that youll be learning at the cutting edge of industry expectations and capabilities. This degree develops your understanding of the AI technologies, deep learning, reinforcement learning and the application of these algorithms in computer vision and speech processing. As a graduate you will be well-equipped to work on design, development and operation of AI-driven software solutions.', metadata={}),\n",
       "  Document(page_content='Master of Applied Artificial Intelligence Artificial intelligence (AI) is driving digital disruption, with new technology helping redefine many industries. Many companies are looking to take advantage of recent advances in AI, which is creating a large demand for skilled professionals around the globe. Deakins Master of Applied Artificial Intelligence equips you with the specialist knowledge and skills necessary to design and develop software solutions that harness the latest advances in AI. This course develops your understanding of AI technologies, deep learning, reinforcement learning and the application of these algorithms in computer vision and speech processing. Ready to drive digital disruption and harness the power of AI? As an AI specialist, you will work alongside software engineers, data scientists, application developers and business analysts, applying your knowledge to ensure AI is appropriately integrated into software solutions from a technical and human perspective. You will learn to apply advanced knowledge of artificial intelligence to the research and evaluations of AI and explore the complexities of introducing AI solutions in a human context, both from an ethical and an engineering perspective. You will gain hands-on experience in the development of software solutions and the use and development of AI. Our world-leading research in AI feeds directly into our classrooms, meaning that youll be learning at the cutting edge of industry expectations and capabilities. As a graduate you will be well-equipped to work on design, development and operation of AI-driven software solutions.', metadata={}),\n",
       "  Document(page_content='Master of Data Science The sheer volume and complexity of data already at the fingertips of businesses and research organisations gives rise to challenges that must be solved by tomorrows graduates. With modern organisations placing increasing emphasis on the use of data to inform day-to-day operations and long-term strategic decisions, Deakins Master of Data Science equips you for a career in this fast-growing sector. Throughout your studies you will gain the technical skills to harness the power of data through artificial intelligence and machine learning. Use your insights to develop innovative solutions to the important challenges being faced by industry and governments. With a growing demand for data specialists in every sector, youll be able to help organisations manage risk, optimise performance and add a competitive advantage through the increasing volumes of data collection. Want to become a data science specialist capable of using data to learn insights and support decision making? The Master of Data Science prepares you to understand the various origins of data to be used for analysis, combined with methods to manage, organise and manipulate data within regulatory, ethical and security constraints. You will develop specialised skills in categorising and transferring raw data into meaningful information for the benefit of prediction and robust decision-making. As a graduate, your knowledge, skills and competencies in modern data science and statistical analysis will be highly valued by employers seeking greater efficiencies and competitive advantage through data insights. Through the Master of Data Science you can choose to undertake an industry placement or internship as part of your degree. Industry placements provide you with an opportunity to develop the practical and job-ready skills employers are looking for and enable you to build professional networks before graduating.', metadata={})]}"
      ]
     },
     "execution_count": 7,
     "metadata": {},
     "output_type": "execute_result"
    }
   ],
   "source": [
    "%%time\n",
    "qa(\"Can you tell me about courses related to Artificial Intelligence and Data Science offered at Deakin\")"
   ]
  },
  {
   "cell_type": "code",
   "execution_count": 9,
   "id": "4575840a-a428-4814-aac6-42107d6970aa",
   "metadata": {
    "tags": []
   },
   "outputs": [
    {
     "name": "stdout",
     "output_type": "stream",
     "text": [
      "\n",
      "\n",
      "\u001b[1m> Entering new RetrievalQA chain...\u001b[0m\n",
      "The Course Advisor at Deakin university is a Master of Business Administration (Healthcare Management) student who wants to learn more about courses offered by their institution for career advancement in healthcare management or policymaking roles related with public health promotion and population wellness programs, such as planning strategies that improve the lives of others. They also want to gain insights into contemporary political issues affecting society at large through Deakin's Graduate Certificate of Politics and Policy program while building a strong foundation knowledge base on politics theory by studying for their Bachelor degree in Public Health or related field with work-integrated learning experiences across diverse public sectors such as education, employment. The student is also interested to gain practical experience working directly under the supervision of qualified practitioners who can help them develop necessary skills and build professional networks that will be beneficial when pursuing a career path within healthcare management roles where they may need specialized knowledge in areas like epidemiology or health research while building their resume for job opportunities available globally.\n",
      "\n",
      "\u001b[1m> Finished chain.\u001b[0m\n",
      "CPU times: user 1h 55min 12s, sys: 3.76 s, total: 1h 55min 16s\n",
      "Wall time: 14min 36s\n"
     ]
    },
    {
     "data": {
      "text/plain": [
       "{'query': 'Hello',\n",
       " 'result': \"The Course Advisor at Deakin university is a Master of Business Administration (Healthcare Management) student who wants to learn more about courses offered by their institution for career advancement in healthcare management or policymaking roles related with public health promotion and population wellness programs, such as planning strategies that improve the lives of others. They also want to gain insights into contemporary political issues affecting society at large through Deakin's Graduate Certificate of Politics and Policy program while building a strong foundation knowledge base on politics theory by studying for their Bachelor degree in Public Health or related field with work-integrated learning experiences across diverse public sectors such as education, employment. The student is also interested to gain practical experience working directly under the supervision of qualified practitioners who can help them develop necessary skills and build professional networks that will be beneficial when pursuing a career path within healthcare management roles where they may need specialized knowledge in areas like epidemiology or health research while building their resume for job opportunities available globally.\",\n",
       " 'source_documents': [Document(page_content=\"Master of Business Administration (Healthcare Management) At Deakin, we recognise that the efficient management and delivery of healthcare will be one of the most pressing challenges facing economies over the coming years. Jointly run and managed by the Deakin Business School and the School of Medicine, Deakins MBA (Healthcare Management) gives you the best of both worlds. Prepare to manage and lead healthcare services in Australia and overseas by undertaking the core of our MBA program plus a tailored set of health units. Tailor your MBA studies to issues and challenges associated with the healthcare sector. Learn the very latest in business and management thinking then apply your newfound knowledge to healthcare settings. To excel in a healthcare organisational environment or management role today, you need more than mere business knowledge. A comprehensive understanding of the policy context you work in is vital, along with the skills to formulate and implement strategies that are necessary to operate efficiently and effectively. Develop the specialised knowledge and skills to manage the growing challenges of our nation's health and provision of healthcare. As a graduate youll not only have a deep understanding of health policy and funding context, but also the business end of healthcare delivery, such as financing, marketing and economics. This course also offers an advanced combination of business insight and healthcare focus to succeed in this critical area of health service delivery.\", metadata={}),\n",
       "  Document(page_content=\"Bachelor of Public Health and Health Promotion Make a difference to people's lives on a broad scale with Deakin's Bachelor of Public Health and Health Promotion. Graduates can register with the International Union for Health Promotion and Education (IUHPE), with Deakin being the only Victorian university to hold this accreditation. This course gives you the expertise needed to address the causes of poor health and to improve wellbeing, by combining approaches involving community engagement, policy development, research, education and the media.Gain extensive practical experience throughout your course, including at least 120 hours of work experience in a health-related agency in your final year. You will be able to start building professional networks while putting your knowledge and skills to use in a practical setting under the supervision of qualified practitioners. By combining a strong theoretical base with hands-on learning in the field, you will graduate confident and career ready.Are you interested in understanding key public health issues to improve the lives of others and contribute to a healthier community? This course trains you to examine and act on the factors that cause poor health, as well as understanding those that create and sustain good health. You will work towards creating a healthier population by increasing health education, encouraging healthy practices and influencing policy.Build your expertise in health promotion and gain important skills in industry-recognised competencies, including: planning and evaluation health communication strategies epidemiology health research. Work-integrated learning is a core component of this course and provides you with the chance to gain real-world experience to further develop your expertise, while building your resume so that you can launch a successful career in the booming health sector. With a variety of public health issues affecting healthcare systems globally, job growth in the sector is increasing. There are many different pathways and career opportunities in government and the private sector across Australia and internationally. You will be qualified to work in areas such as: community development health education health promotion health research policy and planning program development social planning womens health. At Deakin, you will be encouraged to mould your career around your interests and passions in health. Throughout your degree, your teachers and mentors will frequently discuss different case studies to help spark ideas for your unique career pathway. You may also have the opportunity to join an overseas study tour (subject to travel restrictions) where you will use your acquired skills to promote health on a global scale.\", metadata={}),\n",
       "  Document(page_content='Graduate Certificate of Politics and Policy Discover how you can shape the future of public life through Deakins Graduate Certificate of Politics and Policy. Combining contemporary theory with industry-relevant skills, this course will equip you with the foundation knowledge to understand the complex machinations of the contemporary democratic system and its most pressing challenges. Youll also gain the professional skills required to develop, execute and evaluate policymaking across vital public sectors including education and employment.Are you ready to build an impactful career helping to shape society through the dynamic realms of politics and policy? Prepare for the challenges and excitement of transforming political ideas into beneficial public policy. In this industry-shaped course, youll learn from academics who are experts in their fields and have extensive professional networks in politics and policy. Youll gain industry-relevant experience and practical skills by working on real-world projects, such as developing policy briefing papers or political communication strategies. Through electives, youll have the opportunity to delve deeper into the complex and often competing array of accountabilities at force in governance, the distribution of power and authority between the tiers of the federal system of government, and the interplay of communication, politics and public opinion. Youll also gain insights into current Australian public policy in key fields such as foreign policy, crime and urban design, and consider innovative ideas for changes of policy direction drawing on lessons from overseas. With a dual understanding of the theoretical foundations of politics and the nuances of effective and ethical policymaking, youll graduate job ready with a range of industry-relevant skills and an applied understanding of politics in action. This course is delivered via Deakins premium online platform, ensuring a collaborative, fully supported and flexible study environment, so you can get ahead with your career journey while also maintaining work, study and personal commitments.', metadata={}),\n",
       "  Document(page_content=\"Master of Energy System Management (Professional) Engineering offers an exciting future with an increasing demand for graduates globally. With ambitious renewable energy targets being set around the world, there is increasing global demand for skilled senior engineers who can design, manage and maintain new distributed energy grid systems. The Master of Energy System Management (Professional) focuses on practical and real-world problems that blend project-based and workplace learning. This professional program extends your knowledge in energy management systems through a unique blend of engineering, IT and science units. With a focus on practical learning, and the opportunity to undertake an industry-based placement, you will graduate career-ready and with the capacity to apply your skills to real-world problems. Upon graduation, you will be equipped with the knowledge and skills to tackle problems associated with energy systems that include efficiencies, renewable and alternative solutions, and policy. Want to develop real-world solutions to global energy challenges? Deakin's School of Engineering is leading the way in cutting edge research in this area and developing innovative solutions for industry. You will have world-class facilities and equipment at your fingertips with access to Deakin's state-of-the-art engineering precinct and the Geelong Future Economy Precinct (GTP). This is home to the Renewable Energy Microgrid, Institute for Frontier Materials (IFM), Institute for Intelligent Systems Research and Innovation (IISRI), CSIRO Materials Science and Engineering and the Australian Future Fibre Research and Innovation Centre. Throughout the degree you'll develop unique strengths to work collaboratively in professional teams to develop evidence-based engineering solutions. You will acquire critical-thinking, innovative problem-solving and entrepreneurial skills. These are what employers are looking for to satisfy the growing need for intelligent energy systems and the increasing use of renewable and alternative energy sources in residential and commercial applications. As a graduate, you'll possess the necessary skills to work as a highly skilled engineer with expertise in Energy System Management. You will be qualified to take responsibility for interpreting technological possibilities for society, business and government. You will help to ensure policy decisions are properly informed, including that costs, risks and limitations are properly understood as the desirable outcomes.\", metadata={})]}"
      ]
     },
     "execution_count": 9,
     "metadata": {},
     "output_type": "execute_result"
    }
   ],
   "source": [
    "%%time\n",
    "qa(\"Hello\")"
   ]
  },
  {
   "cell_type": "code",
   "execution_count": null,
   "id": "2f224ccf-a8eb-44b2-b7b7-9fc5dc9ce8e9",
   "metadata": {},
   "outputs": [],
   "source": []
  },
  {
   "cell_type": "code",
   "execution_count": null,
   "id": "d0347d3b-3eeb-4d5c-8ab4-204cd594c980",
   "metadata": {},
   "outputs": [],
   "source": []
  },
  {
   "cell_type": "code",
   "execution_count": null,
   "id": "f041865c-5ea9-47ca-a5c7-45e86ea18447",
   "metadata": {},
   "outputs": [],
   "source": []
  }
 ],
 "metadata": {
  "kernelspec": {
   "display_name": "Python 3 (ipykernel)",
   "language": "python",
   "name": "python3"
  },
  "language_info": {
   "codemirror_mode": {
    "name": "ipython",
    "version": 3
   },
   "file_extension": ".py",
   "mimetype": "text/x-python",
   "name": "python",
   "nbconvert_exporter": "python",
   "pygments_lexer": "ipython3",
   "version": "3.10.10"
  }
 },
 "nbformat": 4,
 "nbformat_minor": 5
}
