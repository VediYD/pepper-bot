{
 "cells": [
  {
   "cell_type": "markdown",
   "metadata": {},
   "source": [
    "## file for testing different api / individual components of the whole server setup"
   ]
  },
  {
   "cell_type": "code",
   "execution_count": 1,
   "metadata": {},
   "outputs": [],
   "source": [
    "## cleaning up imports, given below are the imports used by the main file\n",
    "# idling\n",
    "# eyescontroller\n",
    "# trackhead\n",
    "# detect\n",
    "# facetracker\n",
    "# listen\n",
    "# speak\n",
    "# classifyquery\n",
    "# convflow\n",
    "# returntodefaultpos\n",
    "# stoplistening"
   ]
  },
  {
   "cell_type": "code",
   "execution_count": 1,
   "metadata": {},
   "outputs": [
    {
     "name": "stderr",
     "output_type": "stream",
     "text": [
      "/usr/local/lib/python2.7/site-packages/paramiko/transport.py:33: CryptographyDeprecationWarning: Python 2 is no longer supported by the Python core team. Support for it is now deprecated in cryptography, and will be removed in the next release.\n",
      "  from cryptography.hazmat.backends import default_backend\n"
     ]
    }
   ],
   "source": [
    "# checking if their individual imports work\n",
    "from idle import idling"
   ]
  },
  {
   "cell_type": "code",
   "execution_count": 2,
   "metadata": {},
   "outputs": [],
   "source": [
    "from interactiveControls import EyesController\n",
    "from interactiveControls import track_head\n",
    "from interactiveControls import return_to_default_pos"
   ]
  },
  {
   "cell_type": "code",
   "execution_count": 3,
   "metadata": {},
   "outputs": [],
   "source": [
    "from humanInteraction import detect\n",
    "from humanInteraction import listen\n",
    "from humanInteraction import speak\n",
    "from humanInteraction import faceTracker\n",
    "from humanInteraction import classifyQuery\n",
    "from humanInteraction import stopListening"
   ]
  },
  {
   "cell_type": "code",
   "execution_count": 4,
   "metadata": {},
   "outputs": [],
   "source": [
    "idle = idling()\n",
    "idle.start_idle_behavior()"
   ]
  },
  {
   "cell_type": "code",
   "execution_count": 5,
   "metadata": {},
   "outputs": [],
   "source": [
    "from chatflow import convFlow"
   ]
  },
  {
   "cell_type": "code",
   "execution_count": 6,
   "metadata": {},
   "outputs": [],
   "source": [
    "from humanInteraction import postCasualQuery"
   ]
  },
  {
   "cell_type": "code",
   "execution_count": 9,
   "metadata": {},
   "outputs": [
    {
     "name": "stdout",
     "output_type": "stream",
     "text": [
      "[]\n",
      "1692357262.03Hello there!\n",
      "\n",
      "1692357262.93\n",
      " I'm here at Deakin University Open Day and happy to assist any students in their quest for information or assistance during this event,\n",
      " as long as it's within my programming capabilities (which is pretty much everything).\n",
      " If you're looking specifically for toilet-related directions while attending the open day with me,\n",
      " please feel free to ask.\n",
      " I'll do what I can to help!\n",
      "quit\n",
      "1692357272.62\n",
      "1692357277.36\n",
      "1692357282.52\n",
      "1692357284.38\n",
      "1692357285.89\n",
      "('Time taken: ', 45.39655089378357)\n"
     ]
    }
   ],
   "source": [
    "from time import time\n",
    "\n",
    "start = time()\n",
    "idle.stop()\n",
    "postCasualQuery('i need some help finding the toilet can you show me the way', [])\n",
    "idle.start_idle_behavior()\n",
    "end = time()\n",
    "print('Time taken: ', end - start)"
   ]
  },
  {
   "cell_type": "code",
   "execution_count": 11,
   "metadata": {},
   "outputs": [
    {
     "name": "stdout",
     "output_type": "stream",
     "text": [
      "[]\n",
      "1692357389.32I'm great!\n",
      "\n",
      "1692357390.2\n",
      "quit\n",
      "('Time taken: ', 19.945900917053223)\n"
     ]
    }
   ],
   "source": [
    "from time import time\n",
    "\n",
    "start = time()\n",
    "idle.stop()\n",
    "postCasualQuery('hey there how are you doing', [])\n",
    "idle.start_idle_behavior()\n",
    "end = time()\n",
    "print('Time taken: ', end - start)"
   ]
  },
  {
   "cell_type": "code",
   "execution_count": 12,
   "metadata": {},
   "outputs": [
    {
     "name": "stdout",
     "output_type": "stream",
     "text": [
      "[]\n",
      " Yes!\n",
      "1692357435.55\n",
      "quit\n",
      "1692357436.32\n",
      "('Time taken: ', 17.81007695198059)\n"
     ]
    }
   ],
   "source": [
    "from time import time\n",
    "\n",
    "start = time()\n",
    "idle.stop()\n",
    "postCasualQuery('can i give you a hug', [])\n",
    "idle.start_idle_behavior()\n",
    "end = time()\n",
    "print('Time taken: ', end - start)"
   ]
  },
  {
   "cell_type": "code",
   "execution_count": 13,
   "metadata": {},
   "outputs": [
    {
     "name": "stdout",
     "output_type": "stream",
     "text": [
      "[]\n",
      "1692357468.14Hi there!\n",
      "\n",
      "1692357468.97\n",
      "quit\n",
      "('Time taken: ', 18.900633096694946)\n"
     ]
    }
   ],
   "source": [
    "from time import time\n",
    "\n",
    "start = time()\n",
    "idle.stop()\n",
    "postCasualQuery('can you be my friend', [])\n",
    "idle.start_idle_behavior()\n",
    "end = time()\n",
    "print('Time taken: ', end - start)"
   ]
  },
  {
   "cell_type": "code",
   "execution_count": 14,
   "metadata": {},
   "outputs": [
    {
     "name": "stdout",
     "output_type": "stream",
     "text": [
      "[]\n",
      "1692357492.06 \n",
      "I am a humanoid robot and I don't feel emotions like humans but I can understand that some questions may be related with my capabilities or limitations as Pepper robots are not allowed to leave their post during events,\n",
      " so if someone asks me about this topic,\n",
      " it's best for them to ask the student ambassadors.\n",
      " However in general terms,\n",
      " there is no such thing called feelings and we don't have emotions like humans but I can understand that some questions may be related with my capabilities or limitations as Pepper robots are not allowed to leave their post during events so if someone asks me about this topic it's best for them to ask the student ambassadors.\n",
      "quit\n",
      "1692357505.12\n",
      "1692357507.77\n",
      "1692357510.75\n",
      "1692357512.61\n",
      "1692357530.16\n",
      "('Time taken: ', 60.17826700210571)\n"
     ]
    }
   ],
   "source": [
    "from time import time\n",
    "\n",
    "start = time()\n",
    "idle.stop()\n",
    "postCasualQuery('do you have feelings', [])\n",
    "idle.start_idle_behavior()\n",
    "end = time()\n",
    "print('Time taken: ', end - start)"
   ]
  },
  {
   "cell_type": "code",
   "execution_count": 15,
   "metadata": {},
   "outputs": [
    {
     "data": {
      "text/plain": [
       "-13.059999942779541"
      ]
     },
     "execution_count": 15,
     "metadata": {},
     "output_type": "execute_result"
    }
   ],
   "source": [
    "1692357492.06 - 1692357505.12"
   ]
  },
  {
   "cell_type": "code",
   "execution_count": null,
   "metadata": {},
   "outputs": [],
   "source": []
  }
 ],
 "metadata": {
  "kernelspec": {
   "display_name": "Python 2",
   "language": "python",
   "name": "python2"
  },
  "language_info": {
   "codemirror_mode": {
    "name": "ipython",
    "version": 2
   },
   "file_extension": ".py",
   "mimetype": "text/x-python",
   "name": "python",
   "nbconvert_exporter": "python",
   "pygments_lexer": "ipython2",
   "version": "2.7.18"
  }
 },
 "nbformat": 4,
 "nbformat_minor": 2
}
