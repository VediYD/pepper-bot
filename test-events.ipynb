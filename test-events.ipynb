{
 "cells": [
  {
   "cell_type": "code",
   "execution_count": 2,
   "metadata": {},
   "outputs": [],
   "source": [
    "from naoqi import qi\n",
    "import time\n",
    "\n",
    "\n",
    "class HumanGreeter(object):\n",
    "    \"\"\"\n",
    "    A simple class to react to face detection events.\n",
    "    \"\"\"\n",
    "\n",
    "    def __init__(self, app):\n",
    "        \"\"\"\n",
    "        Initialisation of qi framework and event detection.\n",
    "        \"\"\"\n",
    "        super(HumanGreeter, self).__init__()\n",
    "        app.start()\n",
    "        session = app.session\n",
    "        # Get the service ALMemory.\n",
    "        self.memory = session.service(\"ALMemory\")\n",
    "        # Connect the event callback.\n",
    "        self.subscriber = self.memory.subscriber(\"FaceDetected\")\n",
    "        self.subscriber.signal.connect(self.on_human_tracked)\n",
    "        # Get the services ALTextToSpeech and ALFaceDetection.\n",
    "        self.tts = session.service(\"ALTextToSpeech\")\n",
    "        self.face_detection = session.service(\"ALFaceDetection\")\n",
    "        self.face_detection.subscribe(\"HumanGreeter\")\n",
    "        self.got_face = False\n",
    "\n",
    "    def on_human_tracked(self, value):\n",
    "        \"\"\"\n",
    "        Callback for event FaceDetected.\n",
    "        \"\"\"\n",
    "        if value == []:  # empty value when the face disappears\n",
    "            self.got_face = False\n",
    "        elif not self.got_face:  # only speak the first time a face appears\n",
    "            self.got_face = True\n",
    "            print \"I saw a face!\"\n",
    "            self.tts.say(\"Hello, you!\")\n",
    "            # First Field = TimeStamp.\n",
    "            timeStamp = value[0]\n",
    "            print \"TimeStamp is: \" + str(timeStamp)\n",
    "\n",
    "            # Second Field = array of face_Info's.\n",
    "            faceInfoArray = value[1]\n",
    "            for j in range( len(faceInfoArray)-1 ):\n",
    "                faceInfo = faceInfoArray[j]\n",
    "\n",
    "                # First Field = Shape info.\n",
    "                faceShapeInfo = faceInfo[0]\n",
    "\n",
    "                # Second Field = Extra info (empty for now).\n",
    "                faceExtraInfo = faceInfo[1]\n",
    "\n",
    "                print \"Face Infos :  alpha %.3f - beta %.3f\" % (faceShapeInfo[1], faceShapeInfo[2])\n",
    "                print \"Face Infos :  width %.3f - height %.3f\" % (faceShapeInfo[3], faceShapeInfo[4])\n",
    "                print \"Face Extra Infos :\" + str(faceExtraInfo)\n",
    "\n",
    "    def run(self):\n",
    "        \"\"\"\n",
    "        Loop on, wait for events until manual interruption.\n",
    "        \"\"\"\n",
    "        print \"Starting HumanGreeter\"\n",
    "        try:\n",
    "            while True:\n",
    "                time.sleep(1)\n",
    "        except KeyboardInterrupt:\n",
    "            print \"Interrupted by user, stopping HumanGreeter\"\n",
    "            self.face_detection.unsubscribe(\"HumanGreeter\")\n",
    "            app.stop()\n",
    "            #stop\n",
    "#             sys.exit(0)"
   ]
  },
  {
   "cell_type": "code",
   "execution_count": null,
   "metadata": {},
   "outputs": [],
   "source": [
    "ip = '10.104.23.217'\n",
    "port = '9559'\n",
    "try:\n",
    "    # Initialize qi framework.\n",
    "    connection_url = \"tcp://\" + ip + \":\" + port\n",
    "    app = qi.Application([\"HumanGreeter\", \"--qi-url=\" + connection_url])\n",
    "except RuntimeError:\n",
    "    print (\"Can't connect to Naoqi at ip \\\"\" + ip + \"\\\" on port \" + port +\".\\n\"\n",
    "           \"Please check your script arguments. Run with -h option for help.\")\n",
    "#     sys.exit(1)\n",
    "\n",
    "human_greeter = HumanGreeter(app)\n",
    "human_greeter.run()"
   ]
  },
  {
   "cell_type": "code",
   "execution_count": 1,
   "metadata": {},
   "outputs": [],
   "source": [
    "from naoqi import qi\n",
    "import time\n",
    "\n",
    "\n",
    "class ManAutoLife(object):\n",
    "    \"\"\"\n",
    "    A simple class to react to face detection events.\n",
    "    \"\"\"\n",
    "\n",
    "    def __init__(self, app):\n",
    "        \"\"\"\n",
    "        Initialisation of qi framework and event detection.\n",
    "        \"\"\"\n",
    "        super(ManAutoLife, self).__init__()\n",
    "        \n",
    "        self.app = app\n",
    "        self.app.start()\n",
    "        \n",
    "        session = self.session = app.session\n",
    "        \n",
    "        # Get the service ALMemory.\n",
    "        self.memory = session.service(\"ALMemory\")\n",
    "        \n",
    "        # Connect the event callback.\n",
    "        self.subscriber = self.memory.subscriber(\"FaceDetected\")\n",
    "        self.subscriber.signal.connect(self.on_human_tracked)\n",
    "        \n",
    "        # Get the services ALTextToSpeech and ALFaceDetection.\n",
    "        self.tts = session.service(\"ALTextToSpeech\")\n",
    "        self.face_detection = session.service(\"ALFaceDetection\")\n",
    "        self.face_detection.subscribe(\"ManAutoLife\")\n",
    "        self.got_face = False\n",
    "\n",
    "    def on_human_tracked(self, value):\n",
    "        \"\"\"\n",
    "        Callback for event FaceDetected.\n",
    "        \"\"\"\n",
    "        if value == []:  # empty value when the face disappears\n",
    "            self.got_face = False\n",
    "        elif not self.got_face:  # only speak the first time a face appears\n",
    "            self.got_face = True\n",
    "            print \"I saw a face!\"\n",
    "            \n",
    "            # First Field = TimeStamp.\n",
    "            timeStamp = value[0]\n",
    "            print \"TimeStamp is: \" + str(timeStamp)\n",
    "\n",
    "            # Second Field = array of face_Info's.\n",
    "            faceInfoArray = value[1]\n",
    "            for j in range( len(faceInfoArray)-1 ):\n",
    "                faceInfo = faceInfoArray[j]\n",
    "\n",
    "                # First Field = Shape info.\n",
    "                faceShapeInfo = faceInfo[0]\n",
    "\n",
    "                # Second Field = Extra info (empty for now).\n",
    "                faceExtraInfo = faceInfo[1]\n",
    "\n",
    "                print \"Face Infos :  alpha %.3f - beta %.3f\" % (faceShapeInfo[1], faceShapeInfo[2])\n",
    "                print \"Face Infos :  width %.3f - height %.3f\" % (faceShapeInfo[3], faceShapeInfo[4])\n",
    "                print \"Face Extra Infos :\" + str(faceExtraInfo)\n",
    "\n",
    "    def run(self):\n",
    "        \"\"\"\n",
    "        Loop on, wait for events until manual interruption.\n",
    "        \"\"\"\n",
    "        print \"Starting ManAutoLife\"\n",
    "        try:\n",
    "            while True:\n",
    "                time.sleep(1)\n",
    "        except KeyboardInterrupt:\n",
    "            print \"Interrupted by user, stopping ManAutoLife\"\n",
    "            return self.stop_all()\n",
    "    \n",
    "    def stop_all(self):\n",
    "        self.face_detection.unsubscribe(\"ManAutoLife\")\n",
    "        self.session.close()\n",
    "        self.app.stop()\n",
    "        return self.session, self.app"
   ]
  },
  {
   "cell_type": "code",
   "execution_count": 3,
   "metadata": {},
   "outputs": [
    {
     "ename": "Exception",
     "evalue": "Application was already initialized",
     "output_type": "error",
     "traceback": [
      "\u001b[0;31m\u001b[0m",
      "\u001b[0;31mException\u001b[0mTraceback (most recent call last)",
      "\u001b[0;32m<ipython-input-3-40ac8096e74e>\u001b[0m in \u001b[0;36m<module>\u001b[0;34m()\u001b[0m\n\u001b[1;32m      4\u001b[0m     \u001b[0;31m# Initialize qi framework.\u001b[0m\u001b[0;34m\u001b[0m\u001b[0;34m\u001b[0m\u001b[0m\n\u001b[1;32m      5\u001b[0m     \u001b[0mconnection_url\u001b[0m \u001b[0;34m=\u001b[0m \u001b[0;34m\"tcp://\"\u001b[0m \u001b[0;34m+\u001b[0m \u001b[0mip\u001b[0m \u001b[0;34m+\u001b[0m \u001b[0;34m\":\"\u001b[0m \u001b[0;34m+\u001b[0m \u001b[0mport\u001b[0m\u001b[0;34m\u001b[0m\u001b[0m\n\u001b[0;32m----> 6\u001b[0;31m     \u001b[0mapp\u001b[0m \u001b[0;34m=\u001b[0m \u001b[0mqi\u001b[0m\u001b[0;34m.\u001b[0m\u001b[0mApplication\u001b[0m\u001b[0;34m(\u001b[0m\u001b[0;34m[\u001b[0m\u001b[0;34m\"ManAutoLife\"\u001b[0m\u001b[0;34m,\u001b[0m \u001b[0;34m\"--qi-url=\"\u001b[0m \u001b[0;34m+\u001b[0m \u001b[0mconnection_url\u001b[0m\u001b[0;34m]\u001b[0m\u001b[0;34m)\u001b[0m\u001b[0;34m\u001b[0m\u001b[0m\n\u001b[0m\u001b[1;32m      7\u001b[0m \u001b[0;32mexcept\u001b[0m \u001b[0mRuntimeError\u001b[0m\u001b[0;34m:\u001b[0m\u001b[0;34m\u001b[0m\u001b[0m\n\u001b[1;32m      8\u001b[0m     print (\"Can't connect to Naoqi at ip \\\"\" + ip + \"\\\" on port \" + port +\".\\n\"\n",
      "\u001b[0;32m/pynaoqi-python2.7-2.5.7.1-linux64/lib/python2.7/site-packages/qi/__init__.pyc\u001b[0m in \u001b[0;36mApplication\u001b[0;34m(args, raw, autoExit, url)\u001b[0m\n\u001b[1;32m    150\u001b[0m             \u001b[0m_app\u001b[0m \u001b[0;34m=\u001b[0m \u001b[0m_ApplicationSession\u001b[0m\u001b[0;34m(\u001b[0m\u001b[0margs\u001b[0m\u001b[0;34m,\u001b[0m \u001b[0mautoExit\u001b[0m\u001b[0;34m,\u001b[0m \u001b[0murl\u001b[0m\u001b[0;34m)\u001b[0m\u001b[0;34m;\u001b[0m\u001b[0;34m\u001b[0m\u001b[0m\n\u001b[1;32m    151\u001b[0m     \u001b[0;32melse\u001b[0m\u001b[0;34m:\u001b[0m\u001b[0;34m\u001b[0m\u001b[0m\n\u001b[0;32m--> 152\u001b[0;31m         \u001b[0;32mraise\u001b[0m \u001b[0mException\u001b[0m\u001b[0;34m(\u001b[0m\u001b[0;34m\"Application was already initialized\"\u001b[0m\u001b[0;34m)\u001b[0m\u001b[0;34m\u001b[0m\u001b[0m\n\u001b[0m\u001b[1;32m    153\u001b[0m     \u001b[0;32mreturn\u001b[0m \u001b[0m_app\u001b[0m\u001b[0;34m\u001b[0m\u001b[0m\n\u001b[1;32m    154\u001b[0m \u001b[0;34m\u001b[0m\u001b[0m\n",
      "\u001b[0;31mException\u001b[0m: Application was already initialized"
     ]
    }
   ],
   "source": [
    "ip = '10.104.23.217'\n",
    "port = '9559'\n",
    "try:\n",
    "    # Initialize qi framework.\n",
    "    connection_url = \"tcp://\" + ip + \":\" + port\n",
    "    app = qi.Application([\"ManAutoLife\", \"--qi-url=\" + connection_url])\n",
    "except RuntimeError:\n",
    "    print (\"Can't connect to Naoqi at ip \\\"\" + ip + \"\\\" on port \" + port +\".\\n\"\n",
    "           \"Please check your script arguments. Run with -h option for help.\")\n",
    "\n",
    "\n",
    "human_greeter = ManAutoLife(app)\n",
    "human_greeter.run()\n",
    "del human_greeter, app"
   ]
  },
  {
   "cell_type": "code",
   "execution_count": 4,
   "metadata": {
    "scrolled": false
   },
   "outputs": [
    {
     "data": {
      "text/plain": [
       "['__class__',\n",
       " '__delattr__',\n",
       " '__dict__',\n",
       " '__doc__',\n",
       " '__format__',\n",
       " '__getattribute__',\n",
       " '__hash__',\n",
       " '__init__',\n",
       " '__module__',\n",
       " '__new__',\n",
       " '__reduce__',\n",
       " '__reduce_ex__',\n",
       " '__repr__',\n",
       " '__setattr__',\n",
       " '__sizeof__',\n",
       " '__str__',\n",
       " '__subclasshook__',\n",
       " '__weakref__',\n",
       " 'async',\n",
       " 'call',\n",
       " 'callModule',\n",
       " 'close',\n",
       " 'connect',\n",
       " 'connected',\n",
       " 'disconnected',\n",
       " 'endpoints',\n",
       " 'isConnected',\n",
       " 'listen',\n",
       " 'listenStandalone',\n",
       " 'loadServiceRename',\n",
       " 'metaObject',\n",
       " 'registerService',\n",
       " 'service',\n",
       " 'serviceRegistered',\n",
       " 'serviceUnregistered',\n",
       " 'services',\n",
       " 'unregisterService',\n",
       " 'url',\n",
       " 'waitForService']"
      ]
     },
     "execution_count": 4,
     "metadata": {},
     "output_type": "execute_result"
    }
   ],
   "source": [
    "dir(sess)"
   ]
  },
  {
   "cell_type": "code",
   "execution_count": 18,
   "metadata": {
    "scrolled": false
   },
   "outputs": [
    {
     "data": {
      "text/plain": [
       "<_qi._ProxySignal at 0x7fa9cca6b3d0>"
      ]
     },
     "execution_count": 18,
     "metadata": {},
     "output_type": "execute_result"
    }
   ],
   "source": [
    "sess.connected"
   ]
  },
  {
   "cell_type": "code",
   "execution_count": 12,
   "metadata": {},
   "outputs": [],
   "source": [
    "app.stop()"
   ]
  },
  {
   "cell_type": "code",
   "execution_count": 13,
   "metadata": {
    "scrolled": true
   },
   "outputs": [
    {
     "ename": "Exception",
     "evalue": "Application was already initialized",
     "output_type": "error",
     "traceback": [
      "\u001b[0;31m\u001b[0m",
      "\u001b[0;31mException\u001b[0mTraceback (most recent call last)",
      "\u001b[0;32m<ipython-input-13-2d4cb8a5c129>\u001b[0m in \u001b[0;36m<module>\u001b[0;34m()\u001b[0m\n\u001b[0;32m----> 1\u001b[0;31m \u001b[0mapp\u001b[0m \u001b[0;34m=\u001b[0m \u001b[0mqi\u001b[0m\u001b[0;34m.\u001b[0m\u001b[0mApplication\u001b[0m\u001b[0;34m(\u001b[0m\u001b[0;34m[\u001b[0m\u001b[0;34m\"ManAutoLife\"\u001b[0m\u001b[0;34m,\u001b[0m \u001b[0;34m\"--qi-url=\"\u001b[0m \u001b[0;34m+\u001b[0m \u001b[0mconnection_url\u001b[0m\u001b[0;34m]\u001b[0m\u001b[0;34m)\u001b[0m\u001b[0;34m\u001b[0m\u001b[0m\n\u001b[0m",
      "\u001b[0;32m/pynaoqi-python2.7-2.5.7.1-linux64/lib/python2.7/site-packages/qi/__init__.pyc\u001b[0m in \u001b[0;36mApplication\u001b[0;34m(args, raw, autoExit, url)\u001b[0m\n\u001b[1;32m    150\u001b[0m             \u001b[0m_app\u001b[0m \u001b[0;34m=\u001b[0m \u001b[0m_ApplicationSession\u001b[0m\u001b[0;34m(\u001b[0m\u001b[0margs\u001b[0m\u001b[0;34m,\u001b[0m \u001b[0mautoExit\u001b[0m\u001b[0;34m,\u001b[0m \u001b[0murl\u001b[0m\u001b[0;34m)\u001b[0m\u001b[0;34m;\u001b[0m\u001b[0;34m\u001b[0m\u001b[0m\n\u001b[1;32m    151\u001b[0m     \u001b[0;32melse\u001b[0m\u001b[0;34m:\u001b[0m\u001b[0;34m\u001b[0m\u001b[0m\n\u001b[0;32m--> 152\u001b[0;31m         \u001b[0;32mraise\u001b[0m \u001b[0mException\u001b[0m\u001b[0;34m(\u001b[0m\u001b[0;34m\"Application was already initialized\"\u001b[0m\u001b[0;34m)\u001b[0m\u001b[0;34m\u001b[0m\u001b[0m\n\u001b[0m\u001b[1;32m    153\u001b[0m     \u001b[0;32mreturn\u001b[0m \u001b[0m_app\u001b[0m\u001b[0;34m\u001b[0m\u001b[0m\n\u001b[1;32m    154\u001b[0m \u001b[0;34m\u001b[0m\u001b[0m\n",
      "\u001b[0;31mException\u001b[0m: Application was already initialized"
     ]
    }
   ],
   "source": [
    "app."
   ]
  },
  {
   "cell_type": "code",
   "execution_count": 7,
   "metadata": {},
   "outputs": [
    {
     "data": {
      "text/plain": [
       "<_qi.ApplicationSession at 0x7f8e9733b2f0>"
      ]
     },
     "execution_count": 7,
     "metadata": {},
     "output_type": "execute_result"
    }
   ],
   "source": []
  },
  {
   "cell_type": "code",
   "execution_count": null,
   "metadata": {},
   "outputs": [],
   "source": []
  }
 ],
 "metadata": {
  "kernelspec": {
   "display_name": "Python 2",
   "language": "python",
   "name": "python2"
  },
  "language_info": {
   "codemirror_mode": {
    "name": "ipython",
    "version": 2
   },
   "file_extension": ".py",
   "mimetype": "text/x-python",
   "name": "python",
   "nbconvert_exporter": "python",
   "pygments_lexer": "ipython2",
   "version": "2.7.18"
  }
 },
 "nbformat": 4,
 "nbformat_minor": 2
}
