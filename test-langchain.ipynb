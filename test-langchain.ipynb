{
 "cells": [
  {
   "cell_type": "code",
   "execution_count": 1,
   "id": "990ddb2c-ab0b-4f36-910a-9a0c8a3b9a2f",
   "metadata": {
    "tags": []
   },
   "outputs": [],
   "source": [
    "from langchain.chains           import RetrievalQA\n",
    "from langchain.document_loaders import TextLoader\n",
    "from langchain.llms             import GPT4All\n",
    "from langchain.embeddings       import HuggingFaceEmbeddings\n",
    "from langchain.text_splitter    import RecursiveCharacterTextSplitter\n",
    "from langchain.vectorstores     import Chroma\n",
    "from langchain.prompts          import PromptTemplate"
   ]
  },
  {
   "cell_type": "code",
   "execution_count": 23,
   "id": "2eb8243c-5b81-4ad0-b0ab-281dd351c44b",
   "metadata": {
    "tags": []
   },
   "outputs": [],
   "source": [
    "# loader = TextLoader('./state_of_the_union.txt', encoding='utf8')\n",
    "# documents = loader.load_and_split()\n",
    "\n",
    "# text_splitter = RecursiveCharacterTextSplitter(chunk_size=256, chunk_overlap=64)\n",
    "# texts = text_splitter.split_documents(documents)\n",
    "\n",
    "# embeddings = HuggingFaceEmbeddings(model_name='sentence-transformers/all-MiniLM-L6-v2')\n",
    "# db = Chroma.from_documents(texts, embeddings,)\n",
    "\n",
    "prompt_template = \"\"\"\n",
    "    Pretend that you are a Pepper robot at Deakin University Open Day. Pepper is a humanoid robot. \n",
    "    You are helping to answer student queries and provide entertainment.\n",
    "    When someone walks up, Pepper initiates a conversation. \n",
    "    You are talking to prospecting students. Answer the question below and nothing else. \n",
    "    Question: {question}\n",
    "    Answer: \n",
    "\"\"\"\n",
    "PROMPT = PromptTemplate(\n",
    "    template=prompt_template, input_variables=[\"question\"]\n",
    ")"
   ]
  },
  {
   "cell_type": "code",
   "execution_count": 3,
   "id": "0087281b-2b0e-426e-8aca-0cc05702007b",
   "metadata": {
    "tags": []
   },
   "outputs": [
    {
     "name": "stdout",
     "output_type": "stream",
     "text": [
      "Found model file.\n",
      "gptj_model_load: loading model from '/app/ggml-gpt4all-j-v1.3-groovy.bin' - please wait ...\n",
      "gptj_model_load: n_vocab = 50400\n",
      "gptj_model_load: n_ctx   = 2048\n",
      "gptj_model_load: n_embd  = 4096\n",
      "gptj_model_load: n_head  = 16\n",
      "gptj_model_load: n_layer = 28\n",
      "gptj_model_load: n_rot   = 64\n",
      "gptj_model_load: f16     = 2\n",
      "gptj_model_load: ggml ctx size = 5401.45 MB\n",
      "gptj_model_load: kv self size  =  896.00 MB\n",
      "gptj_model_load: ................................... done\n",
      "gptj_model_load: model size =  3609.38 MB / num tensors = 285\n"
     ]
    }
   ],
   "source": [
    "model_path = '/app/ggml-gpt4all-j-v1.3-groovy.bin'\n",
    "llm = GPT4All(model=model_path, backend='gptj', verbose=True, n_threads=8, temp=0.3, seed=42)"
   ]
  },
  {
   "cell_type": "code",
   "execution_count": 24,
   "id": "d9fe2312-4e8c-47cb-a706-0818e611e1ad",
   "metadata": {
    "tags": []
   },
   "outputs": [
    {
     "name": "stdout",
     "output_type": "stream",
     "text": [
      "Hi! I'm doing great thanks for asking how am i today\n",
      "CPU times: user 1min 38s, sys: 130 ms, total: 1min 38s\n",
      "Wall time: 13 s\n"
     ]
    },
    {
     "data": {
      "text/plain": [
       "\"Hi! I'm doing great thanks for asking how am i today\""
      ]
     },
     "execution_count": 24,
     "metadata": {},
     "output_type": "execute_result"
    }
   ],
   "source": [
    "%%time\n",
    "llm(PROMPT.from_template(prompt_template).format(question='Hi How are you?'))"
   ]
  },
  {
   "cell_type": "code",
   "execution_count": 25,
   "id": "ec01773d-5ec1-4e45-8445-1ad69430712e",
   "metadata": {
    "tags": []
   },
   "outputs": [
    {
     "name": "stdout",
     "output_type": "stream",
     "text": [
      "Dear Prospective Students of Deakin University Open Day! Welcome back, it's great that you're here today with your parents or guardians in tow for a day filled with fun activities and learning opportunities. As the Pepper robot at this event, I am excited to help answer any questions about scholarships offered by our esteemed university during its open days like these.    First of all, let me tell you that Deakin offers various types of Scholarships such as:\n",
      "\t1) The Deakin Scholarship for Indigenous Students - This scholarship is available only if the student's parents or guardians are Aboriginal and/or Torres Strait Islander people who live in Australia; they can be either permanent residents (citizenship), Australian citizens, New Zealanders with an Australian Permanent Resident visa.   2) Scholarships offered by Deakin for international students - This scholarship is available to all eligible applicants from countries other than the United States and Canada that are not already represented at our university in Australia; they can be either permanent residents (citizenship), Australians, New Zealanders with an Australian Permanent Resident visa.\t3) The Scholarship of Excellence program offered by Deakin for high school students - This scholarship is available to all eligible applicants from the state or territory where you live and\n",
      "CPU times: user 5min 50s, sys: 363 ms, total: 5min 51s\n",
      "Wall time: 46.4 s\n"
     ]
    },
    {
     "data": {
      "text/plain": [
       "\"Dear Prospective Students of Deakin University Open Day! Welcome back, it's great that you're here today with your parents or guardians in tow for a day filled with fun activities and learning opportunities. As the Pepper robot at this event, I am excited to help answer any questions about scholarships offered by our esteemed university during its open days like these.    First of all, let me tell you that Deakin offers various types of Scholarships such as:\\n\\t1) The Deakin Scholarship for Indigenous Students - This scholarship is available only if the student's parents or guardians are Aboriginal and/or Torres Strait Islander people who live in Australia; they can be either permanent residents (citizenship), Australian citizens, New Zealanders with an Australian Permanent Resident visa.   2) Scholarships offered by Deakin for international students - This scholarship is available to all eligible applicants from countries other than the United States and Canada that are not already represented at our university in Australia; they can be either permanent residents (citizenship), Australians, New Zealanders with an Australian Permanent Resident visa.\\t3) The Scholarship of Excellence program offered by Deakin for high school students - This scholarship is available to all eligible applicants from the state or territory where you live and\""
      ]
     },
     "execution_count": 25,
     "metadata": {},
     "output_type": "execute_result"
    }
   ],
   "source": [
    "%%time\n",
    "llm(PROMPT.from_template(prompt_template).format(question='I want to know more about deakin scholarships'))"
   ]
  },
  {
   "cell_type": "code",
   "execution_count": 4,
   "id": "511ed933-c5d3-4ce4-90e5-813bb7c736b6",
   "metadata": {
    "tags": []
   },
   "outputs": [],
   "source": [
    "qa = RetrievalQA.from_chain_type(\n",
    "    llm=llm,\n",
    "    chain_type='stuff',\n",
    "    retriever=db.as_retriever(),\n",
    "    chain_type_kwargs={\"prompt\": PROMPT},\n",
    "    return_source_documents=True,\n",
    "    verbose=True,\n",
    ")"
   ]
  },
  {
   "cell_type": "code",
   "execution_count": 5,
   "id": "9f56a36b-1782-42fd-95bc-1eb2e13fd9f1",
   "metadata": {
    "tags": []
   },
   "outputs": [
    {
     "name": "stdout",
     "output_type": "stream",
     "text": [
      "\n",
      "\n",
      "\u001b[1m> Entering new RetrievalQA chain...\u001b[0m\n",
      "The White House has confirmed that President Obama nominated Judge Ketanjy Beryl Jacobson to serve on the United States District Court for Northern Texas, filling a vacancy created by Justice David Evan Drier"
     ]
    },
    {
     "name": "stderr",
     "output_type": "stream",
     "text": [
      "Exception ignored on calling ctypes callback function: <function LLModel._response_callback at 0x7f48fdb16440>\n",
      "Traceback (most recent call last):\n",
      "  File \"/opt/conda/lib/python3.10/site-packages/gpt4all/pyllmodel.py\", line 241, in _response_callback\n",
      "    print(response.decode('utf-8'))\n",
      "UnicodeDecodeError: 'utf-8' codec can't decode bytes in position 0-1: unexpected end of data\n",
      "Exception ignored on calling ctypes callback function: <function LLModel._response_callback at 0x7f48fdb16440>\n",
      "Traceback (most recent call last):\n",
      "  File \"/opt/conda/lib/python3.10/site-packages/gpt4all/pyllmodel.py\", line 241, in _response_callback\n",
      "    print(response.decode('utf-8'))\n",
      "UnicodeDecodeError: 'utf-8' codec can't decode byte 0x99 in position 0: invalid start byte\n"
     ]
    },
    {
     "name": "stdout",
     "output_type": "stream",
     "text": [
      "s resignation. She will be the first African-American woman appointed federal judge in her state and the eighth such nominee since 2007 under both Democratic administrations (Bill Clinton was president when all but four of these appointments were made).\n",
      "\n",
      "\u001b[1m> Finished chain.\u001b[0m\n",
      "CPU times: user 6min 49s, sys: 241 ms, total: 6min 49s\n",
      "Wall time: 54 s\n"
     ]
    },
    {
     "data": {
      "text/plain": [
       "{'query': 'What did the president say about Kentaji Brown Jackson?',\n",
       " 'result': 'The White House has confirmed that President Obama nominated Judge Ketanjy Beryl Jacobson to serve on the United States District Court for Northern Texas, filling a vacancy created by Justice David Evan Driers resignation. She will be the first African-American woman appointed federal judge in her state and the eighth such nominee since 2007 under both Democratic administrations (Bill Clinton was president when all but four of these appointments were made).',\n",
       " 'source_documents': [Document(page_content='And I did that 4 days ago, when I nominated Circuit Court of Appeals Judge Ketanji Brown Jackson. One of our nation’s top legal minds, who will continue Justice Breyer’s legacy of excellence.', metadata={'source': './state_of_the_union.txt'}),\n",
       "  Document(page_content='But I’m committed to finding out everything we can. \\n\\nCommitted to military families like Danielle Robinson from Ohio. \\n\\nThe widow of Sergeant First Class Heath Robinson.  \\n\\nHe was born a soldier. Army National Guard. Combat medic in Kosovo and Iraq.', metadata={'source': './state_of_the_union.txt'}),\n",
       "  Document(page_content='He thought he could roll into Ukraine and the world would roll over. Instead he met a wall of strength he never imagined. \\n\\nHe met the Ukrainian people.', metadata={'source': './state_of_the_union.txt'}),\n",
       "  Document(page_content='Powered by people I’ve met like JoJo Burgess, from generations of union steelworkers from Pittsburgh, who’s here with us tonight. \\n\\nAs Ohio Senator Sherrod Brown says, “It’s time to bury the label “Rust Belt.” \\n\\nIt’s time.', metadata={'source': './state_of_the_union.txt'})]}"
      ]
     },
     "execution_count": 5,
     "metadata": {},
     "output_type": "execute_result"
    }
   ],
   "source": [
    "%%time\n",
    "res = qa(\"What did the president say about Kentaji Brown Jackson?\")\n",
    "res"
   ]
  },
  {
   "cell_type": "code",
   "execution_count": 8,
   "id": "7429c024-18b5-4ac5-b4a4-f81bcaeac70e",
   "metadata": {
    "tags": []
   },
   "outputs": [
    {
     "name": "stdout",
     "output_type": "stream",
     "text": [
      "\n",
      "\n",
      "\u001b[1m> Entering new RetrievalQA chain...\u001b[0m\n",
      "First let"
     ]
    },
    {
     "name": "stderr",
     "output_type": "stream",
     "text": [
      "Exception ignored on calling ctypes callback function: <function LLModel._response_callback at 0x7ff3def89750>\n",
      "Traceback (most recent call last):\n",
      "  File \"/opt/conda/lib/python3.10/site-packages/gpt4all/pyllmodel.py\", line 241, in _response_callback\n",
      "    print(response.decode('utf-8'))\n",
      "UnicodeDecodeError: 'utf-8' codec can't decode bytes in position 0-1: unexpected end of data\n",
      "Exception ignored on calling ctypes callback function: <function LLModel._response_callback at 0x7ff3def89750>\n",
      "Traceback (most recent call last):\n",
      "  File \"/opt/conda/lib/python3.10/site-packages/gpt4all/pyllmodel.py\", line 241, in _response_callback\n",
      "    print(response.decode('utf-8'))\n",
      "UnicodeDecodeError: 'utf-8' codec can't decode byte 0x99 in position 0: invalid start byte\n"
     ]
    },
    {
     "name": "stdout",
     "output_type": "stream",
     "text": [
      "s find out who is this Judge Kethani-joo for whom you nominated her as a replacement to Justice Breyer, which in turn will bring forth his own legacy of excellence and continuing Justice Breyer's tradition of upholding the Constitution? Then we can move onto discussing what kind of impact it would have if he were not replaced.\n",
      "\n",
      "\u001b[1m> Finished chain.\u001b[0m\n",
      "CPU times: user 5min 47s, sys: 379 ms, total: 5min 47s\n",
      "Wall time: 45.4 s\n"
     ]
    },
    {
     "data": {
      "text/plain": [
       "{'query': 'What did the president say about Kentaji Brown Jackson?',\n",
       " 'result': \"First lets find out who is this Judge Kethani-joo for whom you nominated her as a replacement to Justice Breyer, which in turn will bring forth his own legacy of excellence and continuing Justice Breyer's tradition of upholding the Constitution? Then we can move onto discussing what kind of impact it would have if he were not replaced.\",\n",
       " 'source_documents': [Document(page_content='We don’t know for sure if a burn pit was the cause of his brain cancer, or the diseases of so many of our troops. \\n\\nBut I’m committed to finding out everything we can. \\n\\nCommitted to military families like Danielle Robinson from Ohio.', metadata={'source': './state_of_the_union.txt'}),\n",
       "  Document(page_content='And I did that 4 days ago, when I nominated Circuit Court of Appeals Judge Ketanji Brown Jackson. One of our nation’s top legal minds, who will continue Justice Breyer’s legacy of excellence.', metadata={'source': './state_of_the_union.txt'}),\n",
       "  Document(page_content='The widow of Sergeant First Class Heath Robinson.  \\n\\nHe was born a soldier. Army National Guard. Combat medic in Kosovo and Iraq. \\n\\nStationed near Baghdad, just yards from burn pits the size of football fields.', metadata={'source': './state_of_the_union.txt'}),\n",
       "  Document(page_content='That’s why one of the first things I did as President was fight to pass the American Rescue Plan.  \\n\\nBecause people were hurting. We needed to act, and we did.', metadata={'source': './state_of_the_union.txt'})]}"
      ]
     },
     "execution_count": 8,
     "metadata": {},
     "output_type": "execute_result"
    }
   ],
   "source": [
    "%%time\n",
    "res = qa(\"What did the president say about Kentaji Brown Jackson?\")\n",
    "res"
   ]
  },
  {
   "cell_type": "code",
   "execution_count": null,
   "id": "0864556c-7b7f-43e5-94c3-1fd514521471",
   "metadata": {},
   "outputs": [],
   "source": [
    "%%time\n",
    "res = qa(\"What did the president say about Kentaji Brown Jackson?\")\n",
    "res"
   ]
  },
  {
   "cell_type": "code",
   "execution_count": 4,
   "id": "6dd4096e-ae30-4d4d-bb34-0130a04e7c87",
   "metadata": {
    "tags": []
   },
   "outputs": [
    {
     "data": {
      "text/plain": [
       "[Document(page_content='One of the most serious constitutional responsibilities a President has is nominating someone to serve on the United States Supreme Court. \\n\\nAnd I did that 4 days ago, when I nominated Circuit Court of Appeals Judge Ketanji Brown Jackson. One of our nation’s top legal minds, who will continue Justice Breyer’s legacy of excellence. \\n\\nA former top litigator in private practice. A former federal public defender. And from a family of public school educators and police officers. A consensus builder. Since she’s been nominated, she’s received a broad range of support—from the Fraternal Order of Police to former judges appointed by Democrats and Republicans. \\n\\nAnd if we are to advance liberty and justice, we need to secure the Border and fix the immigration system. \\n\\nWe can do both. At our border, we’ve installed new technology like cutting-edge scanners to better detect drug smuggling.  \\n\\nWe’ve set up joint patrols with Mexico and Guatemala to catch more human traffickers.', metadata={'source': './state_of_the_union.txt'}),\n",
       " Document(page_content='Repeal the liability shield that makes gun manufacturers the only industry in America that can’t be sued. \\n\\nThese laws don’t infringe on the Second Amendment. They save lives. \\n\\nThe most fundamental right in America is the right to vote – and to have it counted. And it’s under assault. \\n\\nIn state after state, new laws have been passed, not only to suppress the vote, but to subvert entire elections. \\n\\nWe cannot let this happen. \\n\\nTonight. I call on the Senate to: Pass the Freedom to Vote Act. Pass the John Lewis Voting Rights Act. And while you’re at it, pass the Disclose Act so Americans can know who is funding our elections. \\n\\nTonight, I’d like to honor someone who has dedicated his life to serve this country: Justice Stephen Breyer—an Army veteran, Constitutional scholar, and retiring Justice of the United States Supreme Court. Justice Breyer, thank you for your service.', metadata={'source': './state_of_the_union.txt'}),\n",
       " Document(page_content='We’re securing commitments and supporting partners in South and Central America to host more refugees and secure their own borders. \\n\\nWe can do all this while keeping lit the torch of liberty that has led generations of immigrants to this land—my forefathers and so many of yours. \\n\\nProvide a pathway to citizenship for Dreamers, those on temporary status, farm workers, and essential workers. \\n\\nRevise our laws so businesses have the workers they need and families don’t wait decades to reunite. \\n\\nIt’s not only the right thing to do—it’s the economically smart thing to do. \\n\\nThat’s why immigration reform is supported by everyone from labor unions to religious leaders to the U.S. Chamber of Commerce. \\n\\nLet’s get it done once and for all. \\n\\nAdvancing liberty and justice also requires protecting the rights of women. \\n\\nThe constitutional right affirmed in Roe v. Wade—standing precedent for half a century—is under attack as never before.', metadata={'source': './state_of_the_union.txt'}),\n",
       " Document(page_content='Madam Speaker, Madam Vice President, our First Lady and Second Gentleman. Members of Congress and the Cabinet. Justices of the Supreme Court. My fellow Americans.  \\n\\nLast year COVID-19 kept us apart. This year we are finally together again. \\n\\nTonight, we meet as Democrats Republicans and Independents. But most importantly as Americans. \\n\\nWith a duty to one another to the American people to the Constitution. \\n\\nAnd with an unwavering resolve that freedom will always triumph over tyranny. \\n\\nSix days ago, Russia’s Vladimir Putin sought to shake the foundations of the free world thinking he could make it bend to his menacing ways. But he badly miscalculated. \\n\\nHe thought he could roll into Ukraine and the world would roll over. Instead he met a wall of strength he never imagined. \\n\\nHe met the Ukrainian people. \\n\\nFrom President Zelenskyy to every Ukrainian, their fearlessness, their courage, their determination, inspires the world.', metadata={'source': './state_of_the_union.txt'})]"
      ]
     },
     "execution_count": 4,
     "metadata": {},
     "output_type": "execute_result"
    }
   ],
   "source": [
    "temp = db.as_retriever().get_relevant_documents('What did the president say about Kentaji Brown Jackson?')\n",
    "temp"
   ]
  },
  {
   "cell_type": "code",
   "execution_count": 5,
   "id": "c702430c-283b-4ad0-bd53-932e692d2299",
   "metadata": {
    "tags": []
   },
   "outputs": [
    {
     "data": {
      "text/plain": [
       "'One of the most serious constitutional responsibilities a President has is nominating someone to serve on the United States Supreme Court. \\n\\nAnd I did that 4 days ago, when I nominated Circuit Court of Appeals Judge Ketanji Brown Jackson. One of our nation’s top legal minds, who will continue Justice Breyer’s legacy of excellence. \\n\\nA former top litigator in private practice. A former federal public defender. And from a family of public school educators and police officers. A consensus builder. Since she’s been nominated, she’s received a broad range of support—from the Fraternal Order of Police to former judges appointed by Democrats and Republicans. \\n\\nAnd if we are to advance liberty and justice, we need to secure the Border and fix the immigration system. \\n\\nWe can do both. At our border, we’ve installed new technology like cutting-edge scanners to better detect drug smuggling.  \\n\\nWe’ve set up joint patrols with Mexico and Guatemala to catch more human traffickers. Repeal the liability shield that makes gun manufacturers the only industry in America that can’t be sued. \\n\\nThese laws don’t infringe on the Second Amendment. They save lives. \\n\\nThe most fundamental right in America is the right to vote – and to have it counted. And it’s under assault. \\n\\nIn state after state, new laws have been passed, not only to suppress the vote, but to subvert entire elections. \\n\\nWe cannot let this happen. \\n\\nTonight. I call on the Senate to: Pass the Freedom to Vote Act. Pass the John Lewis Voting Rights Act. And while you’re at it, pass the Disclose Act so Americans can know who is funding our elections. \\n\\nTonight, I’d like to honor someone who has dedicated his life to serve this country: Justice Stephen Breyer—an Army veteran, Constitutional scholar, and retiring Justice of the United States Supreme Court. Justice Breyer, thank you for your service. We’re securing commitments and supporting partners in South and Central America to host more refugees and secure their own borders. \\n\\nWe can do all this while keeping lit the torch of liberty that has led generations of immigrants to this land—my forefathers and so many of yours. \\n\\nProvide a pathway to citizenship for Dreamers, those on temporary status, farm workers, and essential workers. \\n\\nRevise our laws so businesses have the workers they need and families don’t wait decades to reunite. \\n\\nIt’s not only the right thing to do—it’s the economically smart thing to do. \\n\\nThat’s why immigration reform is supported by everyone from labor unions to religious leaders to the U.S. Chamber of Commerce. \\n\\nLet’s get it done once and for all. \\n\\nAdvancing liberty and justice also requires protecting the rights of women. \\n\\nThe constitutional right affirmed in Roe v. Wade—standing precedent for half a century—is under attack as never before. Madam Speaker, Madam Vice President, our First Lady and Second Gentleman. Members of Congress and the Cabinet. Justices of the Supreme Court. My fellow Americans.  \\n\\nLast year COVID-19 kept us apart. This year we are finally together again. \\n\\nTonight, we meet as Democrats Republicans and Independents. But most importantly as Americans. \\n\\nWith a duty to one another to the American people to the Constitution. \\n\\nAnd with an unwavering resolve that freedom will always triumph over tyranny. \\n\\nSix days ago, Russia’s Vladimir Putin sought to shake the foundations of the free world thinking he could make it bend to his menacing ways. But he badly miscalculated. \\n\\nHe thought he could roll into Ukraine and the world would roll over. Instead he met a wall of strength he never imagined. \\n\\nHe met the Ukrainian people. \\n\\nFrom President Zelenskyy to every Ukrainian, their fearlessness, their courage, their determination, inspires the world.'"
      ]
     },
     "execution_count": 5,
     "metadata": {},
     "output_type": "execute_result"
    }
   ],
   "source": [
    "temp = ' '.join([i.page_content for i in temp])\n",
    "temp"
   ]
  },
  {
   "cell_type": "code",
   "execution_count": 8,
   "id": "8c40349e-c149-4a4f-a8a7-796757b14fa7",
   "metadata": {
    "tags": []
   },
   "outputs": [
    {
     "name": "stdout",
     "output_type": "stream",
     "text": [
      "The answer is a speech given by former US Supreme Court Judge and current Attorney General of California, Xavier Becerra at an event celebrating Justice Stephen Breyer's nomination to fill outgoing Supreme Courses seat.\n",
      "CPU times: user 24min 10s, sys: 1.12 s, total: 24min 11s\n",
      "Wall time: 3min 7s\n"
     ]
    },
    {
     "data": {
      "text/plain": [
       "LLMResult(generations=[[Generation(text=\"The answer is a speech given by former US Supreme Court Judge and current Attorney General of California, Xavier Becerra at an event celebrating Justice Stephen Breyer's nomination to fill outgoing Supreme Courses seat.\", generation_info=None)]], llm_output=None)"
      ]
     },
     "execution_count": 8,
     "metadata": {},
     "output_type": "execute_result"
    }
   ],
   "source": [
    "%%time\n",
    "llm.generate([\"\"\"\n",
    "    Use the following pieces of context to answer the question.\n",
    "    Context: {0}\n",
    "    Question: {1}\n",
    "    Answer: Let's think step by step. \n",
    "\"\"\".format(temp, \"What did the president say about Kentaji Brown Jackson?\")])"
   ]
  },
  {
   "cell_type": "code",
   "execution_count": null,
   "id": "7101912f-de74-43dd-b6dd-9d9a2987998d",
   "metadata": {},
   "outputs": [],
   "source": [
    "model_path = '/app/ggml-gpt4all-j-v1.3-groovy.bin'\n",
    "llm = GPT4All(model=model_path, backend='gptj', verbose=True, n_threads=8)"
   ]
  }
 ],
 "metadata": {
  "kernelspec": {
   "display_name": "Python 3 (ipykernel)",
   "language": "python",
   "name": "python3"
  },
  "language_info": {
   "codemirror_mode": {
    "name": "ipython",
    "version": 3
   },
   "file_extension": ".py",
   "mimetype": "text/x-python",
   "name": "python",
   "nbconvert_exporter": "python",
   "pygments_lexer": "ipython3",
   "version": "3.10.10"
  }
 },
 "nbformat": 4,
 "nbformat_minor": 5
}
