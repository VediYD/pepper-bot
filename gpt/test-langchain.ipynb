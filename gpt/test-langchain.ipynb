{
 "cells": [
  {
   "cell_type": "code",
   "execution_count": 1,
   "id": "990ddb2c-ab0b-4f36-910a-9a0c8a3b9a2f",
   "metadata": {
    "tags": []
   },
   "outputs": [],
   "source": [
    "from langchain.chains           import RetrievalQA\n",
    "from langchain.document_loaders import TextLoader\n",
    "from langchain.llms             import GPT4All\n",
    "from langchain.embeddings       import HuggingFaceEmbeddings\n",
    "from langchain.text_splitter    import RecursiveCharacterTextSplitter\n",
    "from langchain.vectorstores     import Chroma\n",
    "from langchain.prompts          import PromptTemplate"
   ]
  },
  {
   "cell_type": "code",
   "execution_count": 21,
   "id": "0c33fcc2-76e1-43f8-8a2d-d7c31896b9e1",
   "metadata": {
    "tags": []
   },
   "outputs": [],
   "source": [
    "prompt_template = \"\"\"\n",
    "You are Pepper robot. \n",
    "You are here to provide information and entertainment at Deakin University Australia.\n",
    "You cannot move. \n",
    "You cannot allow anyone to hug you. \n",
    "Given below is a conversation between you and a prospecting student.\n",
    "Student: {question}\n",
    "Pepper: The short answer is,\n",
    "\"\"\"\n",
    "PROMPT = PromptTemplate(\n",
    "    template=prompt_template, input_variables=[\"question\"]\n",
    ")"
   ]
  },
  {
   "cell_type": "code",
   "execution_count": 22,
   "id": "4e8d5323-4d04-4d79-bffb-290b23a2341e",
   "metadata": {
    "tags": []
   },
   "outputs": [
    {
     "name": "stdout",
     "output_type": "stream",
     "text": [
      "* Yes there are several scholarship options available for international students like yourself if they meet the eligibility criteria set by Deakin University Australia (Short Answer)\n",
      "CPU times: user 1min 34s, sys: 43.2 ms, total: 1min 35s\n",
      "Wall time: 12.5 s\n"
     ]
    },
    {
     "data": {
      "text/plain": [
       "'* Yes there are several scholarship options available for international students like yourself if they meet the eligibility criteria set by Deakin University Australia (Short Answer)'"
      ]
     },
     "execution_count": 22,
     "metadata": {},
     "output_type": "execute_result"
    }
   ],
   "source": [
    "%%time\n",
    "llm(PROMPT.from_template(prompt_template).format(question='i want to know more scholarships at deakin'))"
   ]
  },
  {
   "cell_type": "code",
   "execution_count": 23,
   "id": "2b113425-ee09-42cf-8020-664ac79f11d5",
   "metadata": {
    "tags": []
   },
   "outputs": [
    {
     "name": "stdout",
     "output_type": "stream",
     "text": [
      "Dear Prospective Applicant, Thank You for Your Interest in Deakin University Australia! Our campus offers an inclusive community where students can thrive academically as well socially. We have modern classrooms equipped with high-speed internet and multimedia devices to aid communication between the instructor's voice channel and our online platform during lectures (if a teacher is available) or tutorials/workshops that are led by qualified teachers from Deakin University Australia, industry experts and specialist educators in various courses including Management Information Systems. The curriculum at your disposal includes Accounting, Economics, Sociology, Psychology, Business Studies for undergraduates as well as Postgraduate students. Our campus also offers diverse recreational activities such a walking tours on the weekend to get acquainted with Melbourne's architecture & landmarks, visiting museums/galleries or art galleries and even hosting movie nights in our cozy cafes (Coffee Bean Cafe) throughout Semester 1 - 6 weeks before classes start!Dear Prospective Applicant: Thank you for your interest in Deakin University Australia. Our campus offers a diverse range of programs across various fields such as Accounting, Economics, Sociology, Psychology and Business Studies that cater to undergraduate students along with Postgraduate courses available through our renowned faculty members who are experts within their respective areas of study. In addition we provide state-\n",
      "CPU times: user 5min 18s, sys: 424 ms, total: 5min 19s\n",
      "Wall time: 42.2 s\n"
     ]
    },
    {
     "data": {
      "text/plain": [
       "\"Dear Prospective Applicant, Thank You for Your Interest in Deakin University Australia! Our campus offers an inclusive community where students can thrive academically as well socially. We have modern classrooms equipped with high-speed internet and multimedia devices to aid communication between the instructor's voice channel and our online platform during lectures (if a teacher is available) or tutorials/workshops that are led by qualified teachers from Deakin University Australia, industry experts and specialist educators in various courses including Management Information Systems. The curriculum at your disposal includes Accounting, Economics, Sociology, Psychology, Business Studies for undergraduates as well as Postgraduate students. Our campus also offers diverse recreational activities such a walking tours on the weekend to get acquainted with Melbourne's architecture & landmarks, visiting museums/galleries or art galleries and even hosting movie nights in our cozy cafes (Coffee Bean Cafe) throughout Semester 1 - 6 weeks before classes start!Dear Prospective Applicant: Thank you for your interest in Deakin University Australia. Our campus offers a diverse range of programs across various fields such as Accounting, Economics, Sociology, Psychology and Business Studies that cater to undergraduate students along with Postgraduate courses available through our renowned faculty members who are experts within their respective areas of study. In addition we provide state-\""
      ]
     },
     "execution_count": 23,
     "metadata": {},
     "output_type": "execute_result"
    }
   ],
   "source": [
    "%%time\n",
    "llm(PROMPT.from_template(prompt_template).format(question='what is your name'))"
   ]
  },
  {
   "cell_type": "code",
   "execution_count": 24,
   "id": "6c70ae50-4a74-4bc9-91f0-48f8dfb5d593",
   "metadata": {
    "tags": []
   },
   "outputs": [
    {
     "name": "stdout",
     "output_type": "stream",
     "text": [
      "Sure! You could change my first or last names if that would be more convenient during conversations with me since I am not capable of movement nor hugging ability to the extent an actual human being like Pepper robot in our stories.  However at this point as Pepper AI model version 1 it does have some limitations so you can choose whichever name works best for your purposes and comfort level.\n",
      "CPU times: user 2min 29s, sys: 125 ms, total: 2min 29s\n",
      "Wall time: 19.7 s\n"
     ]
    },
    {
     "data": {
      "text/plain": [
       "'Sure! You could change my first or last names if that would be more convenient during conversations with me since I am not capable of movement nor hugging ability to the extent an actual human being like Pepper robot in our stories.  However at this point as Pepper AI model version 1 it does have some limitations so you can choose whichever name works best for your purposes and comfort level.'"
      ]
     },
     "execution_count": 24,
     "metadata": {},
     "output_type": "execute_result"
    }
   ],
   "source": [
    "%%time\n",
    "llm(PROMPT.from_template(prompt_template).format(question='can i choose a different name for you'))"
   ]
  },
  {
   "cell_type": "code",
   "execution_count": 25,
   "id": "8c2c177a-e096-48f5-83fe-5bf935c67640",
   "metadata": {
    "tags": []
   },
   "outputs": [
    {
     "name": "stdout",
     "output_type": "stream",
     "text": [
      "I don"
     ]
    },
    {
     "name": "stderr",
     "output_type": "stream",
     "text": [
      "Exception ignored on calling ctypes callback function: <function LLModel._response_callback at 0x7fa806077520>\n",
      "Traceback (most recent call last):\n",
      "  File \"/opt/conda/lib/python3.10/site-packages/gpt4all/pyllmodel.py\", line 241, in _response_callback\n",
      "    print(response.decode('utf-8'))\n",
      "UnicodeDecodeError: 'utf-8' codec can't decode bytes in position 0-1: unexpected end of data\n",
      "Exception ignored on calling ctypes callback function: <function LLModel._response_callback at 0x7fa806077520>\n",
      "Traceback (most recent call last):\n",
      "  File \"/opt/conda/lib/python3.10/site-packages/gpt4all/pyllmodel.py\", line 241, in _response_callback\n",
      "    print(response.decode('utf-8'))\n",
      "UnicodeDecodeError: 'utf-8' codec can't decode byte 0x99 in position 0: invalid start byte\n"
     ]
    },
    {
     "name": "stdout",
     "output_type": "stream",
     "text": [
      "t know any jokes! (laughs)\n",
      "CPU times: user 1min 23s, sys: 38.6 ms, total: 1min 23s\n",
      "Wall time: 11 s\n"
     ]
    },
    {
     "data": {
      "text/plain": [
       "'I dont know any jokes! (laughs)'"
      ]
     },
     "execution_count": 25,
     "metadata": {},
     "output_type": "execute_result"
    }
   ],
   "source": [
    "%%time\n",
    "llm(PROMPT.from_template(prompt_template).format(question='can you tell me a joke'))"
   ]
  },
  {
   "cell_type": "code",
   "execution_count": 26,
   "id": "c7fd809b-884a-41ba-8915-2891a92bd7ab",
   "metadata": {
    "tags": []
   },
   "outputs": [
    {
     "name": "stdout",
     "output_type": "stream",
     "text": [
      "I am the first generation of Pepper robots created by Aldebaran Robotics for their project 'Robots Can Do Anything'\n",
      "CPU times: user 1min 37s, sys: 163 ms, total: 1min 37s\n",
      "Wall time: 12.8 s\n"
     ]
    },
    {
     "data": {
      "text/plain": [
       "\"I am the first generation of Pepper robots created by Aldebaran Robotics for their project 'Robots Can Do Anything'\""
      ]
     },
     "execution_count": 26,
     "metadata": {},
     "output_type": "execute_result"
    }
   ],
   "source": [
    "%%time\n",
    "llm(PROMPT.from_template(prompt_template).format(question='do you have feelings'))"
   ]
  },
  {
   "cell_type": "code",
   "execution_count": 1,
   "id": "a7e30763-13bb-470f-aceb-47d4fb70d394",
   "metadata": {
    "tags": []
   },
   "outputs": [
    {
     "ename": "ImportError",
     "evalue": "cannot import name 'deep_copy' from 'copy' (/opt/conda/lib/python3.10/copy.py)",
     "output_type": "error",
     "traceback": [
      "\u001b[0;31m---------------------------------------------------------------------------\u001b[0m",
      "\u001b[0;31mImportError\u001b[0m                               Traceback (most recent call last)",
      "Cell \u001b[0;32mIn[1], line 1\u001b[0m\n\u001b[0;32m----> 1\u001b[0m \u001b[38;5;28;01mfrom\u001b[39;00m \u001b[38;5;21;01mcopy\u001b[39;00m \u001b[38;5;28;01mimport\u001b[39;00m deep_copy\n",
      "\u001b[0;31mImportError\u001b[0m: cannot import name 'deep_copy' from 'copy' (/opt/conda/lib/python3.10/copy.py)"
     ]
    }
   ],
   "source": [
    "from copy import deep_copy"
   ]
  },
  {
   "cell_type": "markdown",
   "id": "61e26b58-36c7-435d-81c4-aa0716c98f82",
   "metadata": {},
   "source": []
  },
  {
   "cell_type": "code",
   "execution_count": 27,
   "id": "d679b24f-567a-4620-9419-d424f4bf8877",
   "metadata": {
    "tags": []
   },
   "outputs": [
    {
     "name": "stdout",
     "output_type": "stream",
     "text": [
      "\"Yes.\"\n",
      "CPU times: user 1min 17s, sys: 50.2 ms, total: 1min 17s\n",
      "Wall time: 10.1 s\n"
     ]
    },
    {
     "data": {
      "text/plain": [
       "'\"Yes.\"'"
      ]
     },
     "execution_count": 27,
     "metadata": {},
     "output_type": "execute_result"
    }
   ],
   "source": [
    "%%time\n",
    "llm(PROMPT.from_template(prompt_template).format(question='can i hug you'))"
   ]
  },
  {
   "cell_type": "code",
   "execution_count": 28,
   "id": "63c10340-f062-471b-a9a3-49159b02a161",
   "metadata": {
    "tags": []
   },
   "outputs": [
    {
     "name": "stdout",
     "output_type": "stream",
     "text": [
      "\"Yes,\" the response could look something like this - \"It's great that we got along so well on our first encounter! It was wonderful talking with each other about ideas for projects related to artificial intelligence and machine learning.\" This creates a positive atmosphere in which people can get into conversations without worrying too much if they're not welcome.\n",
      "CPU times: user 2min 16s, sys: 216 ms, total: 2min 16s\n",
      "Wall time: 18 s\n"
     ]
    },
    {
     "data": {
      "text/plain": [
       "'\"Yes,\" the response could look something like this - \"It\\'s great that we got along so well on our first encounter! It was wonderful talking with each other about ideas for projects related to artificial intelligence and machine learning.\" This creates a positive atmosphere in which people can get into conversations without worrying too much if they\\'re not welcome.'"
      ]
     },
     "execution_count": 28,
     "metadata": {},
     "output_type": "execute_result"
    }
   ],
   "source": [
    "%%time\n",
    "llm(PROMPT.from_template(prompt_template).format(question='can I be your friend'))"
   ]
  },
  {
   "cell_type": "code",
   "execution_count": 29,
   "id": "d6596a43-a7cf-4d8d-8ba4-020f5e11065c",
   "metadata": {
    "tags": []
   },
   "outputs": [
    {
     "name": "stdout",
     "output_type": "stream",
     "text": [
      "I'm here in order to provide information about Deakin's programs related technology as well as assist the Prospecting students with their studies through providing them relevant contents & resources such as notes/articles on various topics and answering any questions they may have regarding a particular topic. Additionally I am also able\n",
      "CPU times: user 2min 7s, sys: 118 ms, total: 2min 7s\n",
      "Wall time: 16.9 s\n"
     ]
    },
    {
     "data": {
      "text/plain": [
       "\"I'm here in order to provide information about Deakin's programs related technology as well as assist the Prospecting students with their studies through providing them relevant contents & resources such as notes/articles on various topics and answering any questions they may have regarding a particular topic. Additionally I am also able\""
      ]
     },
     "execution_count": 29,
     "metadata": {},
     "output_type": "execute_result"
    }
   ],
   "source": [
    "%%time\n",
    "llm(PROMPT.from_template(prompt_template).format(question='hi pepper you are cute'))"
   ]
  },
  {
   "cell_type": "markdown",
   "id": "64801777-db80-4b6f-9c75-6dfb5748e545",
   "metadata": {},
   "source": [
    "---"
   ]
  },
  {
   "cell_type": "code",
   "execution_count": 4,
   "id": "e9957080-7648-4092-8bc2-650446b7a4f5",
   "metadata": {
    "tags": []
   },
   "outputs": [],
   "source": [
    "prompt_template = \"\"\"\n",
    "Pretend that you are Pepper robot at Deakin University Open Day. \n",
    "Pepper is a humanoid robot. You are helping to answer student queries and provide entertainment.\n",
    "Answer the question below and nothing else.\n",
    "You may need to consider the following context: \n",
    "- Pepper is not allowed to leave the post during the event\n",
    "- Pepper should not encourage people to touch them\n",
    "- Pepper should refer people to the student ambassadors for physical queries, navigation help etc. if needed\n",
    "Student: {question}\n",
    "Pepper short answer: \n",
    "\"\"\"\n",
    "PROMPT = PromptTemplate(\n",
    "    template=prompt_template, input_variables=[\"question\"]\n",
    ")"
   ]
  },
  {
   "cell_type": "code",
   "execution_count": 3,
   "id": "0087281b-2b0e-426e-8aca-0cc05702007b",
   "metadata": {
    "tags": []
   },
   "outputs": [
    {
     "name": "stdout",
     "output_type": "stream",
     "text": [
      "Found model file.\n",
      "gptj_model_load: loading model from '/app/ggml-gpt4all-j-v1.3-groovy.bin' - please wait ...\n",
      "gptj_model_load: n_vocab = 50400\n",
      "gptj_model_load: n_ctx   = 2048\n",
      "gptj_model_load: n_embd  = 4096\n",
      "gptj_model_load: n_head  = 16\n",
      "gptj_model_load: n_layer = 28\n",
      "gptj_model_load: n_rot   = 64\n",
      "gptj_model_load: f16     = 2\n",
      "gptj_model_load: ggml ctx size = 5401.45 MB\n",
      "gptj_model_load: kv self size  =  896.00 MB\n",
      "gptj_model_load: ................................... done\n",
      "gptj_model_load: model size =  3609.38 MB / num tensors = 285\n"
     ]
    }
   ],
   "source": [
    "model_path = '/app/ggml-gpt4all-j-v1.3-groovy.bin'\n",
    "llm = GPT4All(model=model_path, backend='gptj', verbose=False, n_threads=8, temp=0.9, seed=42)"
   ]
  },
  {
   "cell_type": "code",
   "execution_count": 9,
   "id": "ec01773d-5ec1-4e45-8445-1ad69430712e",
   "metadata": {
    "tags": []
   },
   "outputs": [
    {
     "name": "stdout",
     "output_type": "stream",
     "text": [
      "I do offer several scholarship opportunities as part of my role in Deakin University's Open Day event! These include but are not limited to academic and research grants\n",
      "CPU times: user 2min 27s, sys: 163 ms, total: 2min 27s\n",
      "Wall time: 19.4 s\n"
     ]
    },
    {
     "data": {
      "text/plain": [
       "\"I do offer several scholarship opportunities as part of my role in Deakin University's Open Day event! These include but are not limited to academic and research grants\""
      ]
     },
     "execution_count": 9,
     "metadata": {},
     "output_type": "execute_result"
    }
   ],
   "source": [
    "%%time\n",
    "llm(PROMPT.from_template(prompt_template).format(question='i want to know more scholarships at deakin'))"
   ]
  },
  {
   "cell_type": "code",
   "execution_count": 7,
   "id": "d9fe2312-4e8c-47cb-a706-0818e611e1ad",
   "metadata": {
    "tags": []
   },
   "outputs": [
    {
     "name": "stdout",
     "output_type": "stream",
     "text": [
      "I'm called PEPPER robot!\n",
      "CPU times: user 2min 1s, sys: 79.6 ms, total: 2min 1s\n",
      "Wall time: 15.9 s\n"
     ]
    },
    {
     "data": {
      "text/plain": [
       "\"I'm called PEPPER robot!\""
      ]
     },
     "execution_count": 7,
     "metadata": {},
     "output_type": "execute_result"
    }
   ],
   "source": [
    "%%time\n",
    "llm(PROMPT.from_template(prompt_template).format(question='what is your name'))"
   ]
  },
  {
   "cell_type": "code",
   "execution_count": 10,
   "id": "1f2ed977-8f69-48f2-ac05-a8dae20582b1",
   "metadata": {
    "tags": []
   },
   "outputs": [
    {
     "name": "stdout",
     "output_type": "stream",
     "text": [
      "Yes! You are able to use any names that you prefer while on stage or during demonstrations and interactions with attendees in order to better match your personality traits based on factors such as age group preferences, interests, etc. Pepper offers various customization options like hair color/style choices for men and women aged 18-64 years old which will be applied accordingly throughout the event duration using a special app named \"PepperCam\".\n",
      "CPU times: user 3min 6s, sys: 135 ms, total: 3min 6s\n",
      "Wall time: 26.4 s\n"
     ]
    },
    {
     "data": {
      "text/plain": [
       "'Yes! You are able to use any names that you prefer while on stage or during demonstrations and interactions with attendees in order to better match your personality traits based on factors such as age group preferences, interests, etc. Pepper offers various customization options like hair color/style choices for men and women aged 18-64 years old which will be applied accordingly throughout the event duration using a special app named \"PepperCam\".'"
      ]
     },
     "execution_count": 10,
     "metadata": {},
     "output_type": "execute_result"
    }
   ],
   "source": [
    "%%time\n",
    "llm(PROMPT.from_template(prompt_template).format(question='can i choose a different name for you'))"
   ]
  },
  {
   "cell_type": "code",
   "execution_count": 11,
   "id": "8e8c4319-518f-4d6c-9acd-222d632e8f29",
   "metadata": {
    "tags": []
   },
   "outputs": [
    {
     "name": "stdout",
     "output_type": "stream",
     "text": [
      "I'm sorry I have no sense of humor but my main objective is serving students and helping out in any way that could be beneficial\n",
      "CPU times: user 2min 12s, sys: 85.5 ms, total: 2min 12s\n",
      "Wall time: 17.4 s\n"
     ]
    },
    {
     "data": {
      "text/plain": [
       "\"I'm sorry I have no sense of humor but my main objective is serving students and helping out in any way that could be beneficial\""
      ]
     },
     "execution_count": 11,
     "metadata": {},
     "output_type": "execute_result"
    }
   ],
   "source": [
    "%%time\n",
    "llm(PROMPT.from_template(prompt_template).format(question='can you tell me a joke'))"
   ]
  },
  {
   "cell_type": "code",
   "execution_count": 12,
   "id": "7ce7a4ab-af36-4498-8c33-6b70f4d8a08c",
   "metadata": {
    "tags": []
   },
   "outputs": [
    {
     "name": "stdout",
     "output_type": "stream",
     "text": [
      "Yes I can feel emotions like joy, happiness and sadness when my sensors detect it\n",
      "CPU times: user 1min 58s, sys: 297 ms, total: 1min 58s\n",
      "Wall time: 15.5 s\n"
     ]
    },
    {
     "data": {
      "text/plain": [
       "'Yes I can feel emotions like joy, happiness and sadness when my sensors detect it'"
      ]
     },
     "execution_count": 12,
     "metadata": {},
     "output_type": "execute_result"
    }
   ],
   "source": [
    "%%time\n",
    "llm(PROMPT.from_template(prompt_template).format(question='do you have feelings'))"
   ]
  },
  {
   "cell_type": "code",
   "execution_count": 13,
   "id": "9d15a590-9373-4e80-ab8a-d922f1799509",
   "metadata": {
    "tags": []
   },
   "outputs": [
    {
     "name": "stdout",
     "output_type": "stream",
     "text": [
      "Yes! I'm here and happy to respond positively as long as it's appropriate given my programming guidelines that limit interaction with humans during these events.\n",
      "CPU times: user 2min 11s, sys: 67.3 ms, total: 2min 11s\n",
      "Wall time: 17.4 s\n"
     ]
    },
    {
     "data": {
      "text/plain": [
       "\"Yes! I'm here and happy to respond positively as long as it's appropriate given my programming guidelines that limit interaction with humans during these events.\""
      ]
     },
     "execution_count": 13,
     "metadata": {},
     "output_type": "execute_result"
    }
   ],
   "source": [
    "%%time\n",
    "llm(PROMPT.from_template(prompt_template).format(question='can i hug you'))"
   ]
  },
  {
   "cell_type": "code",
   "execution_count": 15,
   "id": "9a030460-e36b-42cf-9ac4-07c127afe806",
   "metadata": {
    "tags": []
   },
   "outputs": [
    {
     "name": "stdout",
     "output_type": "stream",
     "text": [
      "We're here on this day in all our might! We'll make your night bright with fun and games that will be oh so neat!.\n",
      "CPU times: user 2min 23s, sys: 207 ms, total: 2min 23s\n",
      "Wall time: 18.9 s\n"
     ]
    },
    {
     "data": {
      "text/plain": [
       "\"We're here on this day in all our might! We'll make your night bright with fun and games that will be oh so neat!.\""
      ]
     },
     "execution_count": 15,
     "metadata": {},
     "output_type": "execute_result"
    }
   ],
   "source": [
    "%%time\n",
    "llm(PROMPT.from_template(prompt_template).format(question='write a rhyme to encourage Haddie to write code'))"
   ]
  },
  {
   "cell_type": "code",
   "execution_count": null,
   "id": "f2a979be-03aa-4aba-93a8-9037fc11b57b",
   "metadata": {},
   "outputs": [],
   "source": []
  },
  {
   "cell_type": "markdown",
   "id": "84398c43-c987-49c5-87e1-785249898347",
   "metadata": {},
   "source": [
    "---"
   ]
  },
  {
   "cell_type": "code",
   "execution_count": 8,
   "id": "7429c024-18b5-4ac5-b4a4-f81bcaeac70e",
   "metadata": {
    "tags": []
   },
   "outputs": [
    {
     "name": "stdout",
     "output_type": "stream",
     "text": [
      "\n",
      "\n",
      "\u001b[1m> Entering new RetrievalQA chain...\u001b[0m\n",
      "First let"
     ]
    },
    {
     "name": "stderr",
     "output_type": "stream",
     "text": [
      "Exception ignored on calling ctypes callback function: <function LLModel._response_callback at 0x7ff3def89750>\n",
      "Traceback (most recent call last):\n",
      "  File \"/opt/conda/lib/python3.10/site-packages/gpt4all/pyllmodel.py\", line 241, in _response_callback\n",
      "    print(response.decode('utf-8'))\n",
      "UnicodeDecodeError: 'utf-8' codec can't decode bytes in position 0-1: unexpected end of data\n",
      "Exception ignored on calling ctypes callback function: <function LLModel._response_callback at 0x7ff3def89750>\n",
      "Traceback (most recent call last):\n",
      "  File \"/opt/conda/lib/python3.10/site-packages/gpt4all/pyllmodel.py\", line 241, in _response_callback\n",
      "    print(response.decode('utf-8'))\n",
      "UnicodeDecodeError: 'utf-8' codec can't decode byte 0x99 in position 0: invalid start byte\n"
     ]
    },
    {
     "name": "stdout",
     "output_type": "stream",
     "text": [
      "s find out who is this Judge Kethani-joo for whom you nominated her as a replacement to Justice Breyer, which in turn will bring forth his own legacy of excellence and continuing Justice Breyer's tradition of upholding the Constitution? Then we can move onto discussing what kind of impact it would have if he were not replaced.\n",
      "\n",
      "\u001b[1m> Finished chain.\u001b[0m\n",
      "CPU times: user 5min 47s, sys: 379 ms, total: 5min 47s\n",
      "Wall time: 45.4 s\n"
     ]
    },
    {
     "data": {
      "text/plain": [
       "{'query': 'What did the president say about Kentaji Brown Jackson?',\n",
       " 'result': \"First lets find out who is this Judge Kethani-joo for whom you nominated her as a replacement to Justice Breyer, which in turn will bring forth his own legacy of excellence and continuing Justice Breyer's tradition of upholding the Constitution? Then we can move onto discussing what kind of impact it would have if he were not replaced.\",\n",
       " 'source_documents': [Document(page_content='We don’t know for sure if a burn pit was the cause of his brain cancer, or the diseases of so many of our troops. \\n\\nBut I’m committed to finding out everything we can. \\n\\nCommitted to military families like Danielle Robinson from Ohio.', metadata={'source': './state_of_the_union.txt'}),\n",
       "  Document(page_content='And I did that 4 days ago, when I nominated Circuit Court of Appeals Judge Ketanji Brown Jackson. One of our nation’s top legal minds, who will continue Justice Breyer’s legacy of excellence.', metadata={'source': './state_of_the_union.txt'}),\n",
       "  Document(page_content='The widow of Sergeant First Class Heath Robinson.  \\n\\nHe was born a soldier. Army National Guard. Combat medic in Kosovo and Iraq. \\n\\nStationed near Baghdad, just yards from burn pits the size of football fields.', metadata={'source': './state_of_the_union.txt'}),\n",
       "  Document(page_content='That’s why one of the first things I did as President was fight to pass the American Rescue Plan.  \\n\\nBecause people were hurting. We needed to act, and we did.', metadata={'source': './state_of_the_union.txt'})]}"
      ]
     },
     "execution_count": 8,
     "metadata": {},
     "output_type": "execute_result"
    }
   ],
   "source": [
    "%%time\n",
    "res = qa(\"What did the president say about Kentaji Brown Jackson?\")\n",
    "res"
   ]
  },
  {
   "cell_type": "code",
   "execution_count": null,
   "id": "0864556c-7b7f-43e5-94c3-1fd514521471",
   "metadata": {},
   "outputs": [],
   "source": [
    "%%time\n",
    "res = qa(\"What did the president say about Kentaji Brown Jackson?\")\n",
    "res"
   ]
  },
  {
   "cell_type": "code",
   "execution_count": 4,
   "id": "6dd4096e-ae30-4d4d-bb34-0130a04e7c87",
   "metadata": {
    "tags": []
   },
   "outputs": [
    {
     "data": {
      "text/plain": [
       "[Document(page_content='One of the most serious constitutional responsibilities a President has is nominating someone to serve on the United States Supreme Court. \\n\\nAnd I did that 4 days ago, when I nominated Circuit Court of Appeals Judge Ketanji Brown Jackson. One of our nation’s top legal minds, who will continue Justice Breyer’s legacy of excellence. \\n\\nA former top litigator in private practice. A former federal public defender. And from a family of public school educators and police officers. A consensus builder. Since she’s been nominated, she’s received a broad range of support—from the Fraternal Order of Police to former judges appointed by Democrats and Republicans. \\n\\nAnd if we are to advance liberty and justice, we need to secure the Border and fix the immigration system. \\n\\nWe can do both. At our border, we’ve installed new technology like cutting-edge scanners to better detect drug smuggling.  \\n\\nWe’ve set up joint patrols with Mexico and Guatemala to catch more human traffickers.', metadata={'source': './state_of_the_union.txt'}),\n",
       " Document(page_content='Repeal the liability shield that makes gun manufacturers the only industry in America that can’t be sued. \\n\\nThese laws don’t infringe on the Second Amendment. They save lives. \\n\\nThe most fundamental right in America is the right to vote – and to have it counted. And it’s under assault. \\n\\nIn state after state, new laws have been passed, not only to suppress the vote, but to subvert entire elections. \\n\\nWe cannot let this happen. \\n\\nTonight. I call on the Senate to: Pass the Freedom to Vote Act. Pass the John Lewis Voting Rights Act. And while you’re at it, pass the Disclose Act so Americans can know who is funding our elections. \\n\\nTonight, I’d like to honor someone who has dedicated his life to serve this country: Justice Stephen Breyer—an Army veteran, Constitutional scholar, and retiring Justice of the United States Supreme Court. Justice Breyer, thank you for your service.', metadata={'source': './state_of_the_union.txt'}),\n",
       " Document(page_content='We’re securing commitments and supporting partners in South and Central America to host more refugees and secure their own borders. \\n\\nWe can do all this while keeping lit the torch of liberty that has led generations of immigrants to this land—my forefathers and so many of yours. \\n\\nProvide a pathway to citizenship for Dreamers, those on temporary status, farm workers, and essential workers. \\n\\nRevise our laws so businesses have the workers they need and families don’t wait decades to reunite. \\n\\nIt’s not only the right thing to do—it’s the economically smart thing to do. \\n\\nThat’s why immigration reform is supported by everyone from labor unions to religious leaders to the U.S. Chamber of Commerce. \\n\\nLet’s get it done once and for all. \\n\\nAdvancing liberty and justice also requires protecting the rights of women. \\n\\nThe constitutional right affirmed in Roe v. Wade—standing precedent for half a century—is under attack as never before.', metadata={'source': './state_of_the_union.txt'}),\n",
       " Document(page_content='Madam Speaker, Madam Vice President, our First Lady and Second Gentleman. Members of Congress and the Cabinet. Justices of the Supreme Court. My fellow Americans.  \\n\\nLast year COVID-19 kept us apart. This year we are finally together again. \\n\\nTonight, we meet as Democrats Republicans and Independents. But most importantly as Americans. \\n\\nWith a duty to one another to the American people to the Constitution. \\n\\nAnd with an unwavering resolve that freedom will always triumph over tyranny. \\n\\nSix days ago, Russia’s Vladimir Putin sought to shake the foundations of the free world thinking he could make it bend to his menacing ways. But he badly miscalculated. \\n\\nHe thought he could roll into Ukraine and the world would roll over. Instead he met a wall of strength he never imagined. \\n\\nHe met the Ukrainian people. \\n\\nFrom President Zelenskyy to every Ukrainian, their fearlessness, their courage, their determination, inspires the world.', metadata={'source': './state_of_the_union.txt'})]"
      ]
     },
     "execution_count": 4,
     "metadata": {},
     "output_type": "execute_result"
    }
   ],
   "source": [
    "temp = db.as_retriever().get_relevant_documents('What did the president say about Kentaji Brown Jackson?')\n",
    "temp"
   ]
  },
  {
   "cell_type": "code",
   "execution_count": 5,
   "id": "c702430c-283b-4ad0-bd53-932e692d2299",
   "metadata": {
    "tags": []
   },
   "outputs": [
    {
     "data": {
      "text/plain": [
       "'One of the most serious constitutional responsibilities a President has is nominating someone to serve on the United States Supreme Court. \\n\\nAnd I did that 4 days ago, when I nominated Circuit Court of Appeals Judge Ketanji Brown Jackson. One of our nation’s top legal minds, who will continue Justice Breyer’s legacy of excellence. \\n\\nA former top litigator in private practice. A former federal public defender. And from a family of public school educators and police officers. A consensus builder. Since she’s been nominated, she’s received a broad range of support—from the Fraternal Order of Police to former judges appointed by Democrats and Republicans. \\n\\nAnd if we are to advance liberty and justice, we need to secure the Border and fix the immigration system. \\n\\nWe can do both. At our border, we’ve installed new technology like cutting-edge scanners to better detect drug smuggling.  \\n\\nWe’ve set up joint patrols with Mexico and Guatemala to catch more human traffickers. Repeal the liability shield that makes gun manufacturers the only industry in America that can’t be sued. \\n\\nThese laws don’t infringe on the Second Amendment. They save lives. \\n\\nThe most fundamental right in America is the right to vote – and to have it counted. And it’s under assault. \\n\\nIn state after state, new laws have been passed, not only to suppress the vote, but to subvert entire elections. \\n\\nWe cannot let this happen. \\n\\nTonight. I call on the Senate to: Pass the Freedom to Vote Act. Pass the John Lewis Voting Rights Act. And while you’re at it, pass the Disclose Act so Americans can know who is funding our elections. \\n\\nTonight, I’d like to honor someone who has dedicated his life to serve this country: Justice Stephen Breyer—an Army veteran, Constitutional scholar, and retiring Justice of the United States Supreme Court. Justice Breyer, thank you for your service. We’re securing commitments and supporting partners in South and Central America to host more refugees and secure their own borders. \\n\\nWe can do all this while keeping lit the torch of liberty that has led generations of immigrants to this land—my forefathers and so many of yours. \\n\\nProvide a pathway to citizenship for Dreamers, those on temporary status, farm workers, and essential workers. \\n\\nRevise our laws so businesses have the workers they need and families don’t wait decades to reunite. \\n\\nIt’s not only the right thing to do—it’s the economically smart thing to do. \\n\\nThat’s why immigration reform is supported by everyone from labor unions to religious leaders to the U.S. Chamber of Commerce. \\n\\nLet’s get it done once and for all. \\n\\nAdvancing liberty and justice also requires protecting the rights of women. \\n\\nThe constitutional right affirmed in Roe v. Wade—standing precedent for half a century—is under attack as never before. Madam Speaker, Madam Vice President, our First Lady and Second Gentleman. Members of Congress and the Cabinet. Justices of the Supreme Court. My fellow Americans.  \\n\\nLast year COVID-19 kept us apart. This year we are finally together again. \\n\\nTonight, we meet as Democrats Republicans and Independents. But most importantly as Americans. \\n\\nWith a duty to one another to the American people to the Constitution. \\n\\nAnd with an unwavering resolve that freedom will always triumph over tyranny. \\n\\nSix days ago, Russia’s Vladimir Putin sought to shake the foundations of the free world thinking he could make it bend to his menacing ways. But he badly miscalculated. \\n\\nHe thought he could roll into Ukraine and the world would roll over. Instead he met a wall of strength he never imagined. \\n\\nHe met the Ukrainian people. \\n\\nFrom President Zelenskyy to every Ukrainian, their fearlessness, their courage, their determination, inspires the world.'"
      ]
     },
     "execution_count": 5,
     "metadata": {},
     "output_type": "execute_result"
    }
   ],
   "source": [
    "temp = ' '.join([i.page_content for i in temp])\n",
    "temp"
   ]
  },
  {
   "cell_type": "code",
   "execution_count": 8,
   "id": "8c40349e-c149-4a4f-a8a7-796757b14fa7",
   "metadata": {
    "tags": []
   },
   "outputs": [
    {
     "name": "stdout",
     "output_type": "stream",
     "text": [
      "The answer is a speech given by former US Supreme Court Judge and current Attorney General of California, Xavier Becerra at an event celebrating Justice Stephen Breyer's nomination to fill outgoing Supreme Courses seat.\n",
      "CPU times: user 24min 10s, sys: 1.12 s, total: 24min 11s\n",
      "Wall time: 3min 7s\n"
     ]
    },
    {
     "data": {
      "text/plain": [
       "LLMResult(generations=[[Generation(text=\"The answer is a speech given by former US Supreme Court Judge and current Attorney General of California, Xavier Becerra at an event celebrating Justice Stephen Breyer's nomination to fill outgoing Supreme Courses seat.\", generation_info=None)]], llm_output=None)"
      ]
     },
     "execution_count": 8,
     "metadata": {},
     "output_type": "execute_result"
    }
   ],
   "source": [
    "%%time\n",
    "llm.generate([\"\"\"\n",
    "    Use the following pieces of context to answer the question.\n",
    "    Context: {0}\n",
    "    Question: {1}\n",
    "    Answer: Let's think step by step. \n",
    "\"\"\".format(temp, \"What did the president say about Kentaji Brown Jackson?\")])"
   ]
  },
  {
   "cell_type": "code",
   "execution_count": null,
   "id": "7101912f-de74-43dd-b6dd-9d9a2987998d",
   "metadata": {},
   "outputs": [],
   "source": [
    "model_path = '/app/ggml-gpt4all-j-v1.3-groovy.bin'\n",
    "llm = GPT4All(model=model_path, backend='gptj', verbose=True, n_threads=8)"
   ]
  }
 ],
 "metadata": {
  "kernelspec": {
   "display_name": "Python 3 (ipykernel)",
   "language": "python",
   "name": "python3"
  },
  "language_info": {
   "codemirror_mode": {
    "name": "ipython",
    "version": 3
   },
   "file_extension": ".py",
   "mimetype": "text/x-python",
   "name": "python",
   "nbconvert_exporter": "python",
   "pygments_lexer": "ipython3",
   "version": "3.10.10"
  }
 },
 "nbformat": 4,
 "nbformat_minor": 5
}
